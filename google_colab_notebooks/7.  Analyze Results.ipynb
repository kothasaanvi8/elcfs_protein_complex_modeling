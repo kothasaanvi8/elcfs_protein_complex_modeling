{
 "cells": [
  {
   "cell_type": "markdown",
   "metadata": {
    "id": "zdd7hfJFPRmL"
   },
   "source": [
    "#Setup"
   ]
  },
  {
   "cell_type": "markdown",
   "metadata": {
    "collapsed": false,
    "id": "qq4x5R_BVsGO"
   },
   "source": [
    "Import common packages"
   ]
  },
  {
   "cell_type": "code",
   "metadata": {
    "id": "D0hp_jgvVsGP",
    "colab": {
     "base_uri": "https://localhost:8080/"
    },
    "executionInfo": {
     "status": "ok",
     "timestamp": 1723553592741,
     "user_tz": 240,
     "elapsed": 46866,
     "user": {
      "displayName": "Gary Wilkins",
      "userId": "01463028869337595546"
     }
    },
    "outputId": "80526219-b16d-49f9-eae4-09f238cf6e9b",
    "jupyter": {
     "is_executing": true
    }
   },
   "source": [
    "!apt-get update\n",
    "!apt-get install wkhtmltopdf\n",
    "!pip install imgkit\n",
    "#in environments where the pickle and pandas modules are incompatible...\n",
    "!pip install pandas==1.5\n",
    "!pip install openpyxl"
   ],
   "outputs": [],
   "execution_count": null
  },
  {
   "cell_type": "code",
   "source": [
    "%%capture\n",
    "import argparse\n",
    "import datetime\n",
    "from functools import reduce\n",
    "import glob, imgkit\n",
    "import itertools as it\n",
    "from multiprocessing import cpu_count, Pool\n",
    "print(cpu_count())\n",
    "\n",
    "import numpy as np\n",
    "import os\n",
    "import pandas as pd\n",
    "import pickle\n",
    "import matplotlib.pyplot as plt\n",
    "import random, re, shutil\n",
    "from scipy.stats import hmean\n",
    "import sklearn.metrics\n",
    "from sklearn.metrics import auc, average_precision_score, precision_recall_curve\n",
    "import seaborn as sns\n",
    "import subprocess as sp\n",
    "import sys\n",
    "import tempfile as tf\n",
    "import time\n",
    "from tqdm import tqdm as progressMonitor"
   ],
   "metadata": {
    "id": "B7oMd0JnZPL-"
   },
   "outputs": [],
   "execution_count": null
  },
  {
   "cell_type": "markdown",
   "metadata": {
    "collapsed": false,
    "id": "FMXt1QV9VsGT"
   },
   "source": [
    "Enable Google Colab, mount drives, and load/define proprietary modules"
   ]
  },
  {
   "cell_type": "code",
   "metadata": {
    "id": "A2ATmklTVsGU"
   },
   "source": [
    "%%capture\n",
    "from google.colab import drive, files, output\n",
    "drive.mount('/content/drive', force_remount=True)\n",
    "!rm -r sample_data/"
   ],
   "outputs": [],
   "execution_count": null
  },
  {
   "cell_type": "code",
   "metadata": {
    "id": "w6Mg4PYSffN9"
   },
   "source": [
    "#useful to keep track of sys vars so as to better monitor space remaining\n",
    "sysVars = list(globals().keys())"
   ],
   "outputs": [],
   "execution_count": null
  },
  {
   "cell_type": "markdown",
   "metadata": {
    "id": "wOMu0fU57gLA"
   },
   "source": [
    "Define directories and principal object paths"
   ]
  },
  {
   "cell_type": "code",
   "metadata": {
    "id": "6ey8Tpxwtgjq"
   },
   "source": [
    "rootDir = '/content/drive/MyDrive/'\n",
    "workDir = rootDir + 'elcfs_protein_complex_modeling/' #phase2 directory\n",
    "workDir_elcfs = rootDir + 'proteinPairs_complexMaps/' #modeling library\n",
    "workDir_ph1 = rootDir + 'Primary Research/JLMwSCBC_notebook/' #phase 1 directory\n",
    "workDir_other = rootDir + 'otherStudies/'\n",
    "\n",
    "sys.path.insert(0, rootDir)\n",
    "for p in workDir, workDir_elcfs, workDir_ph1, workDir_other: sys.path.append(p)"
   ],
   "outputs": [],
   "execution_count": null
  },
  {
   "cell_type": "code",
   "metadata": {
    "id": "AFnbjDBp1d5B"
   },
   "source": [
    "from util import modelEvaluating\n",
    "from utils import operations, reference, alertMe\n",
    "pushoverKey_user = 'uith8rmy2npjj1oqpjwcanow3un984'\n",
    "pushoverAPI = 'aw4v3424kaznrw598r6qge9icddwg7'"
   ],
   "outputs": [],
   "execution_count": null
  },
  {
   "cell_type": "code",
   "metadata": {
    "id": "7W4AgzGI4wpT"
   },
   "source": [
    "setupDir = workDir + 'setup/'\n",
    "refDir = workDir + 'srcData/'\n",
    "ph1Model_perfDir = workDir_ph1 + 'modelPerformance/'\n",
    "graphicsDir = './manuscriptGraphics/'"
   ],
   "outputs": [],
   "execution_count": null
  },
  {
   "cell_type": "code",
   "source": [
    "def df2Img(df, name, path):\n",
    "  #this function generates graphics from pandas dataframes with a uniform style\n",
    "  ##recommended props (still experimenting with what appeals most)\n",
    "  '''\n",
    "  df = \\\n",
    "    df.style.set_table_styles([dict(\n",
    "        selector='th',\n",
    "        props=[\n",
    "            ('text-align', 'center'),\n",
    "             ('background-color', '#40466e'),\n",
    "              ('color', 'white')])])\n",
    "  df.set_properties(**{'text-align': 'center'}).hide(axis='index')\n",
    "  pd.set_option('colheader_justify', 'center')\n",
    "  '''\n",
    "\n",
    "  htmlIntermediate = df.to_html()\n",
    "  imgkit.from_string(htmlIntermediate, path + name + '.svg')\n",
    "  imgkit.from_string(htmlIntermediate, path + name + '.png')"
   ],
   "metadata": {
    "id": "sc4-rOAHTzVS"
   },
   "outputs": [],
   "execution_count": null
  },
  {
   "cell_type": "markdown",
   "metadata": {
    "id": "Pep7tYW7ivl8"
   },
   "source": [
    "#Alert tool"
   ]
  },
  {
   "cell_type": "code",
   "metadata": {
    "id": "vDUq9AUeKtq9",
    "colab": {
     "base_uri": "https://localhost:8080/",
     "height": 52
    },
    "executionInfo": {
     "status": "ok",
     "timestamp": 1723553705336,
     "user_tz": 240,
     "elapsed": 3,
     "user": {
      "displayName": "Gary Wilkins",
      "userId": "01463028869337595546"
     }
    },
    "outputId": "d8d152c1-2f07-4398-95ba-6631da9c8b84"
   },
   "source": [
    "#copy the contents between the ellipses into the cell subsequent to that for\n",
    "# which the run time is long\n",
    "'''\n",
    "#put this block after any cell expected to take a long time\n",
    "cmdReport = alertMe.statusCheck(pushoverAPI, pushoverKey_user)\n",
    "cmdReport.finishPush()\n",
    "'''"
   ],
   "outputs": [],
   "execution_count": null
  },
  {
   "cell_type": "markdown",
   "metadata": {
    "id": "jjCnAzC0WHxQ"
   },
   "source": [
    "###**Results**"
   ]
  },
  {
   "cell_type": "code",
   "metadata": {
    "colab": {
     "base_uri": "https://localhost:8080/"
    },
    "executionInfo": {
     "elapsed": 82675,
     "status": "ok",
     "timestamp": 1723553788009,
     "user": {
      "displayName": "Gary Wilkins",
      "userId": "01463028869337595546"
     },
     "user_tz": 240
    },
    "id": "8KvYYipFy5nO",
    "outputId": "c4d3cbd3-91b7-49da-a790-07a65a067a1f"
   },
   "source": [
    "#Functionality for fresh download of latest repository unavailable due to\n",
    "# continuing recovery of website from cyberattack.\n",
    "# Refer to https://www.biostars.org/p/9563995/\n",
    "# Downloaded latest repository of CORUM complexes, release 2018.07.01.\n",
    "corumData = workDir + 'srcData/CORUM/corum.xlsx'\n",
    "accessCORUM = reference.CORUM(corumData)\n",
    "humanProts = set(accessCORUM.humanProts)\n",
    "print(len(humanProts))"
   ],
   "outputs": [],
   "execution_count": null
  },
  {
   "cell_type": "code",
   "source": [
    "dataSrc_protsDir = workDir + 'featureData/fullSet_proteinOrigins.pkl'\n",
    "dataSrc_prots = pickle.load(open(dataSrc_protsDir, 'rb'))\n",
    "\n",
    "dataSrc_prots['association'] = dataSrc_prots.pop('pairLevel')\n",
    "dataSrc_prots['expression'] = dataSrc_prots.pop('proteinLevel')\n",
    "\n",
    "dataSrc_prots['assc+exp'] = dataSrc_prots.pop('pair+proteinLevel')\n",
    "dataSrc_prots['assc+exp_geneIDs_proteinCoding'] = \\\n",
    "  dataSrc_prots.pop('pair+proteinLevel_geneIDs_proteinCoding')"
   ],
   "metadata": {
    "id": "R5vUzaJb5Eav"
   },
   "outputs": [],
   "execution_count": null
  },
  {
   "cell_type": "code",
   "source": [
    "for k, v in dataSrc_prots.items():\n",
    "  print(k, len(v))"
   ],
   "metadata": {
    "colab": {
     "base_uri": "https://localhost:8080/"
    },
    "id": "jMNTW64Q4y7B",
    "executionInfo": {
     "status": "ok",
     "timestamp": 1723553788517,
     "user_tz": 240,
     "elapsed": 2,
     "user": {
      "displayName": "Gary Wilkins",
      "userId": "01463028869337595546"
     }
    },
    "outputId": "e6248ff2-13b0-4b61-8186-09853c8c4249"
   },
   "outputs": [],
   "execution_count": null
  },
  {
   "cell_type": "code",
   "source": [
    "humap1Dir = refDir + 'huMAP1/'\n",
    "humap2Dir = refDir + 'huMAP2/'\n",
    "bcb19Dir_LM = refDir + 'Lugo-Martinez2019/'\n",
    "stringdbDir = refDir + 'STRING/'\n",
    "geneidDir = refDir + 'ftp.ncbi.nih.gov-gene-DATA-GENE_INFO/'\n",
    "cmpStudies = reference.cmpStudies_props(\n",
    "    humap1Dir, humap2Dir, bcb19Dir_LM, stringdbDir, geneidDir)\n",
    "cmpStudies.go()"
   ],
   "metadata": {
    "id": "z8BvJEvoQdP5"
   },
   "outputs": [],
   "execution_count": null
  },
  {
   "cell_type": "markdown",
   "metadata": {
    "id": "Exd5SvfYpirY"
   },
   "source": [
    "###**Table 1. Summary of predictors for pairwise protein interactors and complex assemblies. We provide information on each predictor/method, including the total number of proteins (n) and the number of possible protein-pairs (n choose 2). We report the number of pairs for which there is a CORUM-based label for training classifiers, the total number of predictions, and the number of predictions for which labels and data were available. We also included the total number of complex predictions alongside the numbers of protein-pairs and proteins available for constituting these complex assemblies.**\n",
    "\n",
    "> *Insert caption: include definitions of headings (pairs=pairs choose 2), no exp for preds, preds=predictions on pairs for which we have data, complexes = combined top5 models for ELCFS, hu.MAP 1+2, explain for STRING and LM2019*\n",
    "\n",
    "> *Should explanation, re combining top5, etc., be communicated solely within the text of the manuscript?*\n",
    "\n",
    "> *Should we consider??? including the release dates for each version of CORUM, e.g., 2010, 2017, and 2018; (where? maybe just in manuscript? )*\n",
    "[could also include table for how CORUM has evolved or drifted since I created that for making comparisons](https://colab.research.google.com/drive/1dyRokY9dufARPLP7BzxygWeFAd_JmsEC?usp=sharing)\n"
   ]
  },
  {
   "cell_type": "markdown",
   "metadata": {
    "id": "VDXJxSE9DTzE"
   },
   "source": [
    "*Pooling functions take 7mins to initiate...*"
   ]
  },
  {
   "cell_type": "code",
   "metadata": {
    "id": "rA6BKXrjma31"
   },
   "source": [
    "#alternative layout (KEEP)\n",
    "#(To-Do *1)\n",
    "#Add column for 'Combined' and change ELCFS to 'Full'...✔️\n",
    "#Move STRING to the right...✔️\n",
    "#Add row for non-human proteins...✔️\n",
    "#Add row for non-human pairs...✔️\n",
    "#Add row for human-non-human pairs...✔️"
   ],
   "outputs": [],
   "execution_count": null
  },
  {
   "cell_type": "code",
   "metadata": {
    "id": "V5Erkrgw0VaP"
   },
   "source": [
    "#Reorder...✔️\n",
    "#Pairs with data (total predictions)...✔️\n",
    "#Proteins in those pairs...✔️\n",
    "#Possible pairs of those proteins...✔️\n",
    "#Pairs labeled...✔️\n",
    "#Proteins in labeled pairs (new number)...✔️\n",
    "\n",
    "#Labeled pairs with data (old predictions labeled)...✔️\n",
    "## what about \"Pairs with data (labeled)\"\n",
    "\n",
    "#Fraction of labeled pairs predicted...✔️\n",
    "#Fraction of proteins with data predicted...✔️\n",
    "#Move predictions line (4) to first line...✔️\n",
    "#Delete combined column...✔️\n",
    "#Correct complexes for full...✔️\n",
    "#Add Non-human proteins in complexes...✔️\n",
    "#Push Non-human proteins and pairs above complexes...✔️\n",
    "#Below complexes' ppis: add non-human proteins in complexes...✔️"
   ],
   "outputs": [],
   "execution_count": null
  },
  {
   "cell_type": "markdown",
   "metadata": {
    "id": "K9Rr5Z2ozttL"
   },
   "source": [
    "*Proteins Total\n",
    "*Pairs Total\n",
    "*Pairs labeled\n",
    "*Proteins labeled"
   ]
  },
  {
   "cell_type": "code",
   "metadata": {
    "colab": {
     "base_uri": "https://localhost:8080/",
     "height": 669
    },
    "executionInfo": {
     "elapsed": 170,
     "status": "ok",
     "timestamp": 1721697347926,
     "user": {
      "displayName": "Gary Wilkins",
      "userId": "01463028869337595546"
     },
     "user_tz": 240
    },
    "id": "2iTKaugTmw_z",
    "outputId": "f94c3d5b-0ddc-49a5-af03-008e31cf036a"
   },
   "source": [
    "tbl1 = cmpStudies.makeTbl1()\n",
    "## subsequent demand consumes a lot of memory\n",
    "'''\n",
    "tbl1 = cmpStudies.generateSummary()\n",
    "'''\n",
    "\n",
    "tbl1.to_csv(graphicsDir + 'table_1.csv')\n",
    "tbl1\n",
    "\n",
    "#To-Do\n",
    "#Add below Non-human proteins, non-human pairs: (a) human proteins with data, (b) human possible pairs"
   ],
   "outputs": [],
   "execution_count": null
  },
  {
   "cell_type": "markdown",
   "metadata": {
    "id": "sRHmKB0mWUYf"
   },
   "source": [
    "###**Table 2. Summary of features' groupings, sources, experimental origins, and contributions.**\n",
    "\n",
    "> ***Does Table 2 actually need a caption?***"
   ]
  },
  {
   "cell_type": "code",
   "metadata": {
    "colab": {
     "base_uri": "https://localhost:8080/",
     "height": 770
    },
    "executionInfo": {
     "elapsed": 179,
     "status": "ok",
     "timestamp": 1721697690187,
     "user": {
      "displayName": "Gary Wilkins",
      "userId": "01463028869337595546"
     },
     "user_tz": 240
    },
    "id": "wouzw_JAwYwu",
    "outputId": "3133c545-e1be-42bc-957d-e0000c929cb2"
   },
   "source": [
    "tbl2 = pickle.load(open(workDir_elcfs + 'manuscript/table_2.pkl', 'rb'))\n",
    "tbl2.to_csv(rootDir + 'manuscriptResults_local/table_2.csv', )\n",
    "#tbl2.to_csv(graphicsDir + 'table_2.csv')\n",
    "tbl2"
   ],
   "outputs": [],
   "execution_count": null
  },
  {
   "cell_type": "markdown",
   "metadata": {
    "id": "AQFhN__UWXIS"
   },
   "source": [
    "###**Figure 1. Summary cartoon.**\n",
    "> ***Expand Figure 1, perhaps into two panels, e.g., 1a and 1b, an overview of the pipeline and the modeling method, respectively.***"
   ]
  },
  {
   "cell_type": "markdown",
   "metadata": {
    "id": "iawk3RksOL9-"
   },
   "source": [
    "![elcfsCartoon.jpg](data:image/jpeg;base64,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)"
   ]
  },
  {
   "cell_type": "markdown",
   "metadata": {
    "id": "XUCdyTH5PMh6"
   },
   "source": [
    "###**Figure 2.  Venn diagrams of protein overlap across data sources.**\n",
    ">   ***Report totals? (not necessarily including overlaps, but perhaps in sup tbl)***\n",
    "\n",
    ">   ***Use arrows to explicitly associate the top diagrams to the overlapping bottom sets?***\n",
    "\n",
    ">   ***Any clearer, more succinct way to organize image?***"
   ]
  },
  {
   "cell_type": "markdown",
   "source": [
    "![vennDiagram_namesListed.svg](data:image/svg+xml;base64,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)"
   ],
   "metadata": {
    "id": "UT3e2NqAQlVv"
   }
  },
  {
   "cell_type": "code",
   "source": [
    "dataSrc_protsDir = workDir + 'featureData/fullSet_proteinOrigins.pkl'\n",
    "dataSrc_prots = pickle.load(open(dataSrc_protsDir, 'rb'))\n",
    "\n",
    "dataSrc_prots['association'] = dataSrc_prots.pop('pairLevel')\n",
    "dataSrc_prots['expression'] = dataSrc_prots.pop('proteinLevel')\n",
    "\n",
    "dataSrc_prots['assc+exp'] = dataSrc_prots.pop('pair+proteinLevel')\n",
    "dataSrc_prots['assc+exp_geneIDs_proteinCoding'] = \\\n",
    "  dataSrc_prots.pop('pair+proteinLevel_geneIDs_proteinCoding')\n",
    "\n",
    "for k, v in dataSrc_prots.items():\n",
    "  print(k, len(v))"
   ],
   "metadata": {
    "colab": {
     "base_uri": "https://localhost:8080/"
    },
    "executionInfo": {
     "status": "ok",
     "timestamp": 1723618055037,
     "user_tz": 240,
     "elapsed": 5,
     "user": {
      "displayName": "Gary Wilkins",
      "userId": "01463028869337595546"
     }
    },
    "outputId": "ac70e6fa-d95e-4cbb-bc71-05fea3e30a46",
    "id": "w4hrBBF16Ctu"
   },
   "outputs": [],
   "execution_count": null
  },
  {
   "cell_type": "code",
   "source": [
    "asscSrcs = ['huMAP1', 'huMAP2', 'BioPlex3']\n",
    "protsAssc = set().union(*[set(dataSrc_prots[src]) for src in asscSrcs])\n",
    "print(len(protsAssc))\n",
    "\n",
    "exprSrcs = ['NCI-60', 'FANTOM5', 'gTEX', 'HPA', 'Uhlén', 'SCBC']\n",
    "protsExpr = set().union(*[set(dataSrc_prots[src]) for src in exprSrcs])\n",
    "print(len(protsExpr))\n",
    "\n",
    "print(len(protsAssc.union(protsExpr)))"
   ],
   "metadata": {
    "colab": {
     "base_uri": "https://localhost:8080/"
    },
    "id": "lRluRs_x7WAR",
    "executionInfo": {
     "status": "ok",
     "timestamp": 1723624236609,
     "user_tz": 240,
     "elapsed": 175,
     "user": {
      "displayName": "Gary Wilkins",
      "userId": "01463028869337595546"
     }
    },
    "outputId": "8b4969c5-469f-4839-f73b-8b837e3a22e7"
   },
   "outputs": [],
   "execution_count": null
  },
  {
   "cell_type": "code",
   "source": [
    "pairsFeatmat_exp = operations.generatePairs(dataSrc_prots['expression'])\n",
    "print(len(pairsFeatmat_exp))\n",
    "\n",
    "pairsFeatmat_assc = \\\n",
    "  set().union(*[set(featmatsSource[src].pairsFrozen.tolist())\n",
    "    for src in asscSrcs])\n",
    "print(len(pairsFeatmat_assc))\n",
    "\n",
    "print(len(pairsFeatmat_assc.union(pairsFeatmat_exp)))"
   ],
   "metadata": {
    "colab": {
     "base_uri": "https://localhost:8080/"
    },
    "id": "g9wobhWCLQMh",
    "executionInfo": {
     "status": "ok",
     "timestamp": 1723627096264,
     "user_tz": 240,
     "elapsed": 22763,
     "user": {
      "displayName": "Gary Wilkins",
      "userId": "01463028869337595546"
     }
    },
    "outputId": "49431bb5-dccf-473a-dcdd-6f0cd77a52cf"
   },
   "outputs": [],
   "execution_count": null
  },
  {
   "cell_type": "code",
   "source": [
    "featmatBioplex3_dir = \\\n",
    "  refDir + 'BioPlex3/BioPlex_BaitPreyPairs_noFilters_293T_10K_Dec_2019.tsv'\n",
    "featmatHumap2_dir = refDir + 'huMAP2/humap2_feature_matrix_20200820.featmat.gz'\n",
    "featmatHumap1_dir = refDir + 'huMAP1/feature_matrix.txt.gz'\n",
    "featmatDirs = [featmatBioplex3_dir, featmatHumap2_dir, featmatHumap1_dir]\n",
    "\n",
    "featmatsSource_cols = \\\n",
    "  [['bait_geneid', 'gene_id'], ['id1', 'id2'], ['geneid1', 'geneid2']]\n",
    "featmatsSource = \\\n",
    "  {k.split('/')[-2]:\n",
    "    pd.read_csv(k, sep=None, engine='python', usecols=cols, dtype='str')\n",
    "    for k, cols in zip(featmatDirs, featmatsSource_cols)}\n",
    "featmatsSource = \\\n",
    "  {k: v.rename(columns=dict(zip(v.columns.tolist(), ['id1', 'id2'])))\n",
    "    for k, v in featmatsSource.items()}\n",
    "featmatsSource = \\\n",
    "  {k: v.dropna() for k, v in featmatsSource.items()}\n",
    "\n",
    "#prob makes the prev step redundant\n",
    "featmatsSource = \\\n",
    "  {k: v.loc[v.id1.str.isnumeric() & v.id2.str.isnumeric()]\n",
    "    for k, v in featmatsSource.items()}\n",
    "\n",
    "featmatsSource = \\\n",
    "  {k: operations.freezePairs(v, pool=True) for k, v in featmatsSource.items()}"
   ],
   "metadata": {
    "id": "VXWdmBE01tcy"
   },
   "outputs": [],
   "execution_count": null
  },
  {
   "cell_type": "code",
   "source": [
    "#confirm that the set difference of exp from assc is sufficiently small to\n",
    "#justify relationship in image\n",
    "print(\n",
    "    len(pairsFeatmat_assc.difference(pairsFeatmat_exp))/len(pairsFeatmat_assc))"
   ],
   "metadata": {
    "colab": {
     "base_uri": "https://localhost:8080/"
    },
    "id": "enauqX7nG9AW",
    "executionInfo": {
     "status": "ok",
     "timestamp": 1723626221313,
     "user_tz": 240,
     "elapsed": 177,
     "user": {
      "displayName": "Gary Wilkins",
      "userId": "01463028869337595546"
     }
    },
    "outputId": "267e0a15-9b0b-45f2-8bc3-9c20dc77f7bb"
   },
   "outputs": [],
   "execution_count": null
  },
  {
   "cell_type": "code",
   "source": [
    "f, axs = plt.subplots(3, 1, figsize=(11, 33), constrained_layout=True)\n",
    "#remove fills\n",
    "\n",
    "\n",
    "##patches ~ distinct item \"regions\"\n",
    "\n",
    "'''\n",
    "vdPanel1 = \\\n",
    "  venn2(\n",
    "      [pairsFeatmat_assc, pairsFeatmat_exp],\n",
    "       ('Association\\n {:,}'.format(len(pairsFeatmat_assc)),\n",
    "        'Expression\\n {:,}'.format(len(pairsFeatmat_exp))), ax=axs[0])\n",
    "for p, l, c in zip(vdPanel1.patches, vdPanel1.subset_labels, pal):\n",
    "  if p:\n",
    "    p.set_fill(False)\n",
    "    p.set_linewidth(4)\n",
    "    p.set_edgecolor(c)\n",
    "    p.set_antialiased(True)\n",
    "    l.set_visible(False)\n",
    "for l, c in zip(vdPanel1.set_labels, ['b', 'g']):\n",
    "  l.set_fontsize(15)\n",
    "  l.set_fontweight('bold')\n",
    "  l.set_color(c)\n",
    "'''\n",
    "\n",
    "pal = ['b', None, None, 'r', 'g', 'g', 'b']\n",
    "vdPanel2 = venn3(\n",
    "    [set(featmatsSource['BioPlex3'].pairsFrozen.tolist()),\n",
    "     set(featmatsSource['huMAP1'].pairsFrozen.tolist()),\n",
    "     set(featmatsSource['huMAP2'].pairsFrozen.tolist())],\n",
    "      ('BioPlex 3.0\\n {:,}'.format(\n",
    "          len(featmatsSource['BioPlex3'].pairsFrozen.tolist())),\n",
    "       'huMAP 1.0\\n {:,}'.format(\n",
    "          len(featmatsSource['huMAP1'].pairsFrozen.tolist())),\n",
    "       'huMAP 2.0\\n {:,}'.format(\n",
    "          len(featmatsSource['huMAP2'].pairsFrozen.tolist()))),\n",
    "      ax=axs[1])\n",
    "\n",
    "###7 regions max for 3 sets of potentially overlapping objects (A, B, C)\n",
    "###library returns regions in following order (Abc, aBc, ABc, abC, AbC, aBC, ABC)\n",
    "for p, l, c in zip(vdPanel2.patches, vdPanel2.subset_labels, pal):\n",
    "  if p:\n",
    "    p.set_fill(False)\n",
    "    p.set_linewidth(3)\n",
    "    p.set_edgecolor(c)\n",
    "    p.set_antialiased(True)\n",
    "    l.set_visible(False)\n",
    "for l, c in zip(vdPanel2.set_labels, ['b', 'g', 'r']):\n",
    "  l.set_fontsize(15)\n",
    "  l.set_fontweight('bold')\n",
    "  l.set_color(c)\n",
    "\n",
    "###3 regions max for 2 sets of potentially overlapping objects (A, B)\n",
    "vdPanel3 = \\\n",
    "  venn2(\n",
    "      [pairsFeatmat_assc, pairsFeatmat_exp],\n",
    "       ('Association\\n {:,}'.format(len(pairsFeatmat_assc)),\n",
    "        'Expression\\n {:,}'.format(len(pairsFeatmat_exp))), ax=axs[2])\n",
    "pal = ['b', 'g', 'b']\n",
    "for p, l, c in zip(vdPanel3.patches, vdPanel3.subset_labels, pal):\n",
    "  if p:\n",
    "    p.set_fill(False)\n",
    "    p.set_linewidth(4)\n",
    "    p.set_edgecolor(c)\n",
    "    p.set_antialiased(True)\n",
    "    l.set_visible(False)\n",
    "for l, c in zip(vdPanel3.set_labels, ['b', 'g']):\n",
    "  l.set_fontsize(15)\n",
    "  l.set_fontweight('bold')\n",
    "  l.set_color(c)\n",
    "\n",
    "\n",
    "# Iterate through each subplot\n",
    "for ax, title in zip(axs, ['A', 'B', 'C']):\n",
    "  rect = \\\n",
    "    patches.Rectangle((0, 0), 1, 1,\n",
    "                      linewidth=1, edgecolor='black', facecolor='none',\n",
    "                      transform=ax.transAxes, clip_on=False)\n",
    "  ax.add_patch(rect)\n",
    "  ax.set_title(title, loc='left', fontsize=8, fontweight='bold')\n",
    "plt.show()"
   ],
   "metadata": {
    "colab": {
     "base_uri": "https://localhost:8080/",
     "height": 1000
    },
    "id": "ueicxnnURsAT",
    "executionInfo": {
     "status": "ok",
     "timestamp": 1723638442395,
     "user_tz": 240,
     "elapsed": 135162,
     "user": {
      "displayName": "Gary Wilkins",
      "userId": "01463028869337595546"
     }
    },
    "outputId": "9a9ea1d8-a1e1-44fc-9184-32e8a2b14ec3"
   },
   "outputs": [],
   "execution_count": null
  },
  {
   "cell_type": "code",
   "source": [
    "#areas don't reflect proportions sufficiently\n",
    "venny4py(\n",
    "    sets={k: set(v.pairsFrozen.tolist()) for k, v in featmatsSource.items()})"
   ],
   "metadata": {
    "id": "yX1wy_MeMfmp",
    "colab": {
     "base_uri": "https://localhost:8080/",
     "height": 596
    },
    "executionInfo": {
     "status": "ok",
     "timestamp": 1723560440106,
     "user_tz": 240,
     "elapsed": 97186,
     "user": {
      "displayName": "Gary Wilkins",
      "userId": "01463028869337595546"
     }
    },
    "outputId": "a05e6189-23e0-4fbd-bf10-cb15453fe628"
   },
   "outputs": [],
   "execution_count": null
  },
  {
   "cell_type": "markdown",
   "metadata": {
    "id": "pPTSK_JYWl6Z"
   },
   "source": [
    "###**Figure 3. Performance comparison between predictors of pairwise protein interactions.  This figure shows the precision, recall and area under the curve (AUC) of our proposed method compared against previously published approaches over various pairsets: (A) the original set [29], (B) the orignal set expanded in [30], and (C) the full set of protein pairs.**"
   ]
  },
  {
   "cell_type": "code",
   "metadata": {
    "id": "-qpsXQTUIpek"
   },
   "source": [
    "protDir = workDir_ph1 + 'proteinComplexes/'\n",
    "manuscriptDir = workDir_elcfs + 'manuscript/'"
   ],
   "outputs": [],
   "execution_count": null
  },
  {
   "cell_type": "markdown",
   "metadata": {
    "id": "2Jwb4b9wW2y2"
   },
   "source": [
    "a)  Drew 2017 pairs’ set\n",
    "> *ELCFS achieves superior performance from generating correlative features from SCBC data **without** edge cases (e.g., when either one or both proteins are missing)*\n",
    "\n"
   ]
  },
  {
   "cell_type": "code",
   "metadata": {
    "id": "AoyRT7Vd3EUH"
   },
   "source": [
    "fig2a_labels = \\\n",
    "  ['SVM KD17',\n",
    "   'RF LM',\n",
    "   'SVM KD21',\n",
    "   'ELCFS (D17)', 'ELCFS (D17+LM)', 'ELCFS (D17+LM+AF)',\n",
    "   'ELCFS (D17+LM+SCBC)', 'ELCFS (D17+LM+AF+SCBC)']\n",
    "fig2a_paths = \\\n",
    "  [protDir + 'Lugo-Martinez/drew_BCB_features_all_model_cv_predictions_rf_' +\n",
    "   '400_prc-75.txt',\n",
    "   protDir + 'Lugo-Martinez/lugo-martinez_etal_BCB_features_all_model_cv' +\n",
    "   '_predictions_rf_400_prc-40.txt',\n",
    "   protDir + 'ppiHumap2_updateHumap1_labeled_origPairs_prc.txt',\n",
    "   manuscriptDir + 'partitionModel_drew_5CV_prr.csv',\n",
    "   manuscriptDir + 'partitionModel_drew+LM_5CV.csv',\n",
    "   manuscriptDir + 'partitionModel_drew+LM+New_5CV.csv',\n",
    "   manuscriptDir + 'partitionModel_drew+LM+SCBC_5CV.csv',\n",
    "   manuscriptDir + 'partitionModel_drew+LM+New+SCBC_5CV.csv']\n",
    "fig2a = dict(zip(fig2a_labels, fig2a_paths))\n",
    "\n",
    "fig2a_prr = {key: np.loadtxt(val, delimiter='\\t') for key, val in fig2a.items()}\n",
    "fig2a_auc = {key: auc(val[:, 0], val[:, 1]) for key, val in fig2a_prr.items()}"
   ],
   "outputs": [],
   "execution_count": null
  },
  {
   "cell_type": "markdown",
   "metadata": {
    "id": "ImkMxIhcW6Kw"
   },
   "source": [
    "b)  Expanded pairs' set\n",
    "\n",
    "> *ELCFS achieves superior performance from generating correlative features from SCBC data **with** edge cases (e.g., when either one or both proteins are missing)*"
   ]
  },
  {
   "cell_type": "code",
   "metadata": {
    "id": "PNQ5jQSP7n5o"
   },
   "source": [
    "fig2b_labels = \\\n",
    "  ['RF LM', 'ELCFS (D17+LM)', 'ELCFS (D17+LM+AF)',\n",
    "   'ELCFS (D17+LM+SCBC)', 'ELCFS (D17+LM+AF+SCBC)']\n",
    "fig2b_paths = \\\n",
    "  [manuscriptDir + 'lugo-martinez2019_HPA-NCI60-expandedPairs_5CV.txt',\n",
    "   manuscriptDir + 'partitionModel_drew+LM_HPA-NCI60-expandedPairs_5CV.txt',\n",
    "   manuscriptDir + 'partitionModel_KD_LM_FGK.txt',\n",
    "   manuscriptDir + 'partitionModel_KD+LM+SCBC_noSCBCnull.csv',\n",
    "   manuscriptDir +\n",
    "   'partitionModel_KD+LM+FGK+SCBC_cellSpecific_nci60Feats_noSCBCnulls.csv']\n",
    "fig2b = dict(zip(fig2b_labels, fig2b_paths))\n",
    "\n",
    "fig2b_prr = {key: np.loadtxt(val, delimiter='\\t')\n",
    "for key, val in fig2b.items()}\n",
    "fig2b_auc = \\\n",
    "  {key: sklearn.metrics.auc(val[:, 0], val[:, 1])\n",
    "  for key, val in fig2b_prr.items()}"
   ],
   "outputs": [],
   "execution_count": null
  },
  {
   "cell_type": "markdown",
   "metadata": {
    "id": "9-9Fc-PPaoEA"
   },
   "source": [
    "c)  Pairs overlapping between both full sets of STRING and ELCFS predictions"
   ]
  },
  {
   "cell_type": "code",
   "metadata": {
    "id": "eOMDQ8l4bNEw"
   },
   "source": [
    "fig2c_labels = ['ELCFS (D17+LM+AF+SCBC)', 'STRING (v12)']\n",
    "fig2c_paths = \\\n",
    "  [manuscriptDir +\n",
    "   'partitionModel_KD+LM+FGK+SCBC_noSCBCnull_pairsOverlap-STRING+Fullset.csv',\n",
    "   manuscriptDir + 'scoredPairs_STRING_pairsOverlap-STRING+Fullset.csv']\n",
    "fig2c = dict(zip(fig2c_labels, fig2c_paths))\n",
    "\n",
    "fig2c_prr = {key: np.loadtxt(val, delimiter='\\t') for key, val in fig2c.items()}\n",
    "fig2c_auc = {key: auc(val[:, 0], val[:, 1]) for key, val in fig2c_prr.items()}"
   ],
   "outputs": [],
   "execution_count": null
  },
  {
   "cell_type": "code",
   "source": [
    "f, axs = plt.subplots(1, 3, figsize=(27, 6))\n",
    "\n",
    "##\n",
    "##A: D17 pair set\n",
    "for key, val in fig2a_prr.items():\n",
    "  axs[0].plot(val[:, 0], val[:, 1],\n",
    "              label=key+'; AUC: {:.2f}'.format(fig2a_auc[key]))\n",
    "axs[0].legend(loc='lower left', frameon=False)\n",
    "#axs[0].set_title('Original pairs (Drew 2017)', fontsize=8, fontweight='bold')\n",
    "axs[0].set_title('A', loc='left', fontsize=8, fontweight='bold')\n",
    "axs[0].set_xlabel('Recall', fontsize=8, fontweight='bold')\n",
    "axs[0].set_ylabel('Precision', fontsize=8, fontweight='bold')\n",
    "\n",
    "##\n",
    "##B: LM19 pair set\n",
    "for key, val in fig2b_prr.items():\n",
    "  axs[1].plot(val[:, 0], val[:, 1],\n",
    "              label=key+'; AUC: {:.2f}'.format(fig2b_auc[key]))\n",
    "axs[1].legend(loc='lower left', frameon=False)\n",
    "#axs[1].set_title('Expanded pairs (Lugo-Martinez 2019)', fontsize=8, fontweight='bold')\n",
    "axs[1].set_title('B', loc='left', fontsize=8, fontweight='bold')\n",
    "axs[1].set_xlabel('Recall', fontsize=8, fontweight='bold')\n",
    "axs[1].set_ylabel('Precision', fontsize=8, fontweight='bold')\n",
    "\n",
    "##\n",
    "##C: PS24 pair set\n",
    "for key, val in fig2c_prr.items():\n",
    "  axs[2].plot(val[:, 0], val[:, 1],\n",
    "              label=key+'; AUC: {:.2f}'.format(fig2c_auc[key]))\n",
    "axs[2].legend(loc='lower left', frameon=False)\n",
    "#axs[2].set_title('Overlapping STRING and Full Set pairs', fontsize=8, fontweight='bold')\n",
    "axs[2].set_title('C', loc='left', fontsize=8, fontweight='bold')\n",
    "axs[2].set_xlabel('Recall', fontsize=8, fontweight='bold')\n",
    "axs[2].set_ylabel('Precision', fontsize=8, fontweight='bold')\n",
    "\n",
    "plt.savefig(graphicsDir + 'figure_2.svg')\n",
    "plt.savefig(graphicsDir + 'figure_2.png', dpi=600)"
   ],
   "metadata": {
    "colab": {
     "base_uri": "https://localhost:8080/",
     "height": 210
    },
    "id": "cIfuGRHupRKX",
    "executionInfo": {
     "status": "ok",
     "timestamp": 1720531170551,
     "user_tz": 240,
     "elapsed": 5857,
     "user": {
      "displayName": "Gary Wilkins",
      "userId": "01463028869337595546"
     }
    },
    "outputId": "c6a5679b-bb0d-4bfc-f120-122e1a09cf1f"
   },
   "outputs": [],
   "execution_count": null
  },
  {
   "cell_type": "markdown",
   "metadata": {
    "id": "-3_q-6VIux1C"
   },
   "source": [
    "###***CHECK---Optimum performance for pairwise-interaction classifiers over multiple pairsets.***\n",
    "\n",
    "*   *Plot scores for us and them (expect nonlinear relationship)*\n",
    "*   *Clean up table, e.g., words, threshold*"
   ]
  },
  {
   "cell_type": "code",
   "metadata": {
    "id": "gQHJNrE9T06N"
   },
   "source": [
    "elcfsPh2_fullsetDir = workDir_ph1 + 'modelsPerformance/'\n",
    "elcfsPh2_fullset = \\\n",
    "  elcfsPh2_fullsetDir + \\\n",
    "  'modelsPerformance_fullPairset_KD+LM+FGK+SCBC-5CV/probsPos-weighted.tsv'\n",
    "#cmpStudies.generateStats_eval(elcfsPh2_fullset)"
   ],
   "outputs": [],
   "execution_count": null
  },
  {
   "cell_type": "markdown",
   "metadata": {
    "id": "F2ONrRVBYmJl"
   },
   "source": [
    "###**Figure S1. Performance comparison of merged results with alternatively dominant pairwise protein interaction predictors. Predictions from each predictor are combined and results for the dominant model are used when there is overlap. This figure shows  the impact of dominant predictor selection on the quality of precision and recall over both labeled pairs a) in the union of pairs with hu.MAP 1+2, and b) in the intersection of hu.MAP 1+2 pairs.**\n",
    "\n",
    "> ***Use A, B panel label construct throughout?  Or?***\n",
    "\n",
    "> *The \"Construct Feature Matrix\" notebook is where the lists of (Drew 2017, Drew 2021, and LM 2019) gene id pairsets are created as well as the union and intersection of those pairs*\n",
    "\n",
    "> ***Be EXPLICIT in documentation of notebook used for generating the union and intersection pairsets, re hu.MAP 1, 2, expanded pairset and full set***\n",
    "\n",
    "> *Similarly..need to be EXPLICIT in commenting the\n",
    "notebook used for combining predictions for both hu.MAP releases*"
   ]
  },
  {
   "cell_type": "code",
   "metadata": {
    "id": "ZGfmzDzIKHXu"
   },
   "source": [
    "#load all training pairs for the full set\n",
    "pairsetsUnion = \\\n",
    "  pd.read_csv(setupDir + 'pairsetsUnion.tsv', sep='\\t',\n",
    "              dtype={'id1': 'str', 'id2': 'str'})\n",
    "pairsetsUnion = operations.freezePairs(pairsetsUnion, 'id1', 'id2', pool=True)\n",
    "'''\n",
    "#if time is a factor..\n",
    "pairsetsUnion = \\\n",
    "  pickle.load(open(setupDir + 'pairsetsUnion.pkl', 'rb'))\n",
    "'''"
   ],
   "outputs": [],
   "execution_count": null
  },
  {
   "cell_type": "code",
   "metadata": {
    "id": "4ztG9ZCeMWlN"
   },
   "source": [
    "pairsetsIntersection = \\\n",
    "  pickle.load(open(setupDir + 'pairsetsIntersection.pkl', 'rb'))"
   ],
   "outputs": [],
   "execution_count": null
  },
  {
   "cell_type": "code",
   "metadata": {
    "colab": {
     "base_uri": "https://localhost:8080/"
    },
    "executionInfo": {
     "elapsed": 1644720,
     "status": "ok",
     "timestamp": 1721709615465,
     "user": {
      "displayName": "Gary Wilkins",
      "userId": "01463028869337595546"
     },
     "user_tz": 240
    },
    "id": "P2B2I8qNC0aC",
    "outputId": "e5a732cc-802f-45f3-f2d3-85834baff789"
   },
   "source": [
    "#load training pairs for hu.MAP 1+2\n",
    "humap1p2Preds_pairsDF = \\\n",
    "  pd.read_csv(workDir + 'evalData/predsHumap1+2.tsv', sep='\\t',\n",
    "              dtype={'id1': 'str', 'id2': 'str'})\n",
    "humap1p2Preds_pairsDF = \\\n",
    "  operations.freezePairs(humap1p2Preds_pairsDF, 'id1', 'id2', pool=True)\n",
    "#humap1p2Preds_pairsDF.rename(columns={'score': 'hu.MAP1+2'})"
   ],
   "outputs": [],
   "execution_count": null
  },
  {
   "cell_type": "code",
   "source": [
    "#expanded pairset predictions\n",
    "elcfsOld_filename = workDir_ph1 + 'modelPerformance/' + \\\n",
    "  'modelsPerformance_integratedPairs_KD+LM+FGK+SCBC_cellSpecific_nci60Feats' + \\\n",
    "  '_noSCBCnulls-5CV/resultsConcatenated/probsPos-weighted_wlabeledPairs' + \\\n",
    "  '_reportingCelllines-H322+MCF7+U251.pkl'\n",
    "elcfsOld = pickle.load(open(elcfsOld_filename, 'rb'))\n",
    "elcfsOld = elcfsOld.loc[:, ['pairsFrozen', 'label', 'probsPos_mean']].copy()\n",
    "elcfsOld.rename(columns={'probsPos_mean': 'prob'}, inplace=True)\n",
    "'''\n",
    "elcfsOld.rename(\n",
    "    columns={'idi': 'id1', 'idii': 'id2', 'probsPos_mean': 'prob'}, inplace=True)\n",
    "'''\n",
    "elcfsOld"
   ],
   "metadata": {
    "colab": {
     "base_uri": "https://localhost:8080/",
     "height": 478
    },
    "id": "l508dRk2DfHU",
    "executionInfo": {
     "status": "ok",
     "timestamp": 1721923714021,
     "user_tz": 240,
     "elapsed": 4376,
     "user": {
      "displayName": "Gary Wilkins",
      "userId": "01463028869337595546"
     }
    },
    "outputId": "728bcda3-bc2d-4706-d735-2326362886c7"
   },
   "outputs": [],
   "execution_count": null
  },
  {
   "cell_type": "code",
   "metadata": {
    "colab": {
     "base_uri": "https://localhost:8080/",
     "height": 458
    },
    "executionInfo": {
     "elapsed": 888555,
     "status": "ok",
     "timestamp": 1721713428114,
     "user": {
      "displayName": "Gary Wilkins",
      "userId": "01463028869337595546"
     },
     "user_tz": 240
    },
    "id": "bGciHXw-EDQE",
    "outputId": "c77be586-bae3-4237-cab7-397aa9aa43f5"
   },
   "source": [
    "#full set of pairs with ELCFS predictions\n",
    "elcfsFilename = workDir_ph1 + 'modelPerformance/' + \\\n",
    "  'modelsPerformance_fullPairset_KD+LM+FGK+SCBC-5CV/probsPos-weighted.tsv'\n",
    "elcfs = pd.read_csv(elcfsFilename, sep='\\t', dtype={'id1': 'str', 'id2': 'str'})\n",
    "elcfs = operations.freezePairs(elcfs, 'id1', 'id2', pool=True)\n",
    "elcfs.rename(columns={'idsFrozen': 'pairsFrozen', 'labels': 'label',\n",
    "                      'probsPos_mean': 'prob'}, inplace=True)\n",
    "elcfs"
   ],
   "outputs": [],
   "execution_count": null
  },
  {
   "cell_type": "code",
   "source": [
    "probPreds_cellSpec_concat_filename = workDir_ph1 + 'modelPerformance/' + \\\n",
    "  'modelsPerformance_fullPairset_KD+LM+FGK+SCBC-5CV/elcfsPreds_fullSet.pkl'\n",
    "probPreds_cellSpec_concat = \\\n",
    "  pickle.load(open(probPreds_cellSpec_concat_filename, 'rb'))\n",
    "probPreds_cellSpec_concat"
   ],
   "metadata": {
    "colab": {
     "base_uri": "https://localhost:8080/",
     "height": 424
    },
    "id": "LyyxBUHJHlU9",
    "executionInfo": {
     "status": "ok",
     "timestamp": 1721929573346,
     "user_tz": 240,
     "elapsed": 316469,
     "user": {
      "displayName": "Gary Wilkins",
      "userId": "01463028869337595546"
     }
    },
    "outputId": "a55c3d0a-8dcc-478a-c8e0-6020bb4a3142"
   },
   "outputs": [],
   "execution_count": null
  },
  {
   "cell_type": "code",
   "metadata": {
    "id": "xEhi485JlROf"
   },
   "source": [
    "#merge all predictors using outer join\n",
    "'''\n",
    "predsSrc_multi = \\\n",
    "  {'hu.MAP1+2':\n",
    "   humap1p2Preds_pairsDF.rename(columns={'score': 'hu.MAP1+2'}),\n",
    "   'ELCFS (phase 1)':\n",
    "   elcfsOld[['pairsFrozen', 'prob']].rename(columns={'prob': 'ELCFS (phase 1)'}),\n",
    "   'ELCFS (phase 2)':\n",
    "   elcfs[['pairsFrozen', 'prob']].rename(columns={'prob': 'ELCFS (phase 2)'})}\n",
    "'''\n",
    "\n",
    "predsSrc_multiMerge = \\\n",
    "  reduce(lambda left, right:\n",
    "         pd.merge(left, right, how='outer'), predsSrc_multi.values())\n",
    "predsSrc_multiMerge_labeled = predsSrc_multiMerge.merge(pairsetsUnion)"
   ],
   "outputs": [],
   "execution_count": null
  },
  {
   "cell_type": "code",
   "metadata": {
    "id": "R0Z-ldp1re6W"
   },
   "source": [
    "#temp cell (in the event of runtime failure or unsuccessfully saved session)\n",
    "tbl3p4Dir = workDir + 'google_colab_notebooks/notebookQC/'\n",
    "pickle.dump(humap1p2Preds_pairsDF,\n",
    "            open(tbl3p4Dir + 'humap1p2Preds_pairsDF.pkl', 'wb'))\n",
    "pickle.dump(predsSrc_multi,\n",
    "            open(tbl3p4Dir + 'predsSrc_multi.pkl', 'wb'))"
   ],
   "outputs": [],
   "execution_count": null
  },
  {
   "cell_type": "markdown",
   "metadata": {
    "id": "_69anogqaW6W"
   },
   "source": [
    "a)  Union of Drew 2017/2021 with full pairset"
   ]
  },
  {
   "cell_type": "code",
   "metadata": {
    "id": "tqiaFASwnkz9"
   },
   "source": [
    "dfPairs_union, pairsUnion_humapPrr, pairsUnion_elcfsPrr = \\\n",
    "  modelEvaluating.makePrR_varDom(\n",
    "      predsSrc_multiMerge_labeled.rename(columns={'ELCFS (phase 2)': 'ELCFS'}),\n",
    "      studies=['hu.MAP1+2', 'ELCFS'],\n",
    "      return_prr=True)"
   ],
   "outputs": [],
   "execution_count": null
  },
  {
   "cell_type": "markdown",
   "metadata": {
    "id": "B9MuyNmZOTU_"
   },
   "source": [
    "b)  Intersection of Drew 2017/2021 with expanded pairset"
   ]
  },
  {
   "cell_type": "code",
   "metadata": {
    "id": "YoH39mqROOJC"
   },
   "source": [
    "dfPairs_overlap, pairsOvelap_humapPrr, pairsOverlap_elcfsPrr = \\\n",
    "  modelEvaluating.makePrR_varDom(\n",
    "      predsSrc_multiMerge_labeled.loc[\n",
    "          predsSrc_multiMerge_labeled.pairsFrozen.isin(\n",
    "              pairsetsIntersection)].rename(columns={'ELCFS (phase 2)': 'ELCFS'}),\n",
    "      studies=['hu.MAP1+2', 'ELCFS'],\n",
    "      return_prr=True)"
   ],
   "outputs": [],
   "execution_count": null
  },
  {
   "cell_type": "code",
   "source": [
    "f, axs = plt.subplots(1, 2, figsize=(14, 5), tight_layout=True)\n",
    "\n",
    "##\n",
    "##A: Intersection\n",
    "axs[0].plot(pairsOvelap_humapPrr[1], pairsOvelap_humapPrr[0],\n",
    "            label='hu.MAP1+2; AUC: {:.2f}'.format(\n",
    "                auc(pairsOvelap_humapPrr[1], pairsOvelap_humapPrr[0])))\n",
    "axs[0].plot(pairsOverlap_elcfsPrr[1], pairsOverlap_elcfsPrr[0],\n",
    "            label='ELCFS (D17+LM+AF+SCBC); AUC: {:.2f}'.format(auc(\n",
    "                pairsOverlap_elcfsPrr[1], pairsOverlap_elcfsPrr[0])))\n",
    "axs[0].legend(loc='upper right', frameon=False)\n",
    "axs[0].set_title('A', loc='left', fontsize=10, fontweight='bold')\n",
    "axs[0].set_ylabel('Precision', fontsize=10, fontweight='bold')\n",
    "axs[0].set_xlabel('Recall', fontsize=10, fontweight='bold')\n",
    "\n",
    "##\n",
    "##B: Union\n",
    "axs[1].plot(pairsUnion_humapPrr[1], pairsUnion_humapPrr[0],\n",
    "            label='hu.MAP1+2; AUC: {:.2f}'.format(\n",
    "                auc(pairsUnion_humapPrr[1], pairsUnion_humapPrr[0])))\n",
    "axs[1].plot(pairsUnion_elcfsPrr[1], pairsUnion_elcfsPrr[0],\n",
    "            label='ELCFS (D17+LM+AF+SCBC); AUC: {:.2f}'.format(auc(\n",
    "                pairsUnion_elcfsPrr[1], pairsUnion_elcfsPrr[0])))\n",
    "axs[1].legend(loc='upper right', frameon=False)\n",
    "axs[1].set_title('B', loc='left', fontsize=10, fontweight='bold')\n",
    "axs[1].set_ylabel('Precision', fontsize=10, fontweight='bold')\n",
    "axs[1].set_xlabel('Recall', fontsize=10, fontweight='bold')\n",
    "\n",
    "plt.savefig(graphicsDir + 'figure_S1.svg')\n",
    "plt.savefig(graphicsDir + 'figure_S1.png', dpi=600)"
   ],
   "metadata": {
    "colab": {
     "base_uri": "https://localhost:8080/",
     "height": 259
    },
    "id": "rGSEpaQSbO2a",
    "executionInfo": {
     "status": "ok",
     "timestamp": 1721903345868,
     "user_tz": 240,
     "elapsed": 3193,
     "user": {
      "displayName": "Gary Wilkins",
      "userId": "01463028869337595546"
     }
    },
    "outputId": "dce79915-3ec3-49ab-9426-e249bcefd053"
   },
   "outputs": [],
   "execution_count": null
  },
  {
   "cell_type": "markdown",
   "metadata": {
    "id": "kxOXDAHqnBTg"
   },
   "source": [
    "###**Figure 4. Interaction predictors' precision-recall over STRING (v12). Performance comparison between predictors of pairwise protein interactions using labels derived from STRING (v12) confidence thresholds for ground truth.  This figure shows the precision, recall and area under the curve (AUC) of our proposed method compared against previously published approaches over various pairsets, all within the intersection of STRING (v12) pairs: (A) the full set of protein pairs, (B) the full set overlapping with hu.MAP 1+2, and (C) the full set of protein pairs overlapping with hu.MAP 1+2 and Lugo-Martinez et al., 2019.**\n",
    "\n",
    "> *Retain subsequent 2 code chunks until confident with library func integration*\n",
    "\n",
    "> Fix BAD LOGIC ✔️\n",
    ">>***Find evidence the result is correct***"
   ]
  },
  {
   "cell_type": "code",
   "metadata": {
    "colab": {
     "base_uri": "https://localhost:8080/"
    },
    "executionInfo": {
     "elapsed": 162,
     "status": "ok",
     "timestamp": 1721720158549,
     "user": {
      "displayName": "Gary Wilkins",
      "userId": "01463028869337595546"
     },
     "user_tz": 240
    },
    "id": "9HGCtecvvM7z",
    "outputId": "3cf17ba5-4f84-4a42-a6f9-1891088f4d43"
   },
   "source": [
    "#grab set of protein pairs for STRINGv12\n",
    "print('Total STRINGv12 pair predictions: {0}'.format(\n",
    "    len(cmpStudies.stringPreds)))"
   ],
   "outputs": [],
   "execution_count": null
  },
  {
   "cell_type": "code",
   "metadata": {
    "id": "F1DB_QsavZNp"
   },
   "source": [
    "#grab CORUM+\n",
    "corumPairs_pos = pairsetsUnion.loc[pairsetsUnion.label==1, 'pairsFrozen']\n",
    "print('CORUM pairs\\' dimensions: {0}'.format(pairsetsUnion.shape))\n",
    "print('Total CORUM+ pairs: {0}'.format(len(corumPairs_pos)))"
   ],
   "outputs": [],
   "execution_count": null
  },
  {
   "cell_type": "code",
   "metadata": {
    "id": "Zto8pv_Uvr6H"
   },
   "source": [
    "#intersect with full set of protein pairs\n",
    "#remove CORUM+ (Do HERE in cell)\n",
    "elcfs_stringOverlap = \\\n",
    "  cmpStudies.stringPreds.rename(columns={'prob': 'STRINGv12'}).merge(\n",
    "      elcfs.loc[~elcfs.pairsFrozen.isin(\n",
    "          corumPairs_pos)].rename(columns={'prob': 'ELCFS'}), on='pairsFrozen')\n",
    "print('Total ELCFS full set pair predictions: 162758569')\n",
    "print('Total ELCFS full set pair predictions minus CORUM+ pairs, ' + \\\n",
    "      'intersected with STRINGv12: {0}'.format(len(\n",
    "          elcfs_stringOverlap)))\n",
    "#print(elcfs_stringOverlap.shape)\n",
    "#print(elcfs_stringOverlap.head())"
   ],
   "outputs": [],
   "execution_count": null
  },
  {
   "cell_type": "code",
   "metadata": {
    "id": "RsMqMufRwblU"
   },
   "source": [
    "#remove hu.MAP1+2 (carrying over)\n",
    "elcfs_stringOverlap_humap12Overlap = \\\n",
    "  elcfs_stringOverlap.merge(cmpStudies.predsHumap1p2)\n",
    "print('Total hu.MAP 1+2 pair predictions: {0}'.format(\n",
    "    len(cmpStudies.predsHumap1p2)))\n",
    "print('Total ELCFS full set pair predictions minus CORUM+ pairs, ' + \\\n",
    "      'intersected with STRINGv12, ' + \\\n",
    "      'overlapping with hu.MAP 1+2 predictions: {0}'.format(len(\n",
    "          elcfs_stringOverlap_humap12Overlap)))\n",
    "#print(cmpStudies.predsHumap1p2.head())"
   ],
   "outputs": [],
   "execution_count": null
  },
  {
   "cell_type": "code",
   "metadata": {
    "id": "-gw4gqQGwqiS"
   },
   "source": [
    "#remove RF LM (carrying over)\n",
    "elcfs_stringOverlap_humap12Overlap_rflmOverlap = \\\n",
    "  elcfs_stringOverlap_humap12Overlap.merge(cmpStudies.bcb19Pairs_feat.drop(\n",
    "      columns=['id1', 'id2']).rename(columns={'prob': 'RF LM'}))\n",
    "print('Total RF LM predictions: {0}'.format(len(cmpStudies.bcb19Pairs_feat)))\n",
    "print('Total ELCFS full set pair predictions minus CORUM+ pairs, ' + \\\n",
    "      'intersected with STRINGv12, ' + \\\n",
    "      'overlapping with both hu.MAP 1+2 and LM 2019 predictions: {0}'.format(\n",
    "          len(elcfs_stringOverlap_humap12Overlap_rflmOverlap)))\n",
    "#print(cmpStudies.bcb19Pairs_feat.head())\n",
    "#print(elcfs_stringOverlap_humap12Overlap_rflmOverlap.head())"
   ],
   "outputs": [],
   "execution_count": null
  },
  {
   "cell_type": "code",
   "source": [
    "#generate Pr-R by using ELCFS probabilities and deriving labels from STRING by\n",
    "#thresholding its assigned confidence\n",
    "f, axs = plt.subplots(1, 2, figsize=(18, 5), tight_layout=True)\n",
    "plt.suptitle('Interaction predictors’ precision-recall (STRINGv12).')\n",
    "\n",
    "#do panel 1\n",
    "##A: Full set pairs\n",
    "axs[0].set_title('A', loc='left', fontsize=10, fontweight='bold')\n",
    "for t in np.linspace(0.8, 0.4, 3):\n",
    "  labels = [1 if val >= t else 0 for val in elcfs_stringOverlap.STRINGv12]\n",
    "  p, r, _ = precision_recall_curve(labels, elcfs_stringOverlap.ELCFS)\n",
    "  prrAUC = auc(r[:-1], p[:-1])\n",
    "  axs[0].plot(r[:-1], p[:-1],\n",
    "              label='ELCFS @t{:.2f}'.format(t) + ', AUC: {:.2f}'.format(prrAUC))\n",
    "\n",
    "axs[0].legend(bbox_to_anchor=(1.43, 1.0), loc='upper right', frameon=False)\n",
    "axs[0].set_ylabel('Precision', fontsize=10, fontweight='bold')\n",
    "axs[0].set_xlabel('Recall', fontsize=10, fontweight='bold')\n",
    "\n",
    "#do panel 2 (using scores from ELCFS and hu.MAP1+2)\n",
    "##B: Full set pairs overlapping with hu.MAP 1+2\n",
    "axs[1].set_title('B', loc='left', fontsize=10, fontweight='bold')\n",
    "for col in ['ELCFS', 'hu.MAP1+2']:\n",
    "  for t in np.linspace(0.8, 0.4, 3):\n",
    "    labels = \\\n",
    "      [1 if val >= t else 0\n",
    "        for val in elcfs_stringOverlap_humap12Overlap.STRINGv12]\n",
    "    p, r, _ = \\\n",
    "      precision_recall_curve(labels, elcfs_stringOverlap_humap12Overlap[col])\n",
    "    prrAUC = auc(r[:-1], p[:-1])\n",
    "    axs[1].plot(\n",
    "        r[:-1], p[:-1],\n",
    "        label=col + ' @t{:.2f}'.format(t) + ', AUC: {:.2f}'.format(prrAUC))\n",
    "\n",
    "axs[1].legend(bbox_to_anchor=(1.50, 1.0), loc='upper right', frameon=False)\n",
    "axs[1].set_ylabel('Precision', fontsize=10, fontweight='bold')\n",
    "axs[1].set_xlabel('Recall', fontsize=10, fontweight='bold')\n",
    "\n",
    "#do panel 3 (using scores from all 3)\n",
    "'''\n",
    "panel3Title = 'Full set pairs overlapping with both hu.MAP 1+2 and LM 2019'\n",
    "axs[1, 1].set_title(panel3Title, fontsize=10, fontweight='bold')\n",
    "for col in ['ELCFS', 'hu.MAP1+2', 'RF LM']:\n",
    "  for t in np.linspace(0.8, 0.4, 3):\n",
    "    labels = \\\n",
    "      [1 if val >= t else 0\n",
    "        for val in elcfs_stringOverlap_humap12Overlap_rflmOverlap.STRINGv12]\n",
    "    p, r, _ = \\\n",
    "      precision_recall_curve(\n",
    "          labels, elcfs_stringOverlap_humap12Overlap_rflmOverlap[col])\n",
    "    prrAUC = auc(r[:-1], p[:-1])\n",
    "    axs[1, 1].plot(\n",
    "        r[:-1], p[:-1],\n",
    "        label=col + ' @t{:.2f}'.format(t) + ', AUC: {:.2f}'.format(prrAUC))\n",
    "\n",
    "axs[1, 1].legend(bbox_to_anchor=(1.50, 1.0), loc='upper right', frameon=False)\n",
    "axs[1, 1].set_ylabel('Precision', fontsize=10, fontweight='bold')\n",
    "axs[1, 1].set_xlabel('Recall', fontsize=10, fontweight='bold')\n",
    "'''\n",
    "\n",
    "plt.savefig(graphicsDir + 'figure_S2.svg')\n",
    "plt.savefig(graphicsDir + 'figure_S2.png', dpi=600)"
   ],
   "metadata": {
    "colab": {
     "base_uri": "https://localhost:8080/",
     "height": 207
    },
    "id": "Rc5ovmqihjaG",
    "executionInfo": {
     "status": "ok",
     "timestamp": 1721905533151,
     "user_tz": 240,
     "elapsed": 17287,
     "user": {
      "displayName": "Gary Wilkins",
      "userId": "01463028869337595546"
     }
    },
    "outputId": "e3a27948-b8a8-4dd9-d86c-9e7f8f6e79ae"
   },
   "outputs": [],
   "execution_count": null
  },
  {
   "cell_type": "code",
   "metadata": {
    "colab": {
     "base_uri": "https://localhost:8080/",
     "height": 923
    },
    "executionInfo": {
     "elapsed": 22183,
     "status": "ok",
     "timestamp": 1710254173510,
     "user": {
      "displayName": "Gary Wilkins",
      "userId": "01463028869337595546"
     },
     "user_tz": 240
    },
    "id": "Y34fN2l3WeMN",
    "outputId": "f6b012cc-d331-47ce-a8fe-8f0be01444fd"
   },
   "source": [
    "#generate Pr-R by using ELCFS probabilities and deriving labels from STRING by\n",
    "#thresholding its assigned confidence\n",
    "f, axs = plt.subplots(2, 2, figsize=(17, 9), tight_layout=True)\n",
    "plt.suptitle('Interaction predictors’ precision-recall (STRINGv12).')\n",
    "\n",
    "#do panel 1\n",
    "panel1Title = 'Full set pairs'\n",
    "axs[0, 0].set_title(panel1Title, fontsize=10, fontweight='bold')\n",
    "for t in np.linspace(0.8, 0.4, 3):\n",
    "  labels = [1 if val >= t else 0 for val in elcfs_stringOverlap.STRINGv12]\n",
    "  p, r, _ = precision_recall_curve(labels, elcfs_stringOverlap.ELCFS)\n",
    "  prrAUC = auc(r[:-1], p[:-1])\n",
    "  axs[0, 0].plot(r[:-1], p[:-1],\n",
    "              label='ELCFS @t{:.2f}'.format(t) + ', AUC: {:.2f}'.format(prrAUC))\n",
    "\n",
    "axs[0, 0].legend(bbox_to_anchor=(1.43, 1.0), loc='upper right', frameon=False)\n",
    "axs[0, 0].set_ylabel('Precision', fontsize=10, fontweight='bold')\n",
    "axs[0, 0].set_xlabel('Recall', fontsize=10, fontweight='bold')\n",
    "\n",
    "#do panel 2 (using scores from ELCFS and hu.MAP1+2)\n",
    "panel2Title = 'Full set pairs overlapping with hu.MAP 1+2'\n",
    "axs[0, 1].set_title(panel2Title, fontsize=10, fontweight='bold')\n",
    "for col in ['ELCFS', 'hu.MAP1+2']:\n",
    "  for t in np.linspace(0.8, 0.4, 3):\n",
    "    labels = \\\n",
    "      [1 if val >= t else 0\n",
    "        for val in elcfs_stringOverlap_humap12Overlap.STRINGv12]\n",
    "    p, r, _ = \\\n",
    "      precision_recall_curve(labels, elcfs_stringOverlap_humap12Overlap[col])\n",
    "    prrAUC = auc(r[:-1], p[:-1])\n",
    "    axs[0, 1].plot(\n",
    "        r[:-1], p[:-1],\n",
    "        label=col + ' @t{:.2f}'.format(t) + ', AUC: {:.2f}'.format(prrAUC))\n",
    "\n",
    "axs[0, 1].legend(bbox_to_anchor=(1.50, 1.0), loc='upper right', frameon=False)\n",
    "axs[0, 1].set_ylabel('Precision', fontsize=10, fontweight='bold')\n",
    "axs[0, 1].set_xlabel('Recall', fontsize=10, fontweight='bold')\n",
    "\n",
    "#do panel 3 (using scores from all 3)\n",
    "panel3Title = 'Full set pairs overlapping with both hu.MAP 1+2 and LM 2019'\n",
    "axs[1, 1].set_title(panel3Title, fontsize=10, fontweight='bold')\n",
    "for col in ['ELCFS', 'hu.MAP1+2', 'RF LM']:\n",
    "  for t in np.linspace(0.8, 0.4, 3):\n",
    "    labels = \\\n",
    "      [1 if val >= t else 0\n",
    "        for val in elcfs_stringOverlap_humap12Overlap_rflmOverlap.STRINGv12]\n",
    "    p, r, _ = \\\n",
    "      precision_recall_curve(\n",
    "          labels, elcfs_stringOverlap_humap12Overlap_rflmOverlap[col])\n",
    "    prrAUC = auc(r[:-1], p[:-1])\n",
    "    axs[1, 1].plot(\n",
    "        r[:-1], p[:-1],\n",
    "        label=col + ' @t{:.2f}'.format(t) + ', AUC: {:.2f}'.format(prrAUC))\n",
    "\n",
    "axs[1, 1].legend(bbox_to_anchor=(1.50, 1.0), loc='upper right', frameon=False)\n",
    "axs[1, 1].set_ylabel('Precision', fontsize=10, fontweight='bold')\n",
    "axs[1, 1].set_xlabel('Recall', fontsize=10, fontweight='bold')\n",
    "\n",
    "#panel 4 empty\n",
    "axs[1, 1].remove()\n",
    "axs[1, 0].remove()"
   ],
   "outputs": [],
   "execution_count": null
  },
  {
   "cell_type": "markdown",
   "metadata": {
    "id": "P_tsW6KgbrNZ"
   },
   "source": [
    "###**Table S1.  Summary of differences between cell-line-specific interaction predictions.**\n",
    "\n",
    "> ***Does Table S1 actually need a caption?***"
   ]
  },
  {
   "cell_type": "code",
   "source": [
    "cellLines = set(['h322', 'mcf7', 'u251'])\n",
    "cellLines_remain = \\\n",
    "  {line: list(cellLines.difference(set([line]))) for line in cellLines}"
   ],
   "metadata": {
    "id": "6kzuJFiVdOr-"
   },
   "outputs": [],
   "execution_count": null
  },
  {
   "cell_type": "code",
   "metadata": {
    "id": "lAaL-vArhky6"
   },
   "source": [
    "threshold = 0.28"
   ],
   "outputs": [],
   "execution_count": null
  },
  {
   "cell_type": "code",
   "source": [
    "tbl_s1 = pd.DataFrame({'cell line': sorted(cellLines)})"
   ],
   "metadata": {
    "id": "l5AdTSbGikCq"
   },
   "outputs": [],
   "execution_count": null
  },
  {
   "cell_type": "code",
   "metadata": {
    "id": "dDUUpw-lDk3f"
   },
   "source": [
    "totalCommonPreds = \\\n",
    "  len(probPreds_cellSpec_concat.loc[(\n",
    "      (probPreds_cellSpec_concat.h322 >= threshold) &\n",
    "      (probPreds_cellSpec_concat.mcf7 >= threshold) &\n",
    "      (probPreds_cellSpec_concat.u251 >= threshold))])\n",
    "tbl_s1.insert(1, 'total common predictions', totalCommonPreds)"
   ],
   "outputs": [],
   "execution_count": null
  },
  {
   "cell_type": "code",
   "metadata": {
    "id": "JiVx-Q5xiLrA"
   },
   "source": [
    "pairwise_combPreds = \\\n",
    "  [len(probPreds_cellSpec_concat.loc[\n",
    "           ((probPreds_cellSpec_concat[line] >= threshold) &\n",
    "            (probPreds_cellSpec_concat[\n",
    "                cellLines_remain[line][0]] >= threshold) &\n",
    "                 (probPreds_cellSpec_concat[\n",
    "                     cellLines_remain[line][1]] < threshold))]) +\n",
    "       len(probPreds_cellSpec_concat.loc[\n",
    "           ((probPreds_cellSpec_concat[line] >= threshold) &\n",
    "            (probPreds_cellSpec_concat[\n",
    "                cellLines_remain[line][0]] < threshold) &\n",
    "                 (probPreds_cellSpec_concat[\n",
    "                     cellLines_remain[line][1]] >= threshold))])\n",
    "   for line in sorted(cellLines)]\n",
    "tbl_s1.insert(2, 'total pairwise exclusive predictions', pairwise_combPreds)"
   ],
   "outputs": [],
   "execution_count": null
  },
  {
   "cell_type": "code",
   "metadata": {
    "id": "J22NMpUBkaem"
   },
   "source": [
    "totalsExcl = \\\n",
    "  [len(probPreds_cellSpec_concat.loc[\n",
    "      ((probPreds_cellSpec_concat[line] >= threshold) &\n",
    "       (probPreds_cellSpec_concat[cellLines_remain[line][0]] < threshold) &\n",
    "        (probPreds_cellSpec_concat[cellLines_remain[line][1]] < threshold))])\n",
    "  for line in sorted(cellLines)]\n",
    "tbl_s1.insert(3, 'total cell-line exclusive predictions', totalsExcl)"
   ],
   "outputs": [],
   "execution_count": null
  },
  {
   "cell_type": "code",
   "source": [
    "totalsPred = \\\n",
    "  [tbl_s1.loc[tbl_s1['cell line']==line, tbl_s1.columns.to_list()[1:]].values.sum()\n",
    "  for line in sorted(cellLines)]\n",
    "tbl_s1.insert(1, 'total predictions', totalsPred)"
   ],
   "metadata": {
    "id": "Brfc1Iojsj94"
   },
   "outputs": [],
   "execution_count": null
  },
  {
   "cell_type": "code",
   "source": [
    "for col in tbl_s1.columns.to_list()[1:]:\n",
    "  tbl_s1[col] = tbl_s1[col].apply('{:,}'.format)\n",
    "tbl_s1.style.hide()"
   ],
   "metadata": {
    "colab": {
     "base_uri": "https://localhost:8080/",
     "height": 178
    },
    "id": "RB18H34Hnbjw",
    "executionInfo": {
     "status": "ok",
     "timestamp": 1721906442884,
     "user_tz": 240,
     "elapsed": 12,
     "user": {
      "displayName": "Gary Wilkins",
      "userId": "01463028869337595546"
     }
    },
    "outputId": "b2d7b540-26bf-4b99-8085-468e9102d4c7"
   },
   "outputs": [],
   "execution_count": null
  },
  {
   "cell_type": "code",
   "metadata": {
    "colab": {
     "base_uri": "https://localhost:8080/",
     "height": 649
    },
    "executionInfo": {
     "elapsed": 137865,
     "status": "ok",
     "timestamp": 1717318443834,
     "user": {
      "displayName": "Gary Wilkins",
      "userId": "01463028869337595546"
     },
     "user_tz": 240
    },
    "id": "y6L4kG83Il7-",
    "outputId": "d6aa1ea8-e3a4-4495-959b-3a433b75ac9c"
   },
   "source": [
    "sampleFrac = 0.05\n",
    "f, axs = plt.subplots(1, 3, figsize=(15, 7), tight_layout=True)\n",
    "ttl = 'Cell-line specific pairwise interactions'\n",
    "plt.suptitle(ttl, fontsize=10, fontweight='bold')\n",
    "for i, line in enumerate(cellLines):\n",
    "  key = ', '.join([line, cellLines_remain[line]])\n",
    "  print(key)\n",
    "  probPreds_cellSpec_concat_samp = \\\n",
    "    probPreds_cellSpec_concat.sample(frac=sampleFrac)\n",
    "  axs[i].scatter(x=probPreds_cellSpec_concat_samp[line],\n",
    "                y=probPreds_cellSpec_concat_samp[cellLines_remain[line]])\n",
    "  axtitle = line + ' v ' + cellLines_remain[cellLines_remain]\n",
    "  axs[i].set_xlabel(cellLines_remain)\n",
    "  axs[i].set_ylabel(cellLines_remain[cellLines_remain])\n",
    "  axs[i].set_title(axtitle, fontsize=10, fontweight='bold')"
   ],
   "outputs": [],
   "execution_count": null
  },
  {
   "cell_type": "code",
   "source": [
    "sampleFrac = 0.01\n",
    "f, axs = plt.subplots(1, 3, figsize=(15, 7), tight_layout=True)\n",
    "ttl = 'Cell-line specific pairwise interactions'\n",
    "plt.suptitle(ttl, fontsize=10, fontweight='bold')\n",
    "for i, line in enumerate(cellLines):\n",
    "  key = ', '.join([line, cellLines_remain[line]])\n",
    "  print(key)\n",
    "  probPreds_cellSpec_concat_samp = \\\n",
    "    probPreds_cellSpec_concat.sample(frac=sampleFrac)\n",
    "  axs[i].scatter(x=probPreds_cellSpec_concat_samp[line],\n",
    "                y=probPreds_cellSpec_concat_samp[cellLines_remain[line]])\n",
    "  axtitle = line + ' v ' + cellLines_remain[line]\n",
    "  axs[i].set_xlabel(line)\n",
    "  axs[i].set_ylabel(cellLines_remain[line])\n",
    "  axs[i].set_title(axtitle, fontsize=10, fontweight='bold')"
   ],
   "metadata": {
    "colab": {
     "base_uri": "https://localhost:8080/",
     "height": 529
    },
    "id": "OAOqAYKTxWJm",
    "executionInfo": {
     "status": "ok",
     "timestamp": 1717497194006,
     "user_tz": 240,
     "elapsed": 29324,
     "user": {
      "displayName": "Gary Wilkins",
      "userId": "01463028869337595546"
     }
    },
    "outputId": "45d581d5-a710-42c0-b840-c97eddf8d7f4"
   },
   "outputs": [],
   "execution_count": null
  },
  {
   "cell_type": "markdown",
   "metadata": {
    "id": "ruqkfhRV_d0S"
   },
   "source": [
    "###**Figure X. Cumulative probability-difference distribution for CORUM-supported interactions across cell-line-specific prediction. The figure shows that the smaller the difference in probability among scored pairwise interactions, shared by at least two cell-line-specific predictors, the more likely those interactions are present in CORUM.**"
   ]
  },
  {
   "cell_type": "code",
   "source": [
    "#generate probability difference DF\n",
    "probPreds_cellSpec_concat['h322 - mcf7'] = \\\n",
    "  probPreds_cellSpec_concat['h322'] - probPreds_cellSpec_concat['mcf7']\n",
    "\n",
    "probPreds_cellSpec_concat['h322 - u251'] = \\\n",
    "  probPreds_cellSpec_concat['h322'] - probPreds_cellSpec_concat['u251']\n",
    "\n",
    "probPreds_cellSpec_concat['mcf7 - u251'] = \\\n",
    "  probPreds_cellSpec_concat['mcf7'] - probPreds_cellSpec_concat['u251']\n",
    "\n",
    "probDiff_predsCellSpec = \\\n",
    "  pd.concat([\n",
    "      probPreds_cellSpec_concat[['h322 - mcf7', 'finalLabel']\n",
    "                                ].dropna(drop=True).reset_index(drop=True),\n",
    "      probPreds_cellSpec_concat[['h322 - u251', 'finalLabel']\n",
    "                                ].dropna(drop=True).reset_index(drop=True),\n",
    "      probPreds_cellSpec_concat[['mcf7 - u251', 'finalLabel']\n",
    "                                ].dropna(drop=True).reset_index(drop=True)],\n",
    "            axis=0)"
   ],
   "metadata": {
    "id": "sfHkO0Ch9kFU"
   },
   "outputs": [],
   "execution_count": null
  },
  {
   "cell_type": "code",
   "source": [
    "f = sns.ecdfplot(\n",
    "    data=probDiff_predsCellSpec.rename(\n",
    "        columns={'diff': 'probability difference', 'finalLabel': 'in CORUM'}),\n",
    "    x='probability difference', hue='in CORUM', stat='proportion')\n",
    "sns.move_legend(f, 'upper left', frameon=False)\n",
    "plt.title('Common interactions', fontsize=10, fontweight='bold')\n",
    "plt.xlabel('Probability difference', fontsize=10, fontweight='bold')\n",
    "plt.ylabel('Proportion', fontsize=10, fontweight='bold')"
   ],
   "metadata": {
    "colab": {
     "base_uri": "https://localhost:8080/",
     "height": 486
    },
    "id": "f9S8UzYrC8tn",
    "executionInfo": {
     "status": "ok",
     "timestamp": 1717165675207,
     "user_tz": 240,
     "elapsed": 8753,
     "user": {
      "displayName": "Gary Wilkins",
      "userId": "01463028869337595546"
     }
    },
    "outputId": "5250956e-4c02-4ad8-a134-614bc3425606"
   },
   "outputs": [],
   "execution_count": null
  },
  {
   "cell_type": "markdown",
   "metadata": {
    "id": "sJBkF6ItlQ4G"
   },
   "source": [
    "### **Complex assembly predictions' weighted precison, recall, and F1-scores for parameter combinations with highest ribosome recapitulation and purity.**\n",
    "\n",
    "> ***Integrate into the manuscript text: all the following tables along with their relevant, supplemental counterparts.***"
   ]
  },
  {
   "cell_type": "code",
   "metadata": {
    "colab": {
     "base_uri": "https://localhost:8080/",
     "height": 142
    },
    "executionInfo": {
     "elapsed": 137,
     "status": "ok",
     "timestamp": 1714823323120,
     "user": {
      "displayName": "Gary Wilkins",
      "userId": "01463028869337595546"
     },
     "user_tz": 240
    },
    "id": "DLxVWXQ2MFRT",
    "outputId": "3a1a100e-c2af-43f4-d624-a87d8f7bccd9"
   },
   "source": [
    "#Grid search parameters for optimizing ribosome recapitulation and purity\n",
    "#Incorporate into text (do not present as table)\n",
    "gridParams_search = pickle.load(open(workDir_other + 'paramGrid.pkl', 'rb'))\n",
    "gridParams_search.style.hide(subset=None, axis='columns').format(precision=3)"
   ],
   "outputs": [],
   "execution_count": null
  },
  {
   "cell_type": "markdown",
   "metadata": {
    "id": "GfYeefWHkcFE"
   },
   "source": [
    "####**Table 3. Best performance for complex assembly prediction by multiple measures over various parameter combinations, optimized across comparative methods.**\n",
    "\n",
    "Present Table 3 (clustering parameter combinations and corresponding scores) clearly and unambiguously:\n",
    "\n",
    "*   Report results for both clusterONE and clusterONE+MCL methods\n",
    "*   Report the weighted F1-score and the total number of clusters predicted\n",
    "*   Select for inclusion parameter combinations optimized for:\n",
    "\n",
    "  1) the weighted F1-score,\n",
    "  \n",
    "  2) (both) the weighted F1-score and total clusters\n",
    "\n",
    "*   Use complexes from the hu.MAP 2.0 test set, the latest release of CORUM, and the latest version/release of STRING as control/reference data for evaluation\n",
    "\n",
    "Prior notes:\n",
    "\n",
    ">   Parameter combinations for complex predictions with the highest ribosome recapitulation and purity. (Sort followed by pick)\n",
    "\n",
    ">   Row1 = Max Make with a line for each combination\n",
    "\n",
    ">   Find the maximum number of complexes with the clusterONE+MCL and print everything (transpose)  \n",
    "\n",
    ">   Highlight or make a separate table for hu.MAP 2.0 top 5 and their composite and also do the same for our results with those settings\n",
    "\n"
   ]
  },
  {
   "cell_type": "markdown",
   "metadata": {
    "id": "MG-zmBwOT3MF"
   },
   "source": [
    "#####**Setup**"
   ]
  },
  {
   "cell_type": "code",
   "metadata": {
    "id": "z3o5lgmsvgHU"
   },
   "source": [
    "#package change impacted\n",
    "clusterPredictions_analysesData = \\\n",
    "  pd.read_pickle(workDir_other + 'intersectionSet_drew2021_expandedPairs-set/' +\n",
    "                 'clusterONE_MCL_predictions_sharedPairs_gridSearch_' + \\\n",
    "                   'ribosomalSubunit_evalCORUM-complete_evalSTRING.pkl')\n",
    "\n",
    "clusterPredictions_analysesData['clusterONE+MCL-STRING F1'] = \\\n",
    "  clusterPredictions_analysesData['clusterONE+MCL-STRING F1'].astype('float64')\n",
    "clusterPredictions_analysesData['clusterONE-STRING F1'] = \\\n",
    "  clusterPredictions_analysesData['clusterONE-STRING F1'].astype('float64')"
   ],
   "outputs": [],
   "execution_count": null
  },
  {
   "cell_type": "code",
   "metadata": {
    "id": "K-CBH2GDUpej"
   },
   "source": [
    "clusterPredictions_analysesData.study = \\\n",
    "  clusterPredictions_analysesData.study.replace({'huMAP': 'hu.MAP 1+2'})"
   ],
   "outputs": [],
   "execution_count": null
  },
  {
   "cell_type": "code",
   "metadata": {
    "id": "ClOMTGxV8mfr"
   },
   "source": [
    "#make table measurements sortable (since they're strings)\n",
    "clusterPredictions_analysesData.loc[\n",
    "    clusterPredictions_analysesData.threshold!='None', 'threshold'] = \\\n",
    "      pd.to_numeric(\n",
    "          clusterPredictions_analysesData.loc[\n",
    "              clusterPredictions_analysesData.threshold!='None',\n",
    "              'threshold']).round(decimals=2)\n",
    "clusterPredictions_analysesData['density'] = \\\n",
    "  clusterPredictions_analysesData['density'].astype('float64')\n",
    "clusterPredictions_analysesData['clusterONE+MCL-STRING F1'] = \\\n",
    "  clusterPredictions_analysesData['clusterONE+MCL-STRING F1'].astype('float64')\n",
    "clusterPredictions_analysesData['clusterONE-STRING F1'] = \\\n",
    "  clusterPredictions_analysesData['clusterONE-STRING F1'].astype('float64')\n",
    "clusterPredictions_analysesData = \\\n",
    "  clusterPredictions_analysesData.round(decimals=2)\n",
    "\n",
    "clusterPredictions_analysesData.study = \\\n",
    "  clusterPredictions_analysesData.study.replace(\n",
    "      {'huMAP': 'hu.MAP 1+2'})"
   ],
   "outputs": [],
   "execution_count": null
  },
  {
   "cell_type": "code",
   "metadata": {
    "colab": {
     "base_uri": "https://localhost:8080/"
    },
    "executionInfo": {
     "elapsed": 1999,
     "status": "ok",
     "timestamp": 1722419416719,
     "user": {
      "displayName": "Gary Wilkins",
      "userId": "01463028869337595546"
     },
     "user_tz": 240
    },
    "id": "NWC-95eZgw7G",
    "outputId": "01af9f5d-f9f3-4111-ab32-1daaa4955f0b"
   },
   "source": [
    "#check and address the generation of identical assemblies from unique parameter inputs\n",
    "clusterPredictions_analysesData['clusterONE clusters frozenset'] = \\\n",
    "  [set([frozenset(clust) for clust in assembly]) for assembly in\n",
    "   clusterPredictions_analysesData['clusterONE clusters']]\n",
    "print(len(clusterPredictions_analysesData.drop_duplicates(\n",
    "    subset=['clusterONE clusters frozenset']).loc[\n",
    "        clusterPredictions_analysesData.study=='ELCFS']))\n",
    "print(len(clusterPredictions_analysesData.drop_duplicates(\n",
    "    subset=['clusterONE clusters frozenset']).loc[\n",
    "        clusterPredictions_analysesData.study=='hu.MAP 1+2']))\n",
    "\n",
    "clusterPredictions_analysesData['clusterONE+MCL clusters frozenset'] = \\\n",
    "  [set([frozenset(clust) for clust in assembly]) for assembly in\n",
    "   clusterPredictions_analysesData['clusterONE+MCL clusters']]\n",
    "print(len(clusterPredictions_analysesData.drop_duplicates(\n",
    "    subset=['clusterONE+MCL clusters frozenset']).loc[\n",
    "        clusterPredictions_analysesData.study=='ELCFS']))\n",
    "print(len(clusterPredictions_analysesData.drop_duplicates(\n",
    "    subset=['clusterONE+MCL clusters frozenset']).loc[\n",
    "        clusterPredictions_analysesData.study=='hu.MAP 1+2']))"
   ],
   "outputs": [],
   "execution_count": null
  },
  {
   "cell_type": "code",
   "metadata": {
    "colab": {
     "base_uri": "https://localhost:8080/"
    },
    "executionInfo": {
     "elapsed": 131,
     "status": "ok",
     "timestamp": 1721918821058,
     "user": {
      "displayName": "Gary Wilkins",
      "userId": "01463028869337595546"
     },
     "user_tz": 240
    },
    "id": "0GynBnsYX0ur",
    "outputId": "b3ac74c1-0a61-453e-f751-28a78fc64305"
   },
   "source": [
    "#how do the ranges of values between ELCFS and hu.MAP 1+2 compare (clusterONE)\n",
    "\n",
    "#optimization => clusters (n, int) * score ([0, 1])\n",
    "#clusterONE cluster totals' range overview important for contextualizing\n",
    "#weighted-F1 and totals product\n",
    "\n",
    "print(clusterPredictions_analysesData.loc[\n",
    "    clusterPredictions_analysesData.study=='ELCFS',\n",
    "    'total clusterONE clusters_x'].min())\n",
    "print(clusterPredictions_analysesData.loc[\n",
    "    clusterPredictions_analysesData.study=='hu.MAP 1+2',\n",
    "    'total clusterONE clusters_x'].min())\n",
    "\n",
    "print(clusterPredictions_analysesData.loc[\n",
    "    clusterPredictions_analysesData.study=='ELCFS',\n",
    "    'total clusterONE clusters_x'].max())\n",
    "print(clusterPredictions_analysesData.loc[\n",
    "    clusterPredictions_analysesData.study=='hu.MAP 1+2',\n",
    "    'total clusterONE clusters_x'].max())"
   ],
   "outputs": [],
   "execution_count": null
  },
  {
   "cell_type": "code",
   "metadata": {
    "colab": {
     "base_uri": "https://localhost:8080/"
    },
    "executionInfo": {
     "elapsed": 146,
     "status": "ok",
     "timestamp": 1717416961200,
     "user": {
      "displayName": "Gary Wilkins",
      "userId": "01463028869337595546"
     },
     "user_tz": 240
    },
    "id": "h7wN7Oz4YY5T",
    "outputId": "96f5ff42-53b1-403c-cb72-bb7ea3a3b991"
   },
   "source": [
    "#how do the ranges of values between ELCFS and hu.MAP 1+2 compare (clusterONE+MCL)\n",
    "\n",
    "#optimization => clusters (n, int) * score ([0, 1])\n",
    "#clusterONE cluster totals' range overview important for contextualizing\n",
    "#weighted-F1 and totals product\n",
    "\n",
    "print(clusterPredictions_analysesData.loc[\n",
    "    clusterPredictions_analysesData.study=='ELCFS',\n",
    "    'total clusterONE+MCL clusters_x'].min())\n",
    "\n",
    "print(clusterPredictions_analysesData.loc[\n",
    "    clusterPredictions_analysesData.study=='hu.MAP 1+2',\n",
    "    'total clusterONE+MCL clusters_x'].min())\n",
    "\n",
    "print(clusterPredictions_analysesData.loc[\n",
    "    clusterPredictions_analysesData.study=='ELCFS',\n",
    "    'total clusterONE+MCL clusters_x'].max())\n",
    "\n",
    "print(clusterPredictions_analysesData.loc[\n",
    "    clusterPredictions_analysesData.study=='hu.MAP 1+2',\n",
    "    'total clusterONE+MCL clusters_x'].max())"
   ],
   "outputs": [],
   "execution_count": null
  },
  {
   "cell_type": "code",
   "metadata": {
    "id": "5JS-v_QyWKNf"
   },
   "source": [
    "colsRel = \\\n",
    "  ['study', 'threshold', 'overlap', 'density', 'size', 'inflation (MCL)',\n",
    "   'total clusterONE clusters_x',\n",
    "   'clusterONE clusters weighted F1-score_x',\n",
    "   'clusterONE_clusters_weighted_F1Score_corumComplete',\n",
    "   'clusterONE-STRING F1',\n",
    "   'total clusterONE+MCL clusters_x',\n",
    "   'clusterONE+MCL clusters weighted F1-score_x',\n",
    "   'clusterONE+MCL_clusters_weighted_F1Score_corumComplete',\n",
    "   'clusterONE+MCL-STRING F1']\n",
    "\n",
    "#clusterONE\n",
    "clusterPredictions_analysesData.insert(\n",
    "    8, 'clusterONE_clustScore',\n",
    "    clusterPredictions_analysesData.loc[:,\n",
    "     ['total clusterONE clusters_x',\n",
    "      'clusterONE clusters weighted F1-score_x']].product(axis=1))\n",
    "clusterPredictions_analysesData.insert(\n",
    "    9, 'clusterONE_clustScore-corumComplete',\n",
    "    clusterPredictions_analysesData.loc[:,\n",
    "     ['total clusterONE clusters_x',\n",
    "      'clusterONE_clusters_weighted_F1Score_corumComplete']].product(axis=1))\n",
    "clusterPredictions_analysesData.insert(\n",
    "    10, 'clusterONE_clustScore-STRING',\n",
    "    clusterPredictions_analysesData.loc[:,\n",
    "     ['total clusterONE clusters_x',\n",
    "      'clusterONE-STRING F1']].product(axis=1))\n",
    "\n",
    "#clusterONE+MCL\n",
    "clusterPredictions_analysesData.insert(\n",
    "    11, 'clusterONE+MCL_clustScore',\n",
    "    clusterPredictions_analysesData.loc[:,\n",
    "     ['total clusterONE+MCL clusters_x',\n",
    "      'clusterONE+MCL clusters weighted F1-score_x']].product(axis=1))\n",
    "clusterPredictions_analysesData.insert(\n",
    "    12, 'clusterONE+MCL_clustScore-corumComplete',\n",
    "    clusterPredictions_analysesData.loc[:,\n",
    "     ['total clusterONE+MCL clusters_x',\n",
    "      'clusterONE+MCL_clusters_weighted_F1Score_corumComplete']].product(axis=1))\n",
    "clusterPredictions_analysesData.insert(\n",
    "    13, 'clusterONE+MCL_clustScore-STRING',\n",
    "    clusterPredictions_analysesData.loc[:,\n",
    "     ['total clusterONE+MCL clusters_x',\n",
    "      'clusterONE+MCL-STRING F1']].product(axis=1))\n",
    "\n",
    "clustScore_prodCols = \\\n",
    "  ['clusterONE_clustScore',\n",
    "   'clusterONE_clustScore-corumComplete',\n",
    "   'clusterONE_clustScore-STRING',\n",
    "   'clusterONE+MCL_clustScore',\n",
    "   'clusterONE+MCL_clustScore-corumComplete',\n",
    "   'clusterONE+MCL_clustScore-STRING']"
   ],
   "outputs": [],
   "execution_count": null
  },
  {
   "cell_type": "code",
   "metadata": {
    "colab": {
     "base_uri": "https://localhost:8080/"
    },
    "executionInfo": {
     "elapsed": 3479,
     "status": "ok",
     "timestamp": 1722419434025,
     "user": {
      "displayName": "Gary Wilkins",
      "userId": "01463028869337595546"
     },
     "user_tz": 240
    },
    "id": "HHOciZeZMEIZ",
    "outputId": "0aae2aa2-8f64-4a92-c705-6d4e837dd939"
   },
   "source": [
    "#get range of parameters for matching assemblies\n",
    "params = ['threshold', 'overlap', 'density', 'size']\n",
    "clusts_c1Name = 'clusterONE clusters frozenset'\n",
    "clusts_pMCL_c1Name = 'clusterONE+MCL clusters frozenset'\n",
    "\n",
    "for p in params:\n",
    "  print(p)\n",
    "  clusterPredictions_analysesData[p + '-range'] = ''\n",
    "  clusterPredictions_analysesData[p + '-range (MCL)'] = ''\n",
    "\n",
    "  for _, row in clusterPredictions_analysesData.drop_duplicates(\n",
    "      subset=[clusts_c1Name]).iterrows():\n",
    "\n",
    "      clusterPredictions_analysesData.loc[\n",
    "          clusterPredictions_analysesData[clusts_c1Name]==row[clusts_c1Name],\n",
    "          p + '-range'] = \\\n",
    "            ', '.join(\n",
    "                [str(e) for e in list(\n",
    "                    clusterPredictions_analysesData.loc[\n",
    "                        clusterPredictions_analysesData[\n",
    "                            clusts_c1Name]==row[clusts_c1Name],\n",
    "                        p].unique())])\n",
    "\n",
    "  for _, row in clusterPredictions_analysesData.drop_duplicates(\n",
    "      subset=[clusts_pMCL_c1Name]).iterrows():\n",
    "\n",
    "      clusterPredictions_analysesData.loc[\n",
    "          clusterPredictions_analysesData[\n",
    "              clusts_pMCL_c1Name]==row[clusts_pMCL_c1Name],\n",
    "          p + '-range (MCL)'] = \\\n",
    "            ', '.join(\n",
    "                [str(e) for e in list(\n",
    "                    clusterPredictions_analysesData.loc[\n",
    "                        clusterPredictions_analysesData[\n",
    "                            clusts_pMCL_c1Name]==row[clusts_pMCL_c1Name],\n",
    "                        p].unique())])\n",
    "\n",
    "clusterPredictions_analysesData['inflation (MCL)-range'] = ''\n",
    "for _, row in clusterPredictions_analysesData.drop_duplicates(\n",
    "      subset=[clusts_pMCL_c1Name]).iterrows():\n",
    "  clusterPredictions_analysesData.loc[\n",
    "    clusterPredictions_analysesData[clusts_pMCL_c1Name]==row[clusts_pMCL_c1Name],\n",
    "    'inflation (MCL)-range'] = \\\n",
    "      ', '.join(\n",
    "          [str(e) for e in list(\n",
    "              clusterPredictions_analysesData.loc[\n",
    "                  clusterPredictions_analysesData[\n",
    "                      clusts_pMCL_c1Name]==row[clusts_pMCL_c1Name],\n",
    "                  'inflation (MCL)'].unique())])"
   ],
   "outputs": [],
   "execution_count": null
  },
  {
   "cell_type": "code",
   "metadata": {
    "id": "oAIUmSFibZhr"
   },
   "source": [
    "#want function to simplify sorting by evaluation parameters, generating tables,\n",
    "# cols selection\n",
    "\n",
    "#args\n",
    "#  refName = {CORUM, STRING}\n",
    "#  sortType = {F1, prod}\n",
    "#  MCL = {T, F}\n",
    "\n",
    "def idOptimals(df, refName, sortType, MCL, return_topN=False, topN=5):\n",
    "\n",
    "  baseCols = \\\n",
    "    [c for c in clusterPredictions_analysesData.columns.to_list()\n",
    "    if all(['range' in c])]\n",
    "  if not MCL:\n",
    "    baseCols = [c for c in baseCols if 'MCL' not in c]\n",
    "  else:\n",
    "    baseCols = [c for c in baseCols if 'MCL' in c]\n",
    "  baseCols = ['study'] + baseCols\n",
    "  print(baseCols)\n",
    "\n",
    "  assembly = 'clusterONE+MCL clusters frozenset' if MCL else 'clusterONE clusters frozenset'\n",
    "\n",
    "  #give automation by argument sort idea here...\n",
    "  #refName: 1 of these strings will be present in s: {corumComplete, string}\n",
    "  #sortType: F1 or product (F1*cluster length) => {F1, clustScore}\n",
    "  #MCL: either it will have MCL or not\n",
    "  ref = 'corumComplete' if refName=='CORUM' else 'STRING'\n",
    "  evalType = 'F1' if sortType=='F1' else 'clustScore'\n",
    "  params = [ref, evalType, '+MCL'] if MCL else [ref, evalType]\n",
    "  print(params)\n",
    "  eval = [col for col in df.columns.to_list() if all([p in col for p in params])]\n",
    "  if not MCL:\n",
    "    eval = [col for col in eval if '+MCL' not in col]\n",
    "  print(eval)\n",
    "\n",
    "  selectCols = baseCols + eval + [assembly]\n",
    "  selectCols = selectCols + ['total clusterONE+MCL clusters_x'] if MCL else \\\n",
    "    selectCols + ['total clusterONE clusters_x']\n",
    "\n",
    "  dfSort = \\\n",
    "    df.drop_duplicates(subset=assembly).sort_values(by=eval[0], ascending=False)\n",
    "  dfSort_select = dfSort[selectCols].head(topN)\n",
    "  dfSort_select['Optimal parameter'] = eval[0]\n",
    "  dfSort_select['Optimal parameter value'] = dfSort_select[eval[0]]\n",
    "  topParams = dfSort_select.iloc[0, :].to_frame().T\n",
    "\n",
    "  colRenames = \\\n",
    "    {'threshold-range (MCL)': 'threshold', 'threshold-range': 'threshold',\n",
    "     'overlap-range (MCL)': 'overlap', 'overlap-range': 'overlap',\n",
    "     'density-range (MCL)': 'density', 'density-range': 'density',\n",
    "     'size-range (MCL)': 'size', 'size-range': 'size',\n",
    "     'inflation (MCL)-range': 'inflation (MCL)',\n",
    "     'total clusterONE clusters_x': 'total clusters',\n",
    "     'total clusterONE+MCL clusters_x': 'total clusters',\n",
    "     assembly: 'clusters'}\n",
    "  topParams.rename(columns=colRenames, inplace=True)\n",
    "  dfSort_select.rename(columns=colRenames, inplace=True)\n",
    "\n",
    "  if MCL:\n",
    "    reportCols = \\\n",
    "      ['study',\n",
    "       'threshold', 'overlap', 'density', 'size', 'inflation (MCL)',\n",
    "       'Optimal parameter', 'Optimal parameter value',\n",
    "       'total clusters', 'clusters']\n",
    "  else:\n",
    "    reportCols = \\\n",
    "      ['study',\n",
    "       'threshold', 'overlap', 'density', 'size',\n",
    "       'Optimal parameter', 'Optimal parameter value',\n",
    "       'total clusters', 'clusters']\n",
    "\n",
    "  if return_topN:\n",
    "    return dfSort_select[reportCols], topParams[reportCols]\n",
    "  else:\n",
    "    return topParams[reportCols]"
   ],
   "outputs": [],
   "execution_count": null
  },
  {
   "cell_type": "markdown",
   "metadata": {
    "id": "oSgw5pYmmaJ-"
   },
   "source": [
    "#####**Top parameter combinations by optimizing strategy**"
   ]
  },
  {
   "cell_type": "code",
   "metadata": {
    "id": "pXAwYOShomRp"
   },
   "source": [
    "#*To-Do\n",
    "#Debug table 3 setup\n",
    "#For the cell type specific assemblies, insert common pairwise\n",
    "#Make common-pairwise etc. tables (below)"
   ],
   "outputs": [],
   "execution_count": null
  },
  {
   "cell_type": "markdown",
   "metadata": {
    "id": "Kj6inYM8UDlI"
   },
   "source": [
    "**ClusterONE CORUM F1 optimal**"
   ]
  },
  {
   "cell_type": "code",
   "source": [
    "dfSort_select, _ = \\\n",
    "  idOptimals(clusterPredictions_analysesData, 'CORUM', 'F1', False, True, 5)\n",
    "dfSort_select"
   ],
   "metadata": {
    "colab": {
     "base_uri": "https://localhost:8080/",
     "height": 833
    },
    "id": "WEiZXg0_Mynw",
    "executionInfo": {
     "status": "ok",
     "timestamp": 1722419458294,
     "user_tz": 240,
     "elapsed": 498,
     "user": {
      "displayName": "Gary Wilkins",
      "userId": "01463028869337595546"
     }
    },
    "outputId": "1633da5e-17a9-4740-b65e-3470d5b7d9a0"
   },
   "outputs": [],
   "execution_count": null
  },
  {
   "cell_type": "markdown",
   "metadata": {
    "id": "IHkaaZhqxGpr"
   },
   "source": [
    "**ClusterONE STRING F1 optimal**"
   ]
  },
  {
   "cell_type": "code",
   "metadata": {
    "colab": {
     "base_uri": "https://localhost:8080/"
    },
    "executionInfo": {
     "elapsed": 7,
     "status": "ok",
     "timestamp": 1714824954992,
     "user": {
      "displayName": "Gary Wilkins",
      "userId": "01463028869337595546"
     },
     "user_tz": 240
    },
    "id": "nkihil7cviVH",
    "outputId": "4a52fee0-ad3e-480c-8bfe-95c2988f5c9a"
   },
   "source": [
    "dfSort_select, _ = \\\n",
    "  idOptimals(clusterPredictions_analysesData, 'STRING', 'F1', False, True, 5)\n",
    "dfSort_select"
   ],
   "outputs": [],
   "execution_count": null
  },
  {
   "cell_type": "markdown",
   "metadata": {
    "id": "5NAQ4x07xJDV"
   },
   "source": [
    "**ClusterONE+MCL CORUM F1 optimal**"
   ]
  },
  {
   "cell_type": "code",
   "metadata": {
    "colab": {
     "base_uri": "https://localhost:8080/"
    },
    "executionInfo": {
     "elapsed": 5,
     "status": "ok",
     "timestamp": 1714824954992,
     "user": {
      "displayName": "Gary Wilkins",
      "userId": "01463028869337595546"
     },
     "user_tz": 240
    },
    "id": "nmG3r99RwEqa",
    "outputId": "23eecb30-4da2-4b4c-9977-905e14b848b6"
   },
   "source": [
    "dfSort_select, _ = \\\n",
    "  idOptimals(clusterPredictions_analysesData, 'CORUM', 'F1', True, True, 5)\n",
    "dfSort_select"
   ],
   "outputs": [],
   "execution_count": null
  },
  {
   "cell_type": "markdown",
   "metadata": {
    "id": "uYGNdxdKxLKQ"
   },
   "source": [
    "**ClusterONE+MCL STRING F1 optimal**"
   ]
  },
  {
   "cell_type": "code",
   "metadata": {
    "colab": {
     "base_uri": "https://localhost:8080/"
    },
    "executionInfo": {
     "elapsed": 4,
     "status": "ok",
     "timestamp": 1714824954992,
     "user": {
      "displayName": "Gary Wilkins",
      "userId": "01463028869337595546"
     },
     "user_tz": 240
    },
    "id": "56gJi_iiwC4R",
    "outputId": "a18d5bcb-e398-4526-831a-78f681d213f0"
   },
   "source": [
    "dfSort_select, _ = \\\n",
    "  idOptimals(clusterPredictions_analysesData, 'STRING', 'F1', True, True, 5)\n",
    "dfSort_select"
   ],
   "outputs": [],
   "execution_count": null
  },
  {
   "cell_type": "markdown",
   "metadata": {
    "id": "nNv9CiIixMzp"
   },
   "source": [
    "**ClusterONE CORUM F1-Length Product optimal**"
   ]
  },
  {
   "cell_type": "code",
   "metadata": {
    "colab": {
     "base_uri": "https://localhost:8080/"
    },
    "executionInfo": {
     "elapsed": 206,
     "status": "ok",
     "timestamp": 1714824955452,
     "user": {
      "displayName": "Gary Wilkins",
      "userId": "01463028869337595546"
     },
     "user_tz": 240
    },
    "id": "vTnWlAHEwY33",
    "outputId": "d965cc3b-682c-42f5-e243-7c0d2b225ef1"
   },
   "source": [
    "dfSort_select, _ = \\\n",
    "  idOptimals(clusterPredictions_analysesData, 'CORUM', '*', False, True, 5)\n",
    "dfSort_select"
   ],
   "outputs": [],
   "execution_count": null
  },
  {
   "cell_type": "markdown",
   "metadata": {
    "id": "K6rrTEeRxS4s"
   },
   "source": [
    "**ClusterONE STRING F1-Length Product optimal**"
   ]
  },
  {
   "cell_type": "code",
   "metadata": {
    "colab": {
     "base_uri": "https://localhost:8080/"
    },
    "executionInfo": {
     "elapsed": 119,
     "status": "ok",
     "timestamp": 1714824955569,
     "user": {
      "displayName": "Gary Wilkins",
      "userId": "01463028869337595546"
     },
     "user_tz": 240
    },
    "id": "dUmz_xaDwY34",
    "outputId": "0b7e51ca-acc4-40d9-9737-5d1519258b7d"
   },
   "source": [
    "dfSort_select, _ = \\\n",
    "  idOptimals(clusterPredictions_analysesData, 'STRING', '*', False, True, 5)\n",
    "dfSort_select"
   ],
   "outputs": [],
   "execution_count": null
  },
  {
   "cell_type": "markdown",
   "metadata": {
    "id": "xyTs11Suxe56"
   },
   "source": [
    "**ClusterONE+MCL CORUM F1-Length Product optimal**"
   ]
  },
  {
   "cell_type": "code",
   "metadata": {
    "colab": {
     "base_uri": "https://localhost:8080/"
    },
    "executionInfo": {
     "elapsed": 427,
     "status": "ok",
     "timestamp": 1714824955994,
     "user": {
      "displayName": "Gary Wilkins",
      "userId": "01463028869337595546"
     },
     "user_tz": 240
    },
    "id": "8g14OPS5wY34",
    "outputId": "8c64eaee-76a7-48d0-e7e7-9da8177cf510"
   },
   "source": [
    "dfSort_select, _ = \\\n",
    "  idOptimals(clusterPredictions_analysesData, 'CORUM', '*', True, True, 5)\n",
    "dfSort_select"
   ],
   "outputs": [],
   "execution_count": null
  },
  {
   "cell_type": "markdown",
   "metadata": {
    "id": "ff38v-fFxjuf"
   },
   "source": [
    "**ClusterONE+MCL STRING F1-Length Product optimal**"
   ]
  },
  {
   "cell_type": "code",
   "metadata": {
    "colab": {
     "base_uri": "https://localhost:8080/"
    },
    "executionInfo": {
     "elapsed": 323,
     "status": "ok",
     "timestamp": 1714824956314,
     "user": {
      "displayName": "Gary Wilkins",
      "userId": "01463028869337595546"
     },
     "user_tz": 240
    },
    "id": "F1U2P-s_wY34",
    "outputId": "b01fa065-d2dc-4981-b8d6-7e555f179251"
   },
   "source": [
    "dfSort_select, _ = \\\n",
    "  idOptimals(clusterPredictions_analysesData, 'STRING', '*', True, True, 5)\n",
    "dfSort_select"
   ],
   "outputs": [],
   "execution_count": null
  },
  {
   "cell_type": "markdown",
   "metadata": {
    "id": "MLSgNCVmzNA_"
   },
   "source": [
    "***ClusterONE | Ribosome reconstruction***"
   ]
  },
  {
   "cell_type": "code",
   "metadata": {
    "id": "xFpNqx5QzNA_"
   },
   "source": [
    "colsRel = \\\n",
    "  ['study', 'threshold', 'density', 'overlap', 'size',\n",
    "   'total clusterONE clusters_x',\n",
    "   'clusterONE_srF1', 'clusterONE_lrF1']"
   ],
   "outputs": [],
   "execution_count": null
  },
  {
   "cell_type": "code",
   "metadata": {
    "colab": {
     "base_uri": "https://localhost:8080/",
     "height": 206
    },
    "executionInfo": {
     "elapsed": 124,
     "status": "ok",
     "timestamp": 1721919087334,
     "user": {
      "displayName": "Gary Wilkins",
      "userId": "01463028869337595546"
     },
     "user_tz": 240
    },
    "id": "hK71cxndzNA_",
    "outputId": "e912e457-c029-4300-a54c-40665b8b4c0c"
   },
   "source": [
    "clusterPredictions_analysesData.drop_duplicates(\n",
    "    subset=['clusterONE clusters frozenset']\n",
    "    ).loc[:, colsRel].sort_values(\n",
    "        by=['clusterONE_srF1'], ascending=False).head()"
   ],
   "outputs": [],
   "execution_count": null
  },
  {
   "cell_type": "code",
   "metadata": {
    "colab": {
     "base_uri": "https://localhost:8080/"
    },
    "executionInfo": {
     "elapsed": 3,
     "status": "ok",
     "timestamp": 1714824956436,
     "user": {
      "displayName": "Gary Wilkins",
      "userId": "01463028869337595546"
     },
     "user_tz": 240
    },
    "id": "YNVL9p55zNA_",
    "outputId": "2ad476d4-3c44-4da0-fec5-9cad63fd05dd"
   },
   "source": [
    "clusterPredictions_analysesData.drop_duplicates(\n",
    "    subset=['clusterONE clusters frozenset']\n",
    "    ).loc[:, colsRel].sort_values(\n",
    "        by=['clusterONE_lrF1'], ascending=False).head()"
   ],
   "outputs": [],
   "execution_count": null
  },
  {
   "cell_type": "markdown",
   "metadata": {
    "id": "FZVsrWOszNA_"
   },
   "source": [
    "***ClusterONE+MCL | Ribosome reconstruction***"
   ]
  },
  {
   "cell_type": "code",
   "metadata": {
    "id": "8t1t7eIRzNA_"
   },
   "source": [
    "colsRel = \\\n",
    "  ['study', 'threshold', 'density', 'overlap', 'size', 'inflation (MCL)',\n",
    "   'total clusterONE+MCL clusters_x',\n",
    "   'clusterONE+MCL_srF1', 'clusterONE+MCL_lrF1']"
   ],
   "outputs": [],
   "execution_count": null
  },
  {
   "cell_type": "code",
   "metadata": {
    "colab": {
     "base_uri": "https://localhost:8080/"
    },
    "executionInfo": {
     "elapsed": 377,
     "status": "ok",
     "timestamp": 1714824956811,
     "user": {
      "displayName": "Gary Wilkins",
      "userId": "01463028869337595546"
     },
     "user_tz": 240
    },
    "id": "ORfDANG5Cfvv",
    "outputId": "c50005a4-1d45-409b-c299-2a62124ecc6c"
   },
   "source": [
    "clusterPredictions_analysesData.drop_duplicates(\n",
    "    subset=['clusterONE+MCL clusters frozenset']\n",
    "    ).loc[:, colsRel].sort_values(\n",
    "        by=['clusterONE+MCL_srF1'], ascending=False).head()"
   ],
   "outputs": [],
   "execution_count": null
  },
  {
   "cell_type": "code",
   "metadata": {
    "colab": {
     "base_uri": "https://localhost:8080/"
    },
    "executionInfo": {
     "elapsed": 3,
     "status": "ok",
     "timestamp": 1714824956811,
     "user": {
      "displayName": "Gary Wilkins",
      "userId": "01463028869337595546"
     },
     "user_tz": 240
    },
    "id": "G-M-QXCXCfvw",
    "outputId": "651452b6-ef68-4892-e05b-f5e4ce5b8a86"
   },
   "source": [
    "clusterPredictions_analysesData.drop_duplicates(\n",
    "    subset=['clusterONE+MCL clusters frozenset']\n",
    "    ).loc[:, colsRel].sort_values(\n",
    "        by=['clusterONE+MCL_lrF1'], ascending=False).head()"
   ],
   "outputs": [],
   "execution_count": null
  },
  {
   "cell_type": "markdown",
   "metadata": {
    "id": "JpeH27s7l2h1"
   },
   "source": [
    "#####**Top parameter combination for each optimizing strategy**"
   ]
  },
  {
   "cell_type": "code",
   "metadata": {
    "id": "1XaZNCZLrphH"
   },
   "source": [
    "n = 1\n",
    "cplxRef = ['CORUM', 'STRING']\n",
    "measure = ['F1', '*']\n",
    "inclMCL = [False, True]\n",
    "topParams_specs = list(it.product(cplxRef, measure, inclMCL))"
   ],
   "outputs": [],
   "execution_count": null
  },
  {
   "cell_type": "code",
   "metadata": {
    "id": "jW1CCoWv93R-"
   },
   "source": [
    "%%capture\n",
    "topParams = \\\n",
    "  pd.concat(\n",
    "      [idOptimals(clusterPredictions_analysesData,\n",
    "                  *list(input)) for input in topParams_specs])"
   ],
   "outputs": [],
   "execution_count": null
  },
  {
   "cell_type": "code",
   "metadata": {
    "id": "XheRNyOsfxMC"
   },
   "source": [
    "%%capture\n",
    "topParams_elcfs = \\\n",
    "  pd.concat(\n",
    "      [idOptimals(clusterPredictions_analysesData.loc[\n",
    "          clusterPredictions_analysesData.study=='ELCFS'],\n",
    "                  *list(input)) for input in topParams_specs])"
   ],
   "outputs": [],
   "execution_count": null
  },
  {
   "cell_type": "markdown",
   "source": [
    "**Table 3a**"
   ],
   "metadata": {
    "id": "Ea4MyXi-8oON"
   }
  },
  {
   "cell_type": "code",
   "metadata": {
    "colab": {
     "base_uri": "https://localhost:8080/",
     "height": 300
    },
    "executionInfo": {
     "elapsed": 322,
     "status": "ok",
     "timestamp": 1714825026284,
     "user": {
      "displayName": "Gary Wilkins",
      "userId": "01463028869337595546"
     },
     "user_tz": 240
    },
    "id": "gsNMtVoG-15L",
    "outputId": "2300f156-7915-47be-cb73-daf5a630d435"
   },
   "source": [
    "topParams_elcfs"
   ],
   "outputs": [],
   "execution_count": null
  },
  {
   "cell_type": "code",
   "metadata": {
    "id": "J3OP5BsdUstZ"
   },
   "source": [
    "clustersELCFS_topParams = \\\n",
    "  pd.DataFrame({'cluster':\n",
    "                list(set().union(*topParams_elcfs.clusters.to_list()))})"
   ],
   "outputs": [],
   "execution_count": null
  },
  {
   "cell_type": "code",
   "metadata": {
    "id": "y2cLwsldViiC"
   },
   "source": [
    "clustersELCFS_topParams.insert(\n",
    "    1, 'prots', [len(cluster) for cluster in clustersELCFS_topParams.cluster])"
   ],
   "outputs": [],
   "execution_count": null
  },
  {
   "cell_type": "code",
   "source": [
    "clustersELCFS_topParams.prots.unique()\n",
    "[(n, len(clustersELCFS_topParams.loc[clustersELCFS_topParams.prots==n])) for n in clustersELCFS_topParams.prots.unique()]"
   ],
   "metadata": {
    "colab": {
     "base_uri": "https://localhost:8080/"
    },
    "id": "0WSfjCwYfQ_g",
    "executionInfo": {
     "status": "ok",
     "timestamp": 1721920984886,
     "user_tz": 240,
     "elapsed": 177,
     "user": {
      "displayName": "Gary Wilkins",
      "userId": "01463028869337595546"
     }
    },
    "outputId": "142adc63-cb43-4162-d2c3-51cf2c702136"
   },
   "outputs": [],
   "execution_count": null
  },
  {
   "cell_type": "code",
   "metadata": {
    "colab": {
     "base_uri": "https://localhost:8080/"
    },
    "executionInfo": {
     "elapsed": 3,
     "status": "ok",
     "timestamp": 1714825026284,
     "user": {
      "displayName": "Gary Wilkins",
      "userId": "01463028869337595546"
     },
     "user_tz": 240
    },
    "id": "dLuddLB4EcBP",
    "outputId": "5459f7f3-7c7a-48a9-9e87-92d37a4bf221"
   },
   "source": [
    "clustersELCFS_topParams.prots.unique()\n",
    "[(n, len(clustersELCFS_topParams.loc[clustersELCFS_topParams.prots==n])) for n in clustersELCFS_topParams.prots.unique()]"
   ],
   "outputs": [],
   "execution_count": null
  },
  {
   "cell_type": "code",
   "metadata": {
    "id": "93rZI1i3Zb9Z"
   },
   "source": [
    "clustersELCFS_topParams['CORUM'] = \\\n",
    "  [cplx in set(accessCORUM.humanCplx_frozen)\n",
    "  for cplx in clustersELCFS_topParams.cluster.to_list()]"
   ],
   "outputs": [],
   "execution_count": null
  },
  {
   "cell_type": "code",
   "metadata": {
    "id": "R-zbLknlaevh"
   },
   "source": [
    "clustersELCFS_topParams['STRING'] = \\\n",
    "  [cplx in set(cmpStudies.stringCplxs)\n",
    "  for cplx in clustersELCFS_topParams.cluster.to_list()]"
   ],
   "outputs": [],
   "execution_count": null
  },
  {
   "cell_type": "code",
   "metadata": {
    "colab": {
     "base_uri": "https://localhost:8080/"
    },
    "executionInfo": {
     "elapsed": 29881,
     "status": "ok",
     "timestamp": 1722420143353,
     "user": {
      "displayName": "Gary Wilkins",
      "userId": "01463028869337595546"
     },
     "user_tz": 240
    },
    "id": "vHz48oeZa0o6",
    "outputId": "8c6bcf39-8123-4530-91b6-6f754d170ee5"
   },
   "source": [
    "numWorkers = cpu_count() - 1\n",
    "with Pool(numWorkers) as pool:\n",
    "    clustersELCFS_topParams['ppis possible'] = \\\n",
    "          list(progressMonitor(pool.imap(\n",
    "              operations.generatePairs, clustersELCFS_topParams.cluster.to_list()),\n",
    "                               total=len(clustersELCFS_topParams.cluster.to_list())))"
   ],
   "outputs": [],
   "execution_count": null
  },
  {
   "cell_type": "code",
   "metadata": {
    "id": "G1GwZEuXcVQH"
   },
   "source": [
    "def getPPIs(s):\n",
    "  #return s.intersection(elcfs.pairsFrozen.to_list())\n",
    "  return s.intersection(probPreds_cellSpec_concat.pairsFrozen.to_list())\n",
    "\n",
    "numWorkers = cpu_count() - 1\n",
    "with Pool(numWorkers) as pool:\n",
    "    clustersELCFS_topParams['ppis'] = \\\n",
    "          list(progressMonitor(\n",
    "              pool.imap(getPPIs, clustersELCFS_topParams['ppis possible'].to_list()),\n",
    "              total=len(clustersELCFS_topParams['ppis possible'].to_list())))"
   ],
   "outputs": [],
   "execution_count": null
  },
  {
   "cell_type": "code",
   "metadata": {
    "id": "zhR9dYN6fVzd"
   },
   "source": [
    "clustersELCFS_topParams['ppis possible total'] = \\\n",
    "  [len(s) for s in clustersELCFS_topParams['ppis possible']]\n",
    "clustersELCFS_topParams['ppis total'] = \\\n",
    "  [len(s) for s in clustersELCFS_topParams['ppis']]"
   ],
   "outputs": [],
   "execution_count": null
  },
  {
   "cell_type": "code",
   "metadata": {
    "id": "Dgrk41v6fzpl"
   },
   "source": [
    "def getMin(s):\n",
    "  return elcfs.loc[elcfs.pairsFrozen.isin(s), 'prob'].min()\n",
    "\n",
    "def getMean(s):\n",
    "  return elcfs.loc[elcfs.pairsFrozen.isin(s), 'prob'].mean()\n",
    "\n",
    "numWorkers = cpu_count() - 1\n",
    "with Pool(numWorkers) as pool:\n",
    "    clustersELCFS_topParams['min Score'] = \\\n",
    "          list(progressMonitor(\n",
    "              pool.imap(getMin, clustersELCFS_topParams['ppis possible'].to_list()),\n",
    "              total=len(clustersELCFS_topParams['ppis possible'].to_list())))\n",
    "\n",
    "with Pool(numWorkers) as pool:\n",
    "    clustersELCFS_topParams['mean Score'] = \\\n",
    "          list(progressMonitor(\n",
    "              pool.imap(getMean, clustersELCFS_topParams['ppis possible'].to_list()),\n",
    "              total=len(clustersELCFS_topParams['ppis possible'].to_list())))"
   ],
   "outputs": [],
   "execution_count": null
  },
  {
   "cell_type": "code",
   "metadata": {
    "id": "38rYyd6DfWak"
   },
   "source": [
    "def diffRef(df, refCplxs, refName):\n",
    "  bestMatches = []\n",
    "  for cplx in df.cluster.to_list():\n",
    "    intersects = pd.DataFrame({'ref': refCplxs})\n",
    "    intersects['ji'] = \\\n",
    "      [len(cplx.intersection(ref))/len(ref)\n",
    "        if len(ref)!=0 else 0 for ref in refCplxs]\n",
    "    bestMatches.append(intersects.sort_values(\n",
    "        by=['ji'], ascending=False).iloc[0, 0])\n",
    "\n",
    "  symDiff = \\\n",
    "    [cplx.symmetric_difference(ref)\n",
    "    for cplx, ref in zip(df.cluster.to_list(), bestMatches)]\n",
    "\n",
    "  df[refName + 'Diff'] = [len(e) for e in symDiff]\n",
    "\n",
    "  df[refName + 'Diff_pred'] = \\\n",
    "    [len(e.intersection(cplx)) for e, cplx in zip(symDiff, df.cluster.to_list())]\n",
    "\n",
    "  df[refName + 'Diff_ref'] = \\\n",
    "    [len(e.intersection(cplx)) for e, cplx in zip(symDiff, bestMatches)]\n",
    "\n",
    "  return df"
   ],
   "outputs": [],
   "execution_count": null
  },
  {
   "cell_type": "code",
   "metadata": {
    "id": "uED3Pom3vqCI"
   },
   "source": [
    "clustersELCFS_topParams = \\\n",
    "  diffRef(clustersELCFS_topParams, accessCORUM.humanCplx_frozen, 'corum')"
   ],
   "outputs": [],
   "execution_count": null
  },
  {
   "cell_type": "code",
   "metadata": {
    "id": "n9zG9KMyWT2t"
   },
   "source": [
    "clustersELCFS_topParams = \\\n",
    "  diffRef(clustersELCFS_topParams, cmpStudies.stringCplxs, 'string')"
   ],
   "outputs": [],
   "execution_count": null
  },
  {
   "cell_type": "code",
   "metadata": {
    "id": "Cp8O4hCMw8-1"
   },
   "source": [
    "colsWanted = \\\n",
    "  ['cluster', 'prots', 'min Score', 'mean Score',\n",
    "   'CORUM', 'corumDiff', 'corumDiff_pred', 'corumDiff_ref',\n",
    "   'STRING', 'stringDiff', 'stringDiff_pred', 'stringDiff_ref']"
   ],
   "outputs": [],
   "execution_count": null
  },
  {
   "cell_type": "markdown",
   "metadata": {
    "id": "qgdz5Abq2CJh"
   },
   "source": [
    "**Fig S3 (real) CORUM Diff Histogram (Figure out how corumDiff was calculated)**\n",
    "\n",
    "put string and Corum together in two panels"
   ]
  },
  {
   "cell_type": "code",
   "metadata": {
    "colab": {
     "base_uri": "https://localhost:8080/",
     "height": 466
    },
    "executionInfo": {
     "elapsed": 744,
     "status": "ok",
     "timestamp": 1714825485657,
     "user": {
      "displayName": "Gary Wilkins",
      "userId": "01463028869337595546"
     },
     "user_tz": 240
    },
    "id": "FfIpei042JgP",
    "outputId": "8a9dfcc9-5575-4da2-f7ee-80701b9b8f91"
   },
   "source": [
    "sns.histplot(data=clustersELCFS_topParams.loc[clustersELCFS_topParams.prots<50],\n",
    "             x='corumDiff', stat='probability')"
   ],
   "outputs": [],
   "execution_count": null
  },
  {
   "cell_type": "markdown",
   "metadata": {
    "id": "dpdyaGoH2GrG"
   },
   "source": [
    "**STRING Diff Histogram**"
   ]
  },
  {
   "cell_type": "code",
   "metadata": {
    "colab": {
     "base_uri": "https://localhost:8080/",
     "height": 466
    },
    "executionInfo": {
     "elapsed": 810,
     "status": "ok",
     "timestamp": 1714825486461,
     "user": {
      "displayName": "Gary Wilkins",
      "userId": "01463028869337595546"
     },
     "user_tz": 240
    },
    "id": "BE7NSPKW22Ht",
    "outputId": "1083a954-7122-4352-972d-7e1524bc344a"
   },
   "source": [
    "sns.histplot(data=clustersELCFS_topParams.loc[clustersELCFS_topParams.prots<50],\n",
    "             x='stringDiff', stat='probability')"
   ],
   "outputs": [],
   "execution_count": null
  },
  {
   "cell_type": "markdown",
   "metadata": {
    "id": "gOX64VH9mABp"
   },
   "source": [
    "**Table 3b (Top Complexes by Min Score)**"
   ]
  },
  {
   "cell_type": "code",
   "metadata": {
    "colab": {
     "base_uri": "https://localhost:8080/",
     "height": 677
    },
    "executionInfo": {
     "elapsed": 10,
     "status": "ok",
     "timestamp": 1714825486461,
     "user": {
      "displayName": "Gary Wilkins",
      "userId": "01463028869337595546"
     },
     "user_tz": 240
    },
    "id": "4ApmupyUwi6N",
    "outputId": "841548b1-5295-4456-de7b-9eaa3225a87b"
   },
   "source": [
    "clustersELCFS_topParams.loc[\n",
    "    clustersELCFS_topParams.prots>2, colsWanted].sort_values(\n",
    "        by=['min Score'], ascending=False).iloc[:20]"
   ],
   "outputs": [],
   "execution_count": null
  },
  {
   "cell_type": "code",
   "metadata": {
    "colab": {
     "base_uri": "https://localhost:8080/",
     "height": 677
    },
    "executionInfo": {
     "elapsed": 9,
     "status": "ok",
     "timestamp": 1714825486461,
     "user": {
      "displayName": "Gary Wilkins",
      "userId": "01463028869337595546"
     },
     "user_tz": 240
    },
    "id": "n5cqgoIfkeEe",
    "outputId": "a285b1ac-f4c8-41f8-a1f9-8a459870a98f"
   },
   "source": [
    "clustersELCFS_topParams.loc[\n",
    "    ((clustersELCFS_topParams.prots>2) &\n",
    "     (clustersELCFS_topParams.prots<50)), colsWanted].sort_values(\n",
    "        by=['min Score'], ascending=False).iloc[:20]"
   ],
   "outputs": [],
   "execution_count": null
  },
  {
   "cell_type": "markdown",
   "metadata": {
    "id": "X8fZ4LrZy_oY"
   },
   "source": [
    "*(Top Complexes by Mean Score)*"
   ]
  },
  {
   "cell_type": "code",
   "metadata": {
    "colab": {
     "base_uri": "https://localhost:8080/",
     "height": 677
    },
    "executionInfo": {
     "elapsed": 8,
     "status": "ok",
     "timestamp": 1714825486461,
     "user": {
      "displayName": "Gary Wilkins",
      "userId": "01463028869337595546"
     },
     "user_tz": 240
    },
    "id": "m3NY6Cl0yzra",
    "outputId": "9ed57fb5-6adf-4abd-98b5-4c66cc9ef307"
   },
   "source": [
    "clustersELCFS_topParams.loc[\n",
    "    clustersELCFS_topParams.prots>2, colsWanted].sort_values(\n",
    "        by=['mean Score'], ascending=False).iloc[:20]"
   ],
   "outputs": [],
   "execution_count": null
  },
  {
   "cell_type": "code",
   "metadata": {
    "colab": {
     "base_uri": "https://localhost:8080/",
     "height": 677
    },
    "executionInfo": {
     "elapsed": 185,
     "status": "ok",
     "timestamp": 1714825486638,
     "user": {
      "displayName": "Gary Wilkins",
      "userId": "01463028869337595546"
     },
     "user_tz": 240
    },
    "id": "YYyFqTJRkxpV",
    "outputId": "98a5f8ff-7cf9-4986-e6df-e6513b8ee01c"
   },
   "source": [
    "clustersELCFS_topParams.loc[\n",
    "    ((clustersELCFS_topParams.prots>2) &\n",
    "     (clustersELCFS_topParams.prots<50)), colsWanted].sort_values(\n",
    "        by=['mean Score'], ascending=False).iloc[:20]"
   ],
   "outputs": [],
   "execution_count": null
  },
  {
   "cell_type": "code",
   "metadata": {
    "id": "6sNDyAsPiRSN"
   },
   "source": [
    "#Just list the top (sort mean score)\n",
    "#Just list the top (sort min score)\n",
    "#Want xor each of our complexes with that of CORUM (sort on XOR 'difference': # prots different between the two)\n",
    "#Of those prots (2 cols), which ones are in us and which ones are in CORUM e.g., how many of those did they have and how many of those did we have)"
   ],
   "outputs": [],
   "execution_count": null
  },
  {
   "cell_type": "markdown",
   "metadata": {
    "id": "V3Ca5OuwzG9f"
   },
   "source": [
    "**Table 3c (corumDiff, asc)**"
   ]
  },
  {
   "cell_type": "code",
   "metadata": {
    "colab": {
     "base_uri": "https://localhost:8080/",
     "height": 677
    },
    "executionInfo": {
     "elapsed": 17,
     "status": "ok",
     "timestamp": 1714825486638,
     "user": {
      "displayName": "Gary Wilkins",
      "userId": "01463028869337595546"
     },
     "user_tz": 240
    },
    "id": "4WojNJ6R0K3r",
    "outputId": "7ed07050-a160-40be-c829-005de9ae5aae"
   },
   "source": [
    "clustersELCFS_topParams.loc[\n",
    "    clustersELCFS_topParams.prots>2, colsWanted].sort_values(\n",
    "        by=['corumDiff'], ascending=True).iloc[:20]"
   ],
   "outputs": [],
   "execution_count": null
  },
  {
   "cell_type": "code",
   "metadata": {
    "colab": {
     "base_uri": "https://localhost:8080/",
     "height": 677
    },
    "executionInfo": {
     "elapsed": 17,
     "status": "ok",
     "timestamp": 1714825486639,
     "user": {
      "displayName": "Gary Wilkins",
      "userId": "01463028869337595546"
     },
     "user_tz": 240
    },
    "id": "TnSzZ0wrkEkH",
    "outputId": "46c356bd-d897-4b2b-c46b-519f7d0dc35d"
   },
   "source": [
    "clustersELCFS_topParams.loc[\n",
    "    ((clustersELCFS_topParams.prots>2) &\n",
    "     (clustersELCFS_topParams.prots<50)), colsWanted].sort_values(\n",
    "        by=['corumDiff'], ascending=True).iloc[:20]"
   ],
   "outputs": [],
   "execution_count": null
  },
  {
   "cell_type": "markdown",
   "metadata": {
    "id": "wMXggaA00K3p"
   },
   "source": [
    "**Table 3d (corumDiff, desc)**"
   ]
  },
  {
   "cell_type": "code",
   "metadata": {
    "colab": {
     "base_uri": "https://localhost:8080/",
     "height": 677
    },
    "executionInfo": {
     "elapsed": 8,
     "status": "ok",
     "timestamp": 1714825486838,
     "user": {
      "displayName": "Gary Wilkins",
      "userId": "01463028869337595546"
     },
     "user_tz": 240
    },
    "id": "j6n2ktyClZgW",
    "outputId": "e902294e-5dee-4bcc-a532-49af422934b0"
   },
   "source": [
    "clustersELCFS_topParams.loc[\n",
    "    clustersELCFS_topParams.prots>2, colsWanted].sort_values(\n",
    "        by=['corumDiff'], ascending=False).iloc[:20]"
   ],
   "outputs": [],
   "execution_count": null
  },
  {
   "cell_type": "code",
   "metadata": {
    "colab": {
     "base_uri": "https://localhost:8080/",
     "height": 677
    },
    "executionInfo": {
     "elapsed": 7,
     "status": "ok",
     "timestamp": 1714825486838,
     "user": {
      "displayName": "Gary Wilkins",
      "userId": "01463028869337595546"
     },
     "user_tz": 240
    },
    "id": "fffWRA-AzG9g",
    "outputId": "350afdfc-5bb3-47e7-b013-461439d0b5ab"
   },
   "source": [
    "clustersELCFS_topParams.loc[\n",
    "    ((clustersELCFS_topParams.prots>2) &\n",
    "     (clustersELCFS_topParams.prots<50)), colsWanted].sort_values(\n",
    "        by=['corumDiff'], ascending=False).iloc[:20]"
   ],
   "outputs": [],
   "execution_count": null
  },
  {
   "cell_type": "code",
   "source": [
    "#targetDir = workDir + 'manuscriptGraphics/'\n",
    "#shutil.copytree('./manuscriptGraphics', workDir + 'manuscriptGraphics')"
   ],
   "metadata": {
    "colab": {
     "base_uri": "https://localhost:8080/",
     "height": 53
    },
    "id": "OeEdNGMi8SS1",
    "executionInfo": {
     "status": "ok",
     "timestamp": 1720536483472,
     "user_tz": 240,
     "elapsed": 369,
     "user": {
      "displayName": "Gary Wilkins",
      "userId": "01463028869337595546"
     }
    },
    "outputId": "67828d06-f58b-4449-fc73-17c67a158796"
   },
   "outputs": [],
   "execution_count": null
  },
  {
   "cell_type": "markdown",
   "metadata": {
    "id": "pw3wMYJ6034j"
   },
   "source": [
    "**Table 3e (stringDiff, asc)**"
   ]
  },
  {
   "cell_type": "code",
   "metadata": {
    "colab": {
     "base_uri": "https://localhost:8080/",
     "height": 677
    },
    "executionInfo": {
     "elapsed": 7,
     "status": "ok",
     "timestamp": 1714825486838,
     "user": {
      "displayName": "Gary Wilkins",
      "userId": "01463028869337595546"
     },
     "user_tz": 240
    },
    "id": "2F_tpPyO034k",
    "outputId": "b851b5a5-9a51-4356-8e31-e40e93c6e3bb"
   },
   "source": [
    "clustersELCFS_topParams.loc[\n",
    "    clustersELCFS_topParams.prots>2, colsWanted].sort_values(\n",
    "        by=['stringDiff'], ascending=True).iloc[:20]"
   ],
   "outputs": [],
   "execution_count": null
  },
  {
   "cell_type": "code",
   "metadata": {
    "colab": {
     "base_uri": "https://localhost:8080/",
     "height": 677
    },
    "executionInfo": {
     "elapsed": 219,
     "status": "ok",
     "timestamp": 1714825487051,
     "user": {
      "displayName": "Gary Wilkins",
      "userId": "01463028869337595546"
     },
     "user_tz": 240
    },
    "id": "u5J7aU6llpSq",
    "outputId": "3278958f-2dc3-4b63-fd83-f9dcbdc3e944"
   },
   "source": [
    "clustersELCFS_topParams.loc[\n",
    "    ((clustersELCFS_topParams.prots>2) &\n",
    "     (clustersELCFS_topParams.prots<50)), colsWanted].sort_values(\n",
    "        by=['stringDiff'], ascending=True).iloc[:20]"
   ],
   "outputs": [],
   "execution_count": null
  },
  {
   "cell_type": "markdown",
   "metadata": {
    "id": "RDeCQiZu1cPW"
   },
   "source": [
    "**Table 3f (stringDiff, desc)**"
   ]
  },
  {
   "cell_type": "code",
   "metadata": {
    "colab": {
     "base_uri": "https://localhost:8080/",
     "height": 677
    },
    "executionInfo": {
     "elapsed": 7,
     "status": "ok",
     "timestamp": 1714825487051,
     "user": {
      "displayName": "Gary Wilkins",
      "userId": "01463028869337595546"
     },
     "user_tz": 240
    },
    "id": "MgonQiohl0g9",
    "outputId": "4425d669-e31f-4ad8-ff52-78090626dbe1"
   },
   "source": [
    "clustersELCFS_topParams.loc[\n",
    "    clustersELCFS_topParams.prots>2, colsWanted].sort_values(\n",
    "        by=['stringDiff'], ascending=False).iloc[:20]"
   ],
   "outputs": [],
   "execution_count": null
  },
  {
   "cell_type": "code",
   "metadata": {
    "colab": {
     "base_uri": "https://localhost:8080/",
     "height": 677
    },
    "executionInfo": {
     "elapsed": 6,
     "status": "ok",
     "timestamp": 1714825487051,
     "user": {
      "displayName": "Gary Wilkins",
      "userId": "01463028869337595546"
     },
     "user_tz": 240
    },
    "id": "tYJDeQpN1cPX",
    "outputId": "d652e7a8-55c1-4bb4-a69f-a3218464831d"
   },
   "source": [
    "clustersELCFS_topParams.loc[\n",
    "    ((clustersELCFS_topParams.prots>2) &\n",
    "     (clustersELCFS_topParams.prots<50)), colsWanted].sort_values(\n",
    "        by=['stringDiff'], ascending=False).iloc[:20]"
   ],
   "outputs": [],
   "execution_count": null
  },
  {
   "cell_type": "code",
   "metadata": {
    "colab": {
     "base_uri": "https://localhost:8080/"
    },
    "executionInfo": {
     "elapsed": 10050,
     "status": "ok",
     "timestamp": 1714825497095,
     "user": {
      "displayName": "Gary Wilkins",
      "userId": "01463028869337595546"
     },
     "user_tz": 240
    },
    "id": "Pw01LQbMmHNQ",
    "outputId": "4e4e785a-c29f-4f1e-9782-6b945b1ad25c"
   },
   "source": [
    "#map GeneIDs to UniProtKB protein IDs\n",
    "#Note: GeneIDs with non-unique UniProtKB mappings will be depicted as\n",
    "#parentheticals enclosing all its matches\n",
    "clustersELCFS_topParams_prots = \\\n",
    "  set().union(*clustersELCFS_topParams.cluster.to_list())\n",
    "idMapping = \\\n",
    "  operations.mapProts(clustersELCFS_topParams_prots, 'GeneID', 'UniProtKB')"
   ],
   "outputs": [],
   "execution_count": null
  },
  {
   "cell_type": "code",
   "metadata": {
    "id": "At-jil0_m9ti"
   },
   "source": [
    "idMapping = dict(zip(idMapping.GeneID.to_list(), idMapping.UniProtKB.to_list()))\n",
    "clusters2List_mapped = \\\n",
    "  [','.join([idMapping[p] for p in clust])\n",
    "  for clust in clustersELCFS_topParams.cluster.to_list()]\n",
    "clustersELCFS_topParams.insert(1, 'UniProtKB Mapping', clusters2List_mapped)"
   ],
   "outputs": [],
   "execution_count": null
  },
  {
   "cell_type": "code",
   "metadata": {
    "colab": {
     "base_uri": "https://localhost:8080/",
     "height": 1000
    },
    "executionInfo": {
     "elapsed": 20,
     "status": "ok",
     "timestamp": 1714825497096,
     "user": {
      "displayName": "Gary Wilkins",
      "userId": "01463028869337595546"
     },
     "user_tz": 240
    },
    "id": "Fl9_IlzYod9z",
    "outputId": "07b07f3d-a124-41aa-ed4e-59af1c08b0a7"
   },
   "source": [
    "clustersELCFS_topParams.loc[\n",
    "    ((clustersELCFS_topParams.prots>2) &\n",
    "     (clustersELCFS_topParams.prots<50)),\n",
    "      ['cluster', 'UniProtKB Mapping', 'prots',\n",
    "       'min Score', 'mean Score',\n",
    "       'CORUM', 'corumDiff', 'corumDiff_pred', 'corumDiff_ref',\n",
    "       'STRING', 'stringDiff', 'stringDiff_pred', 'stringDiff_ref']\n",
    "    ].sort_values(by=['stringDiff'], ascending=False).iloc[:20]"
   ],
   "outputs": [],
   "execution_count": null
  },
  {
   "cell_type": "code",
   "source": [
    "clustersELCFS_topParams_a.to_csv('./predictedClustersDF.tsv', sep='\\t')"
   ],
   "metadata": {
    "id": "yDzLkFwlEkR_"
   },
   "outputs": [],
   "execution_count": null
  },
  {
   "cell_type": "code",
   "metadata": {
    "colab": {
     "base_uri": "https://localhost:8080/",
     "height": 35
    },
    "executionInfo": {
     "elapsed": 18,
     "status": "ok",
     "timestamp": 1714825497096,
     "user": {
      "displayName": "Gary Wilkins",
      "userId": "01463028869337595546"
     },
     "user_tz": 240
    },
    "id": "l46Hg3PeaPNa",
    "outputId": "a615c391-70a4-489a-bfec-8c661a567ad2"
   },
   "source": [
    "'''\n",
    "pickle.dump(clustersELCFS_topParams, open(\n",
    "    workDir + 'assemblyData/clustersELCFS_topParams.pkl', 'wb'))\n",
    "'''"
   ],
   "outputs": [],
   "execution_count": null
  },
  {
   "cell_type": "markdown",
   "metadata": {
    "id": "law-hDkOW00Y"
   },
   "source": [
    "###**Figure 5. Scatterplot of weighted F1-scores between CORUM 11.28.22 and STRING v12.**\n",
    "\n",
    "> **Keep working on a better caption**\n",
    "\n",
    "> **Get rid of legend frames to be consistent**"
   ]
  },
  {
   "cell_type": "code",
   "metadata": {
    "id": "lLy0uc_jiJ_I"
   },
   "source": [
    "selectCols_clusterPredictions_analysesData = \\\n",
    "  ['study',\n",
    "   'clusterONE_clusters_weighted_F1Score_corumComplete',\n",
    "   'clusterONE-STRING F1',\n",
    "   'total clusterONE clusters_x',\n",
    "   'clusterONE+MCL_clusters_weighted_F1Score_corumComplete',\n",
    "   'clusterONE+MCL-STRING F1',\n",
    "   'total clusterONE+MCL clusters_x']\n",
    "\n",
    "clusterPredictions_analysesData_rshp = \\\n",
    "  clusterPredictions_analysesData.loc[\n",
    "      :, selectCols_clusterPredictions_analysesData].copy()\n",
    "clusterPredictions_analysesData_rshp.rename(\n",
    "    columns={'study': 'Source',\n",
    "             'clusterONE_clusters_weighted_F1Score_corumComplete':\n",
    "             'clusterONE F1 (CORUM)',\n",
    "             'clusterONE+MCL_clusters_weighted_F1Score_corumComplete':\n",
    "             'clusterONE+MCL F1 (CORUM)',\n",
    "             'clusterONE-STRING F1': 'clusterONE F1 (STRING)',\n",
    "             'clusterONE+MCL-STRING F1': 'clusterONE+MCL F1 (STRING)',\n",
    "             'total clusterONE clusters_x': 'clusterONE predicted clusters',\n",
    "             'total clusterONE+MCL clusters_x':\n",
    "             'clusterONE+MCL predicted clusters'},\n",
    "    inplace=True)"
   ],
   "outputs": [],
   "execution_count": null
  },
  {
   "cell_type": "code",
   "source": [
    "clusterPredictions_analysesData_rshp.insert(3, 'optimal', 'False')\n",
    "clusterPredictions_analysesData_rshp1 = \\\n",
    "  clusterPredictions_analysesData_rshp.copy()\n",
    "clusterPredictions_analysesData_rshp2 = \\\n",
    "  clusterPredictions_analysesData_rshp.copy()\n",
    "\n",
    "clusterPredictions_analysesData_rshp1.loc[\n",
    "    clusterPredictions_analysesData_rshp1.index.isin(\n",
    "        topParams.loc[~topParams['Optimal parameter'].str.contains('MCL')].index),\n",
    "    'optimal'] = 'True'\n",
    "\n",
    "clusterPredictions_analysesData_rshp2.loc[\n",
    "    clusterPredictions_analysesData_rshp2.index.isin(\n",
    "        topParams.loc[topParams['Optimal parameter'].str.contains('MCL')].index),\n",
    "    'optimal'] = 'True'"
   ],
   "metadata": {
    "id": "pQbSn0JER75B"
   },
   "outputs": [],
   "execution_count": null
  },
  {
   "cell_type": "code",
   "source": [
    "f, axs = plt.subplots(1, 2, figsize=(15, 7))\n",
    "\n",
    "##\n",
    "##A: ClusterONE Assembly\n",
    "sns.scatterplot(\n",
    "        clusterPredictions_analysesData_rshp1.sort_values(\n",
    "            'optimal').rename(\n",
    "                columns={'clusterONE predicted clusters': 'Size'}),\n",
    "        x='clusterONE F1 (CORUM)', y='clusterONE F1 (STRING)',\n",
    "        style='Source', size='Size', hue='optimal', ax=axs[0])\n",
    "\n",
    "hand, labl = axs[0].get_legend_handles_labels()\n",
    "handout, lablout = [], []\n",
    "for h, l in zip(hand, labl):\n",
    "  if l in ['True', 'False', 'optimal']:\n",
    "    pass\n",
    "  else:\n",
    "    handout.append(h)\n",
    "    lablout.append(l)\n",
    "lablout = lablout[-3:] + lablout[:-3]\n",
    "handout = handout[-3:] + handout[:-3]\n",
    "axs[0].legend(handout, lablout, loc='lower right')\n",
    "axs[0].set_title('A', loc='left', fontsize=10, fontweight='bold')\n",
    "\n",
    "##\n",
    "##B: ClusterONE+MCL Assembly\n",
    "sns.scatterplot(\n",
    "        clusterPredictions_analysesData_rshp2.sort_values(\n",
    "            'optimal').rename(\n",
    "            columns={'clusterONE+MCL predicted clusters': 'Size'}),\n",
    "        x='clusterONE+MCL F1 (CORUM)',\n",
    "        y='clusterONE+MCL F1 (STRING)',\n",
    "        style='Source', size='Size', hue='optimal', ax=axs[1])\n",
    "\n",
    "hand, labl = axs[1].get_legend_handles_labels()\n",
    "handout, lablout = [], []\n",
    "for h, l in zip(hand, labl):\n",
    "  if l in ['True', 'False', 'optimal']:\n",
    "    pass\n",
    "  else:\n",
    "    handout.append(h)\n",
    "    lablout.append(l)\n",
    "lablout = lablout[-3:] + lablout[:-3]\n",
    "handout = handout[-3:] + handout[:-3]\n",
    "axs[1].legend(handout, lablout, loc='lower right')\n",
    "axs[1].set_title('B', loc='left', fontsize=10, fontweight='bold')\n",
    "\n",
    "plt.savefig(graphicsDir + 'figure_4.svg')\n",
    "plt.savefig(graphicsDir + 'figure_4.png', dpi=600)"
   ],
   "metadata": {
    "colab": {
     "base_uri": "https://localhost:8080/",
     "height": 442
    },
    "id": "q1NmmTnOPIZX",
    "executionInfo": {
     "status": "ok",
     "timestamp": 1722429836093,
     "user_tz": 240,
     "elapsed": 3664,
     "user": {
      "displayName": "Gary Wilkins",
      "userId": "01463028869337595546"
     }
    },
    "outputId": "19501dae-bedf-472b-96da-455851ae2763"
   },
   "outputs": [],
   "execution_count": null
  },
  {
   "cell_type": "markdown",
   "metadata": {
    "id": "zQZTTT_I_d0U"
   },
   "source": [
    "###**High-confidence, cell-line specific complex predictions**\n",
    "\n",
    "***for cell line-specific scoring of complexes***\n",
    "\n",
    "1) Make scatterplot of complex scores for pairs of cell lines (3 panels)...✔️\n",
    "\n",
    "2) Make table of common, pairwise, and unique complex predictions using .28 threshold using the min score\n",
    "\n",
    "Data structure should contain all complexes, regardless of cell-line,\n",
    "Each complex = row\n",
    "Every column is the confidence/score for a particular cell-line (or nonspecific)\n",
    "Get difference between confidence/score for each pair of cell-lines -- more columns (A-B, B-C, C-A)\n",
    "Add col for max of those diffs and sort\n",
    "\n",
    "> Similar data structure to [Table 4](https://). Will need to report F1-optimal threshold (used by cell-line)\n",
    "\n",
    ">Count\n",
    "\n",
    "Prior notes:\n",
    ">First thing: getting high confidence, cell-line-specific complex predictions\n",
    "\n",
    ">Second thing: identifying any supporting evidence\n",
    "\n",
    ">Take nonspecific complex predictions and score each of them by the product of\n",
    "\n",
    "> Pick the one best param combination from each of huMAP and ELCFS.\n",
    "\n",
    "\n",
    "1.   Score each complex by the product of the cell-line-specific scores for their constituents AND by the average of the cell-line-specific scores for their\n",
    "constituents\n",
    "\n",
    "2.   Rank by the largest difference(s) (will give us the set of proteins that we need to purchase antibodies for)\n"
   ]
  },
  {
   "cell_type": "markdown",
   "metadata": {
    "id": "QlEqTS2s7oMn"
   },
   "source": [
    "*   Top 10 ranked by cell-line difference\n",
    "*   top 10 ranked by product of cell-line difference and confidence\n",
    "*   top 10 ranked by product of cell-line difference and size\n",
    "\n",
    "**note, make sure it's at the bottom of the complexes eval helper notebook**"
   ]
  },
  {
   "cell_type": "markdown",
   "metadata": {
    "id": "j9QYrvIr1ANa"
   },
   "source": [
    "####**Table 4**"
   ]
  },
  {
   "cell_type": "code",
   "metadata": {
    "id": "h1LGgoJXsous"
   },
   "source": [
    "def getMin(s):\n",
    "  return elcfs.loc[elcfs.pairsFrozen.isin(s), 'probsPos_h322'].min()\n",
    "\n",
    "def getMean(s):\n",
    "  return elcfs.loc[elcfs.pairsFrozen.isin(s), 'probsPos_h322'].mean()\n",
    "\n",
    "numWorkers = cpu_count() - 1\n",
    "with Pool(numWorkers) as pool:\n",
    "    clustersELCFS_topParams['min Score H322'] = \\\n",
    "          list(progressMonitor(\n",
    "              pool.imap(getMin, clustersELCFS_topParams['ppis possible'].to_list()),\n",
    "              total=len(clustersELCFS_topParams['ppis possible'].to_list())))\n",
    "\n",
    "with Pool(numWorkers) as pool:\n",
    "    clustersELCFS_topParams['mean Score H322'] = \\\n",
    "          list(progressMonitor(\n",
    "              pool.imap(getMean, clustersELCFS_topParams['ppis possible'].to_list()),\n",
    "              total=len(clustersELCFS_topParams['ppis possible'].to_list())))"
   ],
   "outputs": [],
   "execution_count": null
  },
  {
   "cell_type": "code",
   "metadata": {
    "id": "YdVKkuw0sout"
   },
   "source": [
    "def getMin(s):\n",
    "  return elcfs.loc[elcfs.pairsFrozen.isin(s), 'probsPos_mcf7'].min()\n",
    "\n",
    "def getMean(s):\n",
    "  return elcfs.loc[elcfs.pairsFrozen.isin(s), 'probsPos_mcf7'].mean()\n",
    "\n",
    "numWorkers = cpu_count() - 1\n",
    "with Pool(numWorkers) as pool:\n",
    "    clustersELCFS_topParams['min Score MCF7'] = \\\n",
    "          list(progressMonitor(\n",
    "              pool.imap(getMin, clustersELCFS_topParams['ppis possible'].to_list()),\n",
    "              total=len(clustersELCFS_topParams['ppis possible'].to_list())))\n",
    "\n",
    "with Pool(numWorkers) as pool:\n",
    "    clustersELCFS_topParams['mean Score MCF7'] = \\\n",
    "          list(progressMonitor(\n",
    "              pool.imap(getMean, clustersELCFS_topParams['ppis possible'].to_list()),\n",
    "              total=len(clustersELCFS_topParams['ppis possible'].to_list())))"
   ],
   "outputs": [],
   "execution_count": null
  },
  {
   "cell_type": "code",
   "metadata": {
    "colab": {
     "base_uri": "https://localhost:8080/"
    },
    "executionInfo": {
     "elapsed": 84884,
     "status": "ok",
     "timestamp": 1714826101898,
     "user": {
      "displayName": "Gary Wilkins",
      "userId": "01463028869337595546"
     },
     "user_tz": 240
    },
    "id": "QZeJI4h_sout",
    "outputId": "8841618a-f985-4b07-8697-9a2a330d0fe8"
   },
   "source": [
    "def getMin(s):\n",
    "  return elcfs.loc[elcfs.pairsFrozen.isin(s), 'probsPos_u251'].min()\n",
    "\n",
    "def getMean(s):\n",
    "  return elcfs.loc[elcfs.pairsFrozen.isin(s), 'probsPos_u251'].mean()\n",
    "\n",
    "numWorkers = cpu_count() - 1\n",
    "with Pool(numWorkers) as pool:\n",
    "    clustersELCFS_topParams['min Score U251'] = \\\n",
    "          list(progressMonitor(\n",
    "              pool.imap(getMin, clustersELCFS_topParams['ppis possible'].to_list()),\n",
    "              total=len(clustersELCFS_topParams['ppis possible'].to_list())))\n",
    "\n",
    "with Pool(numWorkers) as pool:\n",
    "    clustersELCFS_topParams['mean Score U251'] = \\\n",
    "          list(progressMonitor(\n",
    "              pool.imap(getMean, clustersELCFS_topParams['ppis possible'].to_list()),\n",
    "              total=len(clustersELCFS_topParams['ppis possible'].to_list())))"
   ],
   "outputs": [],
   "execution_count": null
  },
  {
   "cell_type": "code",
   "metadata": {
    "id": "-x5g9Wmgqtsj"
   },
   "source": [
    "probDiff_cols = \\\n",
    "  ['H322 - MCF7 mean', 'H322 - U251 mean', 'MCF7 - U251 mean',\n",
    "   'H322 - MCF7 min', 'H322 - U251 min', 'MCF7 - U251 min']\n",
    "\n",
    "colsWanted = \\\n",
    "  ['cluster', 'UniProtKB Mapping', 'prots',\n",
    "   'corumDiff', 'corumDiff_pred', 'corumDiff_ref',\n",
    "   'stringDiff', 'stringDiff_pred', 'stringDiff_ref',\n",
    "   'min Score', 'mean Score', 'maxScore_min', 'maxScore_mean',\n",
    "   'min Score H322', 'min Score MCF7', 'min Score U251',\n",
    "   'mean Score H322', 'mean Score MCF7', 'mean Score U251']"
   ],
   "outputs": [],
   "execution_count": null
  },
  {
   "cell_type": "code",
   "metadata": {
    "colab": {
     "base_uri": "https://localhost:8080/"
    },
    "executionInfo": {
     "elapsed": 18,
     "status": "ok",
     "timestamp": 1714826101899,
     "user": {
      "displayName": "Gary Wilkins",
      "userId": "01463028869337595546"
     },
     "user_tz": 240
    },
    "id": "pQcYzAPiqtsk",
    "outputId": "fd45890c-52a2-48c7-fd37-57d8fda745ea"
   },
   "source": [
    "for col in probDiff_cols:\n",
    "  cellType1 = col.split(' ')[0]\n",
    "  cellType2 = col.split(' ')[2]\n",
    "  scoreType = col.split(' ')[-1] + ' Score'\n",
    "  print(cellType1, cellType2, scoreType)\n",
    "\n",
    "  clustersELCFS_topParams[col] = \\\n",
    "    abs(clustersELCFS_topParams[scoreType + ' ' + cellType1] - \\\n",
    "      clustersELCFS_topParams[scoreType + ' ' + cellType2])\n",
    "\n",
    "maxScore_min = \\\n",
    "  clustersELCFS_topParams.loc[:,\n",
    "      ['H322 - MCF7 min', 'H322 - U251 min', 'MCF7 - U251 min']].max(axis=1)\n",
    "clustersELCFS_topParams['maxScore_min'] = maxScore_min\n",
    "\n",
    "maxScore_mean = \\\n",
    "  clustersELCFS_topParams.loc[:,\n",
    "      ['H322 - MCF7 mean', 'H322 - U251 mean', 'MCF7 - U251 mean']].max(axis=1)\n",
    "clustersELCFS_topParams['maxScore_mean'] = maxScore_mean"
   ],
   "outputs": [],
   "execution_count": null
  },
  {
   "cell_type": "markdown",
   "metadata": {
    "id": "bgpFuFZhxSbr"
   },
   "source": [
    "**Top cell line-specific minimum probability-difference complexes**"
   ]
  },
  {
   "cell_type": "code",
   "metadata": {
    "colab": {
     "base_uri": "https://localhost:8080/",
     "height": 1000
    },
    "executionInfo": {
     "elapsed": 125,
     "status": "ok",
     "timestamp": 1717497670980,
     "user": {
      "displayName": "Gary Wilkins",
      "userId": "01463028869337595546"
     },
     "user_tz": 240
    },
    "id": "axYqOhvGvw7T",
    "outputId": "644c9a6e-8b4f-4818-9709-6bef4b1704d5"
   },
   "source": [
    "clustersELCFS_topParams.loc[\n",
    "    clustersELCFS_topParams.prots>2, colsWanted].sort_values(\n",
    "        by=['maxScore_min'], ascending=False).iloc[:20]"
   ],
   "outputs": [],
   "execution_count": null
  },
  {
   "cell_type": "markdown",
   "metadata": {
    "id": "l_X9CJ4nxsA_"
   },
   "source": [
    "**Bottom cell line-specific minimum probability-difference complexes**"
   ]
  },
  {
   "cell_type": "code",
   "metadata": {
    "colab": {
     "base_uri": "https://localhost:8080/",
     "height": 1000
    },
    "executionInfo": {
     "elapsed": 138,
     "status": "ok",
     "timestamp": 1717497681341,
     "user": {
      "displayName": "Gary Wilkins",
      "userId": "01463028869337595546"
     },
     "user_tz": 240
    },
    "id": "xrLIdAwIwNz-",
    "outputId": "684d8974-5a86-45bc-b650-3bd06f4bd834"
   },
   "source": [
    "clustersELCFS_topParams.loc[\n",
    "    clustersELCFS_topParams.prots>2, colsWanted].sort_values(\n",
    "        by=['maxScore_min'], ascending=True).iloc[:20]"
   ],
   "outputs": [],
   "execution_count": null
  },
  {
   "cell_type": "markdown",
   "metadata": {
    "id": "gwaRybWUx0Rd"
   },
   "source": [
    "**Top cell line-specific mean probability-difference complexes**"
   ]
  },
  {
   "cell_type": "code",
   "metadata": {
    "colab": {
     "base_uri": "https://localhost:8080/",
     "height": 1000
    },
    "executionInfo": {
     "elapsed": 122,
     "status": "ok",
     "timestamp": 1717497687958,
     "user": {
      "displayName": "Gary Wilkins",
      "userId": "01463028869337595546"
     },
     "user_tz": 240
    },
    "id": "8oyJQ9Z6w5W9",
    "outputId": "113220a6-fe8f-4c76-afc2-d14406239b62"
   },
   "source": [
    "clustersELCFS_topParams.loc[\n",
    "    clustersELCFS_topParams.prots>2, colsWanted].sort_values(\n",
    "        by=['maxScore_mean'], ascending=False).iloc[:20]"
   ],
   "outputs": [],
   "execution_count": null
  },
  {
   "cell_type": "markdown",
   "metadata": {
    "id": "uKksS0rix0Re"
   },
   "source": [
    "**Bottom cell line-specific mean probability-difference complexes**"
   ]
  },
  {
   "cell_type": "code",
   "metadata": {
    "colab": {
     "base_uri": "https://localhost:8080/",
     "height": 1000
    },
    "executionInfo": {
     "elapsed": 139,
     "status": "ok",
     "timestamp": 1717497691502,
     "user": {
      "displayName": "Gary Wilkins",
      "userId": "01463028869337595546"
     },
     "user_tz": 240
    },
    "id": "OZinV_Giw-vh",
    "outputId": "969679db-6755-4244-edc9-3371c1d4d48e"
   },
   "source": [
    "clustersELCFS_topParams.loc[\n",
    "    clustersELCFS_topParams.prots>2, colsWanted].sort_values(\n",
    "        by=['maxScore_mean'], ascending=True).iloc[:20]"
   ],
   "outputs": [],
   "execution_count": null
  },
  {
   "cell_type": "markdown",
   "metadata": {
    "id": "ips6j34G1SN5"
   },
   "source": [
    "####**Figure 6** (need a, b, c panel names)"
   ]
  },
  {
   "cell_type": "code",
   "metadata": {
    "colab": {
     "base_uri": "https://localhost:8080/",
     "height": 494
    },
    "executionInfo": {
     "elapsed": 1748,
     "status": "ok",
     "timestamp": 1717497700371,
     "user": {
      "displayName": "Gary Wilkins",
      "userId": "01463028869337595546"
     },
     "user_tz": 240
    },
    "id": "AiCOUqBdCWFs",
    "outputId": "fcd215ac-a03e-44c8-faf1-bd1a3bd939c4"
   },
   "source": [
    "# @title\n",
    "f, axs = plt.subplots(1, 3, figsize=(15, 7), tight_layout=True)\n",
    "\n",
    "sns.scatterplot(\n",
    "        clustersELCFS_topParams.rename(\n",
    "            columns={'min Score H322': 'H322 min',\n",
    "                     'min Score MCF7': 'MCF7 min'}),\n",
    "        x='H322 min', y='MCF7 min', size='prots', ax=axs[0])\n",
    "axs[0].legend()\n",
    "axs[0].set_title('H322 v MCF7', fontsize=10, fontweight='bold')\n",
    "\n",
    "sns.scatterplot(\n",
    "    clustersELCFS_topParams.rename(\n",
    "        columns={'min Score H322': 'H322 min',\n",
    "                 'min Score U251': 'U251 min'}),\n",
    "    x='H322 min', y='U251 min', size='prots', ax=axs[1])\n",
    "axs[1].legend()\n",
    "axs[1].set_title('H322 v U251', fontsize=10, fontweight='bold')\n",
    "\n",
    "sns.scatterplot(\n",
    "    clustersELCFS_topParams.rename(\n",
    "        columns={'min Score MCF7': 'MCF7 min',\n",
    "                 'min Score U251': 'U251 min'}),\n",
    "    x='MCF7 min', y='U251 min', size='prots', ax=axs[2])\n",
    "axs[2].legend()\n",
    "axs[2].set_title('MCF7 v U251', fontsize=10, fontweight='bold')"
   ],
   "outputs": [],
   "execution_count": null
  },
  {
   "cell_type": "code",
   "metadata": {
    "colab": {
     "base_uri": "https://localhost:8080/",
     "height": 494
    },
    "executionInfo": {
     "elapsed": 1394,
     "status": "ok",
     "timestamp": 1717497713532,
     "user": {
      "displayName": "Gary Wilkins",
      "userId": "01463028869337595546"
     },
     "user_tz": 240
    },
    "id": "-psb-3F60Rc5",
    "outputId": "bc21dea5-4f35-4f69-e35f-3fd9ef3bdb9d"
   },
   "source": [
    "f, axs = plt.subplots(1, 3, figsize=(15, 7), tight_layout=True)\n",
    "\n",
    "sns.scatterplot(\n",
    "        clustersELCFS_topParams.rename(\n",
    "            columns={'mean Score H322': 'H322 mean',\n",
    "                     'mean Score MCF7': 'MCF7 mean'}),\n",
    "        x='H322 mean', y='MCF7 mean', size='prots', ax=axs[0])\n",
    "axs[0].legend()\n",
    "axs[0].set_title('H322 v MCF7', fontsize=10, fontweight='bold')\n",
    "\n",
    "sns.scatterplot(\n",
    "    clustersELCFS_topParams.rename(\n",
    "        columns={'mean Score H322': 'H322 mean',\n",
    "                 'mean Score U251': 'U251 mean'}),\n",
    "    x='H322 mean', y='U251 mean', size='prots', ax=axs[1])\n",
    "axs[1].legend()\n",
    "axs[1].set_title('H322 v U251', fontsize=10, fontweight='bold')\n",
    "\n",
    "sns.scatterplot(\n",
    "    clustersELCFS_topParams.rename(\n",
    "        columns={'mean Score MCF7': 'MCF7 mean',\n",
    "                 'mean Score U251': 'U251 mean'}),\n",
    "    x='MCF7 mean', y='U251 mean', size='prots', ax=axs[2])\n",
    "axs[2].legend()\n",
    "axs[2].set_title('MCF7 v U251', fontsize=10, fontweight='bold')"
   ],
   "outputs": [],
   "execution_count": null
  },
  {
   "cell_type": "markdown",
   "metadata": {
    "id": "KlYfq51a1ia1"
   },
   "source": [
    "####**Table S2.  Summary of differences between cell-line-specific complex assembly predictions.**\n",
    "\n",
    "> *Keep working on a better caption*\n",
    "\n",
    ">> *Should be able to pull out high-confidence predictions*"
   ]
  },
  {
   "cell_type": "code",
   "metadata": {
    "id": "3F9LF5BEgM7A"
   },
   "source": [
    "cplxPreds_cellLine_meanScore_diff = \\\n",
    "  pd.DataFrame({'cell line': sorted(list(cellLines))})\n",
    "cplxPreds_cellLine_minScore_diff = \\\n",
    "  pd.DataFrame({'cell line': sorted(list(cellLines))})"
   ],
   "outputs": [],
   "execution_count": null
  },
  {
   "cell_type": "code",
   "source": [
    "minScore_min = clustersELCFS_topParams['min Score'].min()\n",
    "minScore_mean = clustersELCFS_topParams['min Score'].mean()\n",
    "meanScore_min = clustersELCFS_topParams['min Score'].mean()\n",
    "meanScore_mean = clustersELCFS_topParams['mean Score'].mean()\n",
    "\n",
    "print('minScore mean: {0}'.format(minScore_mean))\n",
    "print('meanScore mean: {0}'.format(meanScore_mean))\n",
    "print('meanScore min: {0}'.format(meanScore_min))"
   ],
   "metadata": {
    "colab": {
     "base_uri": "https://localhost:8080/"
    },
    "id": "TY_iznVZ2WkG",
    "executionInfo": {
     "status": "ok",
     "timestamp": 1717524137953,
     "user_tz": 240,
     "elapsed": 3,
     "user": {
      "displayName": "Gary Wilkins",
      "userId": "01463028869337595546"
     }
    },
    "outputId": "8632cad8-e259-425f-eab5-701a95f34b75"
   },
   "outputs": [],
   "execution_count": null
  },
  {
   "cell_type": "code",
   "source": [
    "minProts = 2"
   ],
   "metadata": {
    "id": "ca6N261u2R2R"
   },
   "outputs": [],
   "execution_count": null
  },
  {
   "cell_type": "markdown",
   "source": [
    "**total above t per cell line**"
   ],
   "metadata": {
    "id": "djI3lAWcOowZ"
   }
  },
  {
   "cell_type": "code",
   "metadata": {
    "colab": {
     "base_uri": "https://localhost:8080/"
    },
    "executionInfo": {
     "elapsed": 141,
     "status": "ok",
     "timestamp": 1717524139338,
     "user": {
      "displayName": "Gary Wilkins",
      "userId": "01463028869337595546"
     },
     "user_tz": 240
    },
    "id": "777htJi_doqu",
    "outputId": "9e4e404a-f1ad-4f06-c5f8-37eb4363949e"
   },
   "source": [
    "#total clusters above threshold after rescoring with cell-line specific scores\n",
    "clustsTotal_aboveThresh_mean = []\n",
    "clustsTotal_aboveThresh_min = []\n",
    "for line in sorted(list(cellLines)):\n",
    "  print(line)\n",
    "\n",
    "  clustsMean = \\\n",
    "    clustersELCFS_topParams.loc[\n",
    "        (clustersELCFS_topParams.prots > minProts) &\n",
    "         (clustersELCFS_topParams[\n",
    "             'mean Score ' + line] >= meanScore_mean)].index.to_list()\n",
    "\n",
    "  clustsMin = \\\n",
    "    clustersELCFS_topParams.loc[\n",
    "        (clustersELCFS_topParams.prots > minProts) &\n",
    "         (clustersELCFS_topParams[\n",
    "             'min Score ' + line] >= meanScore_min)].index.to_list()\n",
    "\n",
    "  clustsTotal_aboveThresh_mean.append(clustsMean)\n",
    "  clustsTotal_aboveThresh_min.append(clustsMin)\n",
    "\n",
    "  print('Total cell-line specific clusters above mean-min ' +\n",
    "        'threshold: {0}'.format(len(clustsMean)))\n",
    "  print('Total cell-line specific clusters above mean-min ' +\n",
    "        'threshold: {0}\\n'.format(len(clustsMin)))\n",
    "\n",
    "cplxPreds_cellLine_meanScore_diff.insert(\n",
    "    1, 'total clusters', [len(l) for l in clustsTotal_aboveThresh_mean])\n",
    "cplxPreds_cellLine_minScore_diff.insert(\n",
    "    1, 'total clusters', [len(l) for l in clustsTotal_aboveThresh_min])"
   ],
   "outputs": [],
   "execution_count": null
  },
  {
   "cell_type": "markdown",
   "metadata": {
    "id": "3BdTJL-45PqD"
   },
   "source": [
    "**common (above t for all cell lines)**"
   ]
  },
  {
   "cell_type": "code",
   "source": [
    "#total clusters common above threshold after rescoring with cell-line specific scores\n",
    "clustsCommon_aboveThresh_meanScore = \\\n",
    "  clustersELCFS_topParams.loc[(\n",
    "      (clustersELCFS_topParams.prots > minProts) &\n",
    "       ((clustersELCFS_topParams['mean Score H322'] >= meanScore_mean) &\n",
    "        (clustersELCFS_topParams['mean Score MCF7'] >= meanScore_mean) &\n",
    "         (clustersELCFS_topParams['mean Score U251'] >= meanScore_mean)))].index\n",
    "\n",
    "clustsCommon_aboveThresh_minScore = \\\n",
    "  clustersELCFS_topParams.loc[(\n",
    "      (clustersELCFS_topParams.prots > minProts) &\n",
    "       ((clustersELCFS_topParams['min Score H322'] >= meanScore_min) &\n",
    "        (clustersELCFS_topParams['min Score MCF7'] >= meanScore_min) &\n",
    "         (clustersELCFS_topParams['min Score U251'] >= meanScore_min)))].index\n",
    "\n",
    "cplxPreds_cellLine_meanScore_diff.insert(\n",
    "    2, 'total common predictions', len(clustsCommon_aboveThresh_meanScore))\n",
    "cplxPreds_cellLine_minScore_diff.insert(\n",
    "    2, 'total common predictions', len(clustsCommon_aboveThresh_minScore))\n",
    "\n",
    "print('Total cell-line specific clusters above mean-min ' +\n",
    "      'threshold: {0}'.format(len(clustsCommon_aboveThresh_meanScore)))\n",
    "print('Total cell-line specific clusters above mean-min ' +\n",
    "      'threshold: {0}'.format(len(clustsCommon_aboveThresh_minScore)))"
   ],
   "metadata": {
    "colab": {
     "base_uri": "https://localhost:8080/"
    },
    "id": "au3DEvTnYkBh",
    "executionInfo": {
     "status": "ok",
     "timestamp": 1717524140443,
     "user_tz": 240,
     "elapsed": 206,
     "user": {
      "displayName": "Gary Wilkins",
      "userId": "01463028869337595546"
     }
    },
    "outputId": "b850082d-bd5b-45e0-9c7b-f60cc0585f9f"
   },
   "outputs": [],
   "execution_count": null
  },
  {
   "cell_type": "code",
   "source": [
    "#using the mean of complex constituent PPI estimates mean value\n",
    "clustersELCFS_topParams.loc[\n",
    "    clustsCommon_aboveThresh_meanScore, colsWanted].sort_values(\n",
    "        by=['min Score'], ascending=False)"
   ],
   "metadata": {
    "colab": {
     "base_uri": "https://localhost:8080/",
     "height": 1000
    },
    "id": "Fv1nR-IoOLfG",
    "executionInfo": {
     "status": "ok",
     "timestamp": 1717524141104,
     "user_tz": 240,
     "elapsed": 250,
     "user": {
      "displayName": "Gary Wilkins",
      "userId": "01463028869337595546"
     }
    },
    "outputId": "36e0d5a6-22fa-41cf-c440-bba856723b75"
   },
   "outputs": [],
   "execution_count": null
  },
  {
   "cell_type": "code",
   "metadata": {
    "colab": {
     "base_uri": "https://localhost:8080/",
     "height": 895
    },
    "executionInfo": {
     "elapsed": 196,
     "status": "ok",
     "timestamp": 1717524141672,
     "user": {
      "displayName": "Gary Wilkins",
      "userId": "01463028869337595546"
     },
     "user_tz": 240
    },
    "id": "uiycM0sbTX2O",
    "outputId": "d496d895-14d1-465a-e7d4-2eea869ef448"
   },
   "source": [
    "#using the min of complex constituent PPI estimates mean value\n",
    "clustersELCFS_topParams.loc[\n",
    "    clustsCommon_aboveThresh_minScore, colsWanted].sort_values(\n",
    "        by=['min Score'], ascending=False)"
   ],
   "outputs": [],
   "execution_count": null
  },
  {
   "cell_type": "markdown",
   "metadata": {
    "id": "pA6Oqdvq5Zc7"
   },
   "source": [
    "**pairwise (above t for all cell lines)**"
   ]
  },
  {
   "cell_type": "code",
   "source": [
    "#total cell-line specific, pairwise exclusive clusters above threshold after rescoring with cell-line specific scores\n",
    "clustsExcl_pairwise_meanScore = dict()\n",
    "clustsExcl_pairwise_minScore = dict()\n",
    "for line in sorted(list(cellLines)):\n",
    "  print(line)\n",
    "  xLine1 = cellLines_remain[line][0]\n",
    "  xLine2 = cellLines_remain[line][1]\n",
    "\n",
    "  clustsMean_a = \\\n",
    "    clustersELCFS_topParams.loc[(\n",
    "        (clustersELCFS_topParams.prots > minProts) &\n",
    "         ((clustersELCFS_topParams[\n",
    "             'mean Score ' + line] >= meanScore_mean) &\n",
    "              (clustersELCFS_topParams[\n",
    "                  'mean Score ' + xLine1] >= meanScore_mean) &\n",
    "                   (clustersELCFS_topParams[\n",
    "                       'mean Score ' + xLine2] < meanScore_mean)))].index.to_list()\n",
    "\n",
    "  clustsMean_b = \\\n",
    "    clustersELCFS_topParams.loc[(\n",
    "        (clustersELCFS_topParams.prots > minProts) &\n",
    "         ((clustersELCFS_topParams[\n",
    "             'mean Score ' + line] >= meanScore_mean) &\n",
    "              (clustersELCFS_topParams[\n",
    "                  'mean Score ' + xLine2] >= meanScore_mean) &\n",
    "                   (clustersELCFS_topParams[\n",
    "                       'mean Score ' + xLine1] < meanScore_mean)))].index.to_list()\n",
    "  clustsMean = clustsMean_a + clustsMean_b\n",
    "\n",
    "  clustsMin_a = \\\n",
    "    clustersELCFS_topParams.loc[(\n",
    "        (clustersELCFS_topParams.prots > minProts) &\n",
    "         ((clustersELCFS_topParams[\n",
    "             'min Score ' + line] >= meanScore_min) &\n",
    "              (clustersELCFS_topParams[\n",
    "                  'min Score ' + xLine1] >= meanScore_min) &\n",
    "                   (clustersELCFS_topParams[\n",
    "                       'min Score ' + xLine2] < meanScore_min)))].index.to_list()\n",
    "\n",
    "  clustsMin_b = \\\n",
    "    clustersELCFS_topParams.loc[(\n",
    "        (clustersELCFS_topParams.prots > minProts) &\n",
    "         ((clustersELCFS_topParams[\n",
    "             'min Score ' + line] >= meanScore_min) &\n",
    "              (clustersELCFS_topParams[\n",
    "                  'min Score ' + xLine2] >= meanScore_min) &\n",
    "                   (clustersELCFS_topParams[\n",
    "                       'min Score ' + xLine1] < meanScore_min)))].index.to_list()\n",
    "  clustsMin = clustsMin_a + clustsMin_b\n",
    "\n",
    "  clustsExcl_pairwise_meanScore[line] = clustsMean\n",
    "  clustsExcl_pairwise_minScore[line] = clustsMin\n",
    "\n",
    "  print('Total cell-line specific, pairwise exclusive clusters ' +\n",
    "        'above mean-mean threshold: {0}'.format(len(clustsMean)))\n",
    "  print('Total cell-line specific, pairwise exclusive clusters ' +\n",
    "        'above mean-min threshold: {0}\\n'.format(len(clustsMin)))\n",
    "\n",
    "cplxPreds_cellLine_meanScore_diff.insert(\n",
    "    3, 'total clusters pairwise exclusive',\n",
    "     [len(l) for l in clustsExcl_pairwise_meanScore.values()])\n",
    "cplxPreds_cellLine_minScore_diff.insert(\n",
    "    3, 'total clusters pairwise exclusive',\n",
    "     [len(l) for l in clustsExcl_pairwise_minScore.values()])"
   ],
   "metadata": {
    "colab": {
     "base_uri": "https://localhost:8080/"
    },
    "id": "U238ukLdNCHA",
    "executionInfo": {
     "status": "ok",
     "timestamp": 1717524142436,
     "user_tz": 240,
     "elapsed": 136,
     "user": {
      "displayName": "Gary Wilkins",
      "userId": "01463028869337595546"
     }
    },
    "outputId": "c5b0d7c2-cae0-4296-f68e-c9894b24ede0"
   },
   "outputs": [],
   "execution_count": null
  },
  {
   "cell_type": "code",
   "source": [
    "clustersELCFS_topParams.loc[\n",
    "    list(it.chain(*clustsExcl_pairwise_meanScore.values())),\n",
    "    colsWanted].sort_values(by=['min Score'], ascending=False)"
   ],
   "metadata": {
    "colab": {
     "base_uri": "https://localhost:8080/",
     "height": 1000
    },
    "id": "yJ-B5WvqRunW",
    "executionInfo": {
     "status": "ok",
     "timestamp": 1717524381646,
     "user_tz": 240,
     "elapsed": 152,
     "user": {
      "displayName": "Gary Wilkins",
      "userId": "01463028869337595546"
     }
    },
    "outputId": "49c41b91-5d5b-4e4a-8815-9eacb0604c67"
   },
   "outputs": [],
   "execution_count": null
  },
  {
   "cell_type": "code",
   "source": [
    "clustersELCFS_topParams.loc[\n",
    "    list(it.chain(*clustsExcl_pairwise_minScore.values())),\n",
    "    colsWanted].sort_values(by=['min Score'], ascending=False)"
   ],
   "metadata": {
    "colab": {
     "base_uri": "https://localhost:8080/",
     "height": 1000
    },
    "id": "b7XJ4QMxVHOY",
    "executionInfo": {
     "status": "ok",
     "timestamp": 1717524444968,
     "user_tz": 240,
     "elapsed": 164,
     "user": {
      "displayName": "Gary Wilkins",
      "userId": "01463028869337595546"
     }
    },
    "outputId": "3d5b4770-d398-4269-af30-6dd7f84b9218"
   },
   "outputs": [],
   "execution_count": null
  },
  {
   "cell_type": "markdown",
   "metadata": {
    "id": "3vxLY36w59Sx"
   },
   "source": [
    "**exclusive (above t for one cell line)**"
   ]
  },
  {
   "cell_type": "code",
   "metadata": {
    "id": "oRm_NUc6iMx0",
    "colab": {
     "base_uri": "https://localhost:8080/"
    },
    "executionInfo": {
     "status": "ok",
     "timestamp": 1717524145094,
     "user_tz": 240,
     "elapsed": 207,
     "user": {
      "displayName": "Gary Wilkins",
      "userId": "01463028869337595546"
     }
    },
    "outputId": "d59728c0-0636-44e4-8fa8-180d152ca4b5"
   },
   "source": [
    "#total cell-line specific and exclusive clusters above threshold after rescoring with cell-line specific scores\n",
    "clustsExcl_cellLine_meanScore = dict()\n",
    "clustsExcl_cellLine_minScore = dict()\n",
    "for line in sorted(list(cellLines)):\n",
    "  print(line)\n",
    "  xLine1 = cellLines_remain[line][0]\n",
    "  xLine2 = cellLines_remain[line][1]\n",
    "\n",
    "  clustsMean = \\\n",
    "    set(clustersELCFS_topParams.loc[(\n",
    "        (clustersELCFS_topParams.prots > minProts) &\n",
    "         ((clustersELCFS_topParams[\n",
    "             'mean Score ' + line] >= meanScore_mean) &\n",
    "              (clustersELCFS_topParams[\n",
    "                  'mean Score ' + xLine1] < meanScore_mean) &\n",
    "                   (clustersELCFS_topParams[\n",
    "                       'mean Score ' + xLine2] < meanScore_mean))\n",
    "         )].index.to_list())\n",
    "\n",
    "  clustsMin = \\\n",
    "    set(clustersELCFS_topParams.loc[(\n",
    "        (clustersELCFS_topParams.prots > minProts) &\n",
    "         ((clustersELCFS_topParams['min Score ' + line] >= meanScore_min) &\n",
    "          (clustersELCFS_topParams['min Score ' + xLine1] < meanScore_min) &\n",
    "           (clustersELCFS_topParams['min Score ' + xLine2] < meanScore_min))\n",
    "         )].index.to_list())\n",
    "\n",
    "  clustsExcl_cellLine_meanScore[line] = clustsMean\n",
    "  clustsExcl_cellLine_minScore[line] = clustsMin\n",
    "\n",
    "  print('Total cell-line specific and exclusive clusters ' +\n",
    "        'above mean-mean threshold: {0}'.format(len(clustsMean)))\n",
    "  print('Total cell-line specific and exclusive clusters ' +\n",
    "        'above mean-min threshold: {0}\\n'.format(len(clustsMin)))\n",
    "\n",
    "cplxPreds_cellLine_meanScore_diff.insert(\n",
    "    4, 'total clusters exclusive',\n",
    "     [len(l) for l in clustsExcl_cellLine_meanScore.values()])\n",
    "cplxPreds_cellLine_minScore_diff.insert(\n",
    "    4, 'total clusters exclusive',\n",
    "     [len(l) for l in clustsExcl_cellLine_minScore.values()])"
   ],
   "outputs": [],
   "execution_count": null
  },
  {
   "cell_type": "code",
   "source": [
    "clustersELCFS_topParams.loc[\n",
    "    list(it.chain(*clustsExcl_cellLine_meanScore.values())),\n",
    "    colsWanted].sort_values(by=['min Score'], ascending=False)"
   ],
   "metadata": {
    "colab": {
     "base_uri": "https://localhost:8080/",
     "height": 1000
    },
    "id": "u2g14lO2Zblx",
    "executionInfo": {
     "status": "ok",
     "timestamp": 1717524396994,
     "user_tz": 240,
     "elapsed": 176,
     "user": {
      "displayName": "Gary Wilkins",
      "userId": "01463028869337595546"
     }
    },
    "outputId": "9e67b6c5-f4b3-4d40-ae47-920431c7badf"
   },
   "outputs": [],
   "execution_count": null
  },
  {
   "cell_type": "code",
   "source": [
    "clustersELCFS_topParams.loc[\n",
    "    list(it.chain(*clustsExcl_cellLine_minScore.values())),\n",
    "    colsWanted].sort_values(by=['min Score'], ascending=False)"
   ],
   "metadata": {
    "colab": {
     "base_uri": "https://localhost:8080/",
     "height": 970
    },
    "id": "ZKjFhvtgZlNW",
    "executionInfo": {
     "status": "ok",
     "timestamp": 1717524459040,
     "user_tz": 240,
     "elapsed": 138,
     "user": {
      "displayName": "Gary Wilkins",
      "userId": "01463028869337595546"
     }
    },
    "outputId": "77655e55-fac4-4b81-db9b-7cae82a5aea7"
   },
   "outputs": [],
   "execution_count": null
  },
  {
   "cell_type": "markdown",
   "source": [
    "**cell-line specific complexes with CORUM support**"
   ],
   "metadata": {
    "id": "CX8xSPQ8Z3Rz"
   }
  },
  {
   "cell_type": "code",
   "metadata": {
    "id": "z-F_STb0nsBl",
    "colab": {
     "base_uri": "https://localhost:8080/"
    },
    "executionInfo": {
     "status": "ok",
     "timestamp": 1717524147257,
     "user_tz": 240,
     "elapsed": 135,
     "user": {
      "displayName": "Gary Wilkins",
      "userId": "01463028869337595546"
     }
    },
    "outputId": "a6c2240f-498f-455b-9282-a11d4eb9e81b"
   },
   "source": [
    "#total clusters above threshold and in CORUM after rescoring with cell-type-specific estimates\n",
    "clustsCORUM_aboveThresh_mean = dict()\n",
    "clustsCORUM_aboveThresh_min = dict()\n",
    "for line in cellLines:\n",
    "  print(line)\n",
    "\n",
    "  clustsMean = \\\n",
    "    clustersELCFS_topParams.loc[(\n",
    "        (clustersELCFS_topParams.prots > minProts) &\n",
    "        ((clustersELCFS_topParams['mean Score ' + line] >= meanScore_mean) &\n",
    "         (clustersELCFS_topParams['CORUM'])))].index.to_list()\n",
    "\n",
    "  clustsMin = \\\n",
    "    clustersELCFS_topParams.loc[(\n",
    "        (clustersELCFS_topParams.prots > minProts) &\n",
    "         ((clustersELCFS_topParams['min Score ' + line] >= meanScore_min) &\n",
    "          (clustersELCFS_topParams['CORUM'])))].index.to_list()\n",
    "\n",
    "  clustsCORUM_aboveThresh_mean[line] = clustsMean\n",
    "  clustsCORUM_aboveThresh_min[line] = clustsMin\n",
    "\n",
    "  print('Total cell-line specific clusters ' +\n",
    "        'above mean-mean threshold and present in CORUM: {0}'.format(\n",
    "            len(clustsMean)))\n",
    "  print('Total cell-line specific and exclusive clusters ' +\n",
    "        'above mean-min threshold: {0}\\n'.format(\n",
    "            len(clustsMin)))\n",
    "\n",
    "cplxPreds_cellLine_meanScore_diff.insert(\n",
    "    5, 'in CORUM', [len(l) for l in clustsCORUM_aboveThresh_mean.values()])\n",
    "cplxPreds_cellLine_minScore_diff.insert(\n",
    "    5, 'in CORUM', [len(l) for l in clustsCORUM_aboveThresh_min.values()])"
   ],
   "outputs": [],
   "execution_count": null
  },
  {
   "cell_type": "code",
   "metadata": {
    "colab": {
     "base_uri": "https://localhost:8080/",
     "height": 161
    },
    "executionInfo": {
     "elapsed": 135,
     "status": "ok",
     "timestamp": 1717524598957,
     "user": {
      "displayName": "Gary Wilkins",
      "userId": "01463028869337595546"
     },
     "user_tz": 240
    },
    "id": "_bQd9Fm4j4J4",
    "outputId": "e53edc0f-f9fd-41df-e6b5-9d403c6200ee"
   },
   "source": [
    "cplxPreds_cellLine_meanScore_diff.style.hide()"
   ],
   "outputs": [],
   "execution_count": null
  },
  {
   "cell_type": "code",
   "source": [
    "cplxPreds_cellLine_meanScore_diff.iloc[:, 2:5].sum(axis=1, numeric_only=True)"
   ],
   "metadata": {
    "colab": {
     "base_uri": "https://localhost:8080/"
    },
    "id": "Mss4EOc1asyo",
    "executionInfo": {
     "status": "ok",
     "timestamp": 1717524184436,
     "user_tz": 240,
     "elapsed": 121,
     "user": {
      "displayName": "Gary Wilkins",
      "userId": "01463028869337595546"
     }
    },
    "outputId": "8ee40622-4e50-490b-99ab-8d58bdf57569"
   },
   "outputs": [],
   "execution_count": null
  },
  {
   "cell_type": "code",
   "source": [
    "cplxPreds_cellLine_meanScore_diff.iloc[:, 3:5].sum(numeric_only=True)"
   ],
   "metadata": {
    "colab": {
     "base_uri": "https://localhost:8080/"
    },
    "id": "LXxLahbnDxRT",
    "executionInfo": {
     "status": "ok",
     "timestamp": 1717524312728,
     "user_tz": 240,
     "elapsed": 136,
     "user": {
      "displayName": "Gary Wilkins",
      "userId": "01463028869337595546"
     }
    },
    "outputId": "ca5a9341-acf1-4e2e-a62e-faa553692c54"
   },
   "outputs": [],
   "execution_count": null
  },
  {
   "cell_type": "code",
   "metadata": {
    "colab": {
     "base_uri": "https://localhost:8080/",
     "height": 161
    },
    "executionInfo": {
     "elapsed": 182,
     "status": "ok",
     "timestamp": 1717524613367,
     "user": {
      "displayName": "Gary Wilkins",
      "userId": "01463028869337595546"
     },
     "user_tz": 240
    },
    "id": "Xa_b7hMcYbqp",
    "outputId": "7fa13999-e3a4-44f0-dfa0-d68f64a79b05"
   },
   "source": [
    "cplxPreds_cellLine_minScore_diff.style.hide()"
   ],
   "outputs": [],
   "execution_count": null
  },
  {
   "cell_type": "code",
   "source": [
    "cplxPreds_cellLine_minScore_diff.iloc[:, 2:5].sum(axis=1, numeric_only=True)"
   ],
   "metadata": {
    "colab": {
     "base_uri": "https://localhost:8080/"
    },
    "id": "QEHf6jPPDzNS",
    "executionInfo": {
     "status": "ok",
     "timestamp": 1717524248663,
     "user_tz": 240,
     "elapsed": 218,
     "user": {
      "displayName": "Gary Wilkins",
      "userId": "01463028869337595546"
     }
    },
    "outputId": "f966d0a2-f94e-4151-a9bf-85f8d11ffd52"
   },
   "outputs": [],
   "execution_count": null
  },
  {
   "cell_type": "code",
   "source": [
    "cplxPreds_cellLine_minScore_diff.iloc[:, 3:5].sum(numeric_only=True)"
   ],
   "metadata": {
    "colab": {
     "base_uri": "https://localhost:8080/"
    },
    "id": "Tu5x8zdYbE9g",
    "executionInfo": {
     "status": "ok",
     "timestamp": 1717524324214,
     "user_tz": 240,
     "elapsed": 141,
     "user": {
      "displayName": "Gary Wilkins",
      "userId": "01463028869337595546"
     }
    },
    "outputId": "692f04d7-fd28-4877-a18f-86085111d0c8"
   },
   "outputs": [],
   "execution_count": null
  },
  {
   "cell_type": "markdown",
   "metadata": {
    "id": "6JCMkXyZUeq-"
   },
   "source": [
    "###**Figure XX.  Cumulative probability-difference distribution for CORUM-supported clusters across cell-line-specific predictions. The figure shows that the smaller the difference in probability among scored pairwise interactions, shared by at least two cell-line-specific predictors, the more likely those interactions are present in CORUM.**\n",
    "\n",
    "> **Keep working on a better caption**\n",
    "\n",
    ">> **Should be able to pull out high-confidence predictions**"
   ]
  },
  {
   "cell_type": "code",
   "source": [
    "colsWanted_cplxSpec_probDiff_mean = \\\n",
    "  ['cluster', 'UniProtKB Mapping', 'CORUM', 'STRING',\n",
    "   'min Score', 'mean Score', 'maxScore_min', 'maxScore_mean',\n",
    "   'min Score H322', 'mean Score H322', 'min Score MCF7',\n",
    "   'mean Score MCF7', 'min Score U251', 'mean Score U251',\n",
    "   'corumDiff', 'corumDiff_pred', 'corumDiff_ref',\n",
    "   'stringDiff', 'stringDiff_pred', 'stringDiff_ref']\n",
    "\n",
    "colsWanted_cplxSpec_probDiff_min = \\\n",
    "  ['cluster', 'UniProtKB Mapping', 'CORUM', 'STRING',\n",
    "   'min Score', 'mean Score', 'maxScore_min', 'maxScore_mean',\n",
    "   'min Score H322', 'mean Score H322', 'min Score MCF7',\n",
    "   'mean Score MCF7', 'min Score U251', 'mean Score U251',\n",
    "   'corumDiff', 'corumDiff_pred', 'corumDiff_ref',\n",
    "   'stringDiff', 'stringDiff_pred', 'stringDiff_ref']"
   ],
   "metadata": {
    "id": "YhlmQmIp1R7W"
   },
   "outputs": [],
   "execution_count": null
  },
  {
   "cell_type": "code",
   "source": [
    "probDiff_cellSpec_cplxMean = \\\n",
    "  pd.concat([\n",
    "      clustersELCFS_topParams[\n",
    "          colsWanted_cplxSpec_probDiff_mean + ['H322 - MCF7 mean']\n",
    "          ].rename(columns={'H322 - MCF7 mean': 'diff'}).dropna().reset_index(drop=True),\n",
    "      clustersELCFS_topParams[\n",
    "          colsWanted_cplxSpec_probDiff_mean + ['H322 - U251 mean']\n",
    "          ].rename(columns={'H322 - U251 mean': 'diff'}).dropna().reset_index(drop=True),\n",
    "      clustersELCFS_topParams[\n",
    "          colsWanted_cplxSpec_probDiff_mean + ['MCF7 - U251 mean']\n",
    "          ].rename(columns={'MCF7 - U251 mean': 'diff'}).dropna().reset_index(drop=True)], axis=0)\n",
    "probDiff_cellSpec_cplxMean.shape"
   ],
   "metadata": {
    "colab": {
     "base_uri": "https://localhost:8080/"
    },
    "id": "CnmIiXzO2DjZ",
    "executionInfo": {
     "status": "ok",
     "timestamp": 1717532246106,
     "user_tz": 240,
     "elapsed": 171,
     "user": {
      "displayName": "Gary Wilkins",
      "userId": "01463028869337595546"
     }
    },
    "outputId": "4916373b-c168-4e7e-d4c8-dac2d7f04ab1"
   },
   "outputs": [],
   "execution_count": null
  },
  {
   "cell_type": "code",
   "source": [
    "probDiff_cellSpec_cplxMin = \\\n",
    "  pd.concat([\n",
    "      clustersELCFS_topParams[\n",
    "          colsWanted_cplxSpec_probDiff_min + ['H322 - MCF7 min']\n",
    "          ].rename(columns={'H322 - MCF7 min': 'diff'}).dropna().reset_index(drop=True),\n",
    "      clustersELCFS_topParams[\n",
    "          colsWanted_cplxSpec_probDiff_min + ['H322 - U251 min']\n",
    "          ].rename(columns={'H322 - U251 min': 'diff'}).dropna().reset_index(drop=True),\n",
    "      clustersELCFS_topParams[\n",
    "          colsWanted_cplxSpec_probDiff_min + ['MCF7 - U251 min']\n",
    "          ].rename(columns={'MCF7 - U251 min': 'diff'}).dropna().reset_index(drop=True)], axis=0)\n",
    "probDiff_cellSpec_cplxMin.shape"
   ],
   "metadata": {
    "colab": {
     "base_uri": "https://localhost:8080/"
    },
    "id": "5OjAsGLT3C1H",
    "executionInfo": {
     "status": "ok",
     "timestamp": 1717532201994,
     "user_tz": 240,
     "elapsed": 133,
     "user": {
      "displayName": "Gary Wilkins",
      "userId": "01463028869337595546"
     }
    },
    "outputId": "b4fde7b8-3198-4829-ca8e-3fd07ae93b09"
   },
   "outputs": [],
   "execution_count": null
  },
  {
   "cell_type": "markdown",
   "source": [
    "**Fig S3**"
   ],
   "metadata": {
    "id": "3LcZBYADAo5Y"
   }
  },
  {
   "cell_type": "code",
   "source": [
    "f = sns.ecdfplot(\n",
    "    data=probDiff_cellSpec_cplxMean,\n",
    "    x='diff', hue='CORUM', stat='proportion')\n",
    "sns.move_legend(f, 'upper left', frameon=False)\n",
    "'''\n",
    "plt.title('Common interactions', fontsize=10, fontweight='bold')\n",
    "plt.xlabel('Probability difference', fontsize=10, fontweight='bold')\n",
    "plt.ylabel('Proportion', fontsize=10, fontweight='bold')\n",
    "'''"
   ],
   "metadata": {
    "colab": {
     "base_uri": "https://localhost:8080/",
     "height": 490
    },
    "id": "CxMQ7GAw2Ay0",
    "executionInfo": {
     "status": "ok",
     "timestamp": 1717532318109,
     "user_tz": 240,
     "elapsed": 315,
     "user": {
      "displayName": "Gary Wilkins",
      "userId": "01463028869337595546"
     }
    },
    "outputId": "da397e0b-9327-44d1-d2f6-5f00625d8336"
   },
   "outputs": [],
   "execution_count": null
  },
  {
   "cell_type": "code",
   "source": [
    "f = sns.ecdfplot(data=probDiff_cellSpec_cplxMin,\n",
    "                 x='diff', hue='CORUM', stat='proportion')\n",
    "sns.move_legend(f, 'upper left', frameon=False)\n",
    "'''\n",
    "plt.title('Common interactions', fontsize=10, fontweight='bold')\n",
    "plt.xlabel('Probability difference', fontsize=10, fontweight='bold')\n",
    "plt.ylabel('Proportion', fontsize=10, fontweight='bold')\n",
    "'''"
   ],
   "metadata": {
    "colab": {
     "base_uri": "https://localhost:8080/",
     "height": 490
    },
    "id": "-igW5qiU5ICo",
    "executionInfo": {
     "status": "ok",
     "timestamp": 1717532336814,
     "user_tz": 240,
     "elapsed": 179,
     "user": {
      "displayName": "Gary Wilkins",
      "userId": "01463028869337595546"
     }
    },
    "outputId": "71d468c1-1e59-4858-88cf-30bb06472ad1"
   },
   "outputs": [],
   "execution_count": null
  },
  {
   "cell_type": "code",
   "metadata": {
    "id": "MfVjrWpSswXg"
   },
   "source": [
    "#To-Do\n",
    "#generate scatterplots for complexes scores for pairs of cell lines"
   ],
   "outputs": [],
   "execution_count": null
  },
  {
   "cell_type": "code",
   "metadata": {
    "id": "XxRRglBFqdWI"
   },
   "source": [
    "cplxPreds_cellType_cplxStats_cols = \\\n",
    "  ['cplx', 'clusterONE', 'clusterONE+MCL',\n",
    "   'CORUM', 'H322', 'MCF7', 'U251']\n",
    "\n",
    "cplxPreds_cellType_cplxStats = \\\n",
    "  pd.DataFrame(columns=cplxPreds_cellType_cplxStats_cols)\n",
    "\n",
    "allCplxs_cellType_bothMethods = \\\n",
    "  list(allClusters_cl1.union(allClusters_cl1MCL))\n",
    "\n",
    "cplxPreds_cellType_cplxStats['cplx'] = allCplxs_cellType_bothMethods"
   ],
   "outputs": [],
   "execution_count": null
  },
  {
   "cell_type": "code",
   "metadata": {
    "id": "SAu4_tCE4wjb"
   },
   "source": [
    "cplxPreds_cellType_cplxStats['clusterONE'] = \\\n",
    "  [cplx in allClusters_cl1 for cplx in allCplxs_cellType_bothMethods]\n",
    "\n",
    "cplxPreds_cellType_cplxStats['clusterONE+MCL'] = \\\n",
    "  [cplx in allClusters_cl1MCL for cplx in allCplxs_cellType_bothMethods]\n",
    "\n",
    "cplxPreds_cellType_cplxStats['CORUM'] = \\\n",
    "  [cplx in set(accessCORUM.humanCplx_frozen) for cplx in allCplxs_cellType_bothMethods]"
   ],
   "outputs": [],
   "execution_count": null
  },
  {
   "cell_type": "code",
   "metadata": {
    "id": "nqUHOlx-AGwj"
   },
   "source": [
    "cplxPreds_cellType_cplxStats['STRINGv12 80% overlap'] = \\\n",
    "  [any([len(cplx.intersection(ref))/len(cplx.union(ref)) > 0.8\n",
    "        for ref in list(cmpStudies.stringCplxs)])\n",
    "    for cplx in allCplxs_cellType_bothMethods]\n",
    "len(cplxPreds_cellType_cplxStats.loc[cplxPreds_cellType_cplxStats['STRINGv12 80% overlap']])"
   ],
   "outputs": [],
   "execution_count": null
  },
  {
   "cell_type": "code",
   "metadata": {
    "id": "_j-QWDUNAOgD"
   },
   "source": [
    "cplxPreds_cellType_cplxStats['STRINGv12 75% overlap'] = \\\n",
    "  [any([len(cplx.intersection(ref))/len(cplx.union(ref)) > 0.75\n",
    "        for ref in list(cmpStudies.stringCplxs)])\n",
    "    for cplx in allCplxs_cellType_bothMethods]\n",
    "len(cplxPreds_cellType_cplxStats.loc[cplxPreds_cellType_cplxStats['STRINGv12 75% overlap']])"
   ],
   "outputs": [],
   "execution_count": null
  },
  {
   "cell_type": "code",
   "metadata": {
    "colab": {
     "base_uri": "https://localhost:8080/"
    },
    "executionInfo": {
     "elapsed": 322,
     "status": "ok",
     "timestamp": 1710017822517,
     "user": {
      "displayName": "Gary Wilkins",
      "userId": "01463028869337595546"
     },
     "user_tz": 300
    },
    "id": "SmDKJo8EAS-G",
    "outputId": "6ef3207d-3267-4ad4-cff3-1e1bb109464c"
   },
   "source": [
    "cplxPreds_cellType_cplxStats['STRINGv12 70% overlap'] = \\\n",
    "  [any([len(cplx.intersection(ref))/len(cplx.union(ref)) > 0.70\n",
    "        for ref in list(cmpStudies.stringCplxs)])\n",
    "    for cplx in allCplxs_cellType_bothMethods]\n",
    "len(cplxPreds_cellType_cplxStats.loc[cplxPreds_cellType_cplxStats['STRINGv12 70% overlap']])"
   ],
   "outputs": [],
   "execution_count": null
  },
  {
   "cell_type": "code",
   "metadata": {
    "colab": {
     "base_uri": "https://localhost:8080/"
    },
    "executionInfo": {
     "elapsed": 254,
     "status": "ok",
     "timestamp": 1710017842525,
     "user": {
      "displayName": "Gary Wilkins",
      "userId": "01463028869337595546"
     },
     "user_tz": 300
    },
    "id": "M1YvqL_vAX4D",
    "outputId": "0ecbdd7d-3b25-4b20-8fc6-fbf5fa9e0791"
   },
   "source": [
    "cplxPreds_cellType_cplxStats['STRINGv12 65% overlap'] = \\\n",
    "  [any([len(cplx.intersection(ref))/len(cplx.union(ref)) > 0.65\n",
    "        for ref in list(cmpStudies.stringCplxs)])\n",
    "    for cplx in allCplxs_cellType_bothMethods]\n",
    "len(cplxPreds_cellType_cplxStats.loc[cplxPreds_cellType_cplxStats['STRINGv12 65% overlap']]    )"
   ],
   "outputs": [],
   "execution_count": null
  },
  {
   "cell_type": "code",
   "metadata": {
    "id": "8FS68eA6A1yu"
   },
   "source": [
    "for cellType in cellTypes:\n",
    "  cplxPreds_cellType_cplxStats[cellType] = \\\n",
    "    [cplx in set().union(*[\n",
    "        cplxPreds_cellType.loc[cellType, 'clusterONE clusters'].union(\n",
    "            cplxPreds_cellType.loc[cellType, 'clusterONE+MCL clusters'])])\n",
    "    for cplx in allCplxs_cellType_bothMethods]"
   ],
   "outputs": [],
   "execution_count": null
  },
  {
   "cell_type": "code",
   "metadata": {
    "id": "UkDEpZ3wMmko"
   },
   "source": [
    "cplxPreds_cellType_cplxStats.insert(\n",
    "    1, 'ppis possible',\n",
    "     [set([frozenset(pair)\n",
    "     for pair in list(it.combinations(cplx, 2))]) if len(cplx) > 1 else np.nan\n",
    "      for cplx in cplxPreds_cellType_cplxStats.cplx])"
   ],
   "outputs": [],
   "execution_count": null
  },
  {
   "cell_type": "code",
   "metadata": {
    "id": "Iak1-ByZGeDF"
   },
   "source": [
    "for cellType in cellTypes:\n",
    "  cplxPreds_cellType_cplxStats[cellType + ' mean score'] = ''\n",
    "  cplxPreds_cellType_cplxStats[cellType + ' min score'] = ''"
   ],
   "outputs": [],
   "execution_count": null
  },
  {
   "cell_type": "code",
   "metadata": {
    "id": "d9DEx51wLCpc"
   },
   "source": [
    "for cellType in cellTypes:\n",
    "  cellSpecific_ppis[cellType] = cellSpecific_ppis[cellType].astype(float)"
   ],
   "outputs": [],
   "execution_count": null
  },
  {
   "cell_type": "code",
   "metadata": {
    "id": "0JXTkLjSHZ9N"
   },
   "source": [
    "cplxPreds_cellType_cplxStats = \\\n",
    "  cplxPreds_cellType_cplxStats[['cplx', 'ppis possible', 'ppis',\n",
    "                                'clusterONE', 'clusterONE+MCL',\n",
    "                                'CORUM', 'STRINGv12',\n",
    "                                'H322', 'H322 mean score', 'H322 min score',\n",
    "                                'MCF7', 'MCF7 mean score', 'MCF7 min score',\n",
    "                                'U251', 'U251 mean score', 'U251 min score',\n",
    "                                'STRINGv12 80% overlap', 'STRINGv12 75% overlap',\n",
    "                                'STRINGv12 70% overlap', 'STRINGv12 65% overlap']]"
   ],
   "outputs": [],
   "execution_count": null
  },
  {
   "cell_type": "code",
   "metadata": {
    "id": "JR2XCnYtkY79"
   },
   "source": [
    "cplxPreds_cellType_cplxStats.loc[\n",
    "    cplxPreds_cellType_cplxStats['ppis possible'].isna(), 'ppis'] = np.nan"
   ],
   "outputs": [],
   "execution_count": null
  },
  {
   "cell_type": "code",
   "metadata": {
    "colab": {
     "base_uri": "https://localhost:8080/",
     "height": 1000
    },
    "executionInfo": {
     "elapsed": 422,
     "status": "ok",
     "timestamp": 1710027069355,
     "user": {
      "displayName": "Gary Wilkins",
      "userId": "01463028869337595546"
     },
     "user_tz": 300
    },
    "id": "jhx36iSfjJCN",
    "outputId": "5d9d2b61-ca8d-4bca-93c9-289abcb8c693"
   },
   "source": [
    "for cellType in cellTypes:\n",
    "  cplxPreds_cellType_cplxStats.loc[~cplxPreds_cellType_cplxStats[cellType],\n",
    "   [cellType + ' mean score', cellType + ' min score']] = np.nan\n",
    "cplxPreds_cellType_cplxStats"
   ],
   "outputs": [],
   "execution_count": null
  },
  {
   "cell_type": "markdown",
   "metadata": {
    "id": "ieAs1UVtVkUB"
   },
   "source": [
    "Following pooled functions are calculating the complex scores from the PPI scores that could have played a role in constituting the complex."
   ]
  },
  {
   "cell_type": "code",
   "metadata": {
    "colab": {
     "base_uri": "https://localhost:8080/"
    },
    "executionInfo": {
     "elapsed": 27055,
     "status": "ok",
     "timestamp": 1710027568911,
     "user": {
      "displayName": "Gary Wilkins",
      "userId": "01463028869337595546"
     },
     "user_tz": 300
    },
    "id": "ILNMYgbvemfz",
    "outputId": "e24c30bc-42dd-44c0-ba55-9403d21841ea"
   },
   "source": [
    "with Pool(numWorkers) as pool:\n",
    "    cplxPreds_cellType_cplxStats.loc[\n",
    "        (cplxPreds_cellType_cplxStats['ppis possible'].notnull() &\n",
    "         cplxPreds_cellType_cplxStats['H322']), 'H322 mean score'] = \\\n",
    "          list(progressMonitor(pool.imap(\n",
    "              calcMean_h322,\n",
    "              cplxPreds_cellType_cplxStats.loc[\n",
    "                  (cplxPreds_cellType_cplxStats['ppis possible'].notnull() &\n",
    "                   cplxPreds_cellType_cplxStats['H322']), 'ppis']),\n",
    "                               total=len(cplxPreds_cellType_cplxStats.loc[\n",
    "                                   (cplxPreds_cellType_cplxStats['ppis'].notnull()\n",
    "                                   & cplxPreds_cellType_cplxStats['H322']), 'ppis'])))"
   ],
   "outputs": [],
   "execution_count": null
  },
  {
   "cell_type": "code",
   "metadata": {
    "colab": {
     "base_uri": "https://localhost:8080/"
    },
    "executionInfo": {
     "elapsed": 25551,
     "status": "ok",
     "timestamp": 1710027651374,
     "user": {
      "displayName": "Gary Wilkins",
      "userId": "01463028869337595546"
     },
     "user_tz": 300
    },
    "id": "gHV4zO4jisxC",
    "outputId": "92f853af-0e5b-4604-ccee-a6bd9d05499f"
   },
   "source": [
    "with Pool(numWorkers) as pool:\n",
    "    cplxPreds_cellType_cplxStats.loc[\n",
    "        (cplxPreds_cellType_cplxStats['ppis possible'].notnull() &\n",
    "         cplxPreds_cellType_cplxStats['H322']), 'H322 min score'] = \\\n",
    "          list(progressMonitor(pool.imap(\n",
    "              calcMin_h322,\n",
    "              cplxPreds_cellType_cplxStats.loc[\n",
    "                  (cplxPreds_cellType_cplxStats['ppis possible'].notnull() &\n",
    "                   cplxPreds_cellType_cplxStats['H322']), 'ppis']),\n",
    "                               total=len(cplxPreds_cellType_cplxStats.loc[\n",
    "                                   (cplxPreds_cellType_cplxStats['ppis'].notnull()\n",
    "                                   & cplxPreds_cellType_cplxStats['H322']), 'ppis'])))"
   ],
   "outputs": [],
   "execution_count": null
  },
  {
   "cell_type": "code",
   "metadata": {
    "colab": {
     "base_uri": "https://localhost:8080/"
    },
    "executionInfo": {
     "elapsed": 26069,
     "status": "ok",
     "timestamp": 1710027702969,
     "user": {
      "displayName": "Gary Wilkins",
      "userId": "01463028869337595546"
     },
     "user_tz": 300
    },
    "id": "ey5cRywKlxSi",
    "outputId": "2672d8d3-21ba-4a01-8109-2983e04ad8fc"
   },
   "source": [
    "with Pool(numWorkers) as pool:\n",
    "    cplxPreds_cellType_cplxStats.loc[\n",
    "        (cplxPreds_cellType_cplxStats['ppis possible'].notnull() &\n",
    "         cplxPreds_cellType_cplxStats['MCF7']), 'MCF7 mean score'] = \\\n",
    "          list(progressMonitor(pool.imap(\n",
    "              calcMean_mcf7,\n",
    "              cplxPreds_cellType_cplxStats.loc[\n",
    "                  (cplxPreds_cellType_cplxStats['ppis possible'].notnull() &\n",
    "                   cplxPreds_cellType_cplxStats['MCF7']), 'ppis']),\n",
    "                               total=len(cplxPreds_cellType_cplxStats.loc[\n",
    "                                   (cplxPreds_cellType_cplxStats['ppis'].notnull()\n",
    "                                   & cplxPreds_cellType_cplxStats['MCF7']), 'ppis'])))"
   ],
   "outputs": [],
   "execution_count": null
  },
  {
   "cell_type": "code",
   "metadata": {
    "colab": {
     "base_uri": "https://localhost:8080/"
    },
    "executionInfo": {
     "elapsed": 25907,
     "status": "ok",
     "timestamp": 1710027733676,
     "user": {
      "displayName": "Gary Wilkins",
      "userId": "01463028869337595546"
     },
     "user_tz": 300
    },
    "id": "XEvDqx1dl6sn",
    "outputId": "bf992fb7-2f24-4b73-ad5f-e1980a791bf8"
   },
   "source": [
    "with Pool(numWorkers) as pool:\n",
    "    cplxPreds_cellType_cplxStats.loc[\n",
    "        (cplxPreds_cellType_cplxStats['ppis possible'].notnull() &\n",
    "         cplxPreds_cellType_cplxStats['MCF7']), 'MCF7 min score'] = \\\n",
    "          list(progressMonitor(pool.imap(\n",
    "              calcMin_mcf7,\n",
    "              cplxPreds_cellType_cplxStats.loc[\n",
    "                  (cplxPreds_cellType_cplxStats['ppis possible'].notnull() &\n",
    "                   cplxPreds_cellType_cplxStats['MCF7']), 'ppis']),\n",
    "                               total=len(cplxPreds_cellType_cplxStats.loc[\n",
    "                                   (cplxPreds_cellType_cplxStats['ppis'].notnull()\n",
    "                                   & cplxPreds_cellType_cplxStats['MCF7']), 'ppis'])))"
   ],
   "outputs": [],
   "execution_count": null
  },
  {
   "cell_type": "code",
   "metadata": {
    "colab": {
     "base_uri": "https://localhost:8080/"
    },
    "executionInfo": {
     "elapsed": 27357,
     "status": "ok",
     "timestamp": 1710027799574,
     "user": {
      "displayName": "Gary Wilkins",
      "userId": "01463028869337595546"
     },
     "user_tz": 300
    },
    "id": "Ta0YkIPzmC6C",
    "outputId": "1e7074c1-7faf-40c1-a538-b179e802e9f7"
   },
   "source": [
    "with Pool(numWorkers) as pool:\n",
    "    cplxPreds_cellType_cplxStats.loc[\n",
    "        (cplxPreds_cellType_cplxStats['ppis possible'].notnull() &\n",
    "         cplxPreds_cellType_cplxStats['U251']), 'U251 mean score'] = \\\n",
    "          list(progressMonitor(pool.imap(\n",
    "              calcMean_u251,\n",
    "              cplxPreds_cellType_cplxStats.loc[\n",
    "                  (cplxPreds_cellType_cplxStats['ppis possible'].notnull() &\n",
    "                   cplxPreds_cellType_cplxStats['U251']), 'ppis']),\n",
    "                               total=len(cplxPreds_cellType_cplxStats.loc[\n",
    "                                   (cplxPreds_cellType_cplxStats['ppis'].notnull()\n",
    "                                   & cplxPreds_cellType_cplxStats['U251']), 'ppis'])))"
   ],
   "outputs": [],
   "execution_count": null
  },
  {
   "cell_type": "code",
   "metadata": {
    "colab": {
     "base_uri": "https://localhost:8080/"
    },
    "executionInfo": {
     "elapsed": 26365,
     "status": "ok",
     "timestamp": 1710027830249,
     "user": {
      "displayName": "Gary Wilkins",
      "userId": "01463028869337595546"
     },
     "user_tz": 300
    },
    "id": "S6IP6a2XmShj",
    "outputId": "e13a0687-1d27-455b-d0b7-21ab6aa51ceb"
   },
   "source": [
    "with Pool(numWorkers) as pool:\n",
    "    cplxPreds_cellType_cplxStats.loc[\n",
    "        (cplxPreds_cellType_cplxStats['ppis possible'].notnull() &\n",
    "         cplxPreds_cellType_cplxStats['U251']), 'U251 min score'] = \\\n",
    "          list(progressMonitor(pool.imap(\n",
    "              calcMin_u251,\n",
    "              cplxPreds_cellType_cplxStats.loc[\n",
    "                  (cplxPreds_cellType_cplxStats['ppis possible'].notnull() &\n",
    "                   cplxPreds_cellType_cplxStats['U251']), 'ppis']),\n",
    "                               total=len(cplxPreds_cellType_cplxStats.loc[\n",
    "                                   (cplxPreds_cellType_cplxStats['ppis'].notnull()\n",
    "                                   & cplxPreds_cellType_cplxStats['U251']), 'ppis'])))"
   ],
   "outputs": [],
   "execution_count": null
  },
  {
   "cell_type": "code",
   "metadata": {
    "colab": {
     "base_uri": "https://localhost:8080/"
    },
    "executionInfo": {
     "elapsed": 105,
     "status": "ok",
     "timestamp": 1710029238204,
     "user": {
      "displayName": "Gary Wilkins",
      "userId": "01463028869337595546"
     },
     "user_tz": 300
    },
    "id": "0VM45tTumfiX",
    "outputId": "ac11bdb6-cf4e-4124-9fbd-15f88fa9cfce"
   },
   "source": [
    "cplxPreds_cellType_cplxStats['H322 - MCF7 mean'] = np.nan\n",
    "cplxPreds_cellType_cplxStats['H322 - MCF7 min'] = np.nan\n",
    "\n",
    "cplxPreds_cellType_cplxStats['H322 - U251 mean'] = np.nan\n",
    "cplxPreds_cellType_cplxStats['H322 - U251 min'] = np.nan\n",
    "\n",
    "cplxPreds_cellType_cplxStats['MCF7 - U251 mean'] = np.nan\n",
    "cplxPreds_cellType_cplxStats['MCF7 - U251 min'] = np.nan\n",
    "\n",
    "cellType_pairs = list(it.combinations(cellTypes, 2))\n",
    "cellType_pairs"
   ],
   "outputs": [],
   "execution_count": null
  },
  {
   "cell_type": "code",
   "metadata": {
    "colab": {
     "base_uri": "https://localhost:8080/"
    },
    "executionInfo": {
     "elapsed": 218,
     "status": "ok",
     "timestamp": 1710029238839,
     "user": {
      "displayName": "Gary Wilkins",
      "userId": "01463028869337595546"
     },
     "user_tz": 300
    },
    "id": "4xVuUklFnSSj",
    "outputId": "e26c99f0-7101-47ce-f24e-de99da57834b"
   },
   "source": [
    "for pair in cellType_pairs:\n",
    "  typeA, typeB = pair\n",
    "  meanCol = typeA + ' - ' + typeB + ' mean'\n",
    "  minCol = typeA + ' - ' + typeB + ' min'\n",
    "  print(meanCol)\n",
    "  print(minCol)\n",
    "\n",
    "  cplxPreds_cellType_cplxStats.loc[\n",
    "      (cplxPreds_cellType_cplxStats['ppis possible'].notnull() &\n",
    "       cplxPreds_cellType_cplxStats[typeA] &\n",
    "       cplxPreds_cellType_cplxStats[typeB]), meanCol] = \\\n",
    "          cplxPreds_cellType_cplxStats.loc[\n",
    "              (cplxPreds_cellType_cplxStats['ppis possible'].notnull() &\n",
    "               cplxPreds_cellType_cplxStats[typeA] &\n",
    "               cplxPreds_cellType_cplxStats[typeB]), typeA + ' mean score'] - \\\n",
    "                        cplxPreds_cellType_cplxStats.loc[\n",
    "                            (cplxPreds_cellType_cplxStats['ppis possible'].notnull() &\n",
    "                             cplxPreds_cellType_cplxStats[typeA] &\n",
    "                             cplxPreds_cellType_cplxStats[typeB]),\n",
    "                            typeB + ' mean score']\n",
    "\n",
    "  cplxPreds_cellType_cplxStats.loc[\n",
    "      (cplxPreds_cellType_cplxStats['ppis possible'].notnull() &\n",
    "       cplxPreds_cellType_cplxStats[typeA] &\n",
    "       cplxPreds_cellType_cplxStats[typeB]), minCol] = \\\n",
    "          cplxPreds_cellType_cplxStats.loc[\n",
    "              (cplxPreds_cellType_cplxStats['ppis possible'].notnull() &\n",
    "               cplxPreds_cellType_cplxStats[typeA] &\n",
    "               cplxPreds_cellType_cplxStats[typeB]), typeA + ' min score'] - \\\n",
    "                        cplxPreds_cellType_cplxStats.loc[\n",
    "                            (cplxPreds_cellType_cplxStats['ppis possible'].notnull() &\n",
    "                             cplxPreds_cellType_cplxStats[typeA] &\n",
    "                             cplxPreds_cellType_cplxStats[typeB]),\n",
    "                            typeB + ' min score']"
   ],
   "outputs": [],
   "execution_count": null
  },
  {
   "cell_type": "code",
   "metadata": {
    "id": "-bee9XSCqwld"
   },
   "source": [
    "colsReordered = \\\n",
    "  ['cplx', 'ppis', 'ppis possible',\n",
    "   'clusterONE', 'clusterONE+MCL',\n",
    "   'H322', 'H322 mean score', 'H322 min score',\n",
    "   'MCF7', 'MCF7 mean score', 'MCF7 min score',\n",
    "   'U251', 'U251 mean score', 'U251 min score',\n",
    "   'H322 - MCF7 mean', 'H322 - MCF7 min',\n",
    "   'H322 - U251 mean', 'H322 - U251 min',\n",
    "   'MCF7 - U251 mean', 'MCF7 - U251 min',\n",
    "   'CORUM', 'STRINGv12',\n",
    "   'STRINGv12 80% overlap', 'STRINGv12 75% overlap',\n",
    "   'STRINGv12 70% overlap', 'STRINGv12 65% overlap']\n",
    "cplxPreds_cellType_cplxStats = \\\n",
    "  cplxPreds_cellType_cplxStats[colsReordered]"
   ],
   "outputs": [],
   "execution_count": null
  },
  {
   "cell_type": "code",
   "metadata": {
    "id": "0em5vRkMswUp"
   },
   "source": [
    "cplxPreds_cellType_cplxStats['cplx length'] = \\\n",
    "  cplxPreds_cellType_cplxStats['cplx'].apply(lambda x: len(x))"
   ],
   "outputs": [],
   "execution_count": null
  },
  {
   "cell_type": "code",
   "metadata": {
    "id": "D7CHQl0FtZ7T"
   },
   "source": [
    "tbl4Present_cols = \\\n",
    "  ['cplx',\n",
    "   'clusterONE', 'clusterONE+MCL',\n",
    "   'H322 mean score', 'H322 min score',\n",
    "   'MCF7 mean score', 'MCF7 min score',\n",
    "   'U251 mean score', 'U251 min score',\n",
    "   'CORUM', 'STRINGv12 80% overlap', 'STRINGv12 65% overlap']"
   ],
   "outputs": [],
   "execution_count": null
  },
  {
   "cell_type": "code",
   "metadata": {
    "id": "sPl7KFnTtAlP"
   },
   "source": [
    "idCols = \\\n",
    "  ['cplx',\n",
    "   'clusterONE', 'clusterONE+MCL',\n",
    "   'CORUM',\n",
    "   'STRINGv12 80% overlap', 'STRINGv12 75% overlap',\n",
    "   'STRINGv12 70% overlap', 'STRINGv12 65% overlap']\n",
    "\n",
    "pairDiff_cols = \\\n",
    "  ['cplx',\n",
    "   'clusterONE', 'clusterONE+MCL',\n",
    "   'H322 - MCF7 mean', 'H322 - MCF7 min',\n",
    "   'H322 - U251 mean', 'H322 - U251 min',\n",
    "   'MCF7 - U251 mean', 'MCF7 - U251 min',\n",
    "   'CORUM',\n",
    "   'STRINGv12 80% overlap', 'STRINGv12 75% overlap',\n",
    "   'STRINGv12 70% overlap', 'STRINGv12 65% overlap']\n",
    "\n",
    "meanDiff_cols = ['H322 - MCF7 mean', 'H322 - U251 mean', 'MCF7 - U251 mean']\n",
    "minDiff_cols = ['H322 - U251 min', 'MCF7 - U251 min', 'H322 - MCF7 min']"
   ],
   "outputs": [],
   "execution_count": null
  },
  {
   "cell_type": "code",
   "metadata": {
    "id": "uSXNlXhCKwPY"
   },
   "source": [
    "pairDiff = cplxPreds_cellType_cplxStats.loc[:, pairDiff_cols].copy()\n",
    "pairDiff_simple = \\\n",
    "  pd.melt(pairDiff, id_vars=idCols,\n",
    "          var_name='pair', value_name='score difference')\n",
    "pairDiff_simple.dropna(subset=['score difference'], inplace=True)\n",
    "pairDiff_simple['score difference'] = pairDiff_simple['score difference'].abs()"
   ],
   "outputs": [],
   "execution_count": null
  },
  {
   "cell_type": "code",
   "metadata": {
    "colab": {
     "base_uri": "https://localhost:8080/",
     "height": 504
    },
    "executionInfo": {
     "elapsed": 158,
     "status": "ok",
     "timestamp": 1710037880005,
     "user": {
      "displayName": "Gary Wilkins",
      "userId": "01463028869337595546"
     },
     "user_tz": 300
    },
    "id": "Co4sVkFKvXY_",
    "outputId": "8ba3f7c5-8647-4cee-91b5-e4b5a50b72e2"
   },
   "source": [
    "print(len(pairDiff_simple))\n",
    "print(len(pairDiff_simple.loc[pairDiff_simple.CORUM]))\n",
    "\n",
    "print(len(pairDiff_simple.loc[pairDiff_simple.clusterONE]))\n",
    "print(len(pairDiff_simple.loc[\n",
    "    (pairDiff_simple.clusterONE) & (pairDiff_simple.CORUM)]))\n",
    "\n",
    "print(len(pairDiff_simple.loc[pairDiff_simple['clusterONE+MCL']]))\n",
    "print(len(pairDiff_simple.loc[\n",
    "    (pairDiff_simple['clusterONE+MCL']) & (pairDiff_simple.CORUM)]))\n",
    "pairDiff_simple.head()"
   ],
   "outputs": [],
   "execution_count": null
  },
  {
   "cell_type": "code",
   "metadata": {
    "colab": {
     "base_uri": "https://localhost:8080/",
     "height": 507
    },
    "executionInfo": {
     "elapsed": 530,
     "status": "ok",
     "timestamp": 1710034237027,
     "user": {
      "displayName": "Gary Wilkins",
      "userId": "01463028869337595546"
     },
     "user_tz": 300
    },
    "id": "1qKX8dPJyIJB",
    "outputId": "1c419277-77e7-410e-e832-164e94098a98"
   },
   "source": [
    "f = sns.displot(data=pairDiff_simple,\n",
    "                x='score difference', hue='CORUM', kind='ecdf', stat='proportion')"
   ],
   "outputs": [],
   "execution_count": null
  },
  {
   "cell_type": "code",
   "metadata": {
    "colab": {
     "base_uri": "https://localhost:8080/",
     "height": 487
    },
    "executionInfo": {
     "elapsed": 288,
     "status": "ok",
     "timestamp": 1710032414392,
     "user": {
      "displayName": "Gary Wilkins",
      "userId": "01463028869337595546"
     },
     "user_tz": 300
    },
    "id": "t6_SVyQR1mWc",
    "outputId": "f9297547-c166-4d0e-e7fa-ba1bedf2f07e"
   },
   "source": [
    "f = \\\n",
    "  sns.ecdfplot(\n",
    "      data=pairDiff_simple.loc[\n",
    "          (pairDiff_simple.clusterONE) & (pairDiff_simple.pair.isin(minDiff_cols))],\n",
    "      x='score difference', hue='CORUM', stat='proportion')\n",
    "sns.move_legend(f, 'upper right', frameon=False)\n",
    "plt.title('Common complexes', fontsize=10, fontweight='bold')\n",
    "plt.xlabel('Probability difference', fontsize=10, fontweight='bold')\n",
    "plt.ylabel('Proportion', fontsize=10, fontweight='bold')"
   ],
   "outputs": [],
   "execution_count": null
  },
  {
   "cell_type": "code",
   "metadata": {
    "colab": {
     "base_uri": "https://localhost:8080/",
     "height": 487
    },
    "executionInfo": {
     "elapsed": 366,
     "status": "ok",
     "timestamp": 1710032414914,
     "user": {
      "displayName": "Gary Wilkins",
      "userId": "01463028869337595546"
     },
     "user_tz": 300
    },
    "id": "7RgeKLzw20NC",
    "outputId": "11d94743-b220-446f-b173-13dd47141a97"
   },
   "source": [
    "f = \\\n",
    "  sns.ecdfplot(\n",
    "      data=pairDiff_simple.loc[\n",
    "          (pairDiff_simple['clusterONE+MCL']) & (pairDiff_simple.pair.isin(meanDiff_cols))],\n",
    "      x='score difference', hue='CORUM', stat='proportion')\n",
    "sns.move_legend(f, 'upper right', frameon=False)\n",
    "plt.title('Common complexes', fontsize=10, fontweight='bold')\n",
    "plt.xlabel('Probability difference', fontsize=10, fontweight='bold')\n",
    "plt.ylabel('Proportion', fontsize=10, fontweight='bold')"
   ],
   "outputs": [],
   "execution_count": null
  },
  {
   "cell_type": "code",
   "metadata": {
    "colab": {
     "base_uri": "https://localhost:8080/",
     "height": 487
    },
    "executionInfo": {
     "elapsed": 338,
     "status": "ok",
     "timestamp": 1710032415398,
     "user": {
      "displayName": "Gary Wilkins",
      "userId": "01463028869337595546"
     },
     "user_tz": 300
    },
    "id": "58ewn7no20ND",
    "outputId": "c3e6bed9-2d40-48ef-9de9-16cb1d6a6473"
   },
   "source": [
    "f = \\\n",
    "  sns.ecdfplot(\n",
    "      data=pairDiff_simple.loc[\n",
    "          (pairDiff_simple['clusterONE+MCL']) & (pairDiff_simple.pair.isin(minDiff_cols))],\n",
    "      x='score difference', hue='CORUM', stat='proportion')\n",
    "sns.move_legend(f, 'upper right', frameon=False)\n",
    "plt.title('Common complexes', fontsize=10, fontweight='bold')\n",
    "plt.xlabel('Probability difference', fontsize=10, fontweight='bold')\n",
    "plt.ylabel('Proportion', fontsize=10, fontweight='bold')"
   ],
   "outputs": [],
   "execution_count": null
  }
 ],
 "metadata": {
  "colab": {
   "collapsed_sections": [
    "zdd7hfJFPRmL",
    "Pep7tYW7ivl8",
    "Exd5SvfYpirY",
    "sRHmKB0mWUYf",
    "AQFhN__UWXIS",
    "pPTSK_JYWl6Z",
    "-3_q-6VIux1C",
    "kxOXDAHqnBTg"
   ],
   "machine_shape": "hm",
   "provenance": [
    {
     "file_id": "1O7XK5upe288ZdSu4uEdCbL5GTNEypegA",
     "timestamp": 1724062093547
    },
    {
     "file_id": "1olvie1qw7J4a8zRRYlP_8cfnx6s4iGC5",
     "timestamp": 1712086111954
    },
    {
     "file_id": "1Wg4stW94ZRT1tP8rocV7CNFuqDndSw-9",
     "timestamp": 1711623993923
    },
    {
     "file_id": "1dkdUJr1c5w_r-dLNhWIlwyN1IK9Lfdxh",
     "timestamp": 1701100666252
    },
    {
     "file_id": "1KwvUQUALfJ-Ma-HssC0ZJNI0cDLuCdjy",
     "timestamp": 1701100495373
    },
    {
     "file_id": "1kIfwFzaiG25Y1A7h2AD6Zz2EFYyt1KEl",
     "timestamp": 1701100378653
    }
   ],
   "gpuType": "V28"
  },
  "kernelspec": {
   "display_name": "Python 3",
   "name": "python3"
  },
  "language_info": {
   "name": "python"
  },
  "accelerator": "TPU"
 },
 "nbformat": 4,
 "nbformat_minor": 0
}
