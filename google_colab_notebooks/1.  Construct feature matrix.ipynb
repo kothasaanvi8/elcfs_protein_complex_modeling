{
 "nbformat": 4,
 "nbformat_minor": 0,
 "metadata": {
  "colab": {
   "provenance": [],
   "collapsed_sections": [
    "ge5qObuWniCw",
    "kJAhmwv_UEuC",
    "gWZUXyUYZBMu",
    "cStcBZ7aZE9K",
    "bIm0BNfXU8Vp",
    "on5BLzlVlQYm",
    "iqxjmiQXjNkn",
    "n-lzciF2jaLr",
    "JT3RwQO1kASb",
    "6gtmsY0Njaha",
    "ariKWAu0hHYQ",
    "6HTfZLN_iaBr",
    "3PegOIO3pgkN",
    "za5nJghSYAvK",
    "LcrRmaA7e_KZ",
    "Qqp4MI3ifLfB",
    "AAMc2Kri6xq1",
    "AakcHHNr6Mdk",
    "ehmELRlw0A6b",
    "XlLp49j-s5xy",
    "BbC6449IuE1X",
    "G5cI0s7x8G0l",
    "woDaNyuNvwZk",
    "M0SUCLbADVuq",
    "BIfNSBeGDiCZ",
    "ls0YgSB5TT_b",
    "NUWTYtIpTd_9",
    "LRGGkV42gtLe",
    "oXFzaYwcDGTQ",
    "8tluL_UGZ552",
    "Rw_eHnkUchE7",
    "5d-4VtqmSZNN",
    "uum4PUFIuiUG",
    "_MOLJYb3vHLe",
    "_Po1W-JWuvo9",
    "aoq4w6yJuznV",
    "kqwaTekEu23w",
    "6uCgNiR96NDs",
    "-xyQ6d-fvAoD",
    "42g9JazzsZ6w",
    "LuuV-rmgyWe4",
    "NVUnEayT0KTn"
   ],
   "machine_shape": "hm",
   "gpuType": "T4"
  },
  "kernelspec": {
   "name": "python3",
   "display_name": "Python 3"
  },
  "language_info": {
   "name": "python"
  },
  "accelerator": "GPU"
 },
 "cells": [
  {
   "cell_type": "markdown",
   "source": [
    "#Run this notebook to construct the feature matrix from aggregate protein-, pair-level data sources.\n",
    "      Estimated running time ~18h"
   ],
   "metadata": {
    "id": "ge5qObuWniCw"
   }
  },
  {
   "cell_type": "markdown",
   "source": [
    "No required inputs, however, if data retrieved previously, default is not to overwrite"
   ],
   "metadata": {
    "id": "2DzNeGneE0Fn"
   }
  },
  {
   "cell_type": "markdown",
   "source": [
    "Outputs:\n",
    "1.   All possible CORUM-2018 labeled pairs:\n",
    "\n",
    "  *allPairs_corumLabeled.tsv.tar.bz2*\n",
    "\n",
    "2.   All possible pairs from all known protein-coding genes:\n",
    "\n",
    "  *allPairs_proteinCoding_geneidFmt.tsv.tar.bz2*\n",
    "\n",
    "3.   Labeled pairs (for training), detailed:\n",
    "\n",
    "  *trainingPairs_sourcesLabeled_detailed_corum2018_humap1+2_lm2019.tsv.tar.bz2*\n",
    "\n",
    "4.   Labeled pairs (for training), simple:\n",
    "\n",
    "  *trainingPairs_labeledAggregate_corum2018_humap1+2_lm2019.tsv.tar.bz2*\n",
    "    \n",
    "5.   All possible, unlabeled pairs from available protein-coding genes:\n",
    "\n",
    "  *nontrainingPairs_proteinCoding.tsv.tar.bz2*\n",
    "    \n",
    "6.   hu.MAP 1.0 training features:\n",
    "\n",
    "  *featMat_trainingPairs_humap1.tsv.tar.bz2*\n",
    "    \n",
    "7.   hu.MAP 1.0 (unlabeled pairs) features:\n",
    "\n",
    "  *featMat_unlabeledPairs_humap1.tsv.tar.bz2*\n",
    "\n",
    "8.   hu.MAP 2.0 training features:\n",
    "\n",
    "  *featMat_trainingPairs_humap2.tsv.tar.bz2*\n",
    "\n",
    "9.   hu.MAP 2.0 (unlabeled pairs) features:\n",
    "\n",
    "  *featMat_unlabeledPairs_humap2.tsv.tar.bz2*\n",
    "    \n",
    "10.   BioPlex 3.0 training features:\n",
    "\n",
    "  *featMat_trainingPairs_bioplex3.tsv.tar.bz2*  \n",
    "\n",
    "11.   BioPlex 3.0 (unlabeled pairs) features:\n",
    "\n",
    "  *featMat_unlabeledPairs_bioplex3.tsv.tar.bz2*\n",
    "\n",
    "12.   Aggregate pair-level training features:\n",
    "\n",
    "  *featMats_aggLabeled.tsv.tar.bz2*     \n",
    "\n",
    "13.   Aggregate pair-level (unlabeled pairs) features:\n",
    "\n",
    "  *featMats_aggUnlabeled.tsv.tar.bz2*   \n",
    "\n",
    "\n"
   ],
   "metadata": {
    "id": "7YDSBJ-aE6uB"
   }
  },
  {
   "cell_type": "markdown",
   "metadata": {
    "id": "EP7llN-TrFr3"
   },
   "source": [
    "#Install packages and load libraries"
   ]
  },
  {
   "cell_type": "markdown",
   "metadata": {
    "collapsed": false,
    "id": "qq4x5R_BVsGO"
   },
   "source": [
    "Import common packages"
   ]
  },
  {
   "cell_type": "code",
   "source": [
    "%%capture\n",
    "import argparse, cProfile, datetime\n",
    "from functools import reduce\n",
    "import glob\n",
    "import itertools as it\n",
    "from multiprocessing import cpu_count, Pool\n",
    "import networkx as nx\n",
    "import numpy as np\n",
    "import os\n",
    "\n",
    "import pandas as pd\n",
    "import pickle\n",
    "import matplotlib.pyplot as plt\n",
    "import random, re, shutil\n",
    "from scipy.stats import hmean\n",
    "from sklearn.ensemble import RandomForestClassifier\n",
    "import sklearn.metrics\n",
    "from sklearn.metrics import auc, average_precision_score, precision_recall_curve\n",
    "from sklearn.model_selection import KFold, train_test_split\n",
    "from sklearn.pipeline import Pipeline\n",
    "from sklearn.preprocessing import PolynomialFeatures\n",
    "import seaborn as sns\n",
    "import subprocess as sp\n",
    "import sys\n",
    "import tempfile as tf\n",
    "import time\n",
    "from tqdm import tqdm as progressMonitor"
   ],
   "metadata": {
    "id": "o_fMcMkgNTxN"
   },
   "execution_count": null,
   "outputs": []
  },
  {
   "cell_type": "markdown",
   "metadata": {
    "collapsed": false,
    "id": "FMXt1QV9VsGT"
   },
   "source": [
    "Enable Google Colab, mount drives, and load proprietary modules..."
   ]
  },
  {
   "cell_type": "code",
   "execution_count": null,
   "metadata": {
    "id": "0e3is2TDNKyy"
   },
   "outputs": [],
   "source": [
    "%%capture\n",
    "from google.colab import drive, files, output\n",
    "drive.mount('/content/drive', force_remount=True)\n",
    "!rm -r sample_data/"
   ]
  },
  {
   "cell_type": "code",
   "execution_count": null,
   "metadata": {
    "colab": {
     "base_uri": "https://localhost:8080/"
    },
    "executionInfo": {
     "elapsed": 5,
     "status": "ok",
     "timestamp": 1715435619436,
     "user": {
      "displayName": "Gary Robert Wilkins Jr.",
      "userId": "02030465818511050071"
     },
     "user_tz": 240
    },
    "id": "w6Mg4PYSffN9",
    "outputId": "ac1b1541-7e85-4cf2-a6ec-2d1faea56b11"
   },
   "outputs": [
    {
     "output_type": "stream",
     "name": "stdout",
     "text": [
      "2\n"
     ]
    }
   ],
   "source": [
    "#useful to keep track of sys vars so as to better monitor space remaining\n",
    "print(cpu_count())\n",
    "sysVars = list(globals().keys())"
   ]
  },
  {
   "cell_type": "code",
   "source": [
    "rootDir = '/content/drive/My Drive/'\n",
    "workDir = rootDir + 'elcfs_protein_complex_modeling/'  #phase 2 directory\n",
    "workDir_elcfs = rootDir + 'Primary Research/proteinPairs_complexMaps/' #modeling library\n",
    "workDir_ph1 = rootDir + 'Primary Research/JLMwSCBC_notebook/'  #phase 1 directory\n",
    "\n",
    "sys.path.insert(0, rootDir)\n",
    "for p in workDir, workDir_elcfs, workDir_ph1: sys.path.append(p)"
   ],
   "metadata": {
    "id": "wh-ciBhp1tw-"
   },
   "execution_count": null,
   "outputs": []
  },
  {
   "cell_type": "code",
   "source": [
    "from util import ppiPrediction_v2, dataProcessing, modelEvaluating\n",
    "from utils import operations, reference, alertMe\n",
    "pushoverKey_user = 'uith8rmy2npjj1oqpjwcanow3un984'\n",
    "pushoverAPI = 'aw4v3424kaznrw598r6qge9icddwg7'"
   ],
   "metadata": {
    "id": "A0KfZydeMkW9"
   },
   "execution_count": null,
   "outputs": []
  },
  {
   "cell_type": "code",
   "execution_count": null,
   "metadata": {
    "id": "vDUq9AUeKtq9",
    "colab": {
     "base_uri": "https://localhost:8080/",
     "height": 53
    },
    "executionInfo": {
     "status": "ok",
     "timestamp": 1715436516312,
     "user_tz": 240,
     "elapsed": 3,
     "user": {
      "displayName": "Gary Wilkins",
      "userId": "01463028869337595546"
     }
    },
    "outputId": "646bfbbe-dcf8-4792-bcdf-2a00791ca00f"
   },
   "outputs": [
    {
     "output_type": "execute_result",
     "data": {
      "text/plain": [
       "'\\n#put this block after any cell expected to take a long time\\ncmdReport = alertMe.statusCheck(pushoverAPI, pushoverKey_user)\\ncmdReport.finishPush()\\n'"
      ],
      "application/vnd.google.colaboratory.intrinsic+json": {
       "type": "string"
      }
     },
     "metadata": {},
     "execution_count": 7
    }
   ],
   "source": [
    "#copy the contents between the ellipses into the cell subsequent to that for\n",
    "# which the run time is long\n",
    "'''\n",
    "#put this block after any cell expected to take a long time\n",
    "cmdReport = alertMe.statusCheck(pushoverAPI, pushoverKey_user)\n",
    "cmdReport.finishPush()\n",
    "'''"
   ]
  },
  {
   "cell_type": "markdown",
   "source": [
    "#Sources\n",
    "\n",
    "1.   [CORUM](https://mips.helmholtz-muenchen.de/corum/#download)\n",
    "\n",
    "2.   [hu.MAP 1.0](http://hu.proteincomplexes.org/download) (HEK293T)\n",
    ">    *(Obsolete)*\n",
    "> *   BioPlex v1 - Huttlin 2015 (AP-MS)\n",
    "> *   Hein 2015 (AP-MS)\n",
    "> *   Wan 2015 (CF-MS)\n",
    "\n",
    "3.   [hu.MAP 2.0](http://humap2.proteincomplexes.org/download) (HEK293T)\n",
    "> *  BioPlex v1, v2 - Huttlin 2015, 2017 (AP-MS)\n",
    "> *  Boldt 2016 (AP-MS)\n",
    "> *  Gupta 2015 (Proximity)\n",
    "> *  Hein 2015 (AP-MS)\n",
    "> *  Wan 2015 (AP-MS)\n",
    "> *  Youn 2018 (Proximity)\n",
    "> *  Treiber 2017; Mallam 2019 (RNA-Pulldown)\n",
    "\n",
    "4.   [BioPlex](https://bioplex.hms.harvard.edu/data/BioPlex_BaitPreyPairs_noFilters_293T_10K_Dec_2019.tsv) v3 - Huttlin 2021 (AP-MS)\n",
    "\n",
    "5.   [Lugo-Martinez 2019](https://drive.google.com/drive/folders/191Y14LBVZnIxWJysmJ7I_UL451aStVvj?usp=sharing)\n",
    "> *  HPA - Uniprot 2017; Ouyang 2019 (Microscopy; deep-learning features)\n",
    "> *  NCI-60 - Gholami 2013 (RNA and protein expression)\n",
    "> *  FANTOM5 - Forrest 2014 (RNA expression)\n",
    ">> FANTOM6 newest\n",
    "> *  Uhlén 2015 (RNA expression)\n",
    "> *  GTEx (v7) - Yizhak 2019 (RNA expression)\n",
    ">> GTEx (v8) newest\n",
    "\n",
    "6.   [SubCellBarCode](https://www.subcellbarcode.org/) - Orre 2019 (AP-MS, subcellular localization)"
   ],
   "metadata": {
    "id": "ztOFSksRr_X2"
   }
  },
  {
   "cell_type": "markdown",
   "source": [
    "#Generate all labeled pairs from CORUM complexes\n",
    "\n",
    "*   Co-complex protein pairs: 1\n",
    "\n",
    "*   Remaining pairs: 0"
   ],
   "metadata": {
    "id": "xONbVXUpy6fp"
   }
  },
  {
   "cell_type": "code",
   "source": [
    "#Functionality for fresh download of latest repository unavailable due to\n",
    "# continuing recovery of website from cyberattack.\n",
    "# Refer to https://www.biostars.org/p/9563995/\n",
    "# Downloaded latest repository of CORUM complexes, release 2018.07.01.\n",
    "corumData = workDir + 'srcData/CORUM/corum.xlsx'\n",
    "accessCORUM = reference.CORUM(corumData)\n",
    "humanProts = set(accessCORUM.humanProts)\n",
    "print(len(humanProts))"
   ],
   "metadata": {
    "id": "8KvYYipFy5nO",
    "colab": {
     "base_uri": "https://localhost:8080/"
    },
    "executionInfo": {
     "status": "ok",
     "timestamp": 1715435692895,
     "user_tz": 240,
     "elapsed": 68695,
     "user": {
      "displayName": "Gary Robert Wilkins Jr.",
      "userId": "02030465818511050071"
     }
    },
    "outputId": "9f655743-790b-4976-b7e0-b793bebe6213"
   },
   "execution_count": null,
   "outputs": [
    {
     "output_type": "stream",
     "name": "stdout",
     "text": [
      "3375\n"
     ]
    }
   ]
  },
  {
   "cell_type": "code",
   "source": [
    "allPairs_corumLabeled = \\\n",
    "  pd.DataFrame(accessCORUM.allPairs_human,\n",
    "               columns=['id1', 'id2'], dtype='str')\n",
    "allPairs_corumLabeled = \\\n",
    "  operations.freezePairs(allPairs_corumLabeled, 'id1', 'id2')\n",
    "allPairs_corumLabeled.insert(3, 'label', 0)\n",
    "\n",
    "posPairs_humanProt = \\\n",
    "  operations.flatten(\n",
    "      [[frozenset(pair) for pair in list(it.combinations(cplx, 2))]\n",
    "       for cplx in accessCORUM.humanCplx_frozen])\n",
    "allPairs_corumLabeled.loc[\n",
    "    (allPairs_corumLabeled.pairsFrozen.isin(posPairs_humanProt)), 'label'] = 1\n",
    "\n",
    "print('+/- Pairs DF dims: {0}'.format(allPairs_corumLabeled.shape))\n",
    "print('+ Pairs DF dims: {0}'.format(\n",
    "    allPairs_corumLabeled.loc[allPairs_corumLabeled.label==1, :].shape))\n",
    "print('- Pairs DF dims: {0}'.format(\n",
    "    allPairs_corumLabeled.loc[allPairs_corumLabeled.label==0, :].shape))\n",
    "\n",
    "pd.concat(\n",
    "    [pd.DataFrame(allPairs_corumLabeled.pairsFrozen.to_list(),\n",
    "                  columns=['id1', 'id2'], dtype='str'),\n",
    "     allPairs_corumLabeled],\n",
    "    axis=1).to_csv(workDir + 'setup/allPairs_corumLabeled.tsv.tar.bz2',\n",
    "                   sep='\\t', index=False)"
   ],
   "metadata": {
    "id": "07lfKM0w1oU0"
   },
   "execution_count": null,
   "outputs": []
  },
  {
   "cell_type": "markdown",
   "source": [
    "#Generate all possible pairs from protein-coding genes"
   ],
   "metadata": {
    "id": "DIoAWz854Hby"
   }
  },
  {
   "cell_type": "code",
   "source": [
    "entrezGene_data = workDir + \\\n",
    "  'srcData/ftp.ncbi.nih.gov/gene/DATA/GENE_INFO/Mammalia/Homo_sapiens.gene_info.gz'\n",
    "geneSpace = \\\n",
    "  reference.geneSpace(entrezGene_data, workDir=workDir)\n",
    "geneSpace.make()"
   ],
   "metadata": {
    "id": "gT-8fyeDyVCv"
   },
   "execution_count": null,
   "outputs": []
  },
  {
   "cell_type": "code",
   "source": [
    "geneIDs_proteinCoding = \\\n",
    "  operations.generatePairs(geneSpace.geneIDs_proteinCoding)\n",
    "pd.DataFrame(geneIDs_proteinCoding,\n",
    "             columns=['id1', 'id2'], dtype='str').to_csv(\n",
    "                 workDir + 'setup/allPairs_proteinCoding_geneidFmt.tsv.tar.bz2',\n",
    "                 sep='\\t', index=False)"
   ],
   "metadata": {
    "id": "BSxc5XKWA_-W"
   },
   "execution_count": null,
   "outputs": []
  },
  {
   "cell_type": "markdown",
   "source": [
    "#Get data"
   ],
   "metadata": {
    "id": "kJAhmwv_UEuC"
   }
  },
  {
   "cell_type": "markdown",
   "source": [
    "##*hu.MAP 1.0*\n",
    "\n",
    "*   2,524,031 (2,523,842 unique) protein-coding GeneIDs pairs\n",
    "*   2,557,860 (2,557,669 unique) total IDs\n",
    "*   33,829 (33,827 unique) unmapped IDs"
   ],
   "metadata": {
    "id": "gWZUXyUYZBMu"
   }
  },
  {
   "cell_type": "code",
   "source": [
    "humap1URL = 'http://hu.proteincomplexes.org/download/'"
   ],
   "metadata": {
    "id": "cvzi6HqyVPpH"
   },
   "execution_count": null,
   "outputs": []
  },
  {
   "cell_type": "code",
   "source": [
    "humap1Filenames = \\\n",
    "  [humap1URL[:-1].split('/download')[0] + f\n",
    "   for f in operations.findDownloadables(humap1URL[:-1], ['ppi', 'feat', 'pairsWProb', 'clusters'])]\n",
    "print(humap1Filenames)"
   ],
   "metadata": {
    "id": "3Ijb4kzsKmiE"
   },
   "execution_count": null,
   "outputs": []
  },
  {
   "cell_type": "code",
   "source": [
    "for f in humap1Filenames:\n",
    "  operations.download(workDir, 'huMAP1', f, overwrite=True)"
   ],
   "metadata": {
    "id": "MJN_aNYx-9j2"
   },
   "execution_count": null,
   "outputs": []
  },
  {
   "cell_type": "markdown",
   "source": [
    "##*hu.MAP 2.0*\n",
    "*   17,268,070 (17,268,060 unique) protein-coding GeneIDs pairs\n",
    "*   17,564,755 (17,564,745 unique) total IDs\n",
    "*   296,685 unmapped IDs"
   ],
   "metadata": {
    "id": "cStcBZ7aZE9K"
   }
  },
  {
   "cell_type": "code",
   "source": [
    "humap2URL = 'http://humap2.proteincomplexes.org/download/'"
   ],
   "metadata": {
    "id": "Iw4MPla3VRPR"
   },
   "execution_count": null,
   "outputs": []
  },
  {
   "cell_type": "code",
   "source": [
    "humap2Filenames = \\\n",
    "  [humap2URL[:-1].split('/download')[0] + f\n",
    "   for f in operations.findDownloadables(humap2URL[:-1], ['ppi', 'feat', 'complex'])]\n",
    "print(humap2Filenames)"
   ],
   "metadata": {
    "id": "q2KAj1-sRdwO"
   },
   "execution_count": null,
   "outputs": []
  },
  {
   "cell_type": "code",
   "source": [
    "for f in humap2Filenames:\n",
    "  operations.download(workDir, 'huMAP2', f, overwrite=True)"
   ],
   "metadata": {
    "id": "NsKSLo-2M3Hs"
   },
   "execution_count": null,
   "outputs": []
  },
  {
   "cell_type": "markdown",
   "source": [
    "##*BioPlex 3.0*\n",
    "*   5,557,133 unique protein-coding GeneIDs pairs\n",
    "*   5,851,900 (5,704,386 unique) total IDs\n",
    "*   698 unmapped IDs"
   ],
   "metadata": {
    "id": "bIm0BNfXU8Vp"
   }
  },
  {
   "cell_type": "code",
   "source": [
    "bioplex3URL = 'https://bioplex.hms.harvard.edu/data/'"
   ],
   "metadata": {
    "id": "xsWVh0I7VSnD"
   },
   "execution_count": null,
   "outputs": []
  },
  {
   "cell_type": "code",
   "source": [
    "bioplex3Filenames = \\\n",
    "  [bioplex3URL[:-1] + f\n",
    "   for f in operations.findDownloadables(bioplex3URL[:-1])]\n",
    "print(bioplex3Filenames)"
   ],
   "metadata": {
    "colab": {
     "base_uri": "https://localhost:8080/"
    },
    "executionInfo": {
     "status": "ok",
     "timestamp": 1699683873906,
     "user_tz": 300,
     "elapsed": 453,
     "user": {
      "displayName": "Gary Robert Wilkins Jr.",
      "userId": "02030465818511050071"
     }
    },
    "outputId": "3870c649-b98f-4b99-d4bc-e488f48b6f64",
    "id": "wrqC5RRdNJpH"
   },
   "execution_count": null,
   "outputs": [
    {
     "output_type": "stream",
     "name": "stdout",
     "text": [
      "['https://bioplex.hms.harvard.edu/data293T_HCT116_ProteomeComparison.tsv', 'https://bioplex.hms.harvard.edu/data293T_HCT116_ProteomeComparison_columns.txt', 'https://bioplex.hms.harvard.edu/dataBaitPreyPairs_noFilters_BP2a.tsv', 'https://bioplex.hms.harvard.edu/dataBioPlex_1.0_293T_DirectedEdges.tsv', 'https://bioplex.hms.harvard.edu/dataBioPlex_1p0_293T_baitList.tsv', 'https://bioplex.hms.harvard.edu/dataBioPlex_2.0_293T_DirectedEdges.tsv', 'https://bioplex.hms.harvard.edu/dataBioPlex_2.3_interactionList.tsv', 'https://bioplex.hms.harvard.edu/dataBioPlex_2p0_293T_baitList.tsv', 'https://bioplex.hms.harvard.edu/dataBioPlex_3.0_293T_DirectedEdges.tsv', 'https://bioplex.hms.harvard.edu/dataBioPlex_3.0_HCT116_DirectedEdges.tsv', 'https://bioplex.hms.harvard.edu/dataBioPlex_3p0_293T_baitList.tsv', 'https://bioplex.hms.harvard.edu/dataBioPlex_3p0_HCT116_baitList.tsv', 'https://bioplex.hms.harvard.edu/dataBioPlex_293T_Network_10K_Dec_2019.tsv', 'https://bioplex.hms.harvard.edu/dataBioPlex_BaitPreyPairs_noFilters_293T_10K_Dec_2019.tsv', 'https://bioplex.hms.harvard.edu/dataBioPlex_BaitPreyPairs_noFilters_HCT116_5.5K_Dec_2019.tsv', 'https://bioplex.hms.harvard.edu/dataBioPlex_HCT116_Network_5.5K_Dec_2019.tsv', 'https://bioplex.hms.harvard.edu/dataBioPlex_RPE1_v0.1.tsv', 'https://bioplex.hms.harvard.edu/dataBioPlex_U2OS_v0.1.tsv', 'https://bioplex.hms.harvard.edu/dataBioPlex_interactionList_v2.tsv', 'https://bioplex.hms.harvard.edu/dataBioPlex_interactionList_v3.tsv', 'https://bioplex.hms.harvard.edu/dataBioPlex_interactionList_v4.tsv', 'https://bioplex.hms.harvard.edu/dataBioPlex_interactionList_v4a.tsv', 'https://bioplex.hms.harvard.edu/dataBioPlex_unpublishedInteractions_May_2019.tsv', 'https://bioplex.hms.harvard.edu/dataHCT116_data_release_August_2019.tsv', 'https://bioplex.hms.harvard.edu/dataHCT116_data_release_August_2021.tsv', 'https://bioplex.hms.harvard.edu/dataHCT116_data_release_February_2020.tsv', 'https://bioplex.hms.harvard.edu/dataHCT116_data_release_February_2021.tsv', 'https://bioplex.hms.harvard.edu/dataHCT116_data_release_March_2019.tsv', 'https://bioplex.hms.harvard.edu/dataHCT116_data_release_May_2019.tsv', 'https://bioplex.hms.harvard.edu/dataHCT116_data_release_May_2020.tsv', 'https://bioplex.hms.harvard.edu/dataHCT116_data_release_May_2021.tsv', 'https://bioplex.hms.harvard.edu/dataHCT116_data_release_Nov_2018.tsv', 'https://bioplex.hms.harvard.edu/dataHCT116_data_release_November_2019.tsv', 'https://bioplex.hms.harvard.edu/dataHCT116_data_release_November_2021.tsv', 'https://bioplex.hms.harvard.edu/databioplex3_gotermfrequencies_050219.sql', 'https://bioplex.hms.harvard.edu/datacombinedinteractionlist_032019.sql', 'https://bioplex.hms.harvard.edu/datacommunity2gene_050119.sql', 'https://bioplex.hms.harvard.edu/datacommunity_edge_triples_050119.sql', 'https://bioplex.hms.harvard.edu/datacommunity_edges_050119.sql', 'https://bioplex.hms.harvard.edu/datacommunity_nodes_050119.sql', 'https://bioplex.hms.harvard.edu/dataconservation_annotations_041919.sql', 'https://bioplex.hms.harvard.edu/dataconservation_annotations_050119.sql', 'https://bioplex.hms.harvard.edu/dataconservation_triples_041819.sql', 'https://bioplex.hms.harvard.edu/dataconservation_triples_050119.sql', 'https://bioplex.hms.harvard.edu/datadomainnetedgestyles_10312019.sql', 'https://bioplex.hms.harvard.edu/datadomainnetlayout_10312019.sql', 'https://bioplex.hms.harvard.edu/dataedge_ages_10012019.sql', 'https://bioplex.hms.harvard.edu/dataedgemetadata_neg_09302019.sql', 'https://bioplex.hms.harvard.edu/dataedgemetadata_pos_09302019.sql', 'https://bioplex.hms.harvard.edu/dataedgeplottinginfo_neg_09302019.sql', 'https://bioplex.hms.harvard.edu/dataedgeplottinginfo_pos_09302019.sql', 'https://bioplex.hms.harvard.edu/datagene2pfam_10312019.sql', 'https://bioplex.hms.harvard.edu/datagene_ages_2_10012019.sql', 'https://bioplex.hms.harvard.edu/datainteractomeNetwork_RAW_Files_Paper1.tsv', 'https://bioplex.hms.harvard.edu/datainteractome_update_April2017.tsv', 'https://bioplex.hms.harvard.edu/datainteractome_update_Aug2016.tsv', 'https://bioplex.hms.harvard.edu/datainteractome_update_Dec2015.tsv', 'https://bioplex.hms.harvard.edu/datainteractome_update_Dec2016.tsv', 'https://bioplex.hms.harvard.edu/datainteractome_update_May2016.tsv', 'https://bioplex.hms.harvard.edu/datainteractome_update_Nov2017.tsv', 'https://bioplex.hms.harvard.edu/datamergedgenegoinfo_v2_032719.sql', 'https://bioplex.hms.harvard.edu/datanetworkplottinginfo_neg_09302019.sql', 'https://bioplex.hms.harvard.edu/datanetworkplottinginfo_pos_09302019.sql', 'https://bioplex.hms.harvard.edu/datapq_16808_scaled_wgeneid.sql']\n"
     ]
    }
   ]
  },
  {
   "cell_type": "code",
   "source": [
    "bioplex3Feat_filename = \\\n",
    "  bioplex3URL + 'BioPlex_BaitPreyPairs_noFilters_293T_10K_Dec_2019.tsv'\n",
    "operations.download(workDir, 'BioPlex3', bioplex3Feat_filename, overwrite=True)"
   ],
   "metadata": {
    "colab": {
     "base_uri": "https://localhost:8080/"
    },
    "id": "eMQTySG2BMKB",
    "executionInfo": {
     "status": "ok",
     "timestamp": 1700553806682,
     "user_tz": 300,
     "elapsed": 100067,
     "user": {
      "displayName": "kaputfish kaputfish",
      "userId": "01463028869337595546"
     }
    },
    "outputId": "64fec0d0-75a4-4a64-cf60-b2bd1d25f541"
   },
   "execution_count": null,
   "outputs": [
    {
     "output_type": "stream",
     "name": "stdout",
     "text": [
      "/content/drive/My Drive/elcfs_protein_complex_modeling/srcData/BioPlex3/BioPlex_BaitPreyPairs_noFilters_293T_10K_Dec_2019.tsv\n"
     ]
    },
    {
     "output_type": "execute_result",
     "data": {
      "text/plain": [
       "'/content/drive/My Drive/elcfs_protein_complex_modeling/srcData/BioPlex3/BioPlex_BaitPreyPairs_noFilters_293T_10K_Dec_2019.tsv'"
      ],
      "application/vnd.google.colaboratory.intrinsic+json": {
       "type": "string"
      }
     },
     "metadata": {},
     "execution_count": 17
    }
   ]
  },
  {
   "cell_type": "markdown",
   "source": [
    "##Protein Atlas hosted downloadable data"
   ],
   "metadata": {
    "id": "on5BLzlVlQYm"
   }
  },
  {
   "cell_type": "code",
   "source": [
    "proteinAtlas_url = 'https://www.proteinatlas.org/about/download/'\n",
    "proteinAtlas_uhlenURL = 'https://www.proteinatlas.org/about/publicationdata/'"
   ],
   "metadata": {
    "id": "4dBOlc-ElfxP"
   },
   "execution_count": null,
   "outputs": []
  },
  {
   "cell_type": "code",
   "source": [
    "proteinAtlas_filenames = \\\n",
    "  [proteinAtlas_url[:-1] + f\n",
    "   for f in operations.findDownloadables(proteinAtlas_url[:-1])]\n",
    "print(proteinAtlas_filenames)"
   ],
   "metadata": {
    "colab": {
     "base_uri": "https://localhost:8080/"
    },
    "executionInfo": {
     "status": "ok",
     "timestamp": 1700598844117,
     "user_tz": 300,
     "elapsed": 4385,
     "user": {
      "displayName": "kaputfish kaputfish",
      "userId": "01463028869337595546"
     }
    },
    "outputId": "1aca06cf-7af3-4d3c-f79b-4543cdc3fda8",
    "id": "p5lWJeIGlfxQ"
   },
   "execution_count": null,
   "outputs": [
    {
     "output_type": "stream",
     "name": "stdout",
     "text": [
      "['https://www.proteinatlas.org/about/download/ENSG00000134057.xml', 'https://www.proteinatlas.org/about/download/ENSG00000134057.trig', 'https://www.proteinatlas.org/about/download/ENSG00000134057.tsv', 'https://www.proteinatlas.org/about/download/ENSG00000134057.json', 'https://www.proteinatlas.org/about/downloadhttp://v13.proteinatlas.org', 'https://www.proteinatlas.org/about/download/download/normal_tissue.tsv.zip', 'https://www.proteinatlas.org/about/download/download/pathology.tsv.zip', 'https://www.proteinatlas.org/about/download/download/subcellular_location.tsv.zip', 'https://www.proteinatlas.org/about/download/download/rna_tissue_consensus.tsv.zip', 'https://www.proteinatlas.org/about/download/download/rna_tissue_hpa.tsv.zip', 'https://www.proteinatlas.org/about/download/download/rna_tissue_hpa_description.tsv.zip', 'https://www.proteinatlas.org/about/download/download/rna_brain_hpa.tsv.zip', 'https://www.proteinatlas.org/about/download/download/rna_pfc_brain_hpa.tsv.zip', 'https://www.proteinatlas.org/about/download/download/rna_tissue_gtex.tsv.zip', 'https://www.proteinatlas.org/about/download/download/rna_tissue_fantom.tsv.zip', 'https://www.proteinatlas.org/about/download/download/rna_single_cell_type.tsv.zip', 'https://www.proteinatlas.org/about/download/download/rna_single_cell_type_tissue.tsv.zip', 'https://www.proteinatlas.org/about/download/download/rna_single_cell_cluster_description.tsv.zip', 'https://www.proteinatlas.org/about/download/download/rna_single_cell_read_count.zip', 'https://www.proteinatlas.org/about/download/download/rna_brain_gtex.tsv.zip', 'https://www.proteinatlas.org/about/download/download/rna_brain_fantom.tsv.zip', 'https://www.proteinatlas.org/about/download/download/rna_pig_brain_hpa.tsv.zip', 'https://www.proteinatlas.org/about/download/download/rna_pig_brain_sample_hpa.tsv.zip', 'https://www.proteinatlas.org/about/download/download/rna_mouse_brain_hpa.tsv.zip', 'https://www.proteinatlas.org/about/download/download/rna_mouse_brain_sample_hpa.tsv.zip', 'https://www.proteinatlas.org/about/download/download/rna_mouse_brain_allen.tsv.zip', 'https://www.proteinatlas.org/about/download/download/rna_immune_cell.tsv.zip', 'https://www.proteinatlas.org/about/download/download/rna_immune_cell_sample.tsv.zip', 'https://www.proteinatlas.org/about/download/download/rna_immune_cell_sample_tpm_m.tsv.zip', 'https://www.proteinatlas.org/about/download/download/rna_immune_cell_monaco.tsv.zip', 'https://www.proteinatlas.org/about/download/download/rna_immune_cell_schmiedel.tsv.zip', 'https://www.proteinatlas.org/about/download/download/rna_celline_cancer.tsv.zip', 'https://www.proteinatlas.org/about/download/download/rna_celline.tsv.zip', 'https://www.proteinatlas.org/about/download/download/rna_celline_description.tsv.zip', 'https://www.proteinatlas.org/about/download/download/rna_cancer_sample.tsv.zip', 'https://www.proteinatlas.org/about/download/download/transcript_rna_tissue.tsv.zip', 'https://www.proteinatlas.org/about/download/download/transcript_rna_brain.tsv.zip', 'https://www.proteinatlas.org/about/download/download/transcript_rna_gtexretina.tsv.zip', 'https://www.proteinatlas.org/about/download/download/transcript_rna_immunecells.tsv.zip', 'https://www.proteinatlas.org/about/download/download/transcript_rna_pigbrain.tsv.zip', 'https://www.proteinatlas.org/about/download/download/transcript_rna_mousebrain.tsv.zip', 'https://www.proteinatlas.org/about/download/download/proteinatlas.tsv.zip', 'https://www.proteinatlas.org/about/download/download/proteinatlas.json.gz', 'https://www.proteinatlas.org/about/download/download/proteinatlas.xsd', 'https://www.proteinatlas.org/about/download/download/proteinatlas.xml.gz', 'https://www.proteinatlas.org/about/downloadhttp://www.openphacts.org', 'https://www.proteinatlas.org/about/downloadhttp://www.rd-connect.eu', 'https://www.proteinatlas.org/about/download/download/proteinatlas.trig.gz', 'https://www.proteinatlas.org/about/download/images_static/cell.svg', 'https://www.proteinatlas.org/about/downloadmailto:contact@proteinatlas.org']\n"
     ]
    }
   ]
  },
  {
   "cell_type": "code",
   "source": [
    "proteinAtlas_uhlenFilenames = \\\n",
    "  [proteinAtlas_uhlenURL[:-1] + f\n",
    "   for f in operations.findDownloadables(proteinAtlas_uhlenURL[:-1])]\n",
    "print(proteinAtlas_uhlenFilenames)"
   ],
   "metadata": {
    "colab": {
     "base_uri": "https://localhost:8080/"
    },
    "id": "u5TS0u3AnCnb",
    "executionInfo": {
     "status": "ok",
     "timestamp": 1700599321172,
     "user_tz": 300,
     "elapsed": 1893,
     "user": {
      "displayName": "kaputfish kaputfish",
      "userId": "01463028869337595546"
     }
    },
    "outputId": "8728177a-a6d1-4f1c-d248-628887e2103d"
   },
   "execution_count": null,
   "outputs": [
    {
     "output_type": "stream",
     "name": "stdout",
     "text": [
      "['https://www.proteinatlas.org/about/publicationdata/download/antibodyresponse.csv.zip', 'https://www.proteinatlas.org/about/publicationdata/download/expression_data.TMA.csv.zip', 'https://www.proteinatlas.org/about/publicationdata/download/expression_data.CMA.csv.zip', 'https://www.proteinatlas.org/about/publicationdata/download/expression_data.IF.csv.zip', 'https://www.proteinatlas.org/about/publicationdata/download/rna_transcript.tsv.gz', 'https://www.proteinatlas.org/about/publicationdata/download/scapis_wellness_correlation_network_all_data.txt.gz', 'https://www.proteinatlas.org/about/publicationdatahttps://www.ncbi.nlm.nih.gov/geo/query/acc.cgi?acc=GSE146773', 'https://www.proteinatlas.org/about/publicationdata/download/pubmed33627808_FUCCI-FACS-data.zip', 'https://www.proteinatlas.org/about/publicationdatamailto:contact@proteinatlas.org']\n"
     ]
    }
   ]
  },
  {
   "cell_type": "markdown",
   "source": [
    "###*FANTOM5*\n"
   ],
   "metadata": {
    "id": "iqxjmiQXjNkn"
   }
  },
  {
   "cell_type": "code",
   "source": [
    "[f for f in proteinAtlas_filenames if 'fantom' in f]"
   ],
   "metadata": {
    "colab": {
     "base_uri": "https://localhost:8080/"
    },
    "id": "1Evha0Cal_PB",
    "executionInfo": {
     "status": "ok",
     "timestamp": 1700598916946,
     "user_tz": 300,
     "elapsed": 6,
     "user": {
      "displayName": "kaputfish kaputfish",
      "userId": "01463028869337595546"
     }
    },
    "outputId": "96e35564-25ce-4992-d368-86b8048446e5"
   },
   "execution_count": null,
   "outputs": [
    {
     "output_type": "execute_result",
     "data": {
      "text/plain": [
       "['https://www.proteinatlas.org/about/download/download/rna_tissue_fantom.tsv.zip',\n",
       " 'https://www.proteinatlas.org/about/download/download/rna_brain_fantom.tsv.zip']"
      ]
     },
     "metadata": {},
     "execution_count": 11
    }
   ]
  },
  {
   "cell_type": "code",
   "source": [
    "fantom5_filename = \\\n",
    "  'https://www.proteinatlas.org/about/download/download/rna_tissue_fantom.tsv.zip'\n",
    "operations.download(workDir, 'FANTOM5', fantom5_filename, overwrite=True)"
   ],
   "metadata": {
    "colab": {
     "base_uri": "https://localhost:8080/",
     "height": 53
    },
    "executionInfo": {
     "status": "ok",
     "timestamp": 1700598982432,
     "user_tz": 300,
     "elapsed": 2136,
     "user": {
      "displayName": "kaputfish kaputfish",
      "userId": "01463028869337595546"
     }
    },
    "outputId": "e3175283-c27e-464a-8753-3967548f1156",
    "id": "k5T42pu8lfxQ"
   },
   "execution_count": null,
   "outputs": [
    {
     "output_type": "stream",
     "name": "stdout",
     "text": [
      "/content/drive/My Drive/elcfs_protein_complex_modeling/srcData/FANTOM5/rna_tissue_fantom.tsv.zip\n"
     ]
    },
    {
     "output_type": "execute_result",
     "data": {
      "text/plain": [
       "'/content/drive/My Drive/elcfs_protein_complex_modeling/srcData/FANTOM5/rna_tissue_fantom.tsv.zip'"
      ],
      "application/vnd.google.colaboratory.intrinsic+json": {
       "type": "string"
      }
     },
     "metadata": {},
     "execution_count": 12
    }
   ]
  },
  {
   "cell_type": "markdown",
   "source": "###*GTEx*\n",
   "metadata": {
    "id": "n-lzciF2jaLr"
   }
  },
  {
   "cell_type": "code",
   "source": [
    "[f for f in proteinAtlas_filenames if 'gtex' in f]"
   ],
   "metadata": {
    "colab": {
     "base_uri": "https://localhost:8080/"
    },
    "executionInfo": {
     "status": "ok",
     "timestamp": 1700599056608,
     "user_tz": 300,
     "elapsed": 275,
     "user": {
      "displayName": "kaputfish kaputfish",
      "userId": "01463028869337595546"
     }
    },
    "outputId": "24a7194e-62f0-49ee-c2a8-aa446cdd38ae",
    "id": "AUPzwQbJmhKt"
   },
   "execution_count": null,
   "outputs": [
    {
     "output_type": "execute_result",
     "data": {
      "text/plain": [
       "['https://www.proteinatlas.org/about/download/download/rna_tissue_gtex.tsv.zip',\n",
       " 'https://www.proteinatlas.org/about/download/download/rna_brain_gtex.tsv.zip',\n",
       " 'https://www.proteinatlas.org/about/download/download/transcript_rna_gtexretina.tsv.zip']"
      ]
     },
     "metadata": {},
     "execution_count": 13
    }
   ]
  },
  {
   "cell_type": "code",
   "source": [
    "gtex_filename = \\\n",
    "  'https://www.proteinatlas.org/about/download/download/rna_tissue_gtex.tsv.zip'\n",
    "operations.download(workDir, 'gTEX', gtex_filename, overwrite=True)"
   ],
   "metadata": {
    "colab": {
     "base_uri": "https://localhost:8080/",
     "height": 53
    },
    "executionInfo": {
     "status": "ok",
     "timestamp": 1700599089267,
     "user_tz": 300,
     "elapsed": 3066,
     "user": {
      "displayName": "kaputfish kaputfish",
      "userId": "01463028869337595546"
     }
    },
    "outputId": "4b3077d9-20bf-4cc0-c693-19c8c19797b2",
    "id": "xnkc2Zm-mhKu"
   },
   "execution_count": null,
   "outputs": [
    {
     "output_type": "stream",
     "name": "stdout",
     "text": [
      "/content/drive/My Drive/elcfs_protein_complex_modeling/srcData/gTEX/rna_tissue_gtex.tsv.zip\n"
     ]
    },
    {
     "output_type": "execute_result",
     "data": {
      "text/plain": [
       "'/content/drive/My Drive/elcfs_protein_complex_modeling/srcData/gTEX/rna_tissue_gtex.tsv.zip'"
      ],
      "application/vnd.google.colaboratory.intrinsic+json": {
       "type": "string"
      }
     },
     "metadata": {},
     "execution_count": 14
    }
   ]
  },
  {
   "cell_type": "markdown",
   "source": [
    "###*HPA*\n"
   ],
   "metadata": {
    "id": "JT3RwQO1kASb"
   }
  },
  {
   "cell_type": "code",
   "source": [
    "[f for f in proteinAtlas_filenames if 'location' in f]"
   ],
   "metadata": {
    "colab": {
     "base_uri": "https://localhost:8080/"
    },
    "id": "p95JOvdaoOd5",
    "executionInfo": {
     "status": "ok",
     "timestamp": 1700599576130,
     "user_tz": 300,
     "elapsed": 267,
     "user": {
      "displayName": "kaputfish kaputfish",
      "userId": "01463028869337595546"
     }
    },
    "outputId": "86949be1-bf23-420f-b252-bc5db749de62"
   },
   "execution_count": null,
   "outputs": [
    {
     "output_type": "execute_result",
     "data": {
      "text/plain": [
       "['https://www.proteinatlas.org/about/download/download/subcellular_location.tsv.zip']"
      ]
     },
     "metadata": {},
     "execution_count": 25
    }
   ]
  },
  {
   "cell_type": "code",
   "source": [
    "hpaLocation_filename = \\\n",
    "  'https://www.proteinatlas.org/about/download/download/subcellular_location.tsv.zip'\n",
    "operations.download(workDir, 'HPA', hpaLocation_filename, overwrite=True)"
   ],
   "metadata": {
    "colab": {
     "base_uri": "https://localhost:8080/",
     "height": 53
    },
    "id": "f-mch1OGoXcH",
    "executionInfo": {
     "status": "ok",
     "timestamp": 1700601818695,
     "user_tz": 300,
     "elapsed": 1652,
     "user": {
      "displayName": "kaputfish kaputfish",
      "userId": "01463028869337595546"
     }
    },
    "outputId": "580fafad-5f73-4f8f-8e1d-d96b6746df47"
   },
   "execution_count": null,
   "outputs": [
    {
     "output_type": "stream",
     "name": "stdout",
     "text": [
      "/content/drive/My Drive/elcfs_protein_complex_modeling/srcData/HPA/subcellular_location.tsv.zip\n"
     ]
    },
    {
     "output_type": "execute_result",
     "data": {
      "text/plain": [
       "'/content/drive/My Drive/elcfs_protein_complex_modeling/srcData/HPA/subcellular_location.tsv.zip'"
      ],
      "application/vnd.google.colaboratory.intrinsic+json": {
       "type": "string"
      }
     },
     "metadata": {},
     "execution_count": 28
    }
   ]
  },
  {
   "cell_type": "markdown",
   "source": [
    "###*Uhlén 2015*\n"
   ],
   "metadata": {
    "id": "6gtmsY0Njaha"
   }
  },
  {
   "cell_type": "code",
   "source": [
    "[f for f in proteinAtlas_uhlenFilenames if 'rna' in f]"
   ],
   "metadata": {
    "colab": {
     "base_uri": "https://localhost:8080/"
    },
    "executionInfo": {
     "status": "ok",
     "timestamp": 1700599448361,
     "user_tz": 300,
     "elapsed": 280,
     "user": {
      "displayName": "kaputfish kaputfish",
      "userId": "01463028869337595546"
     }
    },
    "outputId": "ccff1450-6bc3-4d4e-b74e-424f285c6918",
    "id": "kLu79ZPTmvDC"
   },
   "execution_count": null,
   "outputs": [
    {
     "output_type": "execute_result",
     "data": {
      "text/plain": [
       "['https://www.proteinatlas.org/about/publicationdata/download/rna_transcript.tsv.gz']"
      ]
     },
     "metadata": {},
     "execution_count": 22
    }
   ]
  },
  {
   "cell_type": "code",
   "source": [
    "uhlenData_filename = \\\n",
    "  'https://www.proteinatlas.org/about/publicationdata/download/rna_transcript.tsv.gz'\n",
    "operations.download(workDir, 'Uhlén', uhlenData_filename, overwrite=True)"
   ],
   "metadata": {
    "colab": {
     "base_uri": "https://localhost:8080/",
     "height": 53
    },
    "executionInfo": {
     "status": "ok",
     "timestamp": 1700599450864,
     "user_tz": 300,
     "elapsed": 2225,
     "user": {
      "displayName": "kaputfish kaputfish",
      "userId": "01463028869337595546"
     }
    },
    "outputId": "c51f15d3-9bbb-4eb5-f03b-b3f9516e5542",
    "id": "DcbJWxxkmvDC"
   },
   "execution_count": null,
   "outputs": [
    {
     "output_type": "stream",
     "name": "stdout",
     "text": [
      "/content/drive/My Drive/elcfs_protein_complex_modeling/srcData/Uhlén/rna_transcript.tsv.gz\n"
     ]
    },
    {
     "output_type": "execute_result",
     "data": {
      "text/plain": [
       "'/content/drive/My Drive/elcfs_protein_complex_modeling/srcData/Uhlén/rna_transcript.tsv.gz'"
      ],
      "application/vnd.google.colaboratory.intrinsic+json": {
       "type": "string"
      }
     },
     "metadata": {},
     "execution_count": 23
    }
   ]
  },
  {
   "cell_type": "markdown",
   "source": [
    "##*Hein 2015*\n"
   ],
   "metadata": {
    "id": "ariKWAu0hHYQ"
   }
  },
  {
   "cell_type": "code",
   "source": [
    "#Table S2\n",
    "hein2015_tableS2 = \\\n",
    "  workDir + 'srcData/Hein2015/1-s2.0-S0092867415012702-mmc3.xlsx'\n",
    "glob.glob(hein2015_tableS2)"
   ],
   "metadata": {
    "colab": {
     "base_uri": "https://localhost:8080/"
    },
    "id": "E96f_DlAgUF0",
    "executionInfo": {
     "status": "ok",
     "timestamp": 1700597884264,
     "user_tz": 300,
     "elapsed": 835,
     "user": {
      "displayName": "kaputfish kaputfish",
      "userId": "01463028869337595546"
     }
    },
    "outputId": "25e480bf-b881-4faf-a99b-7aba70d93b12"
   },
   "execution_count": null,
   "outputs": [
    {
     "output_type": "execute_result",
     "data": {
      "text/plain": [
       "['/content/drive/My Drive/elcfs_protein_complex_modeling/srcData/Hein2015/1-s2.0-S0092867415012702-mmc3.xlsx']"
      ]
     },
     "metadata": {},
     "execution_count": 7
    }
   ]
  },
  {
   "cell_type": "markdown",
   "source": [
    "##*NCI-60*"
   ],
   "metadata": {
    "id": "6HTfZLN_iaBr"
   }
  },
  {
   "cell_type": "code",
   "source": [
    "#Sourced from Lugo-Martinez directly\n",
    "glob.glob(workDir + 'srcData/NCI60/*')"
   ],
   "metadata": {
    "colab": {
     "base_uri": "https://localhost:8080/"
    },
    "id": "Nm8iM7Ukidwf",
    "executionInfo": {
     "status": "ok",
     "timestamp": 1700598164137,
     "user_tz": 300,
     "elapsed": 392,
     "user": {
      "displayName": "kaputfish kaputfish",
      "userId": "01463028869337595546"
     }
    },
    "outputId": "a14d5f80-79e2-468c-c4f1-4136b66c4892"
   },
   "execution_count": null,
   "outputs": [
    {
     "output_type": "execute_result",
     "data": {
      "text/plain": [
       "['/content/drive/My Drive/elcfs_protein_complex_modeling/srcData/NCI60/nci60_all_expressionPerCellLine.tsv',\n",
       " '/content/drive/My Drive/elcfs_protein_complex_modeling/srcData/NCI60/nci60_all_abundanceLFQPerCellLineProteome.tsv',\n",
       " '/content/drive/My Drive/elcfs_protein_complex_modeling/srcData/NCI60/nci60_all_abundanceLFQPerTissueDeep.tsv']"
      ]
     },
     "metadata": {},
     "execution_count": 8
    }
   ]
  },
  {
   "cell_type": "markdown",
   "source": [
    "##*SubCellBarCode*"
   ],
   "metadata": {
    "id": "3PegOIO3pgkN"
   }
  },
  {
   "cell_type": "markdown",
   "source": [
    "subcellbarcode website down as of 1/23/24"
   ],
   "metadata": {
    "id": "O7lcyV1AFZEf"
   }
  },
  {
   "cell_type": "code",
   "source": [
    "#Table S2\n",
    "scbc2019_tableS2 = workDir + 'srcData/SubCellBarCode/mmc2.xlsx'\n",
    "glob.glob(scbc2019_tableS2)"
   ],
   "metadata": {
    "colab": {
     "base_uri": "https://localhost:8080/"
    },
    "id": "4nFMNGZapgkN",
    "executionInfo": {
     "status": "ok",
     "timestamp": 1700600409660,
     "user_tz": 300,
     "elapsed": 768,
     "user": {
      "displayName": "kaputfish kaputfish",
      "userId": "01463028869337595546"
     }
    },
    "outputId": "e8480243-9bc9-4a6b-a71f-c924e71ef3db"
   },
   "execution_count": null,
   "outputs": [
    {
     "output_type": "execute_result",
     "data": {
      "text/plain": [
       "['/content/drive/My Drive/elcfs_protein_complex_modeling/srcData/SubCellBarCode/mmc2.xlsx']"
      ]
     },
     "metadata": {},
     "execution_count": 27
    }
   ]
  },
  {
   "cell_type": "markdown",
   "source": [
    "##*STRING*"
   ],
   "metadata": {
    "id": "XrxUjkdgFRVw"
   }
  },
  {
   "cell_type": "code",
   "source": [
    "#protein pairs\n"
   ],
   "metadata": {
    "id": "I31IVAToFV04"
   },
   "execution_count": null,
   "outputs": []
  },
  {
   "cell_type": "markdown",
   "source": [
    "##*Lugo-Martinez 2019 (2020 Update)*"
   ],
   "metadata": {
    "id": "za5nJghSYAvK"
   }
  },
  {
   "cell_type": "markdown",
   "source": [
    "###*protein ID pairs absent from published data (skip this code block)*"
   ],
   "metadata": {
    "id": "LcrRmaA7e_KZ"
   }
  },
  {
   "cell_type": "code",
   "source": [
    "lm2019URL = 'https://www.andrew.cmu.edu/user/jlugomar/protein_complexes.htm'"
   ],
   "metadata": {
    "id": "4Nd-ReM5YIsD"
   },
   "execution_count": null,
   "outputs": []
  },
  {
   "cell_type": "code",
   "source": [
    "'''\n",
    "lm2019Data = \\\n",
    "  lm2019URL.split('/protein_complexes.htm')[0] + '/' + \\\n",
    "  operations.findDownloadables(lm2019URL)[0]\n",
    "print(lm2019Data)\n",
    "'''"
   ],
   "metadata": {
    "colab": {
     "base_uri": "https://localhost:8080/",
     "height": 35
    },
    "id": "UVD1VrUHYlO5",
    "executionInfo": {
     "status": "ok",
     "timestamp": 1699683875631,
     "user_tz": 300,
     "elapsed": 5,
     "user": {
      "displayName": "Gary Robert Wilkins Jr.",
      "userId": "02030465818511050071"
     }
    },
    "outputId": "8cb2caf1-ac48-4ebd-a7d6-0f8306e86e19"
   },
   "execution_count": null,
   "outputs": [
    {
     "output_type": "execute_result",
     "data": {
      "text/plain": [
       "\"\\nlm2019Data =   lm2019URL.split('/protein_complexes.htm')[0] + '/' +   operations.findDownloadables(lm2019URL)[0]\\nprint(lm2019Data)\\n\""
      ],
      "application/vnd.google.colaboratory.intrinsic+json": {
       "type": "string"
      }
     },
     "metadata": {},
     "execution_count": 17
    }
   ]
  },
  {
   "cell_type": "markdown",
   "source": [
    "https://www.andrew.cmu.edu/user/jlugomar/docs/code+data.zip\n"
   ],
   "metadata": {
    "id": "zCmkBvbgnLrX"
   }
  },
  {
   "cell_type": "code",
   "source": [
    "#operations.download(workDir, 'Lugo-Martinez2019', lm2019Data, overwrite=True)"
   ],
   "metadata": {
    "id": "r6f6kqyfZBdN"
   },
   "execution_count": null,
   "outputs": []
  },
  {
   "cell_type": "markdown",
   "source": [
    "/content/drive/My Drive/elcfs_protein_complex_modeling/srcData/Lugo-Martinez2019/code+data.zip\n"
   ],
   "metadata": {
    "id": "7DLGRpgsnJZF"
   }
  },
  {
   "cell_type": "code",
   "source": [
    "'''\n",
    "lm2019Data = workDir + 'srcData/Lugo-Martinez2019/code+data'\n",
    "with ZipFile(lm2019Data + '.zip', 'r') as zObject:\n",
    "    zObject.extractall(path=workDir + 'srcData/Lugo-Martinez2019/')\n",
    "'''"
   ],
   "metadata": {
    "colab": {
     "base_uri": "https://localhost:8080/",
     "height": 53
    },
    "id": "5sOX8fVHcaNQ",
    "executionInfo": {
     "status": "ok",
     "timestamp": 1699683875631,
     "user_tz": 300,
     "elapsed": 4,
     "user": {
      "displayName": "Gary Robert Wilkins Jr.",
      "userId": "02030465818511050071"
     }
    },
    "outputId": "38d11d4b-b608-44e9-a8b5-65aabefdbe97"
   },
   "execution_count": null,
   "outputs": [
    {
     "output_type": "execute_result",
     "data": {
      "text/plain": [
       "\"\\nlm2019Data = workDir + 'srcData/Lugo-Martinez2019/code+data'\\nwith ZipFile(lm2019Data + '.zip', 'r') as zObject: \\n    zObject.extractall(path=workDir + 'srcData/Lugo-Martinez2019/')\\n\""
      ],
      "application/vnd.google.colaboratory.intrinsic+json": {
       "type": "string"
      }
     },
     "metadata": {},
     "execution_count": 19
    }
   ]
  },
  {
   "cell_type": "code",
   "source": [
    "#glob.glob(lm2019Data + '/*')"
   ],
   "metadata": {
    "id": "-fWRDvpQdKjx"
   },
   "execution_count": null,
   "outputs": []
  },
  {
   "cell_type": "markdown",
   "source": [
    "['/content/drive/My Drive/elcfs_protein_complex_modeling/srcData/Lugo-Martinez2019/code+data/integrated_MM+TSCS+Exp+Abun+Loc_features_all_pairs_model_either_predictions_rf_candidates.txt',\n",
    " '/content/drive/My Drive/elcfs_protein_complex_modeling/srcData/Lugo-Martinez2019/code+data/integrated_MM+TSCS+Exp+Abun+Loc_features_training_all_pairs_model_either.tsv',\n",
    " '/content/drive/My Drive/elcfs_protein_complex_modeling/srcData/Lugo-Martinez2019/code+data/integrated_training_labels_all_pairs_model_either.tsv',\n",
    " '/content/drive/My Drive/elcfs_protein_complex_modeling/srcData/Lugo-Martinez2019/code+data/getRFresults.m']"
   ],
   "metadata": {
    "id": "ajEzp2monFhd"
   }
  },
  {
   "cell_type": "code",
   "source": [
    "#lm2019Pairs = pd.read_csv(glob.glob(lm2019Data + '/*')[1], sep='\\t', header=None, nrows=10)"
   ],
   "metadata": {
    "id": "I2LNnMbcd-N1"
   },
   "execution_count": null,
   "outputs": []
  },
  {
   "cell_type": "markdown",
   "source": [
    "###*feature, protein ID pairs, and labels only available locally*"
   ],
   "metadata": {
    "id": "Qqp4MI3ifLfB"
   }
  },
  {
   "cell_type": "markdown",
   "source": [
    "**extract protein ID pair data from bz2 tarball using Linux command (python modules are slow)**"
   ],
   "metadata": {
    "id": "-UfTY7FwwsoD"
   }
  },
  {
   "cell_type": "code",
   "source": [
    "!cd 'drive/My Drive/elcfs_protein_complex_modeling/srcData/' ; tar -jxvf 'Lugo-Martinez2019.tar.bz2' 'Lugo-Martinez2019/integrated_training_all_model.tsv' 'Lugo-Martinez2019/integrated_training_labels_all_model.tsv' 'Lugo-Martinez2019/integrated_test_labels_all_model.tsv' 'Lugo-Martinez2019/integrated_test_all_model.tsv'"
   ],
   "metadata": {
    "colab": {
     "base_uri": "https://localhost:8080/"
    },
    "id": "p0MduBEAbiEr",
    "executionInfo": {
     "status": "ok",
     "timestamp": 1699746115454,
     "user_tz": 300,
     "elapsed": 361148,
     "user": {
      "displayName": "Gary Robert Wilkins Jr.",
      "userId": "02030465818511050071"
     }
    },
    "outputId": "9c1357f4-eda4-40d0-c58b-0f0ff126b907"
   },
   "execution_count": null,
   "outputs": [
    {
     "output_type": "stream",
     "name": "stdout",
     "text": [
      "Lugo-Martinez2019/integrated_test_labels_all_model.tsv\n",
      "Lugo-Martinez2019/integrated_training_labels_all_model.tsv\n",
      "Lugo-Martinez2019/integrated_test_all_model.tsv\n",
      "Lugo-Martinez2019/integrated_training_all_model.tsv\n"
     ]
    }
   ]
  },
  {
   "cell_type": "markdown",
   "source": [
    "#Assemble pairs"
   ],
   "metadata": {
    "id": "vHQqp2b9N2KI"
   }
  },
  {
   "cell_type": "markdown",
   "source": [
    "##Training"
   ],
   "metadata": {
    "id": "dBBNu2IDvaMx"
   }
  },
  {
   "cell_type": "markdown",
   "source": [
    "After generating all pairs from human proteins in the latest CORUM repo release along with corresponding labels (non-, co-complex pairs), add labeled pairs as included in hu.MAP 1.0, hu.MAP 2.0, and LM2019 (2020 Update)."
   ],
   "metadata": {
    "id": "bQLce-pG9P6A"
   }
  },
  {
   "cell_type": "code",
   "source": [
    "humap1Pairs_training = \\\n",
    "  {f: pd.read_csv(f, sep='\\t| ', engine='python',\n",
    "                  dtype='str', names=['id1', 'id2'])\n",
    "  for f in glob.glob(workDir + 'srcData/huMAP1/*ppis*')}\n",
    "\n",
    "for f in humap1Pairs_training.keys():\n",
    "    if 'neg' in f.split('/')[-1]:\n",
    "      humap1Pairs_training[f].insert(2, 'label', 0)\n",
    "    else:\n",
    "      humap1Pairs_training[f].insert(2, 'label', 1)\n",
    "\n",
    "humap1Pairs_training = \\\n",
    "  pd.concat([df for df in humap1Pairs_training.values()],\n",
    "            axis=0, ignore_index=True)\n",
    "\n",
    "humap1Prots = set(humap1Pairs_training.id1.to_list()).union(\n",
    "    set(humap1Pairs_training.id2.to_list()))"
   ],
   "metadata": {
    "id": "96LDt4oROE1p"
   },
   "execution_count": null,
   "outputs": []
  },
  {
   "cell_type": "code",
   "source": [
    "humap2Pairs_training = \\\n",
    "  {f: pd.read_csv(f, sep='\\t| ', engine='python',\n",
    "                  dtype='str', names=['id1', 'id2'])\n",
    "  for f in glob.glob(workDir + 'srcData/huMAP2/*ppis*geneid*txt')}\n",
    "\n",
    "for f in humap2Pairs_training.keys():\n",
    "    if 'neg' in f.split('/')[-1]:\n",
    "      humap2Pairs_training[f].insert(2, 'label', 0)\n",
    "    else:\n",
    "      humap2Pairs_training[f].insert(2, 'label', 1)\n",
    "\n",
    "humap2Pairs_training = \\\n",
    "  pd.concat([df for df in humap2Pairs_training.values()],\n",
    "            axis=0, ignore_index=True)\n",
    "\n",
    "humap2Prots = set(humap2Pairs_training.id1.to_list()).union(\n",
    "    set(humap2Pairs_training.id2.to_list()))"
   ],
   "metadata": {
    "id": "uzCTOhWf7ML7"
   },
   "execution_count": null,
   "outputs": []
  },
  {
   "cell_type": "code",
   "source": [
    "lm2019Dir = workDir + 'srcData/Lugo-Martinez2019/'\n",
    "lm2019Pairs_trainingFilenames = \\\n",
    "  [lm2019Dir + 'integrated_training_all_model.tsv',\n",
    "   lm2019Dir + 'integrated_test_all_model.tsv']\n",
    "lm2019Pairs_training = \\\n",
    "  pd.concat(\n",
    "      [pd.read_csv(f, sep=' ', dtype='str', header=None, names=['id1', 'id2'])\n",
    "      for f in lm2019Pairs_trainingFilenames], axis=0, ignore_index=True)\n",
    "\n",
    "lm2019Pairs_labelFilenames = \\\n",
    "  [lm2019Dir + 'integrated_training_labels_all_model.tsv',\n",
    "   lm2019Dir + 'integrated_test_labels_all_model.tsv']\n",
    "lm2019Pairs_label = \\\n",
    "  pd.concat(\n",
    "      [pd.read_csv(f, sep=' ', dtype='int', header=None, names=['label'])\n",
    "      for f in lm2019Pairs_labelFilenames], axis=0, ignore_index=True)\n",
    "\n",
    "lm2019Pairs_training = \\\n",
    "  pd.concat([lm2019Pairs_training, lm2019Pairs_label], axis=1)\n",
    "\n",
    "lm2019Prots = set(lm2019Pairs_training.id1.to_list()).union(\n",
    "    set(lm2019Pairs_training.id2.to_list()))"
   ],
   "metadata": {
    "id": "D8JHSy-E6x2S"
   },
   "execution_count": null,
   "outputs": []
  },
  {
   "cell_type": "code",
   "source": [
    "print('-------------------------------------------------------------------')\n",
    "print('# hu.MAP 1 proteins: {0} (3803 UniProt)'.format(len(humap1Prots)))\n",
    "print('# hu.MAP 2 proteins: {0} (2985 UniProt)'.format(len(humap2Prots)))\n",
    "print('# LM2019 proteins: {0}'.format(len(lm2019Prots)))\n",
    "print('# CORUM 2018 Release proteins: {0} (3375 UniProt)\\n'.format(len(humanProts)))\n",
    "print('Note: LM2019 proteins are a subset of hu.MAP 1 proteins')\n",
    "print('--------------------------------\\n')\n",
    "\n",
    "print('# proteins common to hu.MAP 1 and the CORUM 2018 Release: {0}'.format(\n",
    "    len(humanProts.intersection(humap1Prots))))\n",
    "print('# proteins common to hu.MAP 1 and the CORUM 2018 Release: {0}'.format(\n",
    "    len(humanProts.intersection(humap2Prots))))\n",
    "print('# proteins common to LM2019 and the CORUM 2018 Release: {0}'.format(\n",
    "    len(humanProts.intersection(lm2019Prots))))\n",
    "print('# proteins common to hu.MAP 1 and hu.MAP 2: {0}'.format(\n",
    "    len(humap1Prots.intersection(humap2Prots))))\n",
    "print('# proteins common to (hu.MAP 1+2) and the CORUM 2018 Release: {0}'.format(\n",
    "    len(set(list(humap1Prots.union(humap2Prots))).intersection(humanProts))))\n",
    "print('--------------------------------\\n')\n",
    "\n",
    "print('# proteins across hu.MAP 1, 2, and the CORUM 2018 Release: {0}'.format(\n",
    "    len(humanProts.union(humap1Prots).union(humap2Prots))))\n",
    "print('-------------------------------------------------------------------')"
   ],
   "metadata": {
    "colab": {
     "base_uri": "https://localhost:8080/"
    },
    "id": "fo0x38si3ksl",
    "executionInfo": {
     "status": "ok",
     "timestamp": 1715436126802,
     "user_tz": 240,
     "elapsed": 163,
     "user": {
      "displayName": "Gary Robert Wilkins Jr.",
      "userId": "02030465818511050071"
     }
    },
    "outputId": "60271590-d7bb-4593-97ba-8c1f1df19764"
   },
   "execution_count": null,
   "outputs": [
    {
     "output_type": "stream",
     "name": "stdout",
     "text": [
      "-------------------------------------------------------------------\n",
      "# hu.MAP 1 proteins: 3835 (3803 UniProt)\n",
      "# hu.MAP 2 proteins: 2993 (2985 UniProt)\n",
      "# LM2019 proteins: 2163\n",
      "# CORUM 2018 Release proteins: 3375 (3375 UniProt)\n",
      "\n",
      "Note: LM2019 proteins are a subset of hu.MAP 1 proteins\n",
      "--------------------------------\n",
      "\n",
      "# proteins common to hu.MAP 1 and the CORUM 2018 Release: 2267\n",
      "# proteins common to hu.MAP 1 and the CORUM 2018 Release: 2791\n",
      "# proteins common to LM2019 and the CORUM 2018 Release: 2093\n",
      "# proteins common to hu.MAP 1 and hu.MAP 2: 2141\n",
      "# proteins common to (hu.MAP 1+2) and the CORUM 2018 Release: 2925\n",
      "--------------------------------\n",
      "\n",
      "# proteins across hu.MAP 1, 2, and the CORUM 2018 Release: 5137\n",
      "-------------------------------------------------------------------\n"
     ]
    }
   ]
  },
  {
   "cell_type": "code",
   "source": [
    "humap1Pairs = operations.generatePairs(humap1Prots)\n",
    "humap2Pairs = operations.generatePairs(humap2Prots)\n",
    "humanPairs = operations.generatePairs(humanProts)\n",
    "\n",
    "allPairs = set().union(*[humap1Pairs, humap2Pairs, humanPairs])"
   ],
   "metadata": {
    "id": "X8m1ADk6CTll"
   },
   "execution_count": null,
   "outputs": []
  },
  {
   "cell_type": "code",
   "source": [
    "humap1Pairs_training = \\\n",
    "  operations.freezePairs(humap1Pairs_training, 'id1', 'id2', pool=True)\n",
    "humap2Pairs_training = \\\n",
    "  operations.freezePairs(humap2Pairs_training, 'id1', 'id2', pool=True)\n",
    "lm2019Pairs_training = \\\n",
    "  operations.freezePairs(lm2019Pairs_training, 'id1', 'id2', pool=True)\n",
    "\n",
    "allPairs_training = \\\n",
    "  set().union(*[set(humap1Pairs_training.pairsFrozen.to_list()),\n",
    "                set(humap2Pairs_training.pairsFrozen.to_list()),\n",
    "                set(lm2019Pairs_training.pairsFrozen.to_list()),\n",
    "                set(humanPairs)])"
   ],
   "metadata": {
    "id": "LPCO2eY_iSql"
   },
   "execution_count": null,
   "outputs": []
  },
  {
   "cell_type": "code",
   "source": [
    "print('-----------------------------------------------------------------')\n",
    "print('# hu.MAP 1 protein-generated pairs: {0}'.format(len(humap1Pairs)))\n",
    "print('# hu.MAP 2 protein-generated pairs: {0}'.format(len(humap2Pairs)))\n",
    "print('# CORUM 2018 Release protein-generated pairs: {0}'.format(len(humanPairs)))\n",
    "print('================================')\n",
    "print('# hu.MAP 1 pairs: {0}'.format(\n",
    "    len(set(humap1Pairs_training.pairsFrozen.to_list()))))\n",
    "print('# hu.MAP 2 pairs: {0}'.format(\n",
    "    len(set(humap2Pairs_training.pairsFrozen.to_list()))))\n",
    "print('--------------------------------\\n')\n",
    "\n",
    "print('# pairs common to hu.MAP 1 protein-generated pairs and ' +\n",
    "      'hu.MAP 1 pairs: {0}'.format(\n",
    "          len(humap1Pairs.intersection(\n",
    "              set(humap1Pairs_training.pairsFrozen.to_list())))))\n",
    "print('# pairs common to hu.MAP 2 protein-generated pairs and ' +\n",
    "      'hu.MAP 2 pairs: {0}'.format(\n",
    "          len(humap2Pairs.intersection(\n",
    "              set(humap2Pairs_training.pairsFrozen.to_list())))))\n",
    "print('================================')\n",
    "print('# pairs common to hu.MAP 1 protein-generated pairs and ' +\n",
    "      'CORUM 2018 Release protein-generated pairs: {0}'.format(\n",
    "          len(humanPairs.intersection(humap1Pairs))))\n",
    "print('# pairs common to hu.MAP 2 protein-generated pairs and ' +\n",
    "      'CORUM 2018 Release protein-generated pairs: {0}'.format(\n",
    "          len(humanPairs.intersection(humap2Pairs))))\n",
    "print('================================')\n",
    "print('# pairs common to hu.MAP 1 pairs and ' +\n",
    "      'CORUM 2018 Release protein-generated pairs: {0}'.format(\n",
    "          len(humanPairs.intersection(\n",
    "              set(humap1Pairs_training.pairsFrozen.to_list())))))\n",
    "print('# pairs common to hu.MAP 2 pairs and ' +\n",
    "      'CORUM 2018 Release protein-generated pairs: {0}'.format(\n",
    "          len(humanPairs.intersection(\n",
    "              set(humap2Pairs_training.pairsFrozen.to_list())))))\n",
    "print('--------------------------------\\n')\n",
    "\n",
    "print('# pairs across hu.MAP 1, hu.MAP 2 protein-generated pairs and ' +\n",
    "      'CORUM 2018 Release protein-generated pairs: {0}'.format(\n",
    "          len(allPairs)))\n",
    "print('# pairs across hu.MAP 1, hu.MAP 2 pairs and ' +\n",
    "      'CORUM 2018 Release protein-generated pairs: {0}'.format(\n",
    "          len(allPairs_training)))\n",
    "print('================================')\n",
    "print('# pairs common to the union of protein-generated pairs and ' +\n",
    "      'the union of original pairs for sources: \\n' +\n",
    "      'hu.MAP 1, hu.MAP 2, and the CORUM 2018 Release ' +\n",
    "      'protein-generated pairs: {0}'.format(\n",
    "          len(allPairs.union(allPairs_training))))\n",
    "print('================================')\n",
    "\n",
    "print('# pairs difference between the union of protein-generated pairs and ' +\n",
    "      'the union of original pairs for sources: \\n' +\n",
    "      'hu.MAP 1, hu.MAP 2, and the CORUM 2018 Release ' +\n",
    "      'protein-generated pairs: {0}'.format(\n",
    "          len(allPairs.difference(allPairs_training))))\n",
    "print('Note: Pairs in the difference have no labels in hu.MAP 1.0 and 2.0 ' +\n",
    "      'training pairs data; CORUM 2018 pairs do not overlap and CORUM 2012 ' +\n",
    "      'only overlaps for 20k pairs (in contrast to 1.5M).')\n",
    "print('-----------------------------------------------------------------')"
   ],
   "metadata": {
    "id": "CygY-7vNIXD5",
    "colab": {
     "base_uri": "https://localhost:8080/"
    },
    "executionInfo": {
     "status": "ok",
     "timestamp": 1702707027593,
     "user_tz": 300,
     "elapsed": 28947,
     "user": {
      "displayName": "Gary Wilkins",
      "userId": "01463028869337595546"
     }
    },
    "outputId": "2751e722-3c79-44bf-a977-4a8f9ef961fc"
   },
   "execution_count": null,
   "outputs": [
    {
     "output_type": "stream",
     "name": "stdout",
     "text": [
      "-----------------------------------------------------------------\n",
      "# hu.MAP 1 protein-generated pairs: 7351695\n",
      "# hu.MAP 2 protein-generated pairs: 4477528\n",
      "# CORUM 2018 Release protein-generated pairs: 5693625\n",
      "================================\n",
      "# hu.MAP 1 pairs: 5447238\n",
      "# hu.MAP 2 pairs: 3435064\n",
      "--------------------------------\n",
      "\n",
      "# pairs common to hu.MAP 1 protein-generated pairs and hu.MAP 1 pairs: 5447238\n",
      "# pairs common to hu.MAP 2 protein-generated pairs and hu.MAP 2 pairs: 3435064\n",
      "================================\n",
      "# pairs common to hu.MAP 1 protein-generated pairs and CORUM 2018 Release protein-generated pairs: 2568511\n",
      "# pairs common to hu.MAP 2 protein-generated pairs and CORUM 2018 Release protein-generated pairs: 3893445\n",
      "================================\n",
      "# pairs common to hu.MAP 1 pairs and CORUM 2018 Release protein-generated pairs: 2020627\n",
      "# pairs common to hu.MAP 2 pairs and CORUM 2018 Release protein-generated pairs: 3031822\n",
      "--------------------------------\n",
      "\n",
      "# pairs across hu.MAP 1, hu.MAP 2 protein-generated pairs and CORUM 2018 Release protein-generated pairs: 11043800\n",
      "# pairs across hu.MAP 1, hu.MAP 2 pairs and CORUM 2018 Release protein-generated pairs: 9514727\n",
      "================================\n",
      "# pairs common to the union of protein-generated pairs and the union of original pairs for sources: \n",
      "hu.MAP 1, hu.MAP 2, and the CORUM 2018 Release protein-generated pairs: 11043800\n",
      "================================\n",
      "# pairs difference between the union of protein-generated pairs and the union of original pairs for sources: \n",
      "hu.MAP 1, hu.MAP 2, and the CORUM 2018 Release protein-generated pairs: 1529073\n",
      "Note: Pairs in the difference have no labels in hu.MAP 1.0 and 2.0 training pairs data; CORUM 2018 pairs do not overlap and CORUM 2012 only overlaps for 20k pairs (in contrast to 1.5M).\n",
      "-----------------------------------------------------------------\n"
     ]
    }
   ]
  },
  {
   "cell_type": "code",
   "source": [
    "allPairs_missingDifference = allPairs.difference(allPairs_training)\n",
    "print(len(allPairs_missingDifference))\n",
    "print(allPairs_missingDifference.issubset(humap1Pairs.union(humap2Pairs)))"
   ],
   "metadata": {
    "colab": {
     "base_uri": "https://localhost:8080/"
    },
    "id": "g8NjYfATnzVm",
    "executionInfo": {
     "status": "ok",
     "timestamp": 1702707034315,
     "user_tz": 300,
     "elapsed": 3191,
     "user": {
      "displayName": "Gary Wilkins",
      "userId": "01463028869337595546"
     }
    },
    "outputId": "fe214378-29f4-4f43-d566-69cc90fc9d3b"
   },
   "execution_count": null,
   "outputs": [
    {
     "output_type": "stream",
     "name": "stdout",
     "text": [
      "1529073\n",
      "True\n"
     ]
    }
   ]
  },
  {
   "cell_type": "code",
   "source": [
    "trainingPairs_sources = \\\n",
    "  {'allPairs_corumLabeled': allPairs_corumLabeled,\n",
    "    'humap1Pairs_training': humap1Pairs_training,\n",
    "    'humap2Pairs_training': humap2Pairs_training,\n",
    "    'lm2019Pairs_training': lm2019Pairs_training}"
   ],
   "metadata": {
    "id": "W_5zBeOERZey"
   },
   "execution_count": null,
   "outputs": []
  },
  {
   "cell_type": "code",
   "source": [
    "#generates lists of geneID-pair frozensets corresponding to the union and intersection of all pairs respectively\n",
    "operations.setupSpaces_pairs([v for v in trainingPairs_sources.values()])"
   ],
   "metadata": {
    "id": "74ZzKjUuR7LN"
   },
   "execution_count": null,
   "outputs": []
  },
  {
   "cell_type": "markdown",
   "source": [
    "###Aggregate labels as strings for duplicate pairs for subsequent analysis"
   ],
   "metadata": {
    "id": "AAMc2Kri6xq1"
   }
  },
  {
   "cell_type": "code",
   "source": [
    "for k, df in trainingPairs_sources.items():\n",
    "  print(k)\n",
    "  df.drop(columns=['id1', 'id2'], inplace=True)\n",
    "  df.loc[:, 'label'] = df.loc[:, 'label'].astype('str')\n",
    "  df.rename(columns={'label': k + '_label'}, inplace=True)\n",
    "  df = df.groupby('pairsFrozen', as_index=False).agg(';'.join)\n",
    "  trainingPairs_sources[k] = df.copy()"
   ],
   "metadata": {
    "colab": {
     "base_uri": "https://localhost:8080/"
    },
    "id": "isghY0tv5aYC",
    "executionInfo": {
     "status": "ok",
     "timestamp": 1702707349898,
     "user_tz": 300,
     "elapsed": 315598,
     "user": {
      "displayName": "Gary Wilkins",
      "userId": "01463028869337595546"
     }
    },
    "outputId": "7ae22061-84e0-49fb-e995-63c20a278832"
   },
   "execution_count": null,
   "outputs": [
    {
     "output_type": "stream",
     "name": "stdout",
     "text": [
      "allPairs_corumLabeled\n",
      "humap1Pairs_training\n",
      "humap2Pairs_training\n",
      "lm2019Pairs_training\n"
     ]
    }
   ]
  },
  {
   "cell_type": "code",
   "source": [
    "#keep count of total unique pairs across\n",
    "# CORUM (2018), hu.MAP 1, hu.MAP 2., and LM2019\n",
    "len(set().union(\n",
    "    *[set(v.pairsFrozen.to_list()) for v in trainingPairs_sources.values()]))"
   ],
   "metadata": {
    "colab": {
     "base_uri": "https://localhost:8080/"
    },
    "id": "Az_dmKcah4H-",
    "executionInfo": {
     "status": "ok",
     "timestamp": 1702707356578,
     "user_tz": 300,
     "elapsed": 6695,
     "user": {
      "displayName": "Gary Wilkins",
      "userId": "01463028869337595546"
     }
    },
    "outputId": "48f4532f-108e-448a-b7eb-8aa4d1a5a929"
   },
   "execution_count": null,
   "outputs": [
    {
     "output_type": "execute_result",
     "data": {
      "text/plain": [
       "9514727"
      ]
     },
     "metadata": {},
     "execution_count": 77
    }
   ]
  },
  {
   "cell_type": "markdown",
   "source": [
    "###Merge training pairs together"
   ],
   "metadata": {
    "id": "Tee298jftqok"
   }
  },
  {
   "cell_type": "code",
   "source": [
    "trainingPairs = pd.DataFrame(columns=['pairsFrozen'])\n",
    "for k, df in trainingPairs_sources.items():\n",
    "  print(k)\n",
    "  trainingPairs = trainingPairs.merge(\n",
    "      df, on=['pairsFrozen'], how='outer')"
   ],
   "metadata": {
    "colab": {
     "base_uri": "https://localhost:8080/"
    },
    "id": "SAd3qP8zhPoj",
    "executionInfo": {
     "status": "ok",
     "timestamp": 1702707402860,
     "user_tz": 300,
     "elapsed": 46295,
     "user": {
      "displayName": "Gary Wilkins",
      "userId": "01463028869337595546"
     }
    },
    "outputId": "9c5979f2-7569-4271-cc1f-20a641762c78"
   },
   "execution_count": null,
   "outputs": [
    {
     "output_type": "stream",
     "name": "stdout",
     "text": [
      "allPairs_corumLabeled\n",
      "humap1Pairs_training\n",
      "humap2Pairs_training\n",
      "lm2019Pairs_training\n"
     ]
    }
   ]
  },
  {
   "cell_type": "code",
   "source": [
    "trainingPairs = \\\n",
    "  pd.concat([pd.DataFrame(\n",
    "      trainingPairs.pairsFrozen.to_list(),\n",
    "      columns=['id1', 'id2'], dtype='str'),\n",
    "             trainingPairs], axis=1)"
   ],
   "metadata": {
    "id": "t0MQ630ck_-0"
   },
   "execution_count": null,
   "outputs": []
  },
  {
   "cell_type": "markdown",
   "source": [
    "###Identify the source of each pair's label"
   ],
   "metadata": {
    "id": "AakcHHNr6Mdk"
   }
  },
  {
   "cell_type": "code",
   "source": [
    "trainingPairs.insert(3, 'sourced', np.nan)\n",
    "\n",
    "trainingPairs.loc[\n",
    "    trainingPairs.allPairs_corumLabeled_label.notnull(),\n",
    "    'sourced'] = 'CORUM 2018 Release'\n",
    "print(trainingPairs.loc[\n",
    "    trainingPairs.allPairs_corumLabeled_label.notnull()].shape)\n",
    "\n",
    "trainingPairs.loc[\n",
    "    (trainingPairs.allPairs_corumLabeled_label.isna() &\n",
    "     trainingPairs.humap2Pairs_training_label.notnull()),\n",
    "    'sourced'] = 'hu.MAP 2.0'\n",
    "print(trainingPairs.loc[\n",
    "    (trainingPairs.allPairs_corumLabeled_label.isna() &\n",
    "     trainingPairs.humap2Pairs_training_label.notnull())].shape)\n",
    "\n",
    "trainingPairs.loc[\n",
    "    (trainingPairs.allPairs_corumLabeled_label.isna() &\n",
    "     trainingPairs.humap2Pairs_training_label.isna() &\n",
    "     trainingPairs.humap1Pairs_training_label.notnull()),\n",
    "    'sourced'] = 'hu.MAP 1.0'\n",
    "print(trainingPairs.loc[\n",
    "    (trainingPairs.allPairs_corumLabeled_label.isna() &\n",
    "     trainingPairs.humap2Pairs_training_label.isna() &\n",
    "     trainingPairs.humap1Pairs_training_label.notnull())].shape)"
   ],
   "metadata": {
    "colab": {
     "base_uri": "https://localhost:8080/"
    },
    "id": "AkeTUYxQdaE3",
    "executionInfo": {
     "status": "ok",
     "timestamp": 1702707422983,
     "user_tz": 300,
     "elapsed": 13038,
     "user": {
      "displayName": "Gary Wilkins",
      "userId": "01463028869337595546"
     }
    },
    "outputId": "8301758b-aad3-4850-aac1-578c5976ad7e"
   },
   "execution_count": null,
   "outputs": [
    {
     "output_type": "stream",
     "name": "stdout",
     "text": [
      "(5693625, 8)\n",
      "(403242, 8)\n",
      "(3417860, 8)\n"
     ]
    }
   ]
  },
  {
   "cell_type": "code",
   "source": [
    "sumTotal = 0\n",
    "for desc in trainingPairs.sourced.unique():\n",
    "  sumTotal+=len(trainingPairs.loc[trainingPairs.sourced==desc])\n",
    "  print('# {0}: {1}'.format(desc, str(sumTotal)))\n",
    "\n",
    "print('sum total: {0}'.format(sumTotal))"
   ],
   "metadata": {
    "colab": {
     "base_uri": "https://localhost:8080/"
    },
    "id": "ZAv956DW03uX",
    "executionInfo": {
     "status": "ok",
     "timestamp": 1702707427417,
     "user_tz": 300,
     "elapsed": 3384,
     "user": {
      "displayName": "Gary Wilkins",
      "userId": "01463028869337595546"
     }
    },
    "outputId": "11490945-bb8b-4e06-983a-a7feed405f51"
   },
   "execution_count": null,
   "outputs": [
    {
     "output_type": "stream",
     "name": "stdout",
     "text": [
      "# CORUM 2018 Release: 5693625\n",
      "# hu.MAP 1.0: 9111485\n",
      "# hu.MAP 2.0: 9514727\n",
      "sum total: 9514727\n"
     ]
    }
   ]
  },
  {
   "cell_type": "markdown",
   "source": [
    "###Identify duplicates"
   ],
   "metadata": {
    "id": "ehmELRlw0A6b"
   }
  },
  {
   "cell_type": "code",
   "source": [
    "trainingPairs_dupsCols = \\\n",
    "  [col for col in trainingPairs.columns.to_list()[4:]\n",
    "   if not all(trainingPairs[col].str.isnumeric())]\n",
    "print(trainingPairs_dupsCols)"
   ],
   "metadata": {
    "id": "3GHMooENCWTH",
    "colab": {
     "base_uri": "https://localhost:8080/"
    },
    "executionInfo": {
     "status": "ok",
     "timestamp": 1702707438402,
     "user_tz": 300,
     "elapsed": 10996,
     "user": {
      "displayName": "Gary Wilkins",
      "userId": "01463028869337595546"
     }
    },
    "outputId": "e489d1f1-febe-4ceb-efd3-82d1a71f905e"
   },
   "execution_count": null,
   "outputs": [
    {
     "output_type": "stream",
     "name": "stdout",
     "text": [
      "['humap1Pairs_training_label', 'lm2019Pairs_training_label']\n"
     ]
    }
   ]
  },
  {
   "cell_type": "code",
   "source": [
    "colOrder_pref = \\\n",
    "  ['id1', 'id2', 'pairsFrozen', 'sourced',\n",
    "   'allPairs_corumLabeled_label',\n",
    "   'humap1Pairs_training_label',\n",
    "   'humap1Pairs_training_label_1', 'humap1Pairs_training_label_2',\n",
    "   'humap2Pairs_training_label',\n",
    "   'lm2019Pairs_training_label',\n",
    "   'lm2019Pairs_training_label_1', 'lm2019Pairs_training_label_2']\n",
    "\n",
    "colOrder_prefSubs = \\\n",
    "  ['pairsFrozen', 'sourced',\n",
    "   'allPairs_corumLabeled_label', 'humap2Pairs_training_label',\n",
    "   'humap1Pairs_training_label_1', 'humap1Pairs_training_label_2',\n",
    "   'lm2019Pairs_training_label_1', 'lm2019Pairs_training_label_2']\n",
    "\n",
    "sourceCols = \\\n",
    "  ['allPairs_corumLabeled_label',\n",
    "   'humap1Pairs_training_label',\n",
    "   'humap1Pairs_training_label_1', 'humap1Pairs_training_label_2',\n",
    "   'humap2Pairs_training_label',\n",
    "   'lm2019Pairs_training_label',\n",
    "   'lm2019Pairs_training_label_1', 'lm2019Pairs_training_label_2']\n",
    "\n",
    "dupCols_split = \\\n",
    "  ['humap1Pairs_training_label_1', 'humap1Pairs_training_label_2',\n",
    "   'lm2019Pairs_training_label_1', 'lm2019Pairs_training_label_2']"
   ],
   "metadata": {
    "id": "toFLapL6FWnm"
   },
   "execution_count": null,
   "outputs": []
  },
  {
   "cell_type": "code",
   "source": [
    "for col in trainingPairs_dupsCols:\n",
    "  trainingPairs[[col+'_1', col+'_2']] = \\\n",
    "    trainingPairs[col].str.split(';', expand=True)"
   ],
   "metadata": {
    "id": "1XNlleyrCRC6"
   },
   "execution_count": null,
   "outputs": []
  },
  {
   "cell_type": "code",
   "source": [
    "trainingPairs = trainingPairs[colOrder_pref]\n",
    "trainingPairs.fillna(value={col: np.nan for col in dupCols_split}, inplace=True)"
   ],
   "metadata": {
    "id": "dcu5DVqUEIsk"
   },
   "execution_count": null,
   "outputs": []
  },
  {
   "cell_type": "markdown",
   "source": [
    "###Assess and resolve label agreement across hu.MAP 1.0, hu.MAP 2.0, and LM 2019"
   ],
   "metadata": {
    "id": "H2K_F9oBMErn"
   }
  },
  {
   "cell_type": "code",
   "source": [
    "labelAgreement = trainingPairs.loc[:, sourceCols].nunique(axis=1, dropna=True)\n",
    "trainingPairs.insert(4, 'labelAgreement',\n",
    "  [True if numLabels==1 else False for numLabels in labelAgreement])\n",
    "\n",
    "print('# pairs w unanimous agreement: {0}'.format(\n",
    "    trainingPairs.labelAgreement.sum()))\n",
    "print('# pairs w/o unanimous agreement: {0}'.format(\n",
    "    trainingPairs.loc[~trainingPairs.labelAgreement].shape))"
   ],
   "metadata": {
    "colab": {
     "base_uri": "https://localhost:8080/"
    },
    "id": "KNqJ2ATP8Vgj",
    "executionInfo": {
     "status": "ok",
     "timestamp": 1702707952727,
     "user_tz": 300,
     "elapsed": 379781,
     "user": {
      "displayName": "Gary Wilkins",
      "userId": "01463028869337595546"
     }
    },
    "outputId": "05bc609a-9bd7-4671-9f82-2b56bfd2ad5e"
   },
   "execution_count": null,
   "outputs": [
    {
     "output_type": "stream",
     "name": "stdout",
     "text": [
      "# pairs w unanimous agreement: 9505728\n",
      "# pairs w/o unanimous agreement: (8999, 13)\n"
     ]
    }
   ]
  },
  {
   "cell_type": "code",
   "source": [
    "trainingPairs.insert(4, 'finalLabel', np.nan)"
   ],
   "metadata": {
    "id": "SrGYa-VU2NmZ"
   },
   "execution_count": null,
   "outputs": []
  },
  {
   "cell_type": "markdown",
   "source": [
    "####Final label: value for which all non-empty sources agree"
   ],
   "metadata": {
    "id": "XlLp49j-s5xy"
   }
  },
  {
   "cell_type": "code",
   "source": [
    "trainingPairs.loc[trainingPairs.labelAgreement, 'finalLabel'] = \\\n",
    "  trainingPairs.loc[trainingPairs.labelAgreement, sourceCols].fillna(\n",
    "      method='bfill', axis=1).iloc[:, 0]\n",
    "print(trainingPairs.loc[trainingPairs.finalLabel.notnull()].shape)"
   ],
   "metadata": {
    "colab": {
     "base_uri": "https://localhost:8080/"
    },
    "id": "vW7JbDoNoSuV",
    "executionInfo": {
     "status": "ok",
     "timestamp": 1702707975250,
     "user_tz": 300,
     "elapsed": 22530,
     "user": {
      "displayName": "Gary Wilkins",
      "userId": "01463028869337595546"
     }
    },
    "outputId": "80da089b-17f5-4a95-bb33-7d4924034151"
   },
   "execution_count": null,
   "outputs": [
    {
     "output_type": "stream",
     "name": "stdout",
     "text": [
      "(9505728, 14)\n"
     ]
    }
   ]
  },
  {
   "cell_type": "markdown",
   "source": [
    "####Final label: CORUM 2018-generated label supercedes hu.MAP 1.0, 2.0 and LM 2019"
   ],
   "metadata": {
    "id": "BbC6449IuE1X"
   }
  },
  {
   "cell_type": "code",
   "source": [
    "trainingPairs.loc[\n",
    "    ((trainingPairs.finalLabel.isna()) &\n",
    "     (trainingPairs.allPairs_corumLabeled_label.notnull()) &\n",
    "     (trainingPairs.sourced=='CORUM 2018 Release')), 'finalLabel'] = \\\n",
    "      trainingPairs.loc[\n",
    "          ((trainingPairs.finalLabel.isna()) &\n",
    "           (trainingPairs.allPairs_corumLabeled_label.notnull()) &\n",
    "            (trainingPairs.sourced=='CORUM 2018 Release')),\n",
    "          'allPairs_corumLabeled_label']\n",
    "print(trainingPairs.loc[trainingPairs.finalLabel.notnull()].shape)"
   ],
   "metadata": {
    "colab": {
     "base_uri": "https://localhost:8080/"
    },
    "id": "nXA8PWTo9Fg7",
    "executionInfo": {
     "status": "ok",
     "timestamp": 1702707981892,
     "user_tz": 300,
     "elapsed": 6218,
     "user": {
      "displayName": "Gary Wilkins",
      "userId": "01463028869337595546"
     }
    },
    "outputId": "1afafd87-6a30-4953-fee8-55c60ec8f594"
   },
   "execution_count": null,
   "outputs": [
    {
     "output_type": "stream",
     "name": "stdout",
     "text": [
      "(9514258, 14)\n"
     ]
    }
   ]
  },
  {
   "cell_type": "markdown",
   "source": [
    "####Final label: hu.MAP 2.0 label supercedes hu.MAP 1.0 and LM 2019"
   ],
   "metadata": {
    "id": "G5cI0s7x8G0l"
   }
  },
  {
   "cell_type": "code",
   "source": [
    "trainingPairs.loc[((trainingPairs.finalLabel.isna()) &\n",
    "                   (trainingPairs.allPairs_corumLabeled_label.isna()) &\n",
    "                   (trainingPairs.sourced=='hu.MAP 2.0')), 'finalLabel'] = \\\n",
    "                      trainingPairs.loc[((trainingPairs.finalLabel.isna()) &\n",
    "                       (trainingPairs.allPairs_corumLabeled_label.isna()) &\n",
    "                        (trainingPairs.sourced=='hu.MAP 2.0')),\n",
    "                                        'humap2Pairs_training_label']\n",
    "print(trainingPairs.loc[trainingPairs.finalLabel.notnull()].shape)"
   ],
   "metadata": {
    "colab": {
     "base_uri": "https://localhost:8080/"
    },
    "id": "xe944zyg8SeY",
    "executionInfo": {
     "status": "ok",
     "timestamp": 1702707988545,
     "user_tz": 300,
     "elapsed": 5498,
     "user": {
      "displayName": "Gary Wilkins",
      "userId": "01463028869337595546"
     }
    },
    "outputId": "45d5038e-d80c-4765-9d83-2844a2b56d4f"
   },
   "execution_count": null,
   "outputs": [
    {
     "output_type": "stream",
     "name": "stdout",
     "text": [
      "(9514272, 14)\n"
     ]
    }
   ]
  },
  {
   "cell_type": "markdown",
   "source": [
    "####Final label: Set final label for remaining pairs (multiple records with inconsistent labeling, without agreement with other sources)"
   ],
   "metadata": {
    "id": "hfzbWjJs-ZuJ"
   }
  },
  {
   "cell_type": "code",
   "source": [
    "trainingPairs_corum2012_sourced = \\\n",
    "  trainingPairs.loc[((trainingPairs.finalLabel.isna()) &\n",
    "   (trainingPairs.allPairs_corumLabeled_label.isna()) &\n",
    "    (trainingPairs.humap2Pairs_training_label.isna()) &\n",
    "     (trainingPairs.sourced=='hu.MAP 1.0')), 'pairsFrozen'].to_list()\n",
    "print(len(trainingPairs_corum2012_sourced))"
   ],
   "metadata": {
    "colab": {
     "base_uri": "https://localhost:8080/"
    },
    "id": "qz7piKNctYwG",
    "executionInfo": {
     "status": "ok",
     "timestamp": 1702707991760,
     "user_tz": 300,
     "elapsed": 2150,
     "user": {
      "displayName": "Gary Wilkins",
      "userId": "01463028869337595546"
     }
    },
    "outputId": "ae11c844-d5c9-4afe-9256-133a63962f32"
   },
   "execution_count": null,
   "outputs": [
    {
     "output_type": "stream",
     "name": "stdout",
     "text": [
      "455\n"
     ]
    }
   ]
  },
  {
   "cell_type": "code",
   "source": [
    "corumData_2012Filename = workDir + 'srcData/labeledPairs_corum2012.tsv'\n",
    "corumData_2012 = \\\n",
    "  pd.read_csv(corumData_2012Filename, sep='\\t',\n",
    "              dtype={'id1': 'str', 'id2': 'str', 'label': 'int'})\n",
    "corumData_2012 = operations.freezePairs(corumData_2012, 'id1', 'id2')\n",
    "corumData_2012Prots = set(corumData_2012.id1.to_list()).union(\n",
    "    set(corumData_2012.id2.to_list()))\n",
    "\n",
    "corumData_2012 = \\\n",
    "  corumData_2012.loc[corumData_2012.pairsFrozen.isin(\n",
    "      trainingPairs_corum2012_sourced)]"
   ],
   "metadata": {
    "id": "oeDZd90u_nOz"
   },
   "execution_count": null,
   "outputs": []
  },
  {
   "cell_type": "code",
   "source": [
    "trainingPairs.loc[trainingPairs.pairsFrozen.isin(\n",
    "    trainingPairs_corum2012_sourced), 'finalLabel'] = \\\n",
    "      trainingPairs.loc[trainingPairs.pairsFrozen.isin(\n",
    "          trainingPairs_corum2012_sourced), 'pairsFrozen'].map(\n",
    "              dict(zip(corumData_2012.pairsFrozen, corumData_2012.label)))"
   ],
   "metadata": {
    "id": "I2m3JUZQ-T2u"
   },
   "execution_count": null,
   "outputs": []
  },
  {
   "cell_type": "code",
   "source": [
    "#Only 3 pairs remain for which the proteins constituting the pair are human,\n",
    "#e.g., the 381 others are either from rat or mouse.  Uniprot.org's ID\n",
    "#mapping feature in concert with the \"IntAct\" database confirmed these pairs\n",
    "#interact\n",
    "trainingPairs.loc[\n",
    "    trainingPairs.finalLabel.isna() &\n",
    "    trainingPairs.id1.isin(set(geneSpace.geneIDs_all)) &\n",
    "    trainingPairs.id2.isin(set(geneSpace.geneIDs_all)), 'finalLabel'] = 1"
   ],
   "metadata": {
    "id": "fX7syH3_RyO5"
   },
   "execution_count": null,
   "outputs": []
  },
  {
   "cell_type": "code",
   "source": [
    "trainingPairs.dropna(subset=['finalLabel'], inplace=True)\n",
    "trainingPairs.finalLabel = trainingPairs.finalLabel.astype('int')\n",
    "print(trainingPairs.shape)"
   ],
   "metadata": {
    "colab": {
     "base_uri": "https://localhost:8080/"
    },
    "id": "JknoSQ7c8pZ9",
    "executionInfo": {
     "status": "ok",
     "timestamp": 1702708013877,
     "user_tz": 300,
     "elapsed": 5177,
     "user": {
      "displayName": "Gary Wilkins",
      "userId": "01463028869337595546"
     }
    },
    "outputId": "792ff122-7f45-446f-9a0c-37425a68c842"
   },
   "execution_count": null,
   "outputs": [
    {
     "output_type": "stream",
     "name": "stdout",
     "text": [
      "(9514346, 14)\n"
     ]
    }
   ]
  },
  {
   "cell_type": "code",
   "source": [
    "trainingPairs_sourcesFilename = \\\n",
    "  workDir + 'setup/' + \\\n",
    "  'trainingPairs_sourcesLabeled_detailed_corum2018_humap1+2_lm2019.tsv.tar.bz2'\n",
    "trainingPairs.drop(columns=['pairsFrozen']).to_csv(\n",
    "    trainingPairs_sourcesFilename, sep='\\t', index=False)\n",
    "\n",
    "trainingPairs_simpleFilename = \\\n",
    "  workDir + 'setup/' + \\\n",
    "  'trainingPairs_labeledAggregate_corum2018_humap1+2_lm2019.tsv.tar.bz2'\n",
    "trainingPairs.loc[:, ['id1', 'id2', 'finalLabel']].rename(\n",
    "    columns={'finalLabel': 'label'}).to_csv(\n",
    "        trainingPairs_simpleFilename, sep='\\t', index=False)"
   ],
   "metadata": {
    "id": "UeF_EsgW-Jxw"
   },
   "execution_count": null,
   "outputs": []
  },
  {
   "cell_type": "markdown",
   "source": [
    "##Unlabeled, protein-coding"
   ],
   "metadata": {
    "id": "woDaNyuNvwZk"
   }
  },
  {
   "cell_type": "code",
   "source": [
    "nontrainingPairs_proteinCoding = \\\n",
    "  geneIDs_proteinCoding.difference(set(\n",
    "      trainingPairs.pairsFrozen.to_list()))\n",
    "print(len(geneIDs_proteinCoding))\n",
    "print(len(nontrainingPairs_proteinCoding))\n",
    "\n",
    "pd.DataFrame(nontrainingPairs_proteinCoding,\n",
    "             columns=['id1', 'id2'], dtype='str').to_csv(\n",
    "                 workDir + 'setup/nontrainingPairs_proteinCoding.tsv.tar.bz2',\n",
    "                 sep='\\t', index=False)"
   ],
   "metadata": {
    "id": "_d1-5TMsv1bc"
   },
   "execution_count": null,
   "outputs": []
  },
  {
   "cell_type": "markdown",
   "source": [
    "#Aggregate protein-pair level data\n",
    "*   hu.MAP 1.0\n",
    "*   hu.MAP 2.0\n",
    "*   BioPlex 3.0"
   ],
   "metadata": {
    "id": "yQ4urlba0k4N"
   }
  },
  {
   "cell_type": "markdown",
   "source": [
    "##Align and aggregate columns from sources with overlapping features"
   ],
   "metadata": {
    "id": "M0SUCLbADVuq"
   }
  },
  {
   "cell_type": "markdown",
   "source": [
    "Rethink:\n",
    "\n",
    "1) load feat mat(s)\n",
    "\n",
    "2) copy records for only training pairs\n",
    "\n",
    "3) account for pairs disjoint between hu.MAP 1.0, 2.0 releases; append columns disjoint between releases for shared pairs and for disjoint pairs, restore/retain hu.MAP 1.0 features"
   ],
   "metadata": {
    "id": "v38he6IE0mms"
   }
  },
  {
   "cell_type": "code",
   "source": [
    "featMat_humap1Dir = workDir + 'srcData/huMAP1/feature_matrix.txt.gz'\n",
    "featMat_humap2Dir = workDir + \\\n",
    "  'srcData/huMAP2/humap2_feature_matrix_20200820.featmat.gz'\n",
    "featMat_bioplex3Dir = workDir + \\\n",
    "  'srcData/BioPlex3/BioPlex_BaitPreyPairs_noFilters_293T_10K_Dec_2019.tsv'"
   ],
   "metadata": {
    "id": "zAHgOgus1X_Z"
   },
   "execution_count": null,
   "outputs": []
  },
  {
   "cell_type": "code",
   "source": [
    "bioplexFeats_orig = \\\n",
    "  ['nwdscore', 'zscore', 'plate_zscore', 'entropy', 'uPeps', 'ratio',\n",
    "   'total_psms', 'ratioTotalPSMs', 'UtoTratio']\n",
    "\n",
    "humanNet_feats = \\\n",
    "  ['CE-CC', 'CE-CX', 'CE-GT', 'CE-LC', 'CE-YH', 'DM-PI', 'HS-CX', 'HS-DC',\n",
    "   'HS-GN', 'HS-MS', 'HS-PG', 'HS-YH', 'SC-CC', 'SC-CX', 'SC-GT', 'SC-LC',\n",
    "   'SC-MS', 'SC-TS', 'SC-YH']\n",
    "\n",
    "colsHumap1_discard = \\\n",
    "  ['enrichment', 'hit',\n",
    "   'id1', 'id2', 'frozenset_ids',\n",
    "   'geneid1', 'geneid2', 'frozenset_geneids',\n",
    "   'gene_id1_x', 'gene_id1_y', 'gene_id1_str_x', 'gene_id1_str_y',\n",
    "   'gene_id2_x', 'gene_id2_y', 'gene_id2_str_x', 'gene_id2_str_y',\n",
    "   'frozenset_geneids_x', 'frozenset_geneids_y', 'frozenset_geneids_str_order']\n",
    "\n",
    "colsHumap1 = list(pd.read_csv(\n",
    "    featMat_humap1Dir, sep=',', header=None, nrows=1).values[0])\n",
    "colsHumap1 = [col for col in colsHumap1 if col not in colsHumap1_discard]\n",
    "print(len(colsHumap1))"
   ],
   "metadata": {
    "colab": {
     "base_uri": "https://localhost:8080/"
    },
    "id": "AUt6mCeQy4L7",
    "executionInfo": {
     "status": "ok",
     "timestamp": 1702870841600,
     "user_tz": 300,
     "elapsed": 112,
     "user": {
      "displayName": "Gary Wilkins",
      "userId": "01463028869337595546"
     }
    },
    "outputId": "da8dc57d-db2f-4079-c514-9cf52095bdeb"
   },
   "execution_count": null,
   "outputs": [
    {
     "output_type": "stream",
     "name": "stdout",
     "text": [
      "258\n"
     ]
    }
   ]
  },
  {
   "cell_type": "code",
   "source": [
    "colsHumap2_discard = ['id1', 'id2']\n",
    "colsHumap2 = list(pd.read_csv(\n",
    "    featMat_humap2Dir, sep=',', header=None, nrows=1).values[0])\n",
    "colsHumap2 = [col for col in colsHumap2 if col not in colsHumap2_discard]\n",
    "print(len(colsHumap2))"
   ],
   "metadata": {
    "colab": {
     "base_uri": "https://localhost:8080/"
    },
    "id": "2Hy-DBQY1xH8",
    "executionInfo": {
     "status": "ok",
     "timestamp": 1702870841600,
     "user_tz": 300,
     "elapsed": 2,
     "user": {
      "displayName": "Gary Wilkins",
      "userId": "01463028869337595546"
     }
    },
    "outputId": "d3cba021-e2cb-4c71-8b82-69fd1c08bbf9"
   },
   "execution_count": null,
   "outputs": [
    {
     "output_type": "stream",
     "name": "stdout",
     "text": [
      "292\n"
     ]
    }
   ]
  },
  {
   "cell_type": "code",
   "source": [
    "colsBioplex3_discard = \\\n",
    "  ['CompPASS_ID', 'bait_symbol', 'bait_geneid', 'db_protein_id', 'symbol',\n",
    "   'prot_description', 'gene_id']\n",
    "colsBioplex3 = list(pd.read_csv(\n",
    "    featMat_bioplex3Dir, sep='\\t', header=None, nrows=1).values[0])\n",
    "colsBioplex3 = \\\n",
    "  [col for col in colsBioplex3\n",
    "   if all([col not in colsBioplex3_discard, isinstance(col, str)])]\n",
    "print(len(colsBioplex3))"
   ],
   "metadata": {
    "colab": {
     "base_uri": "https://localhost:8080/"
    },
    "id": "DBbd0WaO2kZR",
    "executionInfo": {
     "status": "ok",
     "timestamp": 1702870841600,
     "user_tz": 300,
     "elapsed": 1,
     "user": {
      "displayName": "Gary Wilkins",
      "userId": "01463028869337595546"
     }
    },
    "outputId": "d2052f14-430b-4e8f-db75-24742ec5599b"
   },
   "execution_count": null,
   "outputs": [
    {
     "output_type": "stream",
     "name": "stdout",
     "text": [
      "13\n"
     ]
    }
   ]
  },
  {
   "cell_type": "code",
   "source": [
    "colsHumap1_only = \\\n",
    "  [col for col in colsHumap1 if col not in colsHumap2+bioplexFeats_orig]\n",
    "print(len(colsHumap1_only))\n",
    "\n",
    "colsHumap2_only = \\\n",
    "  [col for col in colsHumap2 if col not in colsHumap1]\n",
    "print(len(colsHumap2_only))\n",
    "\n",
    "colsHumap1_humap2Order = [col for col in colsHumap2 if col in colsHumap1]\n",
    "featIdx_lastWan = colsHumap1_humap2Order.index('Sp_iex_60_121019_pq_euc')+1\n",
    "colsHumap1_humap2Order[featIdx_lastWan: featIdx_lastWan] = humanNet_feats\n",
    "print(len(colsHumap1_humap2Order))\n",
    "\n",
    "colsHumap1p2_order = colsHumap1_humap2Order + colsHumap2_only\n",
    "print(len(colsHumap1p2_order))"
   ],
   "metadata": {
    "colab": {
     "base_uri": "https://localhost:8080/"
    },
    "id": "LSwiN5Ii4krg",
    "executionInfo": {
     "status": "ok",
     "timestamp": 1702870841601,
     "user_tz": 300,
     "elapsed": 2,
     "user": {
      "displayName": "Gary Wilkins",
      "userId": "01463028869337595546"
     }
    },
    "outputId": "bf1fa85e-7c87-47a1-b733-060471d8ebe5"
   },
   "execution_count": null,
   "outputs": [
    {
     "output_type": "stream",
     "name": "stdout",
     "text": [
      "19\n",
      "62\n",
      "249\n",
      "311\n"
     ]
    }
   ]
  },
  {
   "cell_type": "markdown",
   "source": [
    "##Extract desired features"
   ],
   "metadata": {
    "id": "BIfNSBeGDiCZ"
   }
  },
  {
   "cell_type": "markdown",
   "source": [
    "###hu.MAP 1.0 (BioPlex 1.0 included)\n",
    "\n",
    "Features (258):\n",
    "\n",
    "*   Wan 2015: 220 (Poisson, Apex, WCC, and PQ-EUC for 55 samples each)\n",
    "*   Guruharsha 2011: 1 (HGSCore - AP-MS fly feature)\n",
    "*   Malovannaya 2011: 1 (MEMO-based confidence - AP-MS human feature)\n",
    "*   HumanNet 2011: 19 (multi-'omics weighted confidence scores)\n",
    "\n",
    "*   BioPlex 1.0: 9+2\n",
    "    \n",
    "    (NWD Score, Z Score, Plate Z Score, Entropy, Unique Peptide Bins, Ratio, Total PSMs, Ratio Total PSMs, and Unique Total Peptide Ratio) + derived MS feats, pair count and -ln(pval)\n",
    "\n",
    "*   Hein 2015: 4+2\n",
    "\n",
    "    (prey.bait.correlation, valid.values, log10.prey.bait.ratio, and log10.prey.bait.expression.ratio) + derived MS feats, pair count and -ln(pval)"
   ],
   "metadata": {
    "id": "ls0YgSB5TT_b"
   }
  },
  {
   "cell_type": "code",
   "source": [
    "#hu.MAP 1.0 labeled pairs, ~400k\n",
    "featMat_humap1 = \\\n",
    "  pd.read_csv(featMat_humap1Dir, sep=',',\n",
    "              dtype={'geneid1': 'str', 'geneid2': 'str'}, low_memory=False)\n",
    "print('# hu.MAP 1.0 dimensions: {0}'.format(featMat_humap1.shape))\n",
    "\n",
    "featMat_humap1 = \\\n",
    "  operations.freezePairs(featMat_humap1, 'geneid1', 'geneid2', pool=True)\n",
    "featMat_humap1 = \\\n",
    "  featMat_humap1.loc[featMat_humap1.pairsFrozen.isin(\n",
    "      trainingPairs.pairsFrozen.to_list()),\n",
    "                     colsHumap1_only+['pairsFrozen']].copy()\n",
    "print('# hu.MAP 1.0 dimensions (extraction): {0}'.format(featMat_humap1.shape))\n",
    "\n",
    "featMat_humap1 = \\\n",
    "  featMat_humap1.groupby('pairsFrozen', as_index=False).mean(numeric_only=True)\n",
    "print('# hu.MAP 1.0 dimensions (averaged duplicate observations): {0}'.format(\n",
    "    featMat_humap1.shape))\n",
    "\n",
    "featMat_humap1Filename = \\\n",
    "  workDir + 'featureData/pairLevel/featMat_trainingPairs_humap1.tsv'\n",
    "pd.concat(\n",
    "    [pd.DataFrame(featMat_humap1.pairsFrozen.to_list(), columns=['id1', 'id2'],\n",
    "                  dtype='str'),\n",
    "     featMat_humap1.drop(columns=['pairsFrozen'])], axis=1).to_csv(\n",
    "         featMat_humap1Filename, sep='\\t', index=False)"
   ],
   "metadata": {
    "colab": {
     "base_uri": "https://localhost:8080/"
    },
    "id": "gXfenpHegesM",
    "outputId": "c4a24ecc-5bf8-4762-a05e-89cb807a5a02",
    "executionInfo": {
     "status": "ok",
     "timestamp": 1702793251218,
     "user_tz": 300,
     "elapsed": 133952,
     "user": {
      "displayName": "Gary Wilkins",
      "userId": "01463028869337595546"
     }
    }
   },
   "execution_count": null,
   "outputs": [
    {
     "output_type": "stream",
     "name": "stdout",
     "text": [
      "# hu.MAP 1.0 dimensions (extraction): (442755, 20)\n",
      "# hu.MAP 1.0 dimensions (averaged duplicate observations): (442716, 20)\n"
     ]
    }
   ]
  },
  {
   "cell_type": "code",
   "source": [
    "#hu.MAP 1.0 unlabeled pairs, ~2M\n",
    "featMat_humap1Unlabeled = \\\n",
    "  pd.read_csv(featMat_humap1Dir, sep=',',\n",
    "              dtype={'geneid1': 'str', 'geneid2': 'str'}, low_memory=False)\n",
    "print('# hu.MAP 1.0 dimensions: {0}'.format(\n",
    "    featMat_humap1Unlabeled.shape))\n",
    "\n",
    "featMat_humap1Unlabeled = operations.freezePairs(\n",
    "    featMat_humap1Unlabeled, 'geneid1', 'geneid2', pool=True)\n",
    "featMat_humap1Unlabeled = \\\n",
    "  featMat_humap1Unlabeled.loc[featMat_humap1Unlabeled.pairsFrozen.isin(\n",
    "      nontrainingPairs_proteinCoding)].copy()\n",
    "print('# hu.MAP unlabeled 1.0 dimensions (extraction): {0}'.format(\n",
    "    featMat_humap1Unlabeled.shape))\n",
    "\n",
    "featMat_humap1Unlabeled = featMat_humap1Unlabeled.groupby(\n",
    "    'pairsFrozen', as_index=False).mean(numeric_only=True)\n",
    "featMat_humap1Unlabeled = \\\n",
    "  featMat_humap1Unlabeled.loc[:, ['geneid1', 'geneid2'] + humanNet_feats].copy()\n",
    "featMat_humap1Unlabeled.rename(\n",
    "    columns={'geneid1': 'id1', 'geneid2': 'id2'}, inplace=True)\n",
    "print('# hu.MAP unlabeled 1.0 dimensions (extraction): {0}'.format(\n",
    "    featMat_humap1Unlabeled.shape))\n",
    "\n",
    "featMat_humap1Unlabeled_filename = \\\n",
    "  workDir + 'featureData/pairLevel/featMat_unlabeledPairs_humap1.tsv'\n",
    "pd.concat(\n",
    "    [pd.DataFrame(featMat_humap1Unlabeled.pairsFrozen.to_list(),\n",
    "                  columns=['id1', 'id2'], dtype='str'),\n",
    "     featMat_humap1Unlabeled.drop(columns=['pairsFrozen'])], axis=1).to_csv(\n",
    "         featMat_humap1Unlabeled_filename, sep='\\t', index=False)"
   ],
   "metadata": {
    "id": "UKJVXvrYyxh0"
   },
   "execution_count": null,
   "outputs": []
  },
  {
   "cell_type": "markdown",
   "source": [
    "###hu.MAP 2.0 (BioPlex 1.0 and 2.0 included)\n",
    "\n",
    "Features (292):\n",
    "\n",
    "*   BioPlex 2.0: 10+(4=2x2)\n",
    "    \n",
    "    (NWD Score, Z Score, Plate Z Score, Entropy, Unique Peptide Bins, Ratio, Total PSMs, Ratio Total PSMs, Unique Total Peptide Ratio and Average Assembled Peptide Spectral Matches) + derived MS feats, pair count and -ln(pval)\n",
    "\n",
    "*   Gupta 2015: 10=2x5 + 6=3x2\n",
    "\n",
    "    (Average Spectra, Average Saint probability, Max Saint probability, Fold Change, and Bayesian FDR estimate) + derived feats, pair count and -ln(pval) for both ciliated and non-ciliated data\n",
    "\n",
    "*   Youn 2018: 5+(6=3x2)\n",
    "\n",
    "    (Average Spectra, Average Saint probability, Max Saint probability, Fold Change, and Bayesian FDR estimate) + derived MS feats, pair count and -ln(pval)\n",
    "\n",
    "*   Boldt 2016: 4+(4=2x2)\n",
    "\n",
    "   (Socioaffinity index SAij, spoke model terms i,j -> bait Sij and Sji, and matrix model for socioaffinity index Mij) + derived feats, pair count and -ln(pval)\n",
    "\n",
    "*   Treiber: 4=2*2 derived feats, pair count and -ln(pval)\n",
    "\n",
    "        hu.MAP 2.0 retained 239 features from hu.MAP 1.0, adding 53 additional\n",
    "        (Wan 2015, Guruharsha 2011, Malovannaya 2011, BioPlex 1.0 w/ derived features, Hein 2015 w/ derived features)\n",
    "\n",
    "        Note: Derived features, pair count and ln(pval) were calculated by source for multiple thresholds on spectral counts (e.g., all, 2, 4)"
   ],
   "metadata": {
    "id": "NUWTYtIpTd_9"
   }
  },
  {
   "cell_type": "code",
   "source": [
    "#hu.MAP 2.0 labeled pairs, ~2.3M\n",
    "featMat_humap2 = \\\n",
    "  pd.read_csv(featMat_humap2Dir, sep=',',\n",
    "              dtype={'id1': 'str', 'id2': 'str'}, low_memory=False)\n",
    "print('# hu.MAP 2.0 dimensions: {0}'.format(featMat_humap2.shape))\n",
    "\n",
    "featMat_humap2 = operations.freezePairs(featMat_humap2, 'id1', 'id2', pool=True)\n",
    "featMat_humap2 = \\\n",
    "  featMat_humap2.loc[featMat_humap2.pairsFrozen.isin(\n",
    "      trainingPairs.pairsFrozen.to_list())].copy()\n",
    "print('# hu.MAP 2.0 dimensions (extraction): {0}'.format(featMat_humap2.shape))\n",
    "\n",
    "featMat_humap2 = \\\n",
    "  featMat_humap2.groupby('pairsFrozen', as_index=False).mean(numeric_only=True)\n",
    "print('# hu.MAP 2.0 dimensions (averaged duplicate observations): {0}'.format(\n",
    "    featMat_humap2.shape))\n",
    "\n",
    "featMat_humap2Filename = \\\n",
    "  workDir + 'featureData/pairLevel/featMat_trainingPairs_humap2.tsv'\n",
    "pd.concat(\n",
    "    [pd.DataFrame(featMat_humap2.pairsFrozen.to_list(),\n",
    "                  columns=['id1', 'id2'], dtype='str'),\n",
    "     featMat_humap2.drop(columns=['pairsFrozen'])],\n",
    "    axis=1).to_csv(featMat_humap2Filename, sep='\\t', index=False)"
   ],
   "metadata": {
    "id": "g6tg0PX8QraT"
   },
   "execution_count": null,
   "outputs": []
  },
  {
   "cell_type": "code",
   "source": [
    "#hu.MAP 2.0 unlabeled pairs, ~14M\n",
    "featMat_humap2Unlabeled = \\\n",
    "  pd.read_csv(featMat_humap2Dir, sep=',',\n",
    "              dtype={'id1': 'str', 'id2': 'str'}, low_memory=False)\n",
    "print('# hu.MAP 2.0 dimensions: {0}'.format(featMat_humap2Unlabeled.shape))\n",
    "\n",
    "featMat_humap2Unlabeled = \\\n",
    "  operations.freezePairs(featMat_humap2Unlabeled, 'id1', 'id2', pool=True)\n",
    "featMat_humap2Unlabeled = \\\n",
    "  featMat_humap2Unlabeled.loc[featMat_humap2Unlabeled.pairsFrozen.isin(\n",
    "      nontrainingPairs_proteinCoding)].copy()\n",
    "print('# hu.MAP unlabeled 2.0 dimensions (extraction): {0}'.format(\n",
    "    featMat_humap2Unlabeled.shape))\n",
    "\n",
    "featMat_humap2Unlabeled = \\\n",
    "  featMat_humap2Unlabeled.groupby('pairsFrozen', as_index=False).mean(\n",
    "      numeric_only=True)\n",
    "print('# hu.MAP unlabeled 2.0 dimensions (averaged duplicate observations):' + \\\n",
    "      '{0}'.format(featMat_humap2Unlabeled.shape))\n",
    "\n",
    "featMat_humap2Unlabeled_filename = \\\n",
    "  workDir + 'featureData/pairLevel/featMat_unlabeledPairs_humap2.tsv'\n",
    "pd.concat(\n",
    "    [pd.DataFrame(featMat_humap2Unlabeled.pairsFrozen.to_list(),\n",
    "                  columns=['id1', 'id2'], dtype='str'),\n",
    "     featMat_humap2Unlabeled.drop(columns=['pairsFrozen'])], axis=1).to_csv(\n",
    "         featMat_humap2Unlabeled_filename, sep='\\t', index=False)"
   ],
   "metadata": {
    "id": "Ozriuy-Zyxh2"
   },
   "execution_count": null,
   "outputs": []
  },
  {
   "cell_type": "markdown",
   "source": [
    "###BioPlex 3.0\n",
    "\n",
    "Features (13):\n",
    "\n",
    "NWD Score, Z Score, Plate Z Score, Entropy, Unique Peptide Bins, Ratio, Total PSMs, Ratio Total PSMs, Unique Total Peptide Ratio and Average Assembled Peptide Spectral Matches, pInt (probability of interaction), pNI (probability of no interaction), pW (probability wrong)"
   ],
   "metadata": {
    "id": "LRGGkV42gtLe"
   }
  },
  {
   "cell_type": "code",
   "source": [
    "#BioPlex 3.0 labeled pairs, ~600k\n",
    "colOrder_pref = \\\n",
    "  ['bait_geneid', 'gene_id',\n",
    "   'ave_apsm', 'nwdscore', 'zscore', 'plate_zscore', 'entropy', 'uPeps',\n",
    "   'ratio', 'total_psms', 'ratioTotalPSMs', 'UtoTratio',\n",
    "   'pWrongID', 'pNoInt', 'pInt']\n",
    "\n",
    "featMat_bioplex3 = \\\n",
    "  pd.read_csv(featMat_bioplex3Dir, sep='\\t',\n",
    "              dtype={'bait_geneid': 'str', 'gene_id': 'str'}, low_memory=False)\n",
    "print('# BioPlex 3.0 dimensions: {0}'.format(featMat_bioplex3.shape))\n",
    "\n",
    "featMat_bioplex3 = featMat_bioplex3[colOrder_pref].copy()\n",
    "featMat_bioplex3.rename(\n",
    "    columns={'bait_geneid': 'id1', 'gene_id': 'id2'}, inplace=True)\n",
    "featMat_bioplex3.rename(\n",
    "    columns={col: col+'_bioplex3'\n",
    "             for col in featMat_bioplex3.columns.to_list()[2:]}, inplace=True)\n",
    "featMat_bioplex3 = \\\n",
    "  operations.freezePairs(featMat_bioplex3, 'id1', 'id2', pool=True)\n",
    "\n",
    "featMat_bioplex3 = \\\n",
    "    featMat_bioplex3.loc[featMat_bioplex3.pairsFrozen.isin(\n",
    "        trainingPairs.pairsFrozen.to_list())].copy()\n",
    "print('# BioPlex v3.0 dimensions (extraction): {0}'.format(\n",
    "    featMat_bioplex3.shape))\n",
    "\n",
    "featMat_bioplex3 = \\\n",
    "  featMat_bioplex3.groupby('pairsFrozen', as_index=False).mean(numeric_only=True)\n",
    "print('# BioPlex v3.0 dimensions (averaged duplicate observations): {0}'.format(\n",
    "    featMat_bioplex3.shape))\n",
    "\n",
    "featMat_bioplex3Filename = \\\n",
    "  workDir + 'featureData/pairLevel/featMat_trainingPairs_bioplex3.tsv'\n",
    "pd.concat(\n",
    "    [pd.DataFrame(featMat_bioplex3.pairsFrozen.to_list(), columns=['id1', 'id2'],\n",
    "                  dtype='str'),\n",
    "     featMat_bioplex3.drop(\n",
    "         columns=['pairsFrozen',\n",
    "                  'pWrongID_bioplex3',\n",
    "                  'pNoInt_bioplex3',\n",
    "                  'pInt_bioplex3'])], axis=1).to_csv(\n",
    "             featMat_bioplex3Filename, sep='\\t', index=False)"
   ],
   "metadata": {
    "id": "rpvvgcuu7mLm",
    "colab": {
     "base_uri": "https://localhost:8080/"
    },
    "executionInfo": {
     "status": "ok",
     "timestamp": 1702793527694,
     "user_tz": 300,
     "elapsed": 85318,
     "user": {
      "displayName": "Gary Wilkins",
      "userId": "01463028869337595546"
     }
    },
    "outputId": "5c73c394-90b3-43cd-c947-e1a02a59bbb4"
   },
   "execution_count": null,
   "outputs": [
    {
     "output_type": "stream",
     "name": "stdout",
     "text": [
      "# BioPlex 3.0 dimensions: (5851900, 21)\n",
      "# BioPlex v3.0 dimensions (extraction): (614074, 16)\n",
      "# BioPlex v3.0 dimensions (averaged duplicate observations): (586385, 14)\n"
     ]
    }
   ]
  },
  {
   "cell_type": "code",
   "source": [
    "#BioPlex 3.0 unlabeled pairs, ~5M\n",
    "featMat_bioplex3Unlabeled = \\\n",
    "  pd.read_csv(featMat_bioplex3Dir, sep='\\t',\n",
    "              dtype={'bait_geneid': 'str', 'gene_id': 'str'}, low_memory=False)\n",
    "print('# BioPlex 3.0 dimensions: {0}'.format(featMat_bioplex3Unlabeled.shape))\n",
    "\n",
    "featMat_bioplex3Unlabeled = featMat_bioplex3Unlabeled[colOrder_pref].copy()\n",
    "featMat_bioplex3Unlabeled.rename(\n",
    "    columns={'bait_geneid': 'id1', 'gene_id': 'id2'}, inplace=True)\n",
    "featMat_bioplex3Unlabeled.rename(\n",
    "    columns={col: col+'_bioplex3'\n",
    "             for col in featMat_bioplex3Unlabeled.columns.to_list()[2:]},\n",
    "    inplace=True)\n",
    "featMat_bioplex3Unlabeled = \\\n",
    "  operations.freezePairs(featMat_bioplex3Unlabeled, 'id1', 'id2', pool=True)\n",
    "featMat_bioplex3Unlabeled = \\\n",
    "  featMat_bioplex3Unlabeled.loc[featMat_bioplex3Unlabeled.pairsFrozen.isin(\n",
    "      nontrainingPairs_proteinCoding)].copy()\n",
    "print('# BioPlex v3.0 dimensions (protein-coding): {0}'.format(\n",
    "    featMat_bioplex3Unlabeled.shape))\n",
    "\n",
    "featMat_bioplex3Unlabeled = \\\n",
    "  featMat_bioplex3Unlabeled.groupby('pairsFrozen', as_index=False).mean(\n",
    "      numeric_only=True)\n",
    "print('# BioPlex v3.0 dimensions ' +\n",
    "      '(protein-coding, averaged duplicate observations): {0}'.format(\n",
    "    featMat_bioplex3Unlabeled.shape))\n",
    "\n",
    "featMat_bioplex3Unlabeled_filename = \\\n",
    "  workDir + 'featureData/pairLevel/featMat_unlabeledPairs_bioplex3.tsv'\n",
    "pd.concat(\n",
    "    [pd.DataFrame(featMat_bioplex3Unlabeled.pairsFrozen.to_list(),\n",
    "                  columns=['id1', 'id2'], dtype='str'),\n",
    "     featMat_bioplex3Unlabeled.drop(\n",
    "         columns=['pairsFrozen',\n",
    "                  'pWrongID_bioplex3',\n",
    "                  'pNoInt_bioplex3',\n",
    "                  'pInt_bioplex3'])], axis=1).to_csv(\n",
    "             featMat_bioplex3Unlabeled_filename, sep='\\t', index=False)"
   ],
   "metadata": {
    "colab": {
     "base_uri": "https://localhost:8080/"
    },
    "id": "3x3RlFqirphF",
    "executionInfo": {
     "status": "ok",
     "timestamp": 1702849594385,
     "user_tz": 300,
     "elapsed": 200921,
     "user": {
      "displayName": "Gary Wilkins",
      "userId": "01463028869337595546"
     }
    },
    "outputId": "f5968a22-5409-48a2-ad9e-acaa7e26b3e4"
   },
   "execution_count": null,
   "outputs": [
    {
     "output_type": "stream",
     "name": "stdout",
     "text": [
      "# BioPlex 3.0 dimensions: (5851900, 21)\n",
      "# BioPlex v3.0 dimensions (unlabeled): (5088302, 16)\n",
      "# BioPlex v3.0 dimensions (averaged duplicate observations): (4980729, 14)\n"
     ]
    }
   ]
  },
  {
   "cell_type": "markdown",
   "source": [
    "##Generate pair-level aggregate data matrix"
   ],
   "metadata": {
    "id": "oXFzaYwcDGTQ"
   }
  },
  {
   "cell_type": "markdown",
   "source": [
    "###Find and assess intersection(s) of labeled features' pairs'"
   ],
   "metadata": {
    "id": "8tluL_UGZ552"
   }
  },
  {
   "cell_type": "code",
   "source": [
    "pairsHumap1 = \\\n",
    "  pd.read_csv(featMat_humap1Dir, sep=',',\n",
    "              usecols=['geneid1', 'geneid2'], dtype='str')\n",
    "print('# hu.MAP 1.0 pairs: {0}'.format(pairsHumap1.shape[0]))\n",
    "\n",
    "pairsHumap1.rename(columns={'geneid1': 'id1', 'geneid2': 'id2'}, inplace=True)\n",
    "pairsHumap1 = operations.freezePairs(pairsHumap1, 'id1', 'id2', pool=True)\n",
    "pairsHumap1 = set(\n",
    "    pairsHumap1.loc[\n",
    "        pairsHumap1.pairsFrozen.isin(trainingPairs.pairsFrozen.to_list()),\n",
    "        'pairsFrozen'].to_list())\n",
    "print('# hu.MAP 1.0 labeled: {0}'.format(len(pairsHumap1)))"
   ],
   "metadata": {
    "colab": {
     "base_uri": "https://localhost:8080/"
    },
    "outputId": "cd20fb9a-e0f6-4433-8357-1ee98d9d6991",
    "executionInfo": {
     "status": "ok",
     "timestamp": 1702902657507,
     "user_tz": 300,
     "elapsed": 63786,
     "user": {
      "displayName": "Gary Wilkins",
      "userId": "01463028869337595546"
     }
    },
    "id": "PGtebVbvZ553"
   },
   "execution_count": null,
   "outputs": [
    {
     "output_type": "stream",
     "name": "stdout",
     "text": [
      "# hu.MAP 1.0 pairs: 2557860\n",
      "# hu.MAP 1.0 labeled: 442716\n"
     ]
    }
   ]
  },
  {
   "cell_type": "code",
   "source": [
    "pairsHumap2 = \\\n",
    "  pd.read_csv(featMat_humap2Dir, sep=',', usecols=['id1', 'id2'], dtype='str')\n",
    "print('# hu.MAP 2.0 pairs: {0}'.format(pairsHumap2.shape[0]))\n",
    "\n",
    "pairsHumap2 = operations.freezePairs(pairsHumap2, 'id1', 'id2', pool=True)\n",
    "pairsHumap2 = set(\n",
    "    pairsHumap2.loc[\n",
    "        pairsHumap2.pairsFrozen.isin(trainingPairs.pairsFrozen.to_list()),\n",
    "        'pairsFrozen'].to_list())\n",
    "print('# hu.MAP 2.0 labeled: {0}'.format(len(pairsHumap2)))"
   ],
   "metadata": {
    "colab": {
     "base_uri": "https://localhost:8080/"
    },
    "executionInfo": {
     "status": "ok",
     "timestamp": 1702902952679,
     "user_tz": 300,
     "elapsed": 273738,
     "user": {
      "displayName": "Gary Wilkins",
      "userId": "01463028869337595546"
     }
    },
    "outputId": "6d353249-6d80-43d7-9a26-1f2f66bdc90f",
    "id": "tKrEVte6Z553"
   },
   "execution_count": null,
   "outputs": [
    {
     "output_type": "stream",
     "name": "stdout",
     "text": [
      "# hu.MAP 2.0 pairs: 17564755\n",
      "# hu.MAP 2.0 labeled: 2299721\n"
     ]
    }
   ]
  },
  {
   "cell_type": "markdown",
   "source": [
    "The following result means that a clean merge between labeled pairs of the hu.MAP 1.0 and 2.0 releases for HumanNet features of the former and all the remaining of the latter is possible."
   ],
   "metadata": {
    "id": "Ab62tAP_Z553"
   }
  },
  {
   "cell_type": "code",
   "source": [
    "pairsHumap1.issubset(pairsHumap2)"
   ],
   "metadata": {
    "colab": {
     "base_uri": "https://localhost:8080/"
    },
    "executionInfo": {
     "status": "ok",
     "timestamp": 1702902990739,
     "user_tz": 300,
     "elapsed": 144,
     "user": {
      "displayName": "Gary Wilkins",
      "userId": "01463028869337595546"
     }
    },
    "outputId": "490e98f7-01c8-4688-f40c-98b7831dbe6c",
    "id": "F8Uo53zTZ554"
   },
   "execution_count": null,
   "outputs": [
    {
     "output_type": "execute_result",
     "data": {
      "text/plain": [
       "True"
      ]
     },
     "metadata": {},
     "execution_count": 10
    }
   ]
  },
  {
   "cell_type": "code",
   "source": [
    "pairsBioplex3 = \\\n",
    "  pd.read_csv(featMat_bioplex3Dir, sep='\\t',\n",
    "              usecols=['bait_geneid', 'gene_id'], dtype='str')\n",
    "print('# BioPlex 3.0 pairs: {0}'.format(pairsBioplex3.shape[0]))\n",
    "\n",
    "pairsBioplex3 = \\\n",
    "  operations.freezePairs(pairsBioplex3, 'bait_geneid', 'gene_id', pool=True)\n",
    "pairsBioplex3 = set(\n",
    "    pairsBioplex3.loc[\n",
    "        pairsBioplex3.pairsFrozen.isin(trainingPairs.pairsFrozen.to_list()),\n",
    "        'pairsFrozen'].to_list())\n",
    "print('# BioPlex 3.0 labeled pairs: {0}'.format(len(pairsBioplex3)))"
   ],
   "metadata": {
    "colab": {
     "base_uri": "https://localhost:8080/"
    },
    "id": "91ixyigE4ZMH",
    "executionInfo": {
     "status": "ok",
     "timestamp": 1702903094800,
     "user_tz": 300,
     "elapsed": 85117,
     "user": {
      "displayName": "Gary Wilkins",
      "userId": "01463028869337595546"
     }
    },
    "outputId": "0ddcce7b-e833-4279-882c-14355829fde0"
   },
   "execution_count": null,
   "outputs": [
    {
     "output_type": "stream",
     "name": "stdout",
     "text": [
      "# BioPlex 3.0 pairs: 5851900\n",
      "# BioPlex 3.0 labeled pairs: 586385\n"
     ]
    }
   ]
  },
  {
   "cell_type": "code",
   "source": [
    "print('# Total labeled pair-level gene pairs: {0}'.format(\n",
    "    len(set().union(*[pairsHumap1, pairsHumap2, pairsBioplex3]))))"
   ],
   "metadata": {
    "colab": {
     "base_uri": "https://localhost:8080/"
    },
    "id": "fP0vjqgryaRl",
    "executionInfo": {
     "status": "ok",
     "timestamp": 1702903108079,
     "user_tz": 300,
     "elapsed": 182,
     "user": {
      "displayName": "Gary Wilkins",
      "userId": "01463028869337595546"
     }
    },
    "outputId": "eb5e6124-b911-4de7-e14a-ad2bc5d5a5ba"
   },
   "execution_count": null,
   "outputs": [
    {
     "output_type": "stream",
     "name": "stdout",
     "text": [
      "# Total labeled pair-level gene pairs: 2399931\n"
     ]
    }
   ]
  },
  {
   "cell_type": "markdown",
   "source": [
    "####Merge"
   ],
   "metadata": {
    "id": "Rw_eHnkUchE7"
   }
  },
  {
   "cell_type": "code",
   "source": [
    "featMats_labeledFilenames = glob.glob(workDir + 'featureData/pairLevel/*training*')\n",
    "featMats_labeled = []\n",
    "for name in featMats_labeledFilenames:\n",
    "    df = pd.read_csv(dfName, sep='\\t', dtype={'id1': 'str', 'id2': 'str'})\n",
    "    df = operations.freezePairs(df, 'id1', 'id2', pool=True)\n",
    "    featMats_labeled.append(df.drop(columns=['id1', 'id2']))\n",
    "\n",
    "print('merging aggregate pair-feature file...')\n",
    "featMats_aggLabeled = \\\n",
    "  reduce(lambda left, right: pd.merge(\n",
    "      left, right, on=['pairsFrozen'], how='outer'), featMats_labeled)\n",
    "print(featMats_aggLabeled.shape)\n",
    "print(featMats_aggLabeled.head())\n",
    "\n",
    "print('saving aggregate pair-feature file...')\n",
    "featMats_aggLabeled_filename = \\\n",
    "  workDir + 'featureData/pairLevel/featMats_aggLabeled.tsv.tar.bz2'\n",
    "pd.concat(\n",
    "    [pd.DataFrame(featMats_aggLabeled.pairsFrozen.to_list(),\n",
    "                  columns=['id1', 'id2'], dtype='str'),\n",
    "     featMats_aggLabeled.drop(columns=['pairsFrozen'])],\n",
    "    axis=1).to_csv(featMats_aggLabeled_filename, sep='\\t', index=False)"
   ],
   "metadata": {
    "id": "IelaoUucDlU6"
   },
   "execution_count": null,
   "outputs": []
  },
  {
   "cell_type": "markdown",
   "source": [
    "after merger, dims should be: (2399931, 323)"
   ],
   "metadata": {
    "id": "ammPhruuOflN"
   }
  },
  {
   "cell_type": "markdown",
   "source": [
    "###Find and assess intersection(s) of all known, unlabeled pairs"
   ],
   "metadata": {
    "id": "5d-4VtqmSZNN"
   }
  },
  {
   "cell_type": "code",
   "source": [
    "pairsHumap1 = \\\n",
    "  pd.read_csv(featMat_humap1Dir, sep=',',\n",
    "              usecols=['geneid1', 'geneid2'], dtype='str')\n",
    "print('# hu.MAP 1.0 pairs: {0}'.format(pairsHumap1.shape[0]))\n",
    "\n",
    "pairsHumap1.rename(columns={'geneid1': 'id1', 'geneid2': 'id2'}, inplace=True)\n",
    "pairsHumap1 = operations.freezePairs(pairsHumap1, 'id1', 'id2', pool=True)\n",
    "pairsHumap1 = pairsHumap1.loc[(\n",
    "    pairsHumap1.id1.isin(geneSpace.geneIDs_proteinCoding) &\n",
    "    pairsHumap1.id2.isin(geneSpace.geneIDs_proteinCoding))].copy()\n",
    "print('# hu.MAP 1.0 pairs -- protein-coding: {0}'.format(\n",
    "    pairsHumap1.shape[0]))\n",
    "\n",
    "pairsHumap1 = \\\n",
    "  set(pairsHumap1.loc[~pairsHumap1.pairsFrozen.isin(\n",
    "      trainingPairs.pairsFrozen.to_list()), 'pairsFrozen'])\n",
    "print('# hu.MAP 1.0 pairs -- protein-coding, unlabeled: {0}'.format(len(\n",
    "    pairsHumap1)))"
   ],
   "metadata": {
    "colab": {
     "base_uri": "https://localhost:8080/"
    },
    "id": "4Wk1_iLrO1gc",
    "executionInfo": {
     "status": "ok",
     "timestamp": 1702904144614,
     "user_tz": 300,
     "elapsed": 70398,
     "user": {
      "displayName": "Gary Wilkins",
      "userId": "01463028869337595546"
     }
    },
    "outputId": "c80129f2-a800-4cda-c5af-00b0831c2d54"
   },
   "execution_count": null,
   "outputs": [
    {
     "output_type": "stream",
     "name": "stdout",
     "text": [
      "# hu.MAP 1.0 pairs: 2557860\n",
      "# hu.MAP 1.0 pairs -- protein-coding: 2524040\n",
      "# hu.MAP 1.0 pairs -- protein-coding, unlabeled: 2081135\n"
     ]
    }
   ]
  },
  {
   "cell_type": "code",
   "source": [
    "pairsHumap2 = \\\n",
    "  pd.read_csv(featMat_humap2Dir, sep=',',\n",
    "              usecols=['id1', 'id2'], dtype='str')\n",
    "print('# hu.MAP 2.0 pairs: {0}'.format(pairsHumap2.shape[0]))\n",
    "\n",
    "pairsHumap2 = operations.freezePairs(pairsHumap2, 'id1', 'id2', pool=True)\n",
    "pairsHumap2 = pairsHumap2.loc[(\n",
    "    pairsHumap2.id1.isin(geneSpace.geneIDs_proteinCoding) &\n",
    "    pairsHumap2.id2.isin(geneSpace.geneIDs_proteinCoding))].copy()\n",
    "#same-protein pairs excluded\n",
    "pairsHumap2 = pairsHumap2.loc[(pairsHumap2.id1!=pairsHumap2.id2)].copy()\n",
    "print('# hu.MAP 2.0 pairs -- protein-coding: {0}'.format(pairsHumap2.shape[0]))\n",
    "\n",
    "pairsHumap2 = \\\n",
    "  set(pairsHumap2.loc[~pairsHumap2.pairsFrozen.isin(\n",
    "      trainingPairs.pairsFrozen.to_list()), 'pairsFrozen'])\n",
    "print('# hu.MAP 2.0 pairs -- protein-coding, unlabeled: {0}'.format(len(\n",
    "    pairsHumap2)))"
   ],
   "metadata": {
    "colab": {
     "base_uri": "https://localhost:8080/"
    },
    "id": "353suCGnjISc",
    "executionInfo": {
     "status": "ok",
     "timestamp": 1702904651267,
     "user_tz": 300,
     "elapsed": 349737,
     "user": {
      "displayName": "Gary Wilkins",
      "userId": "01463028869337595546"
     }
    },
    "outputId": "fc0ab986-a3ca-43ea-b4da-587726af24a4"
   },
   "execution_count": null,
   "outputs": [
    {
     "output_type": "stream",
     "name": "stdout",
     "text": [
      "# hu.MAP 2.0 pairs: 17564755\n",
      "# hu.MAP 2.0 pairs -- protein-coding: 17263301\n",
      "# hu.MAP 2.0 pairs -- protein-coding, unlabeled: 14965773\n"
     ]
    }
   ]
  },
  {
   "cell_type": "markdown",
   "source": [
    "The following result means that a clean merge between unlabeled pairs of the hu.MAP 1.0 and 2.0 releases for HumanNet features of the former and all the remaining of the latter is possible."
   ],
   "metadata": {
    "id": "9l_WA1MGYVf_"
   }
  },
  {
   "cell_type": "code",
   "source": [
    "pairsHumap1.issubset(pairsHumap2)"
   ],
   "metadata": {
    "colab": {
     "base_uri": "https://localhost:8080/"
    },
    "id": "J59LixHGYL5t",
    "executionInfo": {
     "status": "ok",
     "timestamp": 1702904667849,
     "user_tz": 300,
     "elapsed": 2992,
     "user": {
      "displayName": "Gary Wilkins",
      "userId": "01463028869337595546"
     }
    },
    "outputId": "006fc6cc-74d7-4893-b1ca-db2966499a8f"
   },
   "execution_count": null,
   "outputs": [
    {
     "output_type": "execute_result",
     "data": {
      "text/plain": [
       "True"
      ]
     },
     "metadata": {},
     "execution_count": 11
    }
   ]
  },
  {
   "cell_type": "code",
   "source": [
    "pairsBioplex3 = \\\n",
    "  pd.read_csv(featMat_bioplex3Dir, sep='\\t',\n",
    "              usecols=['bait_geneid', 'gene_id'], dtype='str')\n",
    "print('# BioPlex 3.0 pairs: {0}'.format(pairsBioplex3.shape[0]))\n",
    "\n",
    "pairsBioplex3.rename(\n",
    "    columns={'bait_geneid': 'id1', 'gene_id': 'id2'}, inplace=True)\n",
    "pairsBioplex3 = operations.freezePairs(pairsBioplex3, 'id1', 'id2', pool=True)\n",
    "pairsBioplex3 = pairsBioplex3.loc[(\n",
    "    pairsBioplex3.id1.isin(geneSpace.geneIDs_proteinCoding) &\n",
    "    pairsBioplex3.id2.isin(geneSpace.geneIDs_proteinCoding))].copy()\n",
    "print('# BioPlex 3.0 pairs -- protein-coding: {0}'.format(\n",
    "    pairsBioplex3.shape[0]))\n",
    "\n",
    "pairsBioplex3 = \\\n",
    "  set(pairsBioplex3.loc[~pairsBioplex3.pairsFrozen.isin(\n",
    "      trainingPairs.pairsFrozen.to_list()), 'pairsFrozen'])\n",
    "print('# BioPlex 3.0 pairs -- protein-coding, unlabeled: {0}'.format(len(\n",
    "    pairsBioplex3)))"
   ],
   "metadata": {
    "colab": {
     "base_uri": "https://localhost:8080/"
    },
    "id": "cip4MGhQz8We",
    "executionInfo": {
     "status": "ok",
     "timestamp": 1702904947845,
     "user_tz": 300,
     "elapsed": 134133,
     "user": {
      "displayName": "Gary Wilkins",
      "userId": "01463028869337595546"
     }
    },
    "outputId": "b68f049d-b880-45e1-acd5-38e5c03fc868"
   },
   "execution_count": null,
   "outputs": [
    {
     "output_type": "stream",
     "name": "stdout",
     "text": [
      "# BioPlex 3.0 pairs: 5851900\n",
      "# BioPlex 3.0 pairs -- protein-coding: 5701981\n",
      "# BioPlex 3.0 pairs -- protein-coding, unlabeled: 4980729\n"
     ]
    }
   ]
  },
  {
   "cell_type": "code",
   "source": [
    "print('# Total unlabeled, protein-coding gene pairs: {0}'.format(\n",
    "    len(set().union(*[pairsHumap1, pairsHumap2, pairsBioplex3]))))"
   ],
   "metadata": {
    "id": "KxKoKETM0hdA",
    "colab": {
     "base_uri": "https://localhost:8080/"
    },
    "executionInfo": {
     "status": "ok",
     "timestamp": 1702904968422,
     "user_tz": 300,
     "elapsed": 2232,
     "user": {
      "displayName": "Gary Wilkins",
      "userId": "01463028869337595546"
     }
    },
    "outputId": "e14b336b-ab1a-4850-c9cc-f5b84bf53332"
   },
   "execution_count": null,
   "outputs": [
    {
     "output_type": "stream",
     "name": "stdout",
     "text": [
      "# Total unlabeled, protein-coding gene pairs: 16727935\n"
     ]
    }
   ]
  },
  {
   "cell_type": "markdown",
   "source": [
    "####Merge"
   ],
   "metadata": {
    "id": "X0DhhN_BYyia"
   }
  },
  {
   "cell_type": "code",
   "source": [
    "featMats_unlabeledFilenames = \\\n",
    "  glob.glob(workDir + 'featureData/pairLevel/*unlabeled*')\n",
    "featMats_unlabeled = []\n",
    "for dfName in featMats_unlabeledFilenames:\n",
    "    df = pd.read_csv(dfName, sep='\\t', dtype={'id1': 'str', 'id2': 'str'})\n",
    "    df = operations.freezePairs(df, 'id1', 'id2', pool=True)\n",
    "    featMats_unlabeled.append(df.drop(columns=['id1', 'id2']))\n",
    "\n",
    "print('merging aggregate pair-feature file...')\n",
    "featMats_aggUnlabeled = \\\n",
    "  reduce(lambda left, right: pd.merge(\n",
    "      left, right, on=['pairsFrozen'], how='outer'), featMats_unlabeled)\n",
    "print(featMats_aggUnlabeled.shape)\n",
    "print(featMats_aggUnlabeled.head())\n",
    "\n",
    "print('saving aggregate pair-feature file...')\n",
    "featMats_aggUnlabeled_filename = \\\n",
    "  workDir + 'featureData/pairLevel/featMats_aggUnlabeled.tsv.tar.bz2'\n",
    "pd.concat(\n",
    "    [pd.DataFrame(featMats_aggUnlabeled.pairsFrozen.to_list(),\n",
    "                  columns=['id1', 'id2'], dtype='str'),\n",
    "     featMats_aggUnlabeled.drop(columns=['pairsFrozen'])],\n",
    "    axis=1).to_csv(featMats_aggUnlabeled_filename, sep='\\t', index=False)"
   ],
   "metadata": {
    "id": "KZK6hBVh8njQ"
   },
   "execution_count": null,
   "outputs": []
  },
  {
   "cell_type": "markdown",
   "source": [
    "after merger, dims should be: (16727935, 323)"
   ],
   "metadata": {
    "id": "pM7mYYidXt4U"
   }
  },
  {
   "cell_type": "markdown",
   "source": [
    "#Generate and aggregate protein-level features\n",
    "\n",
    "*   .....Pair count and ln(pval) for each spectral count thresholds\n",
    "\n",
    "    *BioPlex 3.0*\n",
    "\n",
    "*   .....Prey-prey and bait-bait Pearson correlation coefficients\n",
    "\n",
    "    *BioPlex 3.0*\n",
    "\n",
    "    *Hein 2015*\n",
    "\n",
    "*   NCI-60 protein, RNA co-expression\n",
    "*   .....FANTOM5 Pearson correlation coefficient\n",
    "*   .....gTEX Pearson correlation coefficient\n",
    "*   .....Uhlén Pearson correlation coefficient\n",
    "*   HPA-microscopy localization annotation set features\n",
    "\n",
    "    a) Overlap b) Equality c) Jaccard similarity d) Inclusion\n",
    "*   .....HPA-microscopy deep-learning multi-label-location classification set features\n",
    "\n",
    "    a) Overlap b) Equality c) Jaccard similarity d) Inclusion e) Kullback-Leibler divergence\n",
    "*   SubCellBarCode\n",
    "\n",
    "    Pearson correlation coefficient of protein expression for cell lines: A431, H322, HCC827, MCF7, U251"
   ],
   "metadata": {
    "id": "KbBc8dUUptG-"
   }
  },
  {
   "cell_type": "markdown",
   "source": [
    "##~~Pair count and ln(pval)"
   ],
   "metadata": {
    "id": "Z8dibQAPubl_"
   }
  },
  {
   "cell_type": "code",
   "source": [
    "featMat_bioplex3Derived = reference.deriveFeats('BioPlex3')"
   ],
   "metadata": {
    "id": "OjGp8Tgctubl"
   },
   "execution_count": null,
   "outputs": []
  },
  {
   "cell_type": "markdown",
   "source": [
    "##~~Prey-prey and bait-bait Pearson correlation coefficients"
   ],
   "metadata": {
    "id": "uum4PUFIuiUG"
   }
  },
  {
   "cell_type": "code",
   "source": [
    "featMat_preyPrey_baitBait = reference.deriveFeats('preyPrey_baitBait')"
   ],
   "metadata": {
    "id": "oWMdsZPWunnR"
   },
   "execution_count": null,
   "outputs": []
  },
  {
   "cell_type": "markdown",
   "source": [
    "##NCI-60 rna, protein expression"
   ],
   "metadata": {
    "id": "_MOLJYb3vHLe"
   }
  },
  {
   "cell_type": "markdown",
   "source": [
    "*   NCI-60 RNA exp: (18,031 choose 2) = 162,549,465\n",
    "*   NCI-60 Prot cell exp: (6,490 choose 2) = 21,056,805\n",
    "*   NCI-60 Prot tissues exp: (6,982 choose 2) = 24,370,671\n",
    "*   NCI-60 Prot exp (cell + tissues):\n",
    "    \n",
    "    (6,490 choose 2) + (6,982 choose 2) - (5,932 choose 2) = 27,836,130\n",
    "    \n",
    "    (7,540 choose 2) or 28,422,030 - 27,836,130 = 585,900 pairs' data unavailable\n",
    "\n",
    "\n",
    "*   NCI-60 Exp (RNA + prot):\n",
    "\n",
    "    (18,031 choose 2) + 27,836,130 - [(6,468 choose 2) + (6,958 choose 2) - (5,915 choose 2)] = 162,758,569\n",
    "    \n",
    "    (18,060 choose 2) or 163,072,770 - 162,758,569 = 314,201 pairs' data unavailable"
   ],
   "metadata": {
    "id": "6egdkOM3eWGl"
   }
  },
  {
   "cell_type": "code",
   "source": [
    "nci60Feats = reference.nci60Feats(workDir, save=True)\n",
    "nci60Feats.generate()\n",
    "nci60Feats.saveMat()"
   ],
   "metadata": {
    "id": "nnHUxwUStfjb"
   },
   "execution_count": null,
   "outputs": []
  },
  {
   "cell_type": "markdown",
   "source": [
    "##~~gTEX Pearson correlation coefficient"
   ],
   "metadata": {
    "id": "_Po1W-JWuvo9"
   }
  },
  {
   "cell_type": "code",
   "source": [
    "featMat_gTEX = reference.deriveFeats('gTEX')"
   ],
   "metadata": {
    "id": "GNYYggqvu9xM"
   },
   "execution_count": null,
   "outputs": []
  },
  {
   "cell_type": "markdown",
   "source": [
    "##~~Uhlén Pearson correlation coefficient"
   ],
   "metadata": {
    "id": "aoq4w6yJuznV"
   }
  },
  {
   "cell_type": "code",
   "source": [
    "featMat_uhlen = reference.deriveFeats('uhlen')"
   ],
   "metadata": {
    "id": "ff6usRRVvBg3"
   },
   "execution_count": null,
   "outputs": []
  },
  {
   "cell_type": "markdown",
   "source": [
    "##~~FANTOM5 Pearson correlation coefficient"
   ],
   "metadata": {
    "id": "kqwaTekEu23w"
   }
  },
  {
   "cell_type": "code",
   "source": [
    "featMat_fantom5 = reference.deriveFeats('fantom5')"
   ],
   "metadata": {
    "id": "eS0WT-D6vEBY"
   },
   "execution_count": null,
   "outputs": []
  },
  {
   "cell_type": "markdown",
   "source": [
    "##HPA-microscopy localization annotation set features"
   ],
   "metadata": {
    "id": "6uCgNiR96NDs"
   }
  },
  {
   "cell_type": "markdown",
   "source": [
    "**Latest (2023.06.19) HPA subcellular locations data meta**\n",
    "\n",
    "*LM 2019 -> v19.3*"
   ],
   "metadata": {
    "id": "XWZzt8jiQ1of"
   }
  },
  {
   "cell_type": "markdown",
   "source": [
    "**HPA mat columns**\n",
    "* Gene\n",
    "* Gene name\n",
    "* Reliability\n",
    "* Main location\n",
    "* Additional location\n",
    "* Extracellular location\n",
    "* *Enhanced*\n",
    "* *Supported*\n",
    "* *Approved*\n",
    "* *Uncertain*\n",
    "* Single-cell variation intensity\n",
    "* Single-cell variation spatial\n",
    "* Cell cycle dependency\n",
    "* GO id"
   ],
   "metadata": {
    "id": "qL1WpuF6eggO"
   }
  },
  {
   "cell_type": "markdown",
   "source": [
    "**Evidenciary categories:**\n",
    "* Enhanced - The antibody has enhanced validation and there is no contradicting data, such as literature describing experimental evidence for a different location.\n",
    "* Supported - There is no enhanced validation of the antibody, but the annotated localization is reported in literature.\n",
    "* Approved - The localization of the protein has not been previously described and was detected by only one antibody without additional antibody validation.\n",
    "* Uncertain - The antibody-staining pattern contradicts experimental data or expression is not detected at RNA level."
   ],
   "metadata": {
    "id": "roTbdgCyemj-"
   }
  },
  {
   "cell_type": "markdown",
   "source": [
    "**Subcellular locations ('official') considered:**\n",
    "* Actin filaments\n",
    "* Aggresome\n",
    "* Cell Junctions\n",
    "* Centriolar satellite\n",
    "* Centrosome\n",
    "* Cleavage furrow\n",
    "* Cytokinetic bridge\n",
    "* Cytoplasmic bodies\n",
    "* Cytosol\n",
    "* Endoplasmic reticulum\n",
    "* Endosomes\n",
    "* Focal adhesion sites\n",
    "* Golgi apparatus\n",
    "* Intermediate filaments\n",
    "* Kinetochore\n",
    "* Lipid droplets\n",
    "* Lysosomes\n",
    "* Microtubule ends\n",
    "* Microtubules\n",
    "* Midbody\n",
    "* Midbody ring\n",
    "* Mitochondria\n",
    "* Mitotic chromosome\n",
    "* Mitotic spindle\n",
    "* Nuclear bodies\n",
    "* Nuclear membrane\n",
    "* Nuclear speckles\n",
    "* Nucleoli\n",
    "* Nucleoli fibrillar center\n",
    "* Nucleoli rim\n",
    "* Nucleoplasm\n",
    "* Peroxisomes\n",
    "* Plasma membrane\n",
    "* Rods & Rings\n",
    "* Vesicles"
   ],
   "metadata": {
    "id": "mkANBjzAerzY"
   }
  },
  {
   "cell_type": "markdown",
   "source": [
    "**Notes:**\n",
    "\n",
    "HPA Subcellular Location Protein breakdown ??make sure you can explain the 279 -> 126 pair difference clearly??\n",
    "\n",
    "*   11,320 Ensembl IDs with either non-null Approved or Supported locations\n",
    "    \n",
    "    64,065,540 unique pairs\n",
    "\n",
    "*   10,824 GeneIDs (all protein-coding) mappings\n",
    "*   (10,824 choose 2) - ((50 choose 2) - (44 choose 2)) multiple-GeneId mapped Ensembl IDs pairs = 58,573,950 unique pairs"
   ],
   "metadata": {
    "id": "ul_NTe1HevYj"
   }
  },
  {
   "cell_type": "code",
   "source": [
    "hpaFeats = reference.hpaFeats(workDir, save=True)\n",
    "hpaFeats.generate()\n",
    "hpaFeats.saveMat()"
   ],
   "metadata": {
    "id": "zTOv_dvUe3s_"
   },
   "execution_count": null,
   "outputs": []
  },
  {
   "cell_type": "code",
   "source": [
    "hpaProts = list(set().union(*\n",
    " [df.Protein.to_list() for df in hpaFeats.dataMats.values()]))"
   ],
   "metadata": {
    "id": "mzWp_4kv8QuV"
   },
   "execution_count": null,
   "outputs": []
  },
  {
   "cell_type": "code",
   "source": [
    "#Submit output to uniprotkb idmapping function\n",
    "with open('./hpaProteins.txt', 'w') as listFile:\n",
    "  for p in hpaProts:\n",
    "    listFile.write(p + '\\n')"
   ],
   "metadata": {
    "id": "zL_LMbQO8QuV"
   },
   "execution_count": null,
   "outputs": []
  },
  {
   "cell_type": "code",
   "source": [
    "proteinLevel_dir = workDir + 'featureData/proteinLevel/'\n",
    "idMapping_filename = proteinLevel_dir + 'idmapping_hpa.tsv'\n",
    "hpaProts_geneidMappings = pd.read_csv(idMapping_filename, sep='\\t')\n",
    "hpaProts_geneidMappings.drop(\n",
    "    columns=['Entry Name', 'Interacts with', 'Organism'], inplace=True)\n",
    "hpaProts_geneidMappings.rename(\n",
    "    columns={'From': 'GeneCards', 'Entry': 'UniProtKB'}, inplace=True)\n",
    "hpaProts_geneidMappings.loc[:, 'GeneID'] = \\\n",
    "  hpaProts_geneidMappings.loc[:, 'GeneID'].str.replace(';', '')\n",
    "hpaProts_geneidMappings.dropna(subset=['GeneID'], inplace=True)\n",
    "hpaProts_geneidMappings.drop_duplicates(\n",
    "    subset=['GeneCards', 'GeneID'], inplace=True)\n",
    "hpaProts_geneidMappings = \\\n",
    "  {row.GeneCards: row.GeneID for _, row in hpaProts_geneidMappings.iterrows()}"
   ],
   "metadata": {
    "id": "7rWBYYux8QuV"
   },
   "execution_count": null,
   "outputs": []
  },
  {
   "cell_type": "code",
   "source": [
    "hpaFeats.featMat.insert(1, 'geneid1',\n",
    "                         hpaFeats.featMat.id1.map(hpaProts_geneidMappings))\n",
    "hpaFeats.featMat.insert(3, 'geneid2',\n",
    "                         hpaFeats.featMat.id2.map(hpaProts_geneidMappings))\n",
    "hpaFeats.featMat = \\\n",
    "  operations.freezePairs(hpaFeats.featMat, 'geneid1', 'geneid2', pool=True)\n",
    "\n",
    "hpaFeats.featMat.dropna(subset=['geneid1', 'geneid2'], inplace=True)\n",
    "hpaFeats.featMat.drop(columns=['id1', 'id2'], inplace=True)\n",
    "hpaFeats.featMat.rename(\n",
    "    columns={'geneid1': 'id1', 'geneid2': 'id2'}, inplace=True)\n",
    "hpaFeats.featMat.to_csv(proteinLevel_dir + 'hpaFeats_geneidMapped.tsv.tar.bz2')"
   ],
   "metadata": {
    "id": "ZxUawvwT8QuW"
   },
   "execution_count": null,
   "outputs": []
  },
  {
   "cell_type": "markdown",
   "source": [
    "##~~HPA-microscopy deep-learning multi-label-location classification set features"
   ],
   "metadata": {
    "id": "-xyQ6d-fvAoD"
   }
  },
  {
   "cell_type": "code",
   "source": [
    "featMat_ouyang = reference.deriveFeats('ouyang')"
   ],
   "metadata": {
    "id": "K6WtrPChsR0Q"
   },
   "execution_count": null,
   "outputs": []
  },
  {
   "cell_type": "markdown",
   "source": [
    "##SubCellBarCode"
   ],
   "metadata": {
    "id": "42g9JazzsZ6w"
   }
  },
  {
   "cell_type": "markdown",
   "source": [
    "12,418 GeneCards (11,643 GeneID mappings)"
   ],
   "metadata": {
    "id": "dmdY4giw3rVS"
   }
  },
  {
   "cell_type": "code",
   "source": [
    "proteinLevel_dir = workDir + 'featureData/proteinLevel/'\n",
    "scbcFeats = reference.scbcFeats(workDir, save=True)\n",
    "scbcFeats.generate()\n",
    "scbcFeats.saveMat()"
   ],
   "metadata": {
    "id": "aqUr-Rwgvb64"
   },
   "execution_count": null,
   "outputs": []
  },
  {
   "cell_type": "code",
   "source": [
    "scbcProts = list(set().union(*\n",
    " [df.Protein.to_list() for df in scbcFeats.dataMats.values()]))"
   ],
   "metadata": {
    "id": "GEnojRryPY3E"
   },
   "execution_count": null,
   "outputs": []
  },
  {
   "cell_type": "code",
   "source": [
    "#Submit output to uniprotkb idmapping function\n",
    "with open('./scbcProteins.txt', 'w') as listFile:\n",
    "  for p in scbcProts:\n",
    "    listFile.write(p + '\\n')"
   ],
   "metadata": {
    "id": "Uu6R5lElPlEp"
   },
   "execution_count": null,
   "outputs": []
  },
  {
   "cell_type": "code",
   "source": [
    "idMapping_filename = proteinLevel_dir + 'idmapping_scbc.tsv'\n",
    "scbcProts_geneidMappings = pd.read_csv(idMapping_filename, sep='\\t')\n",
    "scbcProts_geneidMappings.drop(\n",
    "    columns=['Entry Name', 'Interacts with', 'Organism'], inplace=True)\n",
    "scbcProts_geneidMappings.rename(\n",
    "    columns={'From': 'GeneCards', 'Entry': 'UniProtKB'}, inplace=True)\n",
    "scbcProts_geneidMappings.loc[:, 'GeneID'] = \\\n",
    "  scbcProts_geneidMappings.loc[:, 'GeneID'].str.replace(';', '')\n",
    "scbcProts_geneidMappings.dropna(subset=['GeneID'], inplace=True)\n",
    "scbcProts_geneidMappings.drop_duplicates(\n",
    "    subset=['GeneCards', 'GeneID'], inplace=True)\n",
    "scbcProts_geneidMappings = \\\n",
    "  {row.GeneCards: row.GeneID for _, row in scbcProts_geneidMappings.iterrows()}"
   ],
   "metadata": {
    "id": "3ViYAZ43Pv9t"
   },
   "execution_count": null,
   "outputs": []
  },
  {
   "cell_type": "code",
   "source": [
    "scbcFeats.featMat.insert(1, 'geneid1',\n",
    "                         scbcFeats.featMat.id1.map(scbcProts_geneidMappings))\n",
    "scbcFeats.featMat.insert(3, 'geneid2',\n",
    "                         scbcFeats.featMat.id2.map(scbcProts_geneidMappings))\n",
    "scbcFeats.featMat = \\\n",
    "  operations.freezePairs(scbcFeats.featMat, 'geneid1', 'geneid2', pool=True)\n",
    "\n",
    "scbcFeats.featMat.dropna(subset=['geneid1', 'geneid2'], inplace=True)\n",
    "scbcFeats.featMat.drop(columns=['id1', 'id2'], inplace=True)\n",
    "scbcFeats.featMat.rename(\n",
    "    columns={'geneid1': 'id1', 'geneid2': 'id2'}, inplace=True)\n",
    "scbcFeats.featMat.to_csv(\n",
    "    proteinLevel_dir + 'scbcFeats_geneidMapped.tsv.tar.bz2', sep='\\t')"
   ],
   "metadata": {
    "id": "yf-2NpmvR9yD"
   },
   "execution_count": null,
   "outputs": []
  },
  {
   "cell_type": "markdown",
   "source": [
    "##Generate protein-level aggregate data matrix"
   ],
   "metadata": {
    "id": "LuuV-rmgyWe4"
   }
  },
  {
   "cell_type": "code",
   "source": [
    "featMats_proteinLevel = \\\n",
    "  [featMat_bioplex3Derived, featMat_preyPrey_baitBait, nci60Corr_rnaExp_protExp,\n",
    "   featMat_gTEX, featMat_uhlen, featMat_fantom5, hpaFeats, featMat_ouyang,\n",
    "   scbcData]\n",
    "\n",
    "featMat_proteinLevel_agg = \\\n",
    "  reduce(lambda  left, right: pd.merge(left, right,\n",
    "                                       on=['pairsFrozen'], how='outer'),\n",
    "         featMats_proteinLevel)\n",
    "\n",
    "pickle.dump(featMat_proteinLevel_agg,\n",
    "            open(workDir + 'featureData/proteinLevel/featMat_trainingPairs_srcAgg.pkl', 'wb'))"
   ],
   "metadata": {
    "id": "LZ--2MYKyYZv"
   },
   "execution_count": null,
   "outputs": []
  },
  {
   "cell_type": "markdown",
   "source": [
    "#Combine protein-pair-, and protein-level feature matrices"
   ],
   "metadata": {
    "id": "NVUnEayT0KTn"
   }
  },
  {
   "cell_type": "code",
   "source": [
    "featMat_agg = \\\n",
    "  featMat_pairLevel_agg.merge(featMat_proteinLevel_agg, on=['pairsFrozen'], how='outer')\n",
    "pickle.dump(featMat_agg, open(workDir + 'featureData/featMat_agg.pkl', 'wb'))"
   ],
   "metadata": {
    "id": "7bwqwzNR0Qmb"
   },
   "execution_count": null,
   "outputs": []
  },
  {
   "cell_type": "markdown",
   "source": [
    "#Outputs"
   ],
   "metadata": {
    "id": "H5szSriJyMoS"
   }
  },
  {
   "cell_type": "markdown",
   "source": [
    "##Pairs' sets"
   ],
   "metadata": {
    "id": "n3_DKoTXzSiK"
   }
  },
  {
   "cell_type": "code",
   "source": [
    "#all possible CORUM-labeled pairs\n",
    "corumLabeled_pairsFilename = setupDir + 'allPairs_corumLabeled.tsv.tar.bz2'\n",
    "allPairs_corumLabeled = pd.read_csv(corumLabeled_pairsFilename, sep='\\t',\n",
    "                                    dtype={'id1': 'str', 'id2': 'str'})\n",
    "allPairs_corumLabeled = \\\n",
    "  operations.freezePairs(allPairs_corumLabeled, 'id1', 'id2', pool=True)"
   ],
   "metadata": {
    "id": "1sZVu8q870rf"
   },
   "execution_count": null,
   "outputs": []
  },
  {
   "cell_type": "code",
   "source": [
    "#all possible pairs from protein-coding genes (Entrez Gene) (~213M)\n",
    "proteinCoding_genesFilename = \\\n",
    "  setupDir + 'allPairs_proteinCoding_geneidFmt.tsv.tar.bz2'\n",
    "geneIDs_proteinCoding = pd.read_csv(proteinCoding_genesFilename, sep='\\t',\n",
    "                                    dtype={'id1': 'str', 'id2': 'str'})\n",
    "geneIDs_proteinCoding = \\\n",
    "  operations.freezePairs(geneIDs_proteinCoding, 'id1', 'id2', pool=True)"
   ],
   "metadata": {
    "id": "p7sM_5nPAy6X"
   },
   "execution_count": null,
   "outputs": []
  },
  {
   "cell_type": "code",
   "source": [
    "#trainingPairs_detailed (~9M)\n",
    "trainingPairs_filename = setupDir + \\\n",
    "  'trainingPairs_sourcesLabeled_detailed_corum2018_humap1+2_lm2019.tsv.tar.bz2'\n",
    "trainingPairs = pd.read_csv(trainingPairs_filename, sep='\\t',\n",
    "                            dtype={'id1': 'str', 'id2': 'str'})\n",
    "trainingPairs = operations.freezePairs(trainingPairs, 'id1', 'id2', pool=True)"
   ],
   "metadata": {
    "id": "U4j0hzx4yO3T"
   },
   "execution_count": null,
   "outputs": []
  },
  {
   "cell_type": "code",
   "source": [
    "#trainingPairs_simple (~9M)\n",
    "trainingPairs_filename = setupDir + \\\n",
    "  'trainingPairs_labeledAggregate_corum2018_humap1+2_lm2019.tsv.tar.bz2'\n",
    "trainingPairs = pd.read_csv(trainingPairs_filename, sep='\\t',\n",
    "                            dtype={'id1': 'str', 'id2': 'str'})\n",
    "trainingPairs = operations.freezePairs(trainingPairs, 'id1', 'id2', pool=True)"
   ],
   "metadata": {
    "id": "IIKvXVacypv3"
   },
   "execution_count": null,
   "outputs": []
  },
  {
   "cell_type": "code",
   "source": [
    "#unlabeled, all-known protein-coding gene pairs (~206M)\n",
    "nontrainingPairs_proteinCoding_filename = \\\n",
    "  workDir + 'setup/nontrainingPairs_proteinCoding.tsv.tar.bz2'\n",
    "nontrainingPairs_proteinCoding = \\\n",
    "  pd.read_csv(nontrainingPairs_proteinCoding_filename, sep='\\t',\n",
    "              dtype={'id1': 'str', 'id2': 'str'})\n",
    "nontrainingPairs_proteinCoding = \\\n",
    "  operations.freezePairs(nontrainingPairs_proteinCoding, 'id1', 'id2', pool=True)"
   ],
   "metadata": {
    "colab": {
     "base_uri": "https://localhost:8080/"
    },
    "id": "2ITxQgmUnsqv",
    "executionInfo": {
     "status": "ok",
     "timestamp": 1702797222354,
     "user_tz": 300,
     "elapsed": 1128,
     "user": {
      "displayName": "Gary Wilkins",
      "userId": "01463028869337595546"
     }
    },
    "outputId": "12224432-0e79-44be-edbe-a26ca98ce5a8"
   },
   "execution_count": null,
   "outputs": [
    {
     "output_type": "stream",
     "name": "stdout",
     "text": [
      "213077046\n",
      "206875481\n"
     ]
    }
   ]
  },
  {
   "cell_type": "markdown",
   "source": [
    "##Pair-level feature matrices"
   ],
   "metadata": {
    "id": "VZf782QnM-Ed"
   }
  },
  {
   "cell_type": "code",
   "source": [
    "#(~400k)\n",
    "featMat_humap1Filename = \\\n",
    "  workDir + 'featureData/pairLevel/featMat_trainingPairs_humap1.tsv.tar.bz2'\n",
    "featMat_humap1 = pd.read_csv(featMat_humap1Filename, sep='\\t',\n",
    "                             dtype={'id1': 'str', 'id2': 'str'})\n",
    "featMat_humap1 = operations.freezePairs(featMat_humap1, 'id1', 'id2', pool=True)"
   ],
   "metadata": {
    "id": "8dnlKFwfNNMu"
   },
   "execution_count": null,
   "outputs": []
  },
  {
   "cell_type": "code",
   "source": [
    "#(~2.3M)\n",
    "featMat_humap2Filename = \\\n",
    "  workDir + 'featureData/pairLevel/featMat_trainingPairs_humap2.tsv.tar.bz2'\n",
    "featMat_humap2 = pd.read_csv(featMat_humap2Filename, sep='\\t',\n",
    "                             dtype={'id1': 'str', 'id2': 'str'})\n",
    "featMat_humap2 = operations.freezePairs(featMat_humap2, 'id1', 'id2', pool=True)"
   ],
   "metadata": {
    "id": "bLTa3UK5Nh63"
   },
   "execution_count": null,
   "outputs": []
  },
  {
   "cell_type": "code",
   "source": [
    "#(~600k)\n",
    "featMat_bioplex3Filename = \\\n",
    "  workDir + 'featureData/pairLevel/featMat_trainingPairs_bioplex3.tsv.tar.bz2'\n",
    "featMat_bioplex3 = pd.read_csv(featMat_bioplex3Filename, sep='\\t',\n",
    "                             dtype={'id1': 'str', 'id2': 'str'})\n",
    "featMat_bioplex3 = \\\n",
    "  operations.freezePairs(featMat_bioplex3, 'id1', 'id2', pool=True)"
   ],
   "metadata": {
    "id": "PtZye1wCNjXP"
   },
   "execution_count": null,
   "outputs": []
  },
  {
   "cell_type": "code",
   "source": [
    "#(~2.3M)\n",
    "featMat_pairLevel_aggFilename = \\\n",
    "  workDir + 'featureData/pairLevel/featMats_aggLabeled.tsv.tar.bz2'\n",
    "featMat_pairLevel_agg = \\\n",
    "  pd.read_csv(featMat_pairLevel_aggFilename, sep='\\t',\n",
    "              dtype={'id1': 'str', 'id2': 'str'})"
   ],
   "metadata": {
    "id": "3pzP2qzeufXH"
   },
   "execution_count": null,
   "outputs": []
  },
  {
   "cell_type": "code",
   "source": [
    "#(~2M)\n",
    "featMat_humap1Unlabeled_filename = \\\n",
    "  workDir + 'featureData/pairLevel/featMat_unlabeledPairs_humap1.tsv.tar.bz2'\n",
    "featMat_humap1Unlabeled = \\\n",
    "  pd.read_csv(featMat_humap1Unlabeled_filename, sep='\\t',\n",
    "              dtype={'id1': 'str', 'id2': 'str'})\n",
    "featMat_humap1Unlabeled = \\\n",
    "  operations.freezePairs(featMat_humap1Unlabeled, 'id1', 'id2', pool=True)"
   ],
   "metadata": {
    "id": "4e96Vvzm4sOZ"
   },
   "execution_count": null,
   "outputs": []
  },
  {
   "cell_type": "code",
   "source": [
    "#(~14M)\n",
    "featMat_humap2Unlabeled_filename = \\\n",
    "  workDir + 'featureData/pairLevel/featMat_unlabeledPairs_humap2.tsv.tar.bz2'\n",
    "featMat_humap2Unlabeled = \\\n",
    "  pd.read_csv(featMat_humap2Unlabeled_filename, sep='\\t',\n",
    "              dtype={'id1': 'str', 'id2': 'str'})\n",
    "featMat_humap2Unlabeled = \\\n",
    "  operations.freezePairs(featMat_humap2Unlabeled, 'id1', 'id2', pool=True)"
   ],
   "metadata": {
    "id": "2XfRb7Jk5wuP"
   },
   "execution_count": null,
   "outputs": []
  },
  {
   "cell_type": "code",
   "source": [
    "#(~5M)\n",
    "featMat_bioplex3Unlabeled_filename = \\\n",
    "  workDir + 'featureData/pairLevel/featMat_unlabeledPairs_bioplex3.tsv.tar.bz2'\n",
    "featMat_bioplex3Unlabeled = \\\n",
    "  pd.read_csv(featMat_bioplex3Unlabeled_filename, sep='\\t',\n",
    "              dtype={'id1': 'str', 'id2': 'str'})\n",
    "featMat_bioplex3Unlabeled = \\\n",
    "  operations.freezePairs(featMat_bioplex3Unlabeled, 'id1', 'id2', pool=True)"
   ],
   "metadata": {
    "id": "VWVcN1kj5CHy"
   },
   "execution_count": null,
   "outputs": []
  },
  {
   "cell_type": "code",
   "source": [
    "#(~17M)\n",
    "featMat_pairLevel_aggUnlabeled_filename = \\\n",
    "  workDir + 'featureData/pairLevel/featMats_aggUnlabeled.tsv.tar.bz2'\n",
    "featMat_pairLevel_aggUnlabeled = \\\n",
    "  pd.read_csv(featMat_pairLevel_aggUnlabeled_filename, sep='\\t',\n",
    "              dtype={'id1': 'str', 'id2': 'str'})\n",
    "featMat_pairLevel_aggUnlabeled = \\\n",
    "  operations.freezePairs(featMat_pairLevel_aggUnlabeled, 'id1', 'id2', pool=True)"
   ],
   "metadata": {
    "id": "_8fUZ-2A3WGi"
   },
   "execution_count": null,
   "outputs": []
  }
 ]
}
