{
 "nbformat": 4,
 "nbformat_minor": 0,
 "metadata": {
  "colab": {
   "provenance": [
    {
     "file_id": "1InhXxX9oUfEFVqDU0IS4rhCmOY-Ngbv1",
     "timestamp": 1675079015787
    }
   ],
   "authorship_tag": "ABX9TyP5hwse6RPw7ktqty9u2T8g"
  },
  "kernelspec": {
   "name": "python2",
   "display_name": "Python 2"
  },
  "language_info": {
   "name": "python"
  }
 },
 "cells": [
  {
   "cell_type": "markdown",
   "source": [
    "Install non-native packages"
   ],
   "metadata": {
    "collapsed": false
   }
  },
  {
   "cell_type": "code",
   "execution_count": null,
   "outputs": [],
   "source": [
    "%%capture\n",
    "!pip install -U scikit-learn\n",
    "!pip install ipynb\n",
    "\n",
    "!pip install -q condacolab\n",
    "import condacolab\n",
    "condacolab.install()"
   ],
   "metadata": {
    "collapsed": false
   }
  },
  {
   "cell_type": "markdown",
   "source": [
    "Enable Python2.7 environment to run code"
   ],
   "metadata": {
    "collapsed": false
   }
  },
  {
   "cell_type": "code",
   "execution_count": null,
   "outputs": [],
   "source": [
    "%%capture\n",
    "!conda create --name py2 python=2.7"
   ],
   "metadata": {
    "collapsed": false
   }
  },
  {
   "cell_type": "code",
   "execution_count": null,
   "outputs": [],
   "source": [
    "%%shell\n",
    "eval \"$(conda shell.bash hook)\"\n",
    "conda activate py2\n",
    "python --version\n",
    "\n",
    "pip install google-colab\n",
    "python"
   ],
   "metadata": {
    "collapsed": false
   }
  },
  {
   "cell_type": "markdown",
   "source": [
    "Run the following segments of code in interactive window"
   ],
   "metadata": {
    "collapsed": false
   }
  },
  {
   "cell_type": "markdown",
   "source": [
    "#Import common packages\n",
    "import glob, sys, time\n",
    "\n",
    "#Map Google Drive and mount\n",
    "from google.colab import drive, files\n",
    "drive.mount(\"/content/drive\", force_remount=True)\n",
    "\n",
    "#Define major directories\n",
    "rootDir = \"/content/drive/MyDrive/\"\n",
    "workDir = rootDir + \"Primary Research/JLMwSCBC_notebook/\"\n",
    "drew2021_codeDir = rootDir + \"otherStudies/\"\n",
    "\n",
    "#Define minor directories\n",
    "pairsFile_dir = workDir + \"complexPredictions/\"\n",
    "tempDir = pairsFile_dir + \"tempDir/\"\n",
    "\n",
    "#Import proprietary packages\n",
    "sys.path.insert(0, rootDir)\n",
    "sys.path.append(workDir)\n",
    "sys.path.append(drew2021_codeDir)\n",
    "from protein_complex_maps.clustering.clustering_parameter_optimization import main as drewCluster\n",
    "\n",
    "#Set file paths\n",
    "lm2019Pairs_baseSet = pairsFile_dir + \"lm2019Pairs_expSet.txt\"\n",
    "controlTraining_filename = pairsFile_dir + \"humap1Controls/train_complexes.txt\"\n",
    "outputFilename = pairsFile_dir + \"drew2021_clusteringOutputs/lm2019Pairs_drew2021_clusters.txt\"\n",
    "\n",
    "#Cluster pairs using Drew 2021 code\n",
    "#drewCluster(lm2019Pairs_baseSet, controlTraining_filename, outputFilename, tempDir)"
   ],
   "metadata": {
    "collapsed": false
   }
  }
 ]
}
