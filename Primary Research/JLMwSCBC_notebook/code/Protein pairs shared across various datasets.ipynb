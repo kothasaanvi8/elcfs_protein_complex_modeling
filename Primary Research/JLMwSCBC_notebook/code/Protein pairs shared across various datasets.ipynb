{
 "nbformat": 4,
 "nbformat_minor": 0,
 "metadata": {
  "colab": {
   "provenance": [
    {
     "file_id": "1Z9mTgTGyZDx-mmBAWgjs7RSBr7pCsXt-",
     "timestamp": 1694626375219
    }
   ],
   "collapsed_sections": [
    "Soam3QzzD5RO",
    "KU1fhZslDPQV",
    "WWhmIgxbFcyx",
    "seaJopeguBHy",
    "0HVrCBLz36gZ",
    "bX6jcp8wv3BC",
    "42g9JazzsZ6w",
    "oqIxEKnwKL0x",
    "6huHAqCeKdfq"
   ]
  },
  "kernelspec": {
   "name": "python3",
   "display_name": "Python 3"
  },
  "language_info": {
   "name": "python"
  }
 },
 "cells": [
  {
   "cell_type": "markdown",
   "metadata": {
    "id": "zdd7hfJFPRmL"
   },
   "source": [
    "#install packages and load libraries"
   ]
  },
  {
   "cell_type": "markdown",
   "metadata": {
    "collapsed": false,
    "id": "qq4x5R_BVsGO"
   },
   "source": [
    "Import common packages"
   ]
  },
  {
   "cell_type": "code",
   "metadata": {
    "id": "D0hp_jgvVsGP",
    "executionInfo": {
     "status": "ok",
     "timestamp": 1694631623533,
     "user_tz": 240,
     "elapsed": 4712,
     "user": {
      "displayName": "Gary Wilkins",
      "userId": "15502893371100543011"
     }
    }
   },
   "source": [
    "import argparse, datetime, glob\n",
    "import itertools as it\n",
    "from multiprocessing import cpu_count, Pool\n",
    "import networkx as nx\n",
    "import numpy as np\n",
    "import os\n",
    "import pandas as pd\n",
    "import pickle\n",
    "import matplotlib.pyplot as plt\n",
    "import random, re, requests\n",
    "import seaborn as sns\n",
    "import shutil\n",
    "from scipy.stats import hmean\n",
    "from sklearn.inspection import permutation_importance\n",
    "import sklearn.metrics\n",
    "from sklearn.metrics import auc\n",
    "from sklearn.metrics import precision_recall_curve\n",
    "import subprocess as sp\n",
    "import sys\n",
    "import tempfile as tf\n",
    "import time\n",
    "from tqdm import tqdm as progressMonitor"
   ],
   "execution_count": 1,
   "outputs": []
  },
  {
   "cell_type": "markdown",
   "metadata": {
    "collapsed": false,
    "id": "FMXt1QV9VsGT"
   },
   "source": [
    "Enable Google Colab, mount drives, and load/define proprietary modules"
   ]
  },
  {
   "cell_type": "code",
   "metadata": {
    "id": "A2ATmklTVsGU",
    "executionInfo": {
     "status": "ok",
     "timestamp": 1694631642222,
     "user_tz": 240,
     "elapsed": 18692,
     "user": {
      "displayName": "Gary Wilkins",
      "userId": "15502893371100543011"
     }
    }
   },
   "source": [
    "%%capture\n",
    "from google.colab import drive, files, output\n",
    "drive.mount('/content/drive', force_remount=True)\n",
    "!rm -r sample_data/"
   ],
   "execution_count": 2,
   "outputs": []
  },
  {
   "cell_type": "markdown",
   "metadata": {
    "id": "wOMu0fU57gLA"
   },
   "source": [
    "Define directories and principal object paths"
   ]
  },
  {
   "cell_type": "code",
   "source": [
    "#rootDir = '/content/drive/My Drive/'\n",
    "rootDir = '/content/drive/My Drive/Colab Notebooks/'\n",
    "workDir = rootDir + 'Primary Research/JLMwSCBC_notebook/'\n",
    "#workDir_elcfs = workDir + 'proteinPairs_complexMaps/'\n",
    "workDir_elcfs = rootDir + 'Primary Research/proteinPairs_complexMaps/'\n",
    "workDir_other = rootDir + 'otherStudies/'"
   ],
   "metadata": {
    "id": "6ey8Tpxwtgjq",
    "executionInfo": {
     "status": "ok",
     "timestamp": 1694631642223,
     "user_tz": 240,
     "elapsed": 8,
     "user": {
      "displayName": "Gary Wilkins",
      "userId": "15502893371100543011"
     }
    }
   },
   "execution_count": 3,
   "outputs": []
  },
  {
   "cell_type": "code",
   "source": [
    "sys.path.insert(0, rootDir)\n",
    "sys.path.append(workDir)\n",
    "sys.path.append(workDir_elcfs)\n",
    "sys.path.append(workDir_other)"
   ],
   "metadata": {
    "id": "QuJXN5g2jc7F",
    "executionInfo": {
     "status": "ok",
     "timestamp": 1694631642223,
     "user_tz": 240,
     "elapsed": 7,
     "user": {
      "displayName": "Gary Wilkins",
      "userId": "15502893371100543011"
     }
    }
   },
   "execution_count": 4,
   "outputs": []
  },
  {
   "cell_type": "markdown",
   "source": [
    "#util functions"
   ],
   "metadata": {
    "id": "AuNtfp7xKVae"
   }
  },
  {
   "cell_type": "code",
   "source": [
    "def flatten(lst):\n",
    "  return [item for sublist in lst for item in sublist]"
   ],
   "metadata": {
    "id": "FJ8PKUYdEwYX",
    "executionInfo": {
     "status": "ok",
     "timestamp": 1694631642223,
     "user_tz": 240,
     "elapsed": 6,
     "user": {
      "displayName": "Gary Wilkins",
      "userId": "15502893371100543011"
     }
    }
   },
   "execution_count": 5,
   "outputs": []
  },
  {
   "cell_type": "code",
   "source": [
    "def freezePairs(df, col1, col2):\n",
    "    df.insert(0, 'pairsFrozen',\n",
    "              df.loc[:, [col1, col2]].apply(frozenset, axis=1))\n",
    "\n",
    "    return df"
   ],
   "metadata": {
    "id": "MGhhnMbqwy3V",
    "executionInfo": {
     "status": "ok",
     "timestamp": 1694631642223,
     "user_tz": 240,
     "elapsed": 6,
     "user": {
      "displayName": "Gary Wilkins",
      "userId": "15502893371100543011"
     }
    }
   },
   "execution_count": 6,
   "outputs": []
  },
  {
   "cell_type": "code",
   "source": [
    "def generatePairs_theo(prots):\n",
    "  return [frozenset(pair) for pair in list(it.combinations(prots, 2))]"
   ],
   "metadata": {
    "id": "eoqrdK7gr3ck",
    "executionInfo": {
     "status": "ok",
     "timestamp": 1694631642224,
     "user_tz": 240,
     "elapsed": 7,
     "user": {
      "displayName": "Gary Wilkins",
      "userId": "15502893371100543011"
     }
    }
   },
   "execution_count": 7,
   "outputs": []
  },
  {
   "cell_type": "code",
   "source": [
    "def loadComplexes(filename):\n",
    "    complexes = []\n",
    "    complexesFile = open(filename, 'r')\n",
    "    for line in complexesFile.readlines():\n",
    "        complexes.append(line.split())\n",
    "    complexesFile.close()\n",
    "\n",
    "    complexesFrozen = [frozenset(cplx) for cplx in complexes]\n",
    "\n",
    "    return complexesFrozen"
   ],
   "metadata": {
    "id": "5K5K0tCZFZyd",
    "executionInfo": {
     "status": "ok",
     "timestamp": 1694631642224,
     "user_tz": 240,
     "elapsed": 7,
     "user": {
      "displayName": "Gary Wilkins",
      "userId": "15502893371100543011"
     }
    }
   },
   "execution_count": 8,
   "outputs": []
  },
  {
   "cell_type": "code",
   "source": [
    "def findOverlap(comboList):\n",
    "    pairsOverlapping = set.intersection(*[set(pairsSources[source])\n",
    "                                          for source in list(comboList)])\n",
    "    return pairsOverlapping"
   ],
   "metadata": {
    "id": "mDp_bUy6sv0V",
    "executionInfo": {
     "status": "ok",
     "timestamp": 1694631642227,
     "user_tz": 240,
     "elapsed": 10,
     "user": {
      "displayName": "Gary Wilkins",
      "userId": "15502893371100543011"
     }
    }
   },
   "execution_count": 9,
   "outputs": []
  },
  {
   "cell_type": "code",
   "source": [
    "class CORUM(object):\n",
    "\n",
    "  def __init__(self, corumCore_excelFile,\n",
    "               nameCol='ComplexName', organismCol='Organism',\n",
    "               subunitsCol='subunits(Entrez IDs)'):\n",
    "\n",
    "    corumCols_select = [nameCol, organismCol, subunitsCol]\n",
    "    self.nameCol, self.organismCol, self.subunitsCol = corumCols_select\n",
    "    self.rawData = pd.read_excel(corumCore_excelFile, usecols=corumCols_select)\n",
    "    self.humanData = \\\n",
    "      pd.read_excel(corumCore_excelFile, usecols=corumCols_select)\n",
    "\n",
    "    self.allCplx_names, self.allCplx_frozen, self.allCplx_species, \\\n",
    "      self.allCplx_total, self.allProts, self.organisms = \\\n",
    "        self.formatDF(self.rawData)\n",
    "\n",
    "    self.humanComplexes_names, self.humanCplx_frozen, _, self.humanCplx_total, \\\n",
    "      self.humanProts, _ = self.formatDF(\n",
    "          self.rawData.loc[self.rawData[self.organismCol]=='Human', :])\n",
    "\n",
    "    self.allPairs, self.allPairs_human = \\\n",
    "      self.generatePairs(self.allProts), self.generatePairs(self.humanProts)\n",
    "\n",
    "  def dropEmpties_freeze2List(self, line):\n",
    "    return frozenset([ele\n",
    "                      for ele in line.replace('None', '').split(';') if ele])\n",
    "\n",
    "  def generatePairs(self, prots):\n",
    "    return [frozenset(pair) for pair in list(it.combinations(prots, 2))]\n",
    "\n",
    "  def formatDF(self, df):\n",
    "    cplxNames = [row[self.nameCol] for _, row in df.iterrows()]\n",
    "    cplxFrozen = \\\n",
    "     [self.dropEmpties_freeze2List(row[self.subunitsCol])\n",
    "     for _, row in df.iterrows()]\n",
    "    cplxOrganisms = [row[self.organismCol] for _, row in df.iterrows()]\n",
    "    numComplexes = sum([1 for _, row in df.iterrows()])\n",
    "    prots = [str(ele) for ele in list(set().union(*\n",
    "     [row[self.subunitsCol].replace('None', '').split(';')\n",
    "     for _, row in df.iterrows()])) if ele]\n",
    "    species = list(set([row[self.organismCol] for _, row in df.iterrows()]))\n",
    "\n",
    "    return cplxNames, cplxFrozen, cplxOrganisms, numComplexes, prots, species\n"
   ],
   "metadata": {
    "id": "KT1pf7OvP7wt",
    "executionInfo": {
     "status": "ok",
     "timestamp": 1694631642227,
     "user_tz": 240,
     "elapsed": 9,
     "user": {
      "displayName": "Gary Wilkins",
      "userId": "15502893371100543011"
     }
    }
   },
   "execution_count": 10,
   "outputs": []
  },
  {
   "cell_type": "markdown",
   "source": [
    "#sources"
   ],
   "metadata": {
    "id": "Z6_dr10iKlDI"
   }
  },
  {
   "cell_type": "markdown",
   "source": [
    "1.   [CORUM](http://mips.helmholtz-muenchen.de/corum/#download)\n",
    "\n",
    "2.   [hu.MAP v1.0](http://hu.proteincomplexes.org/download) (HEK293T)\n",
    ">    *(Obsolete)*\n",
    "> *   BioPlex v1.0 - Huttlin 2015 (AP-MS)\n",
    "> *   Hein 2015 (AP-MS)\n",
    "> *   Wan 2015 (CF-MS)\n",
    "\n",
    "3.   [hu.MAP 2.0](http://humap2.proteincomplexes.org/download) (HEK293T)\n",
    "> *  BioPlex v2.0 - Huttlin 2017 (AP-MS)\n",
    "> *  Boldt 2016 (AP-MS)\n",
    "> *  Gupta 2015 (Proximity)\n",
    "> *  Hein 2015 (AP-MS)\n",
    "> *  Wan 2015 (AP-MS)\n",
    "> *  Youn 2018 (Proximity)\n",
    "> *  Treiber 2017; Mallam 2019 (RNA-Pulldown)\n",
    "\n",
    "4.   [BioPlex](https://bioplex.hms.harvard.edu/data/BioPlex_BaitPreyPairs_noFilters_293T_10K_Dec_2019.tsv) v3.0 2021 (AP-MS)\n",
    "\n",
    "5.   [Lugo-Martinez 2019](https://drive.google.com/drive/folders/191Y14LBVZnIxWJysmJ7I_UL451aStVvj?usp=sharing)\n",
    "> *  HPA - Uniprot 2017\n",
    "> *  HPA-DL - Ouyang 2019\n",
    "> *  NCI-60 - Gholami 2013\n",
    "> *  FANTOM - Forrest 2014\n",
    "> *  GTEx - Yizhak 2019\n",
    "\n",
    "6.   [SubCellBarCode](https://www.subcellbarcode.org/) 2019\n",
    "\n",
    "7.   [STRING](https://string-db.org/cgi/download.pl)\n",
    "\n",
    "\n",
    "\n"
   ],
   "metadata": {
    "id": "lgib75ITKm0q"
   }
  },
  {
   "cell_type": "markdown",
   "source": [
    "key variables: proteins, pairs, complexes, labels, scores"
   ],
   "metadata": {
    "id": "qMEe8pSmCnLF"
   }
  },
  {
   "cell_type": "markdown",
   "source": [
    "##CORUM"
   ],
   "metadata": {
    "id": "ynHp4I9IDNDn"
   }
  },
  {
   "cell_type": "code",
   "source": [
    "corumData_2018Dir = workDir_elcfs + 'sourceData/corum/2018.09.03/corum.xlsx'\n",
    "accessCORUM = CORUM(corumData_2018Dir)"
   ],
   "metadata": {
    "id": "NMTQIZMhj6Cd"
   },
   "execution_count": null,
   "outputs": []
  },
  {
   "cell_type": "code",
   "source": [
    "humanProts = accessCORUM.humanProts\n",
    "print(len(humanProts))"
   ],
   "metadata": {
    "colab": {
     "base_uri": "https://localhost:8080/"
    },
    "id": "J3IbQjV9gOcH",
    "executionInfo": {
     "status": "ok",
     "timestamp": 1694621905762,
     "user_tz": 240,
     "elapsed": 291,
     "user": {
      "displayName": "Gary Wilkins",
      "userId": "15502893371100543011"
     }
    },
    "outputId": "0c1353f2-d902-4894-f297-4d90780864a2"
   },
   "execution_count": null,
   "outputs": [
    {
     "output_type": "stream",
     "name": "stdout",
     "text": [
      "3375\n"
     ]
    }
   ]
  },
  {
   "cell_type": "code",
   "source": [
    "pickle.dump(humanProts, open('./humanProts_CORUMlatest.pkl', 'wb'))"
   ],
   "metadata": {
    "id": "xZXM3GFxRk8z"
   },
   "execution_count": null,
   "outputs": []
  },
  {
   "cell_type": "code",
   "source": [
    "allPairs_corumLabeled = \\\n",
    "  pd.DataFrame(accessCORUM.allPairs_human, columns=['idi', 'idii'], dtype='str')\n",
    "allPairs_corumLabeled.insert(2, 'pairsFrozen',\n",
    "                             allPairs_corumLabeled.loc[:, ['idi', 'idii']].apply(frozenset, axis=1))\n",
    "allPairs_corumLabeled.insert(3, 'label', 0)\n",
    "\n",
    "posPairs_humanProt = \\\n",
    "  flatten(\n",
    "      [[frozenset(pair) for pair in list(it.combinations(cplx, 2))]\n",
    "       for cplx in accessCORUM.humanCplx_frozen])\n",
    "allPairs_corumLabeled.loc[\n",
    "    (allPairs_corumLabeled.pairsFrozen.isin(posPairs_humanProt)), 'label'] = 1\n",
    "\n",
    "print('+/- Pairs DF dims: {0}'.format(allPairs_corumLabeled.shape))\n",
    "print('+ Pairs DF dims: {0}'.format(\n",
    "    allPairs_corumLabeled.loc[allPairs_corumLabeled.label==1, :].shape))\n",
    "print('- Pairs DF dims: {0}'.format(\n",
    "    allPairs_corumLabeled.loc[allPairs_corumLabeled.label==0, :].shape))"
   ],
   "metadata": {
    "colab": {
     "base_uri": "https://localhost:8080/"
    },
    "id": "8ZXql_yKueZS",
    "executionInfo": {
     "status": "ok",
     "timestamp": 1691711789935,
     "user_tz": 240,
     "elapsed": 58663,
     "user": {
      "displayName": "kaputfish kaputfish",
      "userId": "01463028869337595546"
     }
    },
    "outputId": "0b0820ae-7cc2-4b0c-9880-8bc3f178dfc0"
   },
   "execution_count": null,
   "outputs": [
    {
     "output_type": "stream",
     "name": "stdout",
     "text": [
      "+/- Pairs DF dims: (5693625, 4)\n",
      "+ Pairs DF dims: (38018, 4)\n",
      "- Pairs DF dims: (5655607, 4)\n"
     ]
    }
   ]
  },
  {
   "cell_type": "code",
   "source": [
    "allPairs_corumLabeled.to_csv(\n",
    "    workDir_elcfs + 'sourceData/corum/2018.07.01/allPairs_corumLabeled.tsv',\n",
    "    sep='\\t', index=False)\n",
    "pickle.dump(allPairs_corumLabeled,\n",
    "            open(workDir_elcfs +\n",
    "                 'sourceData/corum/2018.07.01/allPairs_corumLabeled.pkl', 'wb'))"
   ],
   "metadata": {
    "id": "kVzNy-D9zvxX"
   },
   "execution_count": null,
   "outputs": []
  },
  {
   "cell_type": "markdown",
   "source": [
    "##hu.MAP 1.0"
   ],
   "metadata": {
    "id": "Soam3QzzD5RO"
   }
  },
  {
   "cell_type": "markdown",
   "source": [
    "(BioPlex 1.0 included)"
   ],
   "metadata": {
    "id": "IJHiIPFZjIeE"
   }
  },
  {
   "cell_type": "code",
   "source": [
    "humap1Dir = workDir + 'proteinComplexes/huMAP_1.0/'\n",
    "humap1Data_files = glob.glob(humap1Dir + '*ppis*')"
   ],
   "metadata": {
    "id": "e8JwQPRVD7d0"
   },
   "execution_count": null,
   "outputs": []
  },
  {
   "cell_type": "code",
   "source": [
    "humap1Data_files"
   ],
   "metadata": {
    "colab": {
     "base_uri": "https://localhost:8080/"
    },
    "id": "K62N0lUpDZ4P",
    "executionInfo": {
     "status": "ok",
     "timestamp": 1694621945811,
     "user_tz": 240,
     "elapsed": 269,
     "user": {
      "displayName": "Gary Wilkins",
      "userId": "15502893371100543011"
     }
    },
    "outputId": "44b25df3-7887-42ef-d0be-f695ebfa328a"
   },
   "execution_count": null,
   "outputs": [
    {
     "output_type": "execute_result",
     "data": {
      "text/plain": [
       "['/content/drive/My Drive/Colab Notebooks/Primary Research/JLMwSCBC_notebook/proteinComplexes/huMAP_1.0/test_neg_ppis.txt',\n",
       " '/content/drive/My Drive/Colab Notebooks/Primary Research/JLMwSCBC_notebook/proteinComplexes/huMAP_1.0/test_ppis.txt',\n",
       " '/content/drive/My Drive/Colab Notebooks/Primary Research/JLMwSCBC_notebook/proteinComplexes/huMAP_1.0/train_ppis.txt',\n",
       " '/content/drive/My Drive/Colab Notebooks/Primary Research/JLMwSCBC_notebook/proteinComplexes/huMAP_1.0/train_neg_ppis.txt']"
      ]
     },
     "metadata": {},
     "execution_count": 39
    }
   ]
  },
  {
   "cell_type": "code",
   "source": [
    "humap1Data = \\\n",
    "  {key.split('/')[-1].split('_ppis.txt')[0]:\n",
    "   pd.read_csv(key,\n",
    "               engine='python', sep='\\t| ', names=['idi', 'idii'], dtype='str')\n",
    "   for key in humap1Data_files}\n",
    "humap1Data = \\\n",
    "  {key: pd.concat([val, val.loc[:, ['idi', 'idii']].apply(frozenset, axis=1)],\n",
    "                  axis=1)\n",
    "  for key, val in humap1Data.items()}\n",
    "\n",
    "humap1Data = \\\n",
    "  {key: val.rename(columns={0: 'pairsFrozen'})\n",
    "  for key, val in humap1Data.items()}\n",
    "humap1Data = \\\n",
    "  {key: pd.concat([val, pd.DataFrame([0 for i in val.index])], axis=1)\n",
    "   if 'neg' in key\n",
    "   else pd.concat([val, pd.DataFrame([1 for i in val.index])], axis=1)\n",
    "   for key, val in humap1Data.items()}\n",
    "humap1Data = \\\n",
    "  {key: val.rename(columns={0: 'label'}) for key, val in humap1Data.items()}"
   ],
   "metadata": {
    "id": "dgIYbsF8DacD",
    "executionInfo": {
     "status": "error",
     "timestamp": 1694622020962,
     "user_tz": 240,
     "elapsed": 73583,
     "user": {
      "displayName": "Gary Wilkins",
      "userId": "15502893371100543011"
     }
    },
    "outputId": "abcf1057-c57e-432a-9fb2-513c190751fb",
    "colab": {
     "base_uri": "https://localhost:8080/",
     "height": 399
    }
   },
   "execution_count": null,
   "outputs": [
    {
     "output_type": "error",
     "ename": "KeyboardInterrupt",
     "evalue": "ignored",
     "traceback": [
      "\u001B[0;31m---------------------------------------------------------------------------\u001B[0m",
      "\u001B[0;31mKeyboardInterrupt\u001B[0m                         Traceback (most recent call last)",
      "\u001B[0;32m<ipython-input-40-f6859b03bb4d>\u001B[0m in \u001B[0;36m<cell line: 7>\u001B[0;34m()\u001B[0m\n\u001B[1;32m      5\u001B[0m    for key in humap1Data_files}\n\u001B[1;32m      6\u001B[0m \u001B[0mhumap1Data\u001B[0m \u001B[0;34m=\u001B[0m\u001B[0;31m \u001B[0m\u001B[0;31m\\\u001B[0m\u001B[0;34m\u001B[0m\u001B[0;34m\u001B[0m\u001B[0m\n\u001B[0;32m----> 7\u001B[0;31m   {key: pd.concat([val, val.loc[:, ['idi', 'idii']].apply(frozenset, axis=1)],\n\u001B[0m\u001B[1;32m      8\u001B[0m                   axis=1)\n\u001B[1;32m      9\u001B[0m   for key, val in humap1Data.items()}\n",
      "\u001B[0;32m<ipython-input-40-f6859b03bb4d>\u001B[0m in \u001B[0;36m<dictcomp>\u001B[0;34m(.0)\u001B[0m\n\u001B[1;32m      5\u001B[0m    for key in humap1Data_files}\n\u001B[1;32m      6\u001B[0m \u001B[0mhumap1Data\u001B[0m \u001B[0;34m=\u001B[0m\u001B[0;31m \u001B[0m\u001B[0;31m\\\u001B[0m\u001B[0;34m\u001B[0m\u001B[0;34m\u001B[0m\u001B[0m\n\u001B[0;32m----> 7\u001B[0;31m   {key: pd.concat([val, val.loc[:, ['idi', 'idii']].apply(frozenset, axis=1)],\n\u001B[0m\u001B[1;32m      8\u001B[0m                   axis=1)\n\u001B[1;32m      9\u001B[0m   for key, val in humap1Data.items()}\n",
      "\u001B[0;32m/usr/local/lib/python3.10/dist-packages/pandas/core/frame.py\u001B[0m in \u001B[0;36mapply\u001B[0;34m(self, func, axis, raw, result_type, args, **kwargs)\u001B[0m\n\u001B[1;32m   9566\u001B[0m             \u001B[0mkwargs\u001B[0m\u001B[0;34m=\u001B[0m\u001B[0mkwargs\u001B[0m\u001B[0;34m,\u001B[0m\u001B[0;34m\u001B[0m\u001B[0;34m\u001B[0m\u001B[0m\n\u001B[1;32m   9567\u001B[0m         )\n\u001B[0;32m-> 9568\u001B[0;31m         \u001B[0;32mreturn\u001B[0m \u001B[0mop\u001B[0m\u001B[0;34m.\u001B[0m\u001B[0mapply\u001B[0m\u001B[0;34m(\u001B[0m\u001B[0;34m)\u001B[0m\u001B[0;34m.\u001B[0m\u001B[0m__finalize__\u001B[0m\u001B[0;34m(\u001B[0m\u001B[0mself\u001B[0m\u001B[0;34m,\u001B[0m \u001B[0mmethod\u001B[0m\u001B[0;34m=\u001B[0m\u001B[0;34m\"apply\"\u001B[0m\u001B[0;34m)\u001B[0m\u001B[0;34m\u001B[0m\u001B[0;34m\u001B[0m\u001B[0m\n\u001B[0m\u001B[1;32m   9569\u001B[0m \u001B[0;34m\u001B[0m\u001B[0m\n\u001B[1;32m   9570\u001B[0m     def applymap(\n",
      "\u001B[0;32m/usr/local/lib/python3.10/dist-packages/pandas/core/apply.py\u001B[0m in \u001B[0;36mapply\u001B[0;34m(self)\u001B[0m\n\u001B[1;32m    762\u001B[0m             \u001B[0;32mreturn\u001B[0m \u001B[0mself\u001B[0m\u001B[0;34m.\u001B[0m\u001B[0mapply_raw\u001B[0m\u001B[0;34m(\u001B[0m\u001B[0;34m)\u001B[0m\u001B[0;34m\u001B[0m\u001B[0;34m\u001B[0m\u001B[0m\n\u001B[1;32m    763\u001B[0m \u001B[0;34m\u001B[0m\u001B[0m\n\u001B[0;32m--> 764\u001B[0;31m         \u001B[0;32mreturn\u001B[0m \u001B[0mself\u001B[0m\u001B[0;34m.\u001B[0m\u001B[0mapply_standard\u001B[0m\u001B[0;34m(\u001B[0m\u001B[0;34m)\u001B[0m\u001B[0;34m\u001B[0m\u001B[0;34m\u001B[0m\u001B[0m\n\u001B[0m\u001B[1;32m    765\u001B[0m \u001B[0;34m\u001B[0m\u001B[0m\n\u001B[1;32m    766\u001B[0m     \u001B[0;32mdef\u001B[0m \u001B[0magg\u001B[0m\u001B[0;34m(\u001B[0m\u001B[0mself\u001B[0m\u001B[0;34m)\u001B[0m\u001B[0;34m:\u001B[0m\u001B[0;34m\u001B[0m\u001B[0;34m\u001B[0m\u001B[0m\n",
      "\u001B[0;31mKeyboardInterrupt\u001B[0m: "
     ]
    }
   ]
  },
  {
   "cell_type": "code",
   "source": [
    "humap1Pairs = \\\n",
    "  pd.concat([df for df in humap1Data.values()], axis=0, ignore_index=True)"
   ],
   "metadata": {
    "id": "toIEkPY1DacL"
   },
   "execution_count": null,
   "outputs": []
  },
  {
   "cell_type": "code",
   "source": [
    "humap1Prots = \\\n",
    "  list(set(humap1Pairs.idi.to_list()).union(set(humap1Pairs.idii.to_list())))"
   ],
   "metadata": {
    "id": "t8KoEfy1F_fb"
   },
   "execution_count": null,
   "outputs": []
  },
  {
   "cell_type": "code",
   "source": [
    "humap1Pairs"
   ],
   "metadata": {
    "colab": {
     "base_uri": "https://localhost:8080/",
     "height": 424
    },
    "id": "AXsUh1UNFv3s",
    "executionInfo": {
     "status": "ok",
     "timestamp": 1691715306793,
     "user_tz": 240,
     "elapsed": 140,
     "user": {
      "displayName": "kaputfish kaputfish",
      "userId": "01463028869337595546"
     }
    },
    "outputId": "b90845a6-2907-4d3b-c02c-406bcef86276"
   },
   "execution_count": null,
   "outputs": [
    {
     "output_type": "execute_result",
     "data": {
      "text/plain": [
       "           idi       idii         pairsFrozen  label\n",
       "0        26395       2004       (26395, 2004)      0\n",
       "1        24338       5361       (5361, 24338)      0\n",
       "2        67891      25686      (25686, 67891)      0\n",
       "3        23338     192663     (192663, 23338)      0\n",
       "4        75788     777775     (777775, 75788)      0\n",
       "...        ...        ...                 ...    ...\n",
       "5455116   6204       5429        (5429, 6204)      0\n",
       "5455117    354      66340        (66340, 354)      0\n",
       "5455118  29218       5430       (29218, 5430)      0\n",
       "5455119  67530  100009214  (100009214, 67530)      0\n",
       "5455120  24586       3297       (3297, 24586)      0\n",
       "\n",
       "[5455121 rows x 4 columns]"
      ],
      "text/html": [
       "\n",
       "\n",
       "  <div id=\"df-1a53e5cd-787a-4094-afd3-4f968bdd2e82\">\n",
       "    <div class=\"colab-df-container\">\n",
       "      <div>\n",
       "<style scoped>\n",
       "    .dataframe tbody tr th:only-of-type {\n",
       "        vertical-align: middle;\n",
       "    }\n",
       "\n",
       "    .dataframe tbody tr th {\n",
       "        vertical-align: top;\n",
       "    }\n",
       "\n",
       "    .dataframe thead th {\n",
       "        text-align: right;\n",
       "    }\n",
       "</style>\n",
       "<table border=\"1\" class=\"dataframe\">\n",
       "  <thead>\n",
       "    <tr style=\"text-align: right;\">\n",
       "      <th></th>\n",
       "      <th>idi</th>\n",
       "      <th>idii</th>\n",
       "      <th>pairsFrozen</th>\n",
       "      <th>label</th>\n",
       "    </tr>\n",
       "  </thead>\n",
       "  <tbody>\n",
       "    <tr>\n",
       "      <th>0</th>\n",
       "      <td>26395</td>\n",
       "      <td>2004</td>\n",
       "      <td>(26395, 2004)</td>\n",
       "      <td>0</td>\n",
       "    </tr>\n",
       "    <tr>\n",
       "      <th>1</th>\n",
       "      <td>24338</td>\n",
       "      <td>5361</td>\n",
       "      <td>(5361, 24338)</td>\n",
       "      <td>0</td>\n",
       "    </tr>\n",
       "    <tr>\n",
       "      <th>2</th>\n",
       "      <td>67891</td>\n",
       "      <td>25686</td>\n",
       "      <td>(25686, 67891)</td>\n",
       "      <td>0</td>\n",
       "    </tr>\n",
       "    <tr>\n",
       "      <th>3</th>\n",
       "      <td>23338</td>\n",
       "      <td>192663</td>\n",
       "      <td>(192663, 23338)</td>\n",
       "      <td>0</td>\n",
       "    </tr>\n",
       "    <tr>\n",
       "      <th>4</th>\n",
       "      <td>75788</td>\n",
       "      <td>777775</td>\n",
       "      <td>(777775, 75788)</td>\n",
       "      <td>0</td>\n",
       "    </tr>\n",
       "    <tr>\n",
       "      <th>...</th>\n",
       "      <td>...</td>\n",
       "      <td>...</td>\n",
       "      <td>...</td>\n",
       "      <td>...</td>\n",
       "    </tr>\n",
       "    <tr>\n",
       "      <th>5455116</th>\n",
       "      <td>6204</td>\n",
       "      <td>5429</td>\n",
       "      <td>(5429, 6204)</td>\n",
       "      <td>0</td>\n",
       "    </tr>\n",
       "    <tr>\n",
       "      <th>5455117</th>\n",
       "      <td>354</td>\n",
       "      <td>66340</td>\n",
       "      <td>(66340, 354)</td>\n",
       "      <td>0</td>\n",
       "    </tr>\n",
       "    <tr>\n",
       "      <th>5455118</th>\n",
       "      <td>29218</td>\n",
       "      <td>5430</td>\n",
       "      <td>(29218, 5430)</td>\n",
       "      <td>0</td>\n",
       "    </tr>\n",
       "    <tr>\n",
       "      <th>5455119</th>\n",
       "      <td>67530</td>\n",
       "      <td>100009214</td>\n",
       "      <td>(100009214, 67530)</td>\n",
       "      <td>0</td>\n",
       "    </tr>\n",
       "    <tr>\n",
       "      <th>5455120</th>\n",
       "      <td>24586</td>\n",
       "      <td>3297</td>\n",
       "      <td>(3297, 24586)</td>\n",
       "      <td>0</td>\n",
       "    </tr>\n",
       "  </tbody>\n",
       "</table>\n",
       "<p>5455121 rows × 4 columns</p>\n",
       "</div>\n",
       "      <button class=\"colab-df-convert\" onclick=\"convertToInteractive('df-1a53e5cd-787a-4094-afd3-4f968bdd2e82')\"\n",
       "              title=\"Convert this dataframe to an interactive table.\"\n",
       "              style=\"display:none;\">\n",
       "\n",
       "  <svg xmlns=\"http://www.w3.org/2000/svg\" height=\"24px\"viewBox=\"0 0 24 24\"\n",
       "       width=\"24px\">\n",
       "    <path d=\"M0 0h24v24H0V0z\" fill=\"none\"/>\n",
       "    <path d=\"M18.56 5.44l.94 2.06.94-2.06 2.06-.94-2.06-.94-.94-2.06-.94 2.06-2.06.94zm-11 1L8.5 8.5l.94-2.06 2.06-.94-2.06-.94L8.5 2.5l-.94 2.06-2.06.94zm10 10l.94 2.06.94-2.06 2.06-.94-2.06-.94-.94-2.06-.94 2.06-2.06.94z\"/><path d=\"M17.41 7.96l-1.37-1.37c-.4-.4-.92-.59-1.43-.59-.52 0-1.04.2-1.43.59L10.3 9.45l-7.72 7.72c-.78.78-.78 2.05 0 2.83L4 21.41c.39.39.9.59 1.41.59.51 0 1.02-.2 1.41-.59l7.78-7.78 2.81-2.81c.8-.78.8-2.07 0-2.86zM5.41 20L4 18.59l7.72-7.72 1.47 1.35L5.41 20z\"/>\n",
       "  </svg>\n",
       "      </button>\n",
       "\n",
       "\n",
       "\n",
       "    <div id=\"df-e8bc1407-b51c-4857-974b-985214000663\">\n",
       "      <button class=\"colab-df-quickchart\" onclick=\"quickchart('df-e8bc1407-b51c-4857-974b-985214000663')\"\n",
       "              title=\"Suggest charts.\"\n",
       "              style=\"display:none;\">\n",
       "\n",
       "<svg xmlns=\"http://www.w3.org/2000/svg\" height=\"24px\"viewBox=\"0 0 24 24\"\n",
       "     width=\"24px\">\n",
       "    <g>\n",
       "        <path d=\"M19 3H5c-1.1 0-2 .9-2 2v14c0 1.1.9 2 2 2h14c1.1 0 2-.9 2-2V5c0-1.1-.9-2-2-2zM9 17H7v-7h2v7zm4 0h-2V7h2v10zm4 0h-2v-4h2v4z\"/>\n",
       "    </g>\n",
       "</svg>\n",
       "      </button>\n",
       "    </div>\n",
       "\n",
       "<style>\n",
       "  .colab-df-quickchart {\n",
       "    background-color: #E8F0FE;\n",
       "    border: none;\n",
       "    border-radius: 50%;\n",
       "    cursor: pointer;\n",
       "    display: none;\n",
       "    fill: #1967D2;\n",
       "    height: 32px;\n",
       "    padding: 0 0 0 0;\n",
       "    width: 32px;\n",
       "  }\n",
       "\n",
       "  .colab-df-quickchart:hover {\n",
       "    background-color: #E2EBFA;\n",
       "    box-shadow: 0px 1px 2px rgba(60, 64, 67, 0.3), 0px 1px 3px 1px rgba(60, 64, 67, 0.15);\n",
       "    fill: #174EA6;\n",
       "  }\n",
       "\n",
       "  [theme=dark] .colab-df-quickchart {\n",
       "    background-color: #3B4455;\n",
       "    fill: #D2E3FC;\n",
       "  }\n",
       "\n",
       "  [theme=dark] .colab-df-quickchart:hover {\n",
       "    background-color: #434B5C;\n",
       "    box-shadow: 0px 1px 3px 1px rgba(0, 0, 0, 0.15);\n",
       "    filter: drop-shadow(0px 1px 2px rgba(0, 0, 0, 0.3));\n",
       "    fill: #FFFFFF;\n",
       "  }\n",
       "</style>\n",
       "\n",
       "    <script>\n",
       "      async function quickchart(key) {\n",
       "        const containerElement = document.querySelector('#' + key);\n",
       "        const charts = await google.colab.kernel.invokeFunction(\n",
       "            'suggestCharts', [key], {});\n",
       "      }\n",
       "    </script>\n",
       "\n",
       "      <script>\n",
       "\n",
       "function displayQuickchartButton(domScope) {\n",
       "  let quickchartButtonEl =\n",
       "    domScope.querySelector('#df-e8bc1407-b51c-4857-974b-985214000663 button.colab-df-quickchart');\n",
       "  quickchartButtonEl.style.display =\n",
       "    google.colab.kernel.accessAllowed ? 'block' : 'none';\n",
       "}\n",
       "\n",
       "        displayQuickchartButton(document);\n",
       "      </script>\n",
       "      <style>\n",
       "    .colab-df-container {\n",
       "      display:flex;\n",
       "      flex-wrap:wrap;\n",
       "      gap: 12px;\n",
       "    }\n",
       "\n",
       "    .colab-df-convert {\n",
       "      background-color: #E8F0FE;\n",
       "      border: none;\n",
       "      border-radius: 50%;\n",
       "      cursor: pointer;\n",
       "      display: none;\n",
       "      fill: #1967D2;\n",
       "      height: 32px;\n",
       "      padding: 0 0 0 0;\n",
       "      width: 32px;\n",
       "    }\n",
       "\n",
       "    .colab-df-convert:hover {\n",
       "      background-color: #E2EBFA;\n",
       "      box-shadow: 0px 1px 2px rgba(60, 64, 67, 0.3), 0px 1px 3px 1px rgba(60, 64, 67, 0.15);\n",
       "      fill: #174EA6;\n",
       "    }\n",
       "\n",
       "    [theme=dark] .colab-df-convert {\n",
       "      background-color: #3B4455;\n",
       "      fill: #D2E3FC;\n",
       "    }\n",
       "\n",
       "    [theme=dark] .colab-df-convert:hover {\n",
       "      background-color: #434B5C;\n",
       "      box-shadow: 0px 1px 3px 1px rgba(0, 0, 0, 0.15);\n",
       "      filter: drop-shadow(0px 1px 2px rgba(0, 0, 0, 0.3));\n",
       "      fill: #FFFFFF;\n",
       "    }\n",
       "  </style>\n",
       "\n",
       "      <script>\n",
       "        const buttonEl =\n",
       "          document.querySelector('#df-1a53e5cd-787a-4094-afd3-4f968bdd2e82 button.colab-df-convert');\n",
       "        buttonEl.style.display =\n",
       "          google.colab.kernel.accessAllowed ? 'block' : 'none';\n",
       "\n",
       "        async function convertToInteractive(key) {\n",
       "          const element = document.querySelector('#df-1a53e5cd-787a-4094-afd3-4f968bdd2e82');\n",
       "          const dataTable =\n",
       "            await google.colab.kernel.invokeFunction('convertToInteractive',\n",
       "                                                     [key], {});\n",
       "          if (!dataTable) return;\n",
       "\n",
       "          const docLinkHtml = 'Like what you see? Visit the ' +\n",
       "            '<a target=\"_blank\" href=https://colab.research.google.com/notebooks/data_table.ipynb>data table notebook</a>'\n",
       "            + ' to learn more about interactive tables.';\n",
       "          element.innerHTML = '';\n",
       "          dataTable['output_type'] = 'display_data';\n",
       "          await google.colab.output.renderOutput(dataTable, element);\n",
       "          const docLink = document.createElement('div');\n",
       "          docLink.innerHTML = docLinkHtml;\n",
       "          element.appendChild(docLink);\n",
       "        }\n",
       "      </script>\n",
       "    </div>\n",
       "  </div>\n"
      ]
     },
     "metadata": {},
     "execution_count": 78
    }
   ]
  },
  {
   "cell_type": "markdown",
   "source": [
    "Don't run this cell with less than 24G of free RAM"
   ],
   "metadata": {
    "id": "Bx3ajfDzVzfL"
   }
  },
  {
   "cell_type": "code",
   "source": [
    "humap1Matrix = \\\n",
    "  pd.read_csv(\n",
    "      humap1Dir + 'blake_bioplex_feature_revisitMerge_pairsOnly_preyMerge2_' + \\\n",
    "      'heinCollapseMerge_pairsOnly_preyMerge2.txt',\n",
    "      sep=',', usecols=['geneid1', 'geneid2'], na_values=['NaN', np.nan])"
   ],
   "metadata": {
    "colab": {
     "base_uri": "https://localhost:8080/"
    },
    "id": "vqa10VWKLDmp",
    "executionInfo": {
     "status": "ok",
     "timestamp": 1691717650873,
     "user_tz": 240,
     "elapsed": 369111,
     "user": {
      "displayName": "kaputfish kaputfish",
      "userId": "01463028869337595546"
     }
    },
    "outputId": "db5c73f2-dcc9-4ffd-9e96-e6c1f6b0471e"
   },
   "execution_count": null,
   "outputs": [
    {
     "output_type": "stream",
     "name": "stderr",
     "text": [
      "<ipython-input-111-fee49b8c522b>:2: DtypeWarning: Columns (245,246) have mixed types. Specify dtype option on import or set low_memory=False.\n",
      "  pd.read_csv(\n"
     ]
    }
   ]
  },
  {
   "cell_type": "code",
   "source": [
    "humap1Matrix.loc[:, ['geneid1', 'geneid2']]"
   ],
   "metadata": {
    "colab": {
     "base_uri": "https://localhost:8080/",
     "height": 206
    },
    "id": "9llKcnLkMVEA",
    "executionInfo": {
     "status": "ok",
     "timestamp": 1691717094026,
     "user_tz": 240,
     "elapsed": 152,
     "user": {
      "displayName": "kaputfish kaputfish",
      "userId": "01463028869337595546"
     }
    },
    "outputId": "2b392613-3f9f-419b-c3c5-7ff6cdf47c46"
   },
   "execution_count": null,
   "outputs": [
    {
     "output_type": "execute_result",
     "data": {
      "text/plain": [
       "   geneid1  geneid2\n",
       "0     1891    51228\n",
       "1    55720      662\n",
       "2    51633     7251\n",
       "3    10059     3029\n",
       "4     1399     1738"
      ],
      "text/html": [
       "\n",
       "\n",
       "  <div id=\"df-e8693fd3-2bb0-42b4-a1aa-638ddc59de6b\">\n",
       "    <div class=\"colab-df-container\">\n",
       "      <div>\n",
       "<style scoped>\n",
       "    .dataframe tbody tr th:only-of-type {\n",
       "        vertical-align: middle;\n",
       "    }\n",
       "\n",
       "    .dataframe tbody tr th {\n",
       "        vertical-align: top;\n",
       "    }\n",
       "\n",
       "    .dataframe thead th {\n",
       "        text-align: right;\n",
       "    }\n",
       "</style>\n",
       "<table border=\"1\" class=\"dataframe\">\n",
       "  <thead>\n",
       "    <tr style=\"text-align: right;\">\n",
       "      <th></th>\n",
       "      <th>geneid1</th>\n",
       "      <th>geneid2</th>\n",
       "    </tr>\n",
       "  </thead>\n",
       "  <tbody>\n",
       "    <tr>\n",
       "      <th>0</th>\n",
       "      <td>1891</td>\n",
       "      <td>51228</td>\n",
       "    </tr>\n",
       "    <tr>\n",
       "      <th>1</th>\n",
       "      <td>55720</td>\n",
       "      <td>662</td>\n",
       "    </tr>\n",
       "    <tr>\n",
       "      <th>2</th>\n",
       "      <td>51633</td>\n",
       "      <td>7251</td>\n",
       "    </tr>\n",
       "    <tr>\n",
       "      <th>3</th>\n",
       "      <td>10059</td>\n",
       "      <td>3029</td>\n",
       "    </tr>\n",
       "    <tr>\n",
       "      <th>4</th>\n",
       "      <td>1399</td>\n",
       "      <td>1738</td>\n",
       "    </tr>\n",
       "  </tbody>\n",
       "</table>\n",
       "</div>\n",
       "      <button class=\"colab-df-convert\" onclick=\"convertToInteractive('df-e8693fd3-2bb0-42b4-a1aa-638ddc59de6b')\"\n",
       "              title=\"Convert this dataframe to an interactive table.\"\n",
       "              style=\"display:none;\">\n",
       "\n",
       "  <svg xmlns=\"http://www.w3.org/2000/svg\" height=\"24px\"viewBox=\"0 0 24 24\"\n",
       "       width=\"24px\">\n",
       "    <path d=\"M0 0h24v24H0V0z\" fill=\"none\"/>\n",
       "    <path d=\"M18.56 5.44l.94 2.06.94-2.06 2.06-.94-2.06-.94-.94-2.06-.94 2.06-2.06.94zm-11 1L8.5 8.5l.94-2.06 2.06-.94-2.06-.94L8.5 2.5l-.94 2.06-2.06.94zm10 10l.94 2.06.94-2.06 2.06-.94-2.06-.94-.94-2.06-.94 2.06-2.06.94z\"/><path d=\"M17.41 7.96l-1.37-1.37c-.4-.4-.92-.59-1.43-.59-.52 0-1.04.2-1.43.59L10.3 9.45l-7.72 7.72c-.78.78-.78 2.05 0 2.83L4 21.41c.39.39.9.59 1.41.59.51 0 1.02-.2 1.41-.59l7.78-7.78 2.81-2.81c.8-.78.8-2.07 0-2.86zM5.41 20L4 18.59l7.72-7.72 1.47 1.35L5.41 20z\"/>\n",
       "  </svg>\n",
       "      </button>\n",
       "\n",
       "\n",
       "\n",
       "    <div id=\"df-e96d6873-5002-4138-a7ad-e176fbe24511\">\n",
       "      <button class=\"colab-df-quickchart\" onclick=\"quickchart('df-e96d6873-5002-4138-a7ad-e176fbe24511')\"\n",
       "              title=\"Suggest charts.\"\n",
       "              style=\"display:none;\">\n",
       "\n",
       "<svg xmlns=\"http://www.w3.org/2000/svg\" height=\"24px\"viewBox=\"0 0 24 24\"\n",
       "     width=\"24px\">\n",
       "    <g>\n",
       "        <path d=\"M19 3H5c-1.1 0-2 .9-2 2v14c0 1.1.9 2 2 2h14c1.1 0 2-.9 2-2V5c0-1.1-.9-2-2-2zM9 17H7v-7h2v7zm4 0h-2V7h2v10zm4 0h-2v-4h2v4z\"/>\n",
       "    </g>\n",
       "</svg>\n",
       "      </button>\n",
       "    </div>\n",
       "\n",
       "<style>\n",
       "  .colab-df-quickchart {\n",
       "    background-color: #E8F0FE;\n",
       "    border: none;\n",
       "    border-radius: 50%;\n",
       "    cursor: pointer;\n",
       "    display: none;\n",
       "    fill: #1967D2;\n",
       "    height: 32px;\n",
       "    padding: 0 0 0 0;\n",
       "    width: 32px;\n",
       "  }\n",
       "\n",
       "  .colab-df-quickchart:hover {\n",
       "    background-color: #E2EBFA;\n",
       "    box-shadow: 0px 1px 2px rgba(60, 64, 67, 0.3), 0px 1px 3px 1px rgba(60, 64, 67, 0.15);\n",
       "    fill: #174EA6;\n",
       "  }\n",
       "\n",
       "  [theme=dark] .colab-df-quickchart {\n",
       "    background-color: #3B4455;\n",
       "    fill: #D2E3FC;\n",
       "  }\n",
       "\n",
       "  [theme=dark] .colab-df-quickchart:hover {\n",
       "    background-color: #434B5C;\n",
       "    box-shadow: 0px 1px 3px 1px rgba(0, 0, 0, 0.15);\n",
       "    filter: drop-shadow(0px 1px 2px rgba(0, 0, 0, 0.3));\n",
       "    fill: #FFFFFF;\n",
       "  }\n",
       "</style>\n",
       "\n",
       "    <script>\n",
       "      async function quickchart(key) {\n",
       "        const containerElement = document.querySelector('#' + key);\n",
       "        const charts = await google.colab.kernel.invokeFunction(\n",
       "            'suggestCharts', [key], {});\n",
       "      }\n",
       "    </script>\n",
       "\n",
       "      <script>\n",
       "\n",
       "function displayQuickchartButton(domScope) {\n",
       "  let quickchartButtonEl =\n",
       "    domScope.querySelector('#df-e96d6873-5002-4138-a7ad-e176fbe24511 button.colab-df-quickchart');\n",
       "  quickchartButtonEl.style.display =\n",
       "    google.colab.kernel.accessAllowed ? 'block' : 'none';\n",
       "}\n",
       "\n",
       "        displayQuickchartButton(document);\n",
       "      </script>\n",
       "      <style>\n",
       "    .colab-df-container {\n",
       "      display:flex;\n",
       "      flex-wrap:wrap;\n",
       "      gap: 12px;\n",
       "    }\n",
       "\n",
       "    .colab-df-convert {\n",
       "      background-color: #E8F0FE;\n",
       "      border: none;\n",
       "      border-radius: 50%;\n",
       "      cursor: pointer;\n",
       "      display: none;\n",
       "      fill: #1967D2;\n",
       "      height: 32px;\n",
       "      padding: 0 0 0 0;\n",
       "      width: 32px;\n",
       "    }\n",
       "\n",
       "    .colab-df-convert:hover {\n",
       "      background-color: #E2EBFA;\n",
       "      box-shadow: 0px 1px 2px rgba(60, 64, 67, 0.3), 0px 1px 3px 1px rgba(60, 64, 67, 0.15);\n",
       "      fill: #174EA6;\n",
       "    }\n",
       "\n",
       "    [theme=dark] .colab-df-convert {\n",
       "      background-color: #3B4455;\n",
       "      fill: #D2E3FC;\n",
       "    }\n",
       "\n",
       "    [theme=dark] .colab-df-convert:hover {\n",
       "      background-color: #434B5C;\n",
       "      box-shadow: 0px 1px 3px 1px rgba(0, 0, 0, 0.15);\n",
       "      filter: drop-shadow(0px 1px 2px rgba(0, 0, 0, 0.3));\n",
       "      fill: #FFFFFF;\n",
       "    }\n",
       "  </style>\n",
       "\n",
       "      <script>\n",
       "        const buttonEl =\n",
       "          document.querySelector('#df-e8693fd3-2bb0-42b4-a1aa-638ddc59de6b button.colab-df-convert');\n",
       "        buttonEl.style.display =\n",
       "          google.colab.kernel.accessAllowed ? 'block' : 'none';\n",
       "\n",
       "        async function convertToInteractive(key) {\n",
       "          const element = document.querySelector('#df-e8693fd3-2bb0-42b4-a1aa-638ddc59de6b');\n",
       "          const dataTable =\n",
       "            await google.colab.kernel.invokeFunction('convertToInteractive',\n",
       "                                                     [key], {});\n",
       "          if (!dataTable) return;\n",
       "\n",
       "          const docLinkHtml = 'Like what you see? Visit the ' +\n",
       "            '<a target=\"_blank\" href=https://colab.research.google.com/notebooks/data_table.ipynb>data table notebook</a>'\n",
       "            + ' to learn more about interactive tables.';\n",
       "          element.innerHTML = '';\n",
       "          dataTable['output_type'] = 'display_data';\n",
       "          await google.colab.output.renderOutput(dataTable, element);\n",
       "          const docLink = document.createElement('div');\n",
       "          docLink.innerHTML = docLinkHtml;\n",
       "          element.appendChild(docLink);\n",
       "        }\n",
       "      </script>\n",
       "    </div>\n",
       "  </div>\n"
      ]
     },
     "metadata": {},
     "execution_count": 105
    }
   ]
  },
  {
   "cell_type": "code",
   "source": [
    "humap1Pairset_protsPairs = \\\n",
    "  pickle.load(open(humap1Dir + 'humap1Pairset_protsPairs.pkl', 'rb'))\n",
    "\n",
    "humap1Matrix_prots = \\\n",
    "  pickle.load(open(humap1Dir + 'humap1Matrix_prots.pkl', 'rb'))\n",
    "humap1Matrix_pairs = \\\n",
    "  pickle.load(open(humap1Dir + 'humap1Matrix_pairs.pkl', 'rb'))\n",
    "humap1Matrix_pairsAll = \\\n",
    "  pickle.load(open(humap1Dir + 'humap1Matrix_pairsAll.pkl', 'rb'))"
   ],
   "metadata": {
    "id": "FGwcci-rT3jX"
   },
   "execution_count": null,
   "outputs": []
  },
  {
   "cell_type": "markdown",
   "source": [
    "Don't run this cell with less than 24G of free RAM"
   ],
   "metadata": {
    "id": "pFofzHf-V8nj"
   }
  },
  {
   "cell_type": "code",
   "source": [
    "humap1Matrix_featuresDir = \\\n",
    "  humap1Dir + 'blake_bioplex_feature_revisitMerge_pairsOnly_preyMerge2_' + \\\n",
    "    'heinCollapseMerge_pairsOnly_preyMerge2.txt'\n",
    "humap1Matrix_features = \\\n",
    "  pd.read_csv(humap1Matrix_featuresDir,\n",
    "              usecols=['geneid1', 'geneid2'],\n",
    "              dtype={'geneid1': 'str', 'geneid2': 'str'})\n",
    "humap1Matrix_features['pairsFrozen'] = \\\n",
    "  humap1Matrix_features.loc[:, ['geneid1', 'geneid2']].apply(frozenset, axis=1)\n",
    "humap1Matrix_prots = \\\n",
    "  list(set(humap1Matrix_features.geneid1.to_list()).union(\n",
    "      set(humap1Matrix_features.geneid2.to_list())))\n",
    "humap1Matrix_pairs = \\\n",
    "  humap1Matrix_features.pairsFrozen.to_list()\n",
    "humap1Matrix_pairsAll = \\\n",
    "  [frozenset(pair) for pair in list(it.combinations(humap1Matrix_prots, 2))]"
   ],
   "metadata": {
    "id": "bC0rYOQOS5eO"
   },
   "execution_count": null,
   "outputs": []
  },
  {
   "cell_type": "markdown",
   "source": [
    "##hu.MAP 2.0"
   ],
   "metadata": {
    "id": "KU1fhZslDPQV"
   }
  },
  {
   "cell_type": "markdown",
   "source": [
    "(BioPlex 2.0 included)"
   ],
   "metadata": {
    "id": "7CwZdceTFbJm"
   }
  },
  {
   "cell_type": "code",
   "source": [
    "humap2Dir = workDir + 'proteinComplexes/huMAP_2.0/'\n",
    "humap2Data_files = glob.glob(humap2Dir + 'humap2*20200818*')\n",
    "humap2PPIs_dir = humap2Dir + 'humap2_ppis_geneid_20200821.pairsWprob'\n",
    "humap2Matrix_featuresDir = \\\n",
    "  humap2Dir + 'humap2_feature_matrix_20200820 2.featmat.gz'"
   ],
   "metadata": {
    "id": "LEk4Wu5kml1M"
   },
   "execution_count": null,
   "outputs": []
  },
  {
   "cell_type": "code",
   "source": [
    "humap2Data = \\\n",
    "  {key.split('/')[-1].split('humap2_')[-1].split('_geneid')[0]:\n",
    "   pd.read_csv(key, sep='\\t', dtype='str')\n",
    "   for key in humap2Data_files if '_ppis' in key}\n",
    "humap2Data = \\\n",
    "  {key:\n",
    "   pd.concat([val,\n",
    "              val.loc[:, ['IDi', 'IDii']].apply(frozenset, axis=1)], axis=1)\n",
    "  for key, val in humap2Data.items()}\n",
    "humap2Data = \\\n",
    "  {key: val.rename(columns={0: 'pairsFrozen'})\n",
    "  for key, val in humap2Data.items()}\n",
    "humap2Data = \\\n",
    "  {key:\n",
    "   pd.concat([val, pd.DataFrame([0 for i in val.index])], axis=1)\n",
    "   if 'neg' in key\n",
    "   else pd.concat([val, pd.DataFrame([1 for i in val.index])], axis=1)\n",
    "   for key, val in humap2Data.items()}\n",
    "humap2Data = \\\n",
    "  {key: val.rename(columns={0: 'label'}) for key, val in humap2Data.items()}"
   ],
   "metadata": {
    "id": "2fFZAvki5A6v"
   },
   "execution_count": null,
   "outputs": []
  },
  {
   "cell_type": "code",
   "source": [
    "humap2Pairs = \\\n",
    "  pd.concat([df for df in humap2Data.values()], axis=0, ignore_index=True)"
   ],
   "metadata": {
    "id": "8yOaSAof3G2d"
   },
   "execution_count": null,
   "outputs": []
  },
  {
   "cell_type": "code",
   "source": [
    "humap2Prots = \\\n",
    "  list(set(humap2Pairs.IDi.to_list()).union(set(humap2Pairs.IDii.to_list())))"
   ],
   "metadata": {
    "id": "F4BW4HPAKXxI"
   },
   "execution_count": null,
   "outputs": []
  },
  {
   "cell_type": "code",
   "source": [
    "humap2Complexes_groundTruth = \\\n",
    "  {key.split('/')[-1].split('humap2_')[-1].split('_geneid')[0]:\n",
    "   loadComplexes(key) for key in humap2Data_files if 'complex' in key}"
   ],
   "metadata": {
    "id": "H83fRWdWGnYF"
   },
   "execution_count": null,
   "outputs": []
  },
  {
   "cell_type": "code",
   "source": [
    "humap2Prots = \\\n",
    "    list(set().union(*[list(set(val.loc[:, 'IDi'].to_list()).union(\n",
    "        set(val.loc[:, 'IDii'].to_list()))) for val in humap2Data.values()]))\n",
    "humap2Pairs = list(\n",
    "    set().union(*[val.pairsFrozen.to_list() for val in humap2Data.values()]))\n",
    "\n",
    "humap2Pairs_all = \\\n",
    "  [frozenset(pair) for pair in list(it.combinations(humap2Prots, 2))]"
   ],
   "metadata": {
    "id": "_uQuxbtr33aP"
   },
   "execution_count": null,
   "outputs": []
  },
  {
   "cell_type": "code",
   "source": [
    "humap2PPIs = \\\n",
    "  pd.read_csv(humap2PPIs_dir, sep='\\t', header=0,\n",
    "              names=['IDi', 'IDii', 'score'],\n",
    "              dtype={'IDi': 'str', 'IDii': 'str', 'score': 'float64'})\n",
    "humap2PPIs.insert(2, 'pairsFrozen',\n",
    "                  humap2PPIs.loc[:, ['IDi', 'IDii']].apply(frozenset, axis=1))\n",
    "humap2Prots_allAvailable = list(set(\n",
    "    humap2PPIs.loc[:, 'IDi'].to_list()).union(\n",
    "        set(humap2PPIs.loc[:, 'IDii'].to_list())))"
   ],
   "metadata": {
    "id": "ie_RQf-DHO3I"
   },
   "execution_count": null,
   "outputs": []
  },
  {
   "cell_type": "code",
   "source": [
    "humap2Matrix_features = pd.read_csv(humap2Matrix_featuresDir, nrows=10)"
   ],
   "metadata": {
    "id": "YlablOVQI-eK"
   },
   "execution_count": null,
   "outputs": []
  },
  {
   "cell_type": "code",
   "source": [
    "humap2Matrix = \\\n",
    "  pd.read_csv(humap2Dir + 'humap2_feature_matrix_20200820 2.featmat.gz',\n",
    "              na_values=['NaN', np.nan], usecols=['id1', 'id2'], dtype='str')"
   ],
   "metadata": {
    "id": "YYK-D8kpP8pI"
   },
   "execution_count": null,
   "outputs": []
  },
  {
   "cell_type": "code",
   "source": [
    "len(humap2Prots)"
   ],
   "metadata": {
    "colab": {
     "base_uri": "https://localhost:8080/"
    },
    "id": "62_tCHusKGT0",
    "executionInfo": {
     "status": "ok",
     "timestamp": 1691716451065,
     "user_tz": 240,
     "elapsed": 3,
     "user": {
      "displayName": "kaputfish kaputfish",
      "userId": "01463028869337595546"
     }
    },
    "outputId": "5764e6e8-dd80-4403-9f73-9913091eb8e9"
   },
   "execution_count": null,
   "outputs": [
    {
     "output_type": "execute_result",
     "data": {
      "text/plain": [
       "2993"
      ]
     },
     "metadata": {},
     "execution_count": 88
    }
   ]
  },
  {
   "cell_type": "markdown",
   "source": [
    "##BioPlex 3.0 (not yet incorporated)"
   ],
   "metadata": {
    "id": "WWhmIgxbFcyx"
   }
  },
  {
   "cell_type": "code",
   "source": [
    "bioplex3Dir = workDir + 'proteinComplexes/bioplex 3.0/'"
   ],
   "metadata": {
    "id": "2pQ_D7YFjT6G"
   },
   "execution_count": null,
   "outputs": []
  },
  {
   "cell_type": "code",
   "source": [
    "bioplex3Data = \\\n",
    "  bioplex3Dir + 'BioPlex_BaitPreyPairs_noFilters_293T_10K_Dec_2019.tsv'"
   ],
   "metadata": {
    "id": "6iG27R4cjlbp"
   },
   "execution_count": null,
   "outputs": []
  },
  {
   "cell_type": "code",
   "source": [
    "dataMat_bioplex3 = pd.read_csv(bioplex3Data, sep='\\t')"
   ],
   "metadata": {
    "id": "PR0h0KvO99Ny"
   },
   "execution_count": null,
   "outputs": []
  },
  {
   "cell_type": "code",
   "source": [
    "dataMat_bioplex3.head()"
   ],
   "metadata": {
    "colab": {
     "base_uri": "https://localhost:8080/",
     "height": 464
    },
    "id": "PNDXmw7D_H-8",
    "executionInfo": {
     "status": "ok",
     "timestamp": 1692418380831,
     "user_tz": 240,
     "elapsed": 7,
     "user": {
      "displayName": "kaputfish kaputfish",
      "userId": "01463028869337595546"
     }
    },
    "outputId": "edb22344-c8be-4740-a34d-5aae903447f7"
   },
   "execution_count": null,
   "outputs": [
    {
     "output_type": "execute_result",
     "data": {
      "text/plain": [
       "   CompPASS_ID bait_symbol  bait_geneid          db_protein_id     symbol  \\\n",
       "0       106246         ADA          100   sp|P05387|RLA2_HUMAN      RPLP2   \n",
       "1       106246         ADA          100  sp|P07737|PROF1_HUMAN       PFN1   \n",
       "2       106234       BEND7       222389   sp|P22626|ROA2_HUMAN  HNRNPA2B1   \n",
       "3       106234       BEND7       222389  sp|O95232|LC7L3_HUMAN     LUC7L3   \n",
       "4       106234       BEND7       222389   sp|Q04837|SSBP_HUMAN      SSBP1   \n",
       "\n",
       "                                    prot_description  gene_id  ave_apsm  \\\n",
       "0   60S acidic ribosomal protein P2 OS=Homo sapie...   6181.0         5   \n",
       "1       Profilin-1 OS=Homo sapiens GN=PFN1 PE=1 SV=2   5216.0         5   \n",
       "2   Heterogeneous nuclear ribonucleoproteins A2/B...   3181.0        41   \n",
       "3   Luc7-like protein 3 OS=Homo sapiens GN=LUC7L3...  51747.0         2   \n",
       "4   Single-stranded DNA-binding protein, mitochon...   6742.0         3   \n",
       "\n",
       "   nwdscore  zscore  ...   entropy  uPeps     ratio  total_psms  \\\n",
       "0      0.03   -0.60  ...  0.902393      6  0.999452      175120   \n",
       "1      0.03   -0.11  ...  0.902393      6  0.992608      116064   \n",
       "2      0.09    2.89  ...  0.965803     20  1.000000      427487   \n",
       "3      0.04    0.50  ...  0.881291      3  0.471801       21336   \n",
       "4      0.02   -0.99  ...  1.000000      3  0.993794      123907   \n",
       "\n",
       "   ratioTotalPSMs  UtoTratio  pWrongID   pNoInt     pInt  Unnamed: 20  \n",
       "0         0.00006   0.600000       0.0  0.99922  0.00078          NaN  \n",
       "1         0.00009   0.600000       0.0  0.99980  0.00020          NaN  \n",
       "2         0.00019   0.243902       0.0  0.98014  0.01986          NaN  \n",
       "3         0.00019   0.750000       0.0  0.99993  0.00007          NaN  \n",
       "4         0.00005   0.500000       0.0  0.99988  0.00012          NaN  \n",
       "\n",
       "[5 rows x 21 columns]"
      ],
      "text/html": [
       "\n",
       "  <div id=\"df-8bf5a690-8801-445c-ab1e-5fe65fa4455b\" class=\"colab-df-container\">\n",
       "    <div>\n",
       "<style scoped>\n",
       "    .dataframe tbody tr th:only-of-type {\n",
       "        vertical-align: middle;\n",
       "    }\n",
       "\n",
       "    .dataframe tbody tr th {\n",
       "        vertical-align: top;\n",
       "    }\n",
       "\n",
       "    .dataframe thead th {\n",
       "        text-align: right;\n",
       "    }\n",
       "</style>\n",
       "<table border=\"1\" class=\"dataframe\">\n",
       "  <thead>\n",
       "    <tr style=\"text-align: right;\">\n",
       "      <th></th>\n",
       "      <th>CompPASS_ID</th>\n",
       "      <th>bait_symbol</th>\n",
       "      <th>bait_geneid</th>\n",
       "      <th>db_protein_id</th>\n",
       "      <th>symbol</th>\n",
       "      <th>prot_description</th>\n",
       "      <th>gene_id</th>\n",
       "      <th>ave_apsm</th>\n",
       "      <th>nwdscore</th>\n",
       "      <th>zscore</th>\n",
       "      <th>...</th>\n",
       "      <th>entropy</th>\n",
       "      <th>uPeps</th>\n",
       "      <th>ratio</th>\n",
       "      <th>total_psms</th>\n",
       "      <th>ratioTotalPSMs</th>\n",
       "      <th>UtoTratio</th>\n",
       "      <th>pWrongID</th>\n",
       "      <th>pNoInt</th>\n",
       "      <th>pInt</th>\n",
       "      <th>Unnamed: 20</th>\n",
       "    </tr>\n",
       "  </thead>\n",
       "  <tbody>\n",
       "    <tr>\n",
       "      <th>0</th>\n",
       "      <td>106246</td>\n",
       "      <td>ADA</td>\n",
       "      <td>100</td>\n",
       "      <td>sp|P05387|RLA2_HUMAN</td>\n",
       "      <td>RPLP2</td>\n",
       "      <td>60S acidic ribosomal protein P2 OS=Homo sapie...</td>\n",
       "      <td>6181.0</td>\n",
       "      <td>5</td>\n",
       "      <td>0.03</td>\n",
       "      <td>-0.60</td>\n",
       "      <td>...</td>\n",
       "      <td>0.902393</td>\n",
       "      <td>6</td>\n",
       "      <td>0.999452</td>\n",
       "      <td>175120</td>\n",
       "      <td>0.00006</td>\n",
       "      <td>0.600000</td>\n",
       "      <td>0.0</td>\n",
       "      <td>0.99922</td>\n",
       "      <td>0.00078</td>\n",
       "      <td>NaN</td>\n",
       "    </tr>\n",
       "    <tr>\n",
       "      <th>1</th>\n",
       "      <td>106246</td>\n",
       "      <td>ADA</td>\n",
       "      <td>100</td>\n",
       "      <td>sp|P07737|PROF1_HUMAN</td>\n",
       "      <td>PFN1</td>\n",
       "      <td>Profilin-1 OS=Homo sapiens GN=PFN1 PE=1 SV=2</td>\n",
       "      <td>5216.0</td>\n",
       "      <td>5</td>\n",
       "      <td>0.03</td>\n",
       "      <td>-0.11</td>\n",
       "      <td>...</td>\n",
       "      <td>0.902393</td>\n",
       "      <td>6</td>\n",
       "      <td>0.992608</td>\n",
       "      <td>116064</td>\n",
       "      <td>0.00009</td>\n",
       "      <td>0.600000</td>\n",
       "      <td>0.0</td>\n",
       "      <td>0.99980</td>\n",
       "      <td>0.00020</td>\n",
       "      <td>NaN</td>\n",
       "    </tr>\n",
       "    <tr>\n",
       "      <th>2</th>\n",
       "      <td>106234</td>\n",
       "      <td>BEND7</td>\n",
       "      <td>222389</td>\n",
       "      <td>sp|P22626|ROA2_HUMAN</td>\n",
       "      <td>HNRNPA2B1</td>\n",
       "      <td>Heterogeneous nuclear ribonucleoproteins A2/B...</td>\n",
       "      <td>3181.0</td>\n",
       "      <td>41</td>\n",
       "      <td>0.09</td>\n",
       "      <td>2.89</td>\n",
       "      <td>...</td>\n",
       "      <td>0.965803</td>\n",
       "      <td>20</td>\n",
       "      <td>1.000000</td>\n",
       "      <td>427487</td>\n",
       "      <td>0.00019</td>\n",
       "      <td>0.243902</td>\n",
       "      <td>0.0</td>\n",
       "      <td>0.98014</td>\n",
       "      <td>0.01986</td>\n",
       "      <td>NaN</td>\n",
       "    </tr>\n",
       "    <tr>\n",
       "      <th>3</th>\n",
       "      <td>106234</td>\n",
       "      <td>BEND7</td>\n",
       "      <td>222389</td>\n",
       "      <td>sp|O95232|LC7L3_HUMAN</td>\n",
       "      <td>LUC7L3</td>\n",
       "      <td>Luc7-like protein 3 OS=Homo sapiens GN=LUC7L3...</td>\n",
       "      <td>51747.0</td>\n",
       "      <td>2</td>\n",
       "      <td>0.04</td>\n",
       "      <td>0.50</td>\n",
       "      <td>...</td>\n",
       "      <td>0.881291</td>\n",
       "      <td>3</td>\n",
       "      <td>0.471801</td>\n",
       "      <td>21336</td>\n",
       "      <td>0.00019</td>\n",
       "      <td>0.750000</td>\n",
       "      <td>0.0</td>\n",
       "      <td>0.99993</td>\n",
       "      <td>0.00007</td>\n",
       "      <td>NaN</td>\n",
       "    </tr>\n",
       "    <tr>\n",
       "      <th>4</th>\n",
       "      <td>106234</td>\n",
       "      <td>BEND7</td>\n",
       "      <td>222389</td>\n",
       "      <td>sp|Q04837|SSBP_HUMAN</td>\n",
       "      <td>SSBP1</td>\n",
       "      <td>Single-stranded DNA-binding protein, mitochon...</td>\n",
       "      <td>6742.0</td>\n",
       "      <td>3</td>\n",
       "      <td>0.02</td>\n",
       "      <td>-0.99</td>\n",
       "      <td>...</td>\n",
       "      <td>1.000000</td>\n",
       "      <td>3</td>\n",
       "      <td>0.993794</td>\n",
       "      <td>123907</td>\n",
       "      <td>0.00005</td>\n",
       "      <td>0.500000</td>\n",
       "      <td>0.0</td>\n",
       "      <td>0.99988</td>\n",
       "      <td>0.00012</td>\n",
       "      <td>NaN</td>\n",
       "    </tr>\n",
       "  </tbody>\n",
       "</table>\n",
       "<p>5 rows × 21 columns</p>\n",
       "</div>\n",
       "    <div class=\"colab-df-buttons\">\n",
       "\n",
       "  <div class=\"colab-df-container\">\n",
       "    <button class=\"colab-df-convert\" onclick=\"convertToInteractive('df-8bf5a690-8801-445c-ab1e-5fe65fa4455b')\"\n",
       "            title=\"Convert this dataframe to an interactive table.\"\n",
       "            style=\"display:none;\">\n",
       "\n",
       "  <svg xmlns=\"http://www.w3.org/2000/svg\" height=\"24px\" viewBox=\"0 -960 960 960\">\n",
       "    <path d=\"M120-120v-720h720v720H120Zm60-500h600v-160H180v160Zm220 220h160v-160H400v160Zm0 220h160v-160H400v160ZM180-400h160v-160H180v160Zm440 0h160v-160H620v160ZM180-180h160v-160H180v160Zm440 0h160v-160H620v160Z\"/>\n",
       "  </svg>\n",
       "    </button>\n",
       "\n",
       "  <style>\n",
       "    .colab-df-container {\n",
       "      display:flex;\n",
       "      gap: 12px;\n",
       "    }\n",
       "\n",
       "    .colab-df-convert {\n",
       "      background-color: #E8F0FE;\n",
       "      border: none;\n",
       "      border-radius: 50%;\n",
       "      cursor: pointer;\n",
       "      display: none;\n",
       "      fill: #1967D2;\n",
       "      height: 32px;\n",
       "      padding: 0 0 0 0;\n",
       "      width: 32px;\n",
       "    }\n",
       "\n",
       "    .colab-df-convert:hover {\n",
       "      background-color: #E2EBFA;\n",
       "      box-shadow: 0px 1px 2px rgba(60, 64, 67, 0.3), 0px 1px 3px 1px rgba(60, 64, 67, 0.15);\n",
       "      fill: #174EA6;\n",
       "    }\n",
       "\n",
       "    .colab-df-buttons div {\n",
       "      margin-bottom: 4px;\n",
       "    }\n",
       "\n",
       "    [theme=dark] .colab-df-convert {\n",
       "      background-color: #3B4455;\n",
       "      fill: #D2E3FC;\n",
       "    }\n",
       "\n",
       "    [theme=dark] .colab-df-convert:hover {\n",
       "      background-color: #434B5C;\n",
       "      box-shadow: 0px 1px 3px 1px rgba(0, 0, 0, 0.15);\n",
       "      filter: drop-shadow(0px 1px 2px rgba(0, 0, 0, 0.3));\n",
       "      fill: #FFFFFF;\n",
       "    }\n",
       "  </style>\n",
       "\n",
       "    <script>\n",
       "      const buttonEl =\n",
       "        document.querySelector('#df-8bf5a690-8801-445c-ab1e-5fe65fa4455b button.colab-df-convert');\n",
       "      buttonEl.style.display =\n",
       "        google.colab.kernel.accessAllowed ? 'block' : 'none';\n",
       "\n",
       "      async function convertToInteractive(key) {\n",
       "        const element = document.querySelector('#df-8bf5a690-8801-445c-ab1e-5fe65fa4455b');\n",
       "        const dataTable =\n",
       "          await google.colab.kernel.invokeFunction('convertToInteractive',\n",
       "                                                    [key], {});\n",
       "        if (!dataTable) return;\n",
       "\n",
       "        const docLinkHtml = 'Like what you see? Visit the ' +\n",
       "          '<a target=\"_blank\" href=https://colab.research.google.com/notebooks/data_table.ipynb>data table notebook</a>'\n",
       "          + ' to learn more about interactive tables.';\n",
       "        element.innerHTML = '';\n",
       "        dataTable['output_type'] = 'display_data';\n",
       "        await google.colab.output.renderOutput(dataTable, element);\n",
       "        const docLink = document.createElement('div');\n",
       "        docLink.innerHTML = docLinkHtml;\n",
       "        element.appendChild(docLink);\n",
       "      }\n",
       "    </script>\n",
       "  </div>\n",
       "\n",
       "\n",
       "<div id=\"df-7ab90d3d-501b-4675-99da-81acd74a8021\">\n",
       "  <button class=\"colab-df-quickchart\" onclick=\"quickchart('df-7ab90d3d-501b-4675-99da-81acd74a8021')\"\n",
       "            title=\"Suggest charts.\"\n",
       "            style=\"display:none;\">\n",
       "\n",
       "<svg xmlns=\"http://www.w3.org/2000/svg\" height=\"24px\"viewBox=\"0 0 24 24\"\n",
       "     width=\"24px\">\n",
       "    <g>\n",
       "        <path d=\"M19 3H5c-1.1 0-2 .9-2 2v14c0 1.1.9 2 2 2h14c1.1 0 2-.9 2-2V5c0-1.1-.9-2-2-2zM9 17H7v-7h2v7zm4 0h-2V7h2v10zm4 0h-2v-4h2v4z\"/>\n",
       "    </g>\n",
       "</svg>\n",
       "  </button>\n",
       "\n",
       "<style>\n",
       "  .colab-df-quickchart {\n",
       "    background-color: #E8F0FE;\n",
       "    border: none;\n",
       "    border-radius: 50%;\n",
       "    cursor: pointer;\n",
       "    display: none;\n",
       "    fill: #1967D2;\n",
       "    height: 32px;\n",
       "    padding: 0 0 0 0;\n",
       "    width: 32px;\n",
       "  }\n",
       "\n",
       "  .colab-df-quickchart:hover {\n",
       "    background-color: #E2EBFA;\n",
       "    box-shadow: 0px 1px 2px rgba(60, 64, 67, 0.3), 0px 1px 3px 1px rgba(60, 64, 67, 0.15);\n",
       "    fill: #174EA6;\n",
       "  }\n",
       "\n",
       "  [theme=dark] .colab-df-quickchart {\n",
       "    background-color: #3B4455;\n",
       "    fill: #D2E3FC;\n",
       "  }\n",
       "\n",
       "  [theme=dark] .colab-df-quickchart:hover {\n",
       "    background-color: #434B5C;\n",
       "    box-shadow: 0px 1px 3px 1px rgba(0, 0, 0, 0.15);\n",
       "    filter: drop-shadow(0px 1px 2px rgba(0, 0, 0, 0.3));\n",
       "    fill: #FFFFFF;\n",
       "  }\n",
       "</style>\n",
       "\n",
       "  <script>\n",
       "    async function quickchart(key) {\n",
       "      const charts = await google.colab.kernel.invokeFunction(\n",
       "          'suggestCharts', [key], {});\n",
       "    }\n",
       "    (() => {\n",
       "      let quickchartButtonEl =\n",
       "        document.querySelector('#df-7ab90d3d-501b-4675-99da-81acd74a8021 button');\n",
       "      quickchartButtonEl.style.display =\n",
       "        google.colab.kernel.accessAllowed ? 'block' : 'none';\n",
       "    })();\n",
       "  </script>\n",
       "</div>\n",
       "    </div>\n",
       "  </div>\n"
      ]
     },
     "metadata": {},
     "execution_count": 15
    }
   ]
  },
  {
   "cell_type": "code",
   "source": [
    "dataMat_bioplex3.columns.to_list()"
   ],
   "metadata": {
    "colab": {
     "base_uri": "https://localhost:8080/"
    },
    "id": "xrWXOOn6_yRv",
    "executionInfo": {
     "status": "ok",
     "timestamp": 1692419006300,
     "user_tz": 240,
     "elapsed": 418,
     "user": {
      "displayName": "kaputfish kaputfish",
      "userId": "01463028869337595546"
     }
    },
    "outputId": "48d0c6a8-a474-4364-c8f5-53e095aa3fc2"
   },
   "execution_count": null,
   "outputs": [
    {
     "output_type": "execute_result",
     "data": {
      "text/plain": [
       "['CompPASS_ID',\n",
       " 'bait_symbol',\n",
       " 'bait_geneid',\n",
       " 'db_protein_id',\n",
       " 'symbol',\n",
       " 'prot_description',\n",
       " 'gene_id',\n",
       " 'ave_apsm',\n",
       " 'nwdscore',\n",
       " 'zscore',\n",
       " 'plate_zscore',\n",
       " 'entropy',\n",
       " 'uPeps',\n",
       " 'ratio',\n",
       " 'total_psms',\n",
       " 'ratioTotalPSMs',\n",
       " 'UtoTratio',\n",
       " 'pWrongID',\n",
       " 'pNoInt',\n",
       " 'pInt',\n",
       " 'Unnamed: 20']"
      ]
     },
     "metadata": {},
     "execution_count": 30
    }
   ]
  },
  {
   "cell_type": "code",
   "source": [
    "dataMat_bioplex3 = \\\n",
    "  pd.read_csv(bioplex3Data, sep='\\t', usecols=['bait_geneid', 'gene_id'],\n",
    "              na_values=['nan'], dtype='str')\n",
    "\n",
    "dataMat_bioplex3.rename(columns={'bait_geneid': 'id1', 'gene_id': 'id2'},\n",
    "                        inplace=True)\n",
    "\n",
    "protsBioplex3 = \\\n",
    "  list(set(dataMat_bioplex3.id1.to_list()).union(\n",
    "      set(dataMat_bioplex3.id2.to_list())))"
   ],
   "metadata": {
    "id": "uzgmBicRJUai"
   },
   "execution_count": null,
   "outputs": []
  },
  {
   "cell_type": "markdown",
   "source": [
    "don't run without sufficient RAM"
   ],
   "metadata": {
    "id": "-tTftxubNcO-"
   }
  },
  {
   "cell_type": "code",
   "source": [
    "dataMat_bioplex3 = \\\n",
    "  pd.read_csv(bioplex3Data, sep='\\t', usecols=['bait_geneid', 'gene_id'],\n",
    "              dtype='str')\n",
    "\n",
    "dataMat_bioplex3.rename(columns={'bait_geneid': 'id1', 'gene_id': 'id2'},\n",
    "                        inplace=True)\n",
    "\n",
    "dataMat_bioplex3.insert(2, 'pairsFrozen',\n",
    "                        dataMat_bioplex3.loc[:, ['id1', 'id2']].apply(\n",
    "                            frozenset, axis=1))\n",
    "\n",
    "protsBioplex3 = \\\n",
    "  list(set(dataMat_bioplex3.id1.to_list()).union(\n",
    "      set(dataMat_bioplex3.id2.to_list())))\n",
    "\n",
    "pairsBioplex3_theoretical = \\\n",
    "  [frozenset(pair) for pair in list(it.combinations(protsBioplex3, 2))]\n",
    "pairsBioplex3 = list(set(dataMat_bioplex3.pairsFrozen.to_list()))"
   ],
   "metadata": {
    "id": "OlJI7EMxEcg6"
   },
   "execution_count": null,
   "outputs": []
  },
  {
   "cell_type": "code",
   "source": [
    "pairsBioplex3_theoretical = \\\n",
    "  [frozenset(pair) for pair in list(it.combinations(protsBioplex3, 2))]"
   ],
   "metadata": {
    "id": "JVWO9CuuGm2_"
   },
   "execution_count": null,
   "outputs": []
  },
  {
   "cell_type": "code",
   "source": [
    "len(pairsBioplex3_theoretical)"
   ],
   "metadata": {
    "id": "MlPhFksWI5lu"
   },
   "execution_count": null,
   "outputs": []
  },
  {
   "cell_type": "markdown",
   "source": [
    "got dups"
   ],
   "metadata": {
    "id": "dCbKkH0wIPGd"
   }
  },
  {
   "cell_type": "code",
   "source": [
    "len(protsBioplex3)"
   ],
   "metadata": {
    "colab": {
     "base_uri": "https://localhost:8080/"
    },
    "id": "xvtqOt_9GNzK",
    "executionInfo": {
     "status": "ok",
     "timestamp": 1692421999797,
     "user_tz": 240,
     "elapsed": 348,
     "user": {
      "displayName": "kaputfish kaputfish",
      "userId": "01463028869337595546"
     }
    },
    "outputId": "375490cb-418b-45a5-cf5a-b116998e8b2e"
   },
   "execution_count": null,
   "outputs": [
    {
     "output_type": "execute_result",
     "data": {
      "text/plain": [
       "15094"
      ]
     },
     "metadata": {},
     "execution_count": 22
    }
   ]
  },
  {
   "cell_type": "code",
   "source": [
    "dataMat_bioplex3.shape"
   ],
   "metadata": {
    "colab": {
     "base_uri": "https://localhost:8080/"
    },
    "id": "P6rFEgKOIJPP",
    "executionInfo": {
     "status": "ok",
     "timestamp": 1692420584555,
     "user_tz": 240,
     "elapsed": 4,
     "user": {
      "displayName": "kaputfish kaputfish",
      "userId": "01463028869337595546"
     }
    },
    "outputId": "e053872a-feb4-4c44-d65c-f14dfe70293d"
   },
   "execution_count": null,
   "outputs": [
    {
     "output_type": "execute_result",
     "data": {
      "text/plain": [
       "(5851900, 3)"
      ]
     },
     "metadata": {},
     "execution_count": 47
    }
   ]
  },
  {
   "cell_type": "code",
   "source": [
    "len(pairsBioplex3)"
   ],
   "metadata": {
    "colab": {
     "base_uri": "https://localhost:8080/"
    },
    "id": "4Pp6YI7DIE1s",
    "executionInfo": {
     "status": "ok",
     "timestamp": 1692420573306,
     "user_tz": 240,
     "elapsed": 4,
     "user": {
      "displayName": "kaputfish kaputfish",
      "userId": "01463028869337595546"
     }
    },
    "outputId": "061e6696-091a-43a5-9e10-bab4029b3ac8"
   },
   "execution_count": null,
   "outputs": [
    {
     "output_type": "execute_result",
     "data": {
      "text/plain": [
       "5714780"
      ]
     },
     "metadata": {},
     "execution_count": 46
    }
   ]
  },
  {
   "cell_type": "markdown",
   "source": [
    "theoretical pairs from BioPlex 3.0\n",
    "\n",
    "113,906,871"
   ],
   "metadata": {
    "id": "Z1MPJqVsKsEJ"
   }
  },
  {
   "cell_type": "markdown",
   "source": [
    "###Mapping hu.MAP features across releases 1->3"
   ],
   "metadata": {
    "id": "seaJopeguBHy"
   }
  },
  {
   "cell_type": "code",
   "source": [
    "humap1Matrix_features = \\\n",
    "  pd.read_csv(\n",
    "      humap1Dir + 'blake_bioplex_feature_revisitMerge_pairsOnly_preyMerge2_' + \\\n",
    "      'heinCollapseMerge_pairsOnly_preyMerge2.txt',\n",
    "      sep=',', nrows=5)"
   ],
   "metadata": {
    "id": "E9XknImaBibF"
   },
   "execution_count": null,
   "outputs": []
  },
  {
   "cell_type": "code",
   "source": [
    "humap1Matrix_features.columns.to_list()"
   ],
   "metadata": {
    "id": "Ocy69V7RBzq9"
   },
   "execution_count": null,
   "outputs": []
  },
  {
   "cell_type": "code",
   "source": [
    "bioplexColumns_humap2 = \\\n",
    "  [col for col in humap2Matrix_features.columns.to_list() if 'bioplex' in col]"
   ],
   "metadata": {
    "id": "qmYwX3tYDBE8"
   },
   "execution_count": null,
   "outputs": []
  },
  {
   "cell_type": "code",
   "source": [
    "featMap_humap1Col_humap2Col_bioplex = \\\n",
    "  {humap2Matrix_col:\n",
    "   max([humap1Matrix_col\n",
    "        for humap1Matrix_col in humap1Matrix_features.columns.to_list()\n",
    "        if humap1Matrix_col in humap2Matrix_col])\n",
    "   for humap2Matrix_col in bioplexColumns_humap2}"
   ],
   "metadata": {
    "id": "H8EDrVuIsVA5"
   },
   "execution_count": null,
   "outputs": []
  },
  {
   "cell_type": "code",
   "source": [
    "featMap_humap1Col_humap2Col_bioplex"
   ],
   "metadata": {
    "colab": {
     "base_uri": "https://localhost:8080/"
    },
    "id": "MHZXv1wnvLqW",
    "executionInfo": {
     "status": "ok",
     "timestamp": 1692418943245,
     "user_tz": 240,
     "elapsed": 5,
     "user": {
      "displayName": "kaputfish kaputfish",
      "userId": "01463028869337595546"
     }
    },
    "outputId": "e4a2346a-b0d7-4747-f56c-3a970af0bcc3"
   },
   "execution_count": null,
   "outputs": [
    {
     "output_type": "execute_result",
     "data": {
      "text/plain": [
       "{'nwdscore_bioplex2': 'nwdscore',\n",
       " 'zscore_bioplex2': 'zscore',\n",
       " 'plate_zscore_bioplex2': 'zscore',\n",
       " 'entropy_bioplex2': 'entropy',\n",
       " 'uPeps_bioplex2': 'uPeps',\n",
       " 'ratio_bioplex2': 'ratio',\n",
       " 'total_psms_bioplex2': 'total_psms',\n",
       " 'ratioTotalPSMs_bioplex2': 'ratioTotalPSMs',\n",
       " 'UtoTratio_bioplex2': 'ratio',\n",
       " 'neg_ln_pval_bioplex2_Z4': 'neg_ln_pval',\n",
       " 'pair_count_bioplex2_Z4': 'pair_count',\n",
       " 'neg_ln_pval_bioplex2_Z2': 'neg_ln_pval',\n",
       " 'pair_count_bioplex2_Z2': 'pair_count'}"
      ]
     },
     "metadata": {},
     "execution_count": 29
    }
   ]
  },
  {
   "cell_type": "code",
   "source": [
    "dataMat_bioplex3.columns.to_list()[8:-1]"
   ],
   "metadata": {
    "colab": {
     "base_uri": "https://localhost:8080/"
    },
    "id": "4cigu8DmC1bJ",
    "executionInfo": {
     "status": "ok",
     "timestamp": 1692419330098,
     "user_tz": 240,
     "elapsed": 307,
     "user": {
      "displayName": "kaputfish kaputfish",
      "userId": "01463028869337595546"
     }
    },
    "outputId": "55a06b6a-33e2-4e80-b320-c47f65104922"
   },
   "execution_count": null,
   "outputs": [
    {
     "output_type": "execute_result",
     "data": {
      "text/plain": [
       "['nwdscore',\n",
       " 'zscore',\n",
       " 'plate_zscore',\n",
       " 'entropy',\n",
       " 'uPeps',\n",
       " 'ratio',\n",
       " 'total_psms',\n",
       " 'ratioTotalPSMs',\n",
       " 'UtoTratio',\n",
       " 'pWrongID',\n",
       " 'pNoInt',\n",
       " 'pInt']"
      ]
     },
     "metadata": {},
     "execution_count": 32
    }
   ]
  },
  {
   "cell_type": "markdown",
   "source": [
    "need to figure out what happened to pval(2x) and pair count(2x) features from BioPlex 2.0 to BioPlex 3.0\n",
    "\n",
    "need to figure out what relationship, if any, Bioplex 3.0 features, pWrongID, pNoInt, and pInt have with Bioplex 2.0 features"
   ],
   "metadata": {
    "id": "rBfFzUniDpzG"
   }
  },
  {
   "cell_type": "code",
   "source": [
    "len(protsBioplex3)"
   ],
   "metadata": {
    "colab": {
     "base_uri": "https://localhost:8080/"
    },
    "executionInfo": {
     "status": "ok",
     "timestamp": 1692421999797,
     "user_tz": 240,
     "elapsed": 348,
     "user": {
      "displayName": "kaputfish kaputfish",
      "userId": "01463028869337595546"
     }
    },
    "outputId": "375490cb-418b-45a5-cf5a-b116998e8b2e",
    "id": "EEuqtI8bOuZw"
   },
   "execution_count": null,
   "outputs": [
    {
     "output_type": "execute_result",
     "data": {
      "text/plain": [
       "15094"
      ]
     },
     "metadata": {},
     "execution_count": 22
    }
   ]
  },
  {
   "cell_type": "code",
   "source": [
    "len(humap2Prots)"
   ],
   "metadata": {
    "colab": {
     "base_uri": "https://localhost:8080/"
    },
    "id": "_q3j-_vbNx4D",
    "executionInfo": {
     "status": "ok",
     "timestamp": 1692422059575,
     "user_tz": 240,
     "elapsed": 3,
     "user": {
      "displayName": "kaputfish kaputfish",
      "userId": "01463028869337595546"
     }
    },
    "outputId": "03693e00-784b-4b13-9510-76b0853280f2"
   },
   "execution_count": null,
   "outputs": [
    {
     "output_type": "execute_result",
     "data": {
      "text/plain": [
       "2993"
      ]
     },
     "metadata": {},
     "execution_count": 28
    }
   ]
  },
  {
   "cell_type": "code",
   "source": [
    "len(humap2Prots_allAvailable)"
   ],
   "metadata": {
    "colab": {
     "base_uri": "https://localhost:8080/"
    },
    "id": "chPzSuigNzur",
    "executionInfo": {
     "status": "ok",
     "timestamp": 1692422069716,
     "user_tz": 240,
     "elapsed": 2,
     "user": {
      "displayName": "kaputfish kaputfish",
      "userId": "01463028869337595546"
     }
    },
    "outputId": "f53df5a6-fa6a-4565-e943-29b8b24fbc36"
   },
   "execution_count": null,
   "outputs": [
    {
     "output_type": "execute_result",
     "data": {
      "text/plain": [
       "15433"
      ]
     },
     "metadata": {},
     "execution_count": 29
    }
   ]
  },
  {
   "cell_type": "code",
   "source": [
    "set(humap2Prots).issuperset(set(protsBioplex3))"
   ],
   "metadata": {
    "colab": {
     "base_uri": "https://localhost:8080/"
    },
    "id": "-UF3zIAKNqC0",
    "executionInfo": {
     "status": "ok",
     "timestamp": 1692422026540,
     "user_tz": 240,
     "elapsed": 5,
     "user": {
      "displayName": "kaputfish kaputfish",
      "userId": "01463028869337595546"
     }
    },
    "outputId": "b9d7724a-1230-419e-a505-1e5382b1afb5"
   },
   "execution_count": null,
   "outputs": [
    {
     "output_type": "execute_result",
     "data": {
      "text/plain": [
       "False"
      ]
     },
     "metadata": {},
     "execution_count": 25
    }
   ]
  },
  {
   "cell_type": "code",
   "source": [
    "set(humap2Prots).issubset(set(protsBioplex3))"
   ],
   "metadata": {
    "colab": {
     "base_uri": "https://localhost:8080/"
    },
    "id": "8VZZuws4MXhG",
    "executionInfo": {
     "status": "ok",
     "timestamp": 1692422013621,
     "user_tz": 240,
     "elapsed": 6,
     "user": {
      "displayName": "kaputfish kaputfish",
      "userId": "01463028869337595546"
     }
    },
    "outputId": "0495a080-9c5b-4802-b90d-d6a01423da68"
   },
   "execution_count": null,
   "outputs": [
    {
     "output_type": "execute_result",
     "data": {
      "text/plain": [
       "False"
      ]
     },
     "metadata": {},
     "execution_count": 24
    }
   ]
  },
  {
   "cell_type": "code",
   "source": [
    "set(humap2Prots_allAvailable).issuperset(set(protsBioplex3))"
   ],
   "metadata": {
    "colab": {
     "base_uri": "https://localhost:8080/"
    },
    "id": "b68hEr8PMvSO",
    "executionInfo": {
     "status": "ok",
     "timestamp": 1692422037577,
     "user_tz": 240,
     "elapsed": 3,
     "user": {
      "displayName": "kaputfish kaputfish",
      "userId": "01463028869337595546"
     }
    },
    "outputId": "e66e6b9c-4b80-475f-a2a5-e478efd948a7"
   },
   "execution_count": null,
   "outputs": [
    {
     "output_type": "execute_result",
     "data": {
      "text/plain": [
       "False"
      ]
     },
     "metadata": {},
     "execution_count": 26
    }
   ]
  },
  {
   "cell_type": "code",
   "source": [
    "set(humap2Prots_allAvailable).issubset(set(protsBioplex3))"
   ],
   "metadata": {
    "colab": {
     "base_uri": "https://localhost:8080/"
    },
    "id": "yhsRoYNPNuhe",
    "executionInfo": {
     "status": "ok",
     "timestamp": 1692422049158,
     "user_tz": 240,
     "elapsed": 5,
     "user": {
      "displayName": "kaputfish kaputfish",
      "userId": "01463028869337595546"
     }
    },
    "outputId": "49f772b1-daf4-4c4a-ce32-48b673f3a5f4"
   },
   "execution_count": null,
   "outputs": [
    {
     "output_type": "execute_result",
     "data": {
      "text/plain": [
       "False"
      ]
     },
     "metadata": {},
     "execution_count": 27
    }
   ]
  },
  {
   "cell_type": "code",
   "source": [
    "len(set(humap2Prots).difference(set(protsBioplex3)))"
   ],
   "metadata": {
    "colab": {
     "base_uri": "https://localhost:8080/"
    },
    "id": "M6LDzj17N3lI",
    "executionInfo": {
     "status": "ok",
     "timestamp": 1692422108791,
     "user_tz": 240,
     "elapsed": 341,
     "user": {
      "displayName": "kaputfish kaputfish",
      "userId": "01463028869337595546"
     }
    },
    "outputId": "e377635a-11bb-4788-a0a4-451faa828bbf"
   },
   "execution_count": null,
   "outputs": [
    {
     "output_type": "execute_result",
     "data": {
      "text/plain": [
       "184"
      ]
     },
     "metadata": {},
     "execution_count": 30
    }
   ]
  },
  {
   "cell_type": "code",
   "source": [
    "len(set(protsBioplex3).difference(set(humap2Prots)))"
   ],
   "metadata": {
    "colab": {
     "base_uri": "https://localhost:8080/"
    },
    "id": "5zAT7CLzN8sn",
    "executionInfo": {
     "status": "ok",
     "timestamp": 1692422109096,
     "user_tz": 240,
     "elapsed": 3,
     "user": {
      "displayName": "kaputfish kaputfish",
      "userId": "01463028869337595546"
     }
    },
    "outputId": "8033322e-76f8-4a54-a35b-5e6c224df82e"
   },
   "execution_count": null,
   "outputs": [
    {
     "output_type": "execute_result",
     "data": {
      "text/plain": [
       "12285"
      ]
     },
     "metadata": {},
     "execution_count": 31
    }
   ]
  },
  {
   "cell_type": "code",
   "source": [
    "len(set(humap2Prots_allAvailable).difference(set(protsBioplex3)))"
   ],
   "metadata": {
    "colab": {
     "base_uri": "https://localhost:8080/"
    },
    "id": "pmo86ah3OClJ",
    "executionInfo": {
     "status": "ok",
     "timestamp": 1692422140170,
     "user_tz": 240,
     "elapsed": 288,
     "user": {
      "displayName": "kaputfish kaputfish",
      "userId": "01463028869337595546"
     }
    },
    "outputId": "951d4d92-ab88-4994-bc87-232373e468b4"
   },
   "execution_count": null,
   "outputs": [
    {
     "output_type": "execute_result",
     "data": {
      "text/plain": [
       "1917"
      ]
     },
     "metadata": {},
     "execution_count": 32
    }
   ]
  },
  {
   "cell_type": "code",
   "source": [
    "len(set(protsBioplex3).difference(set(humap2Prots_allAvailable)))"
   ],
   "metadata": {
    "colab": {
     "base_uri": "https://localhost:8080/"
    },
    "id": "OrQi2SiTOEhJ",
    "executionInfo": {
     "status": "ok",
     "timestamp": 1692422413733,
     "user_tz": 240,
     "elapsed": 262,
     "user": {
      "displayName": "kaputfish kaputfish",
      "userId": "01463028869337595546"
     }
    },
    "outputId": "e2f6f0ff-2221-4f38-f921-f9fd8220e0a3"
   },
   "execution_count": null,
   "outputs": [
    {
     "output_type": "execute_result",
     "data": {
      "text/plain": [
       "1578"
      ]
     },
     "metadata": {},
     "execution_count": 35
    }
   ]
  },
  {
   "cell_type": "markdown",
   "source": [
    "###Compare humap1, humap2 to CORUM (latest)"
   ],
   "metadata": {
    "id": "0HVrCBLz36gZ"
   }
  },
  {
   "cell_type": "code",
   "source": [
    "print(set(humap1Prots).issubset(set(accessCORUM.humanProts)))\n",
    "print(len(set(accessCORUM.humanProts).difference(set(humap1Prots))))"
   ],
   "metadata": {
    "colab": {
     "base_uri": "https://localhost:8080/"
    },
    "id": "EA66h5xrF3kf",
    "executionInfo": {
     "status": "ok",
     "timestamp": 1691715558963,
     "user_tz": 240,
     "elapsed": 172,
     "user": {
      "displayName": "kaputfish kaputfish",
      "userId": "01463028869337595546"
     }
    },
    "outputId": "e93861ff-71ef-4481-a614-80be6eff4c6a"
   },
   "execution_count": null,
   "outputs": [
    {
     "output_type": "stream",
     "name": "stdout",
     "text": [
      "False\n",
      "1108\n"
     ]
    }
   ]
  },
  {
   "cell_type": "code",
   "source": [
    "print(set(humap2Prots).issubset(set(accessCORUM.humanProts)))\n",
    "print(len(set(accessCORUM.humanProts).difference(set(humap2Prots))))"
   ],
   "metadata": {
    "colab": {
     "base_uri": "https://localhost:8080/"
    },
    "id": "ag4VQGAf6AfV",
    "executionInfo": {
     "status": "ok",
     "timestamp": 1691715604271,
     "user_tz": 240,
     "elapsed": 154,
     "user": {
      "displayName": "kaputfish kaputfish",
      "userId": "01463028869337595546"
     }
    },
    "outputId": "be68e5f7-c736-4776-d740-8392fc7f4e14"
   },
   "execution_count": null,
   "outputs": [
    {
     "output_type": "stream",
     "name": "stdout",
     "text": [
      "False\n",
      "584\n"
     ]
    }
   ]
  },
  {
   "cell_type": "code",
   "source": [
    "humap1Prots_absentCORUM = \\\n",
    "  set(humap1Prots).difference(set(accessCORUM.humanProts))\n",
    "\n",
    "print(humap1Prots_absentCORUM.issubset(set(accessCORUM.humanProts)))\n",
    "print(len(humap1Prots_absentCORUM))"
   ],
   "metadata": {
    "colab": {
     "base_uri": "https://localhost:8080/"
    },
    "id": "Bgq4TBgUG-up",
    "executionInfo": {
     "status": "ok",
     "timestamp": 1691715713427,
     "user_tz": 240,
     "elapsed": 210,
     "user": {
      "displayName": "kaputfish kaputfish",
      "userId": "01463028869337595546"
     }
    },
    "outputId": "29a7ba1b-9df3-4348-9982-2e5a4d9a0e6c"
   },
   "execution_count": null,
   "outputs": [
    {
     "output_type": "stream",
     "name": "stdout",
     "text": [
      "False\n",
      "1568\n"
     ]
    }
   ]
  },
  {
   "cell_type": "code",
   "source": [
    "humap2Prots_absentCORUM = \\\n",
    "  set(humap2Prots).difference(set(accessCORUM.humanProts))\n",
    "\n",
    "print(humap2Prots_absentCORUM.issubset(set(accessCORUM.humanProts)))\n",
    "print(len(humap2Prots_absentCORUM))"
   ],
   "metadata": {
    "colab": {
     "base_uri": "https://localhost:8080/"
    },
    "id": "WzUTuL_R5R9h",
    "executionInfo": {
     "status": "ok",
     "timestamp": 1691715713613,
     "user_tz": 240,
     "elapsed": 3,
     "user": {
      "displayName": "kaputfish kaputfish",
      "userId": "01463028869337595546"
     }
    },
    "outputId": "4e690e9b-8fd8-48c5-a459-3043fe1e209b"
   },
   "execution_count": null,
   "outputs": [
    {
     "output_type": "stream",
     "name": "stdout",
     "text": [
      "False\n",
      "202\n"
     ]
    }
   ]
  },
  {
   "cell_type": "code",
   "source": [
    "set(humap2Pairs.pairsFrozen.to_list()).issubset(set(allPairs_corumLabeled.pairsFrozen.to_list()))"
   ],
   "metadata": {
    "colab": {
     "base_uri": "https://localhost:8080/"
    },
    "id": "FwL8bieX3bvu",
    "executionInfo": {
     "status": "ok",
     "timestamp": 1691711884174,
     "user_tz": 240,
     "elapsed": 4428,
     "user": {
      "displayName": "kaputfish kaputfish",
      "userId": "01463028869337595546"
     }
    },
    "outputId": "94a7d5bf-0972-45b5-a4a3-005b1733a9ef"
   },
   "execution_count": null,
   "outputs": [
    {
     "output_type": "execute_result",
     "data": {
      "text/plain": [
       "False"
      ]
     },
     "metadata": {},
     "execution_count": 22
    }
   ]
  },
  {
   "cell_type": "code",
   "source": [
    "cmpLabels_corumHumap2 = \\\n",
    "  pd.merge(humap2Pairs.loc[:, ['pairsFrozen', 'label']].rename(\n",
    "      columns={'label': 'labelHumap2'}),\n",
    "           allPairs_corumLabeled.loc[:, ['pairsFrozen', 'label']].rename(\n",
    "              columns={'label': 'labelCORUM'}),\n",
    "           on=['pairsFrozen'], how='inner')"
   ],
   "metadata": {
    "id": "bEJgu6Py8ZLI"
   },
   "execution_count": null,
   "outputs": []
  },
  {
   "cell_type": "code",
   "source": [
    "cmpLabels_corumHumap2.loc[(\n",
    "    (cmpLabels_corumHumap2.labelCORUM==1) &\n",
    "     (cmpLabels_corumHumap2.labelHumap2==1)), :]"
   ],
   "metadata": {
    "colab": {
     "base_uri": "https://localhost:8080/",
     "height": 424
    },
    "id": "deu8T1a69ODp",
    "executionInfo": {
     "status": "ok",
     "timestamp": 1691714151676,
     "user_tz": 240,
     "elapsed": 8,
     "user": {
      "displayName": "kaputfish kaputfish",
      "userId": "01463028869337595546"
     }
    },
    "outputId": "947cf443-7f65-4dd7-c201-a29943539418"
   },
   "execution_count": null,
   "outputs": [
    {
     "output_type": "execute_result",
     "data": {
      "text/plain": [
       "             pairsFrozen  labelHumap2  labelCORUM\n",
       "0          (6627, 51428)            1           1\n",
       "1           (3958, 6632)            1           1\n",
       "2           (8648, 5530)            1           1\n",
       "3          (51079, 4720)            1           1\n",
       "4           (5440, 5437)            1           1\n",
       "...                  ...          ...         ...\n",
       "1464514  (121536, 23512)            1           1\n",
       "1464515     (6714, 2099)            1           1\n",
       "1464516     (8449, 7756)            1           1\n",
       "1464517     (4712, 4540)            1           1\n",
       "1464518     (4715, 4714)            1           1\n",
       "\n",
       "[14835 rows x 3 columns]"
      ],
      "text/html": [
       "\n",
       "\n",
       "  <div id=\"df-91b498af-3e14-4c03-9246-a341375de709\">\n",
       "    <div class=\"colab-df-container\">\n",
       "      <div>\n",
       "<style scoped>\n",
       "    .dataframe tbody tr th:only-of-type {\n",
       "        vertical-align: middle;\n",
       "    }\n",
       "\n",
       "    .dataframe tbody tr th {\n",
       "        vertical-align: top;\n",
       "    }\n",
       "\n",
       "    .dataframe thead th {\n",
       "        text-align: right;\n",
       "    }\n",
       "</style>\n",
       "<table border=\"1\" class=\"dataframe\">\n",
       "  <thead>\n",
       "    <tr style=\"text-align: right;\">\n",
       "      <th></th>\n",
       "      <th>pairsFrozen</th>\n",
       "      <th>labelHumap2</th>\n",
       "      <th>labelCORUM</th>\n",
       "    </tr>\n",
       "  </thead>\n",
       "  <tbody>\n",
       "    <tr>\n",
       "      <th>0</th>\n",
       "      <td>(6627, 51428)</td>\n",
       "      <td>1</td>\n",
       "      <td>1</td>\n",
       "    </tr>\n",
       "    <tr>\n",
       "      <th>1</th>\n",
       "      <td>(3958, 6632)</td>\n",
       "      <td>1</td>\n",
       "      <td>1</td>\n",
       "    </tr>\n",
       "    <tr>\n",
       "      <th>2</th>\n",
       "      <td>(8648, 5530)</td>\n",
       "      <td>1</td>\n",
       "      <td>1</td>\n",
       "    </tr>\n",
       "    <tr>\n",
       "      <th>3</th>\n",
       "      <td>(51079, 4720)</td>\n",
       "      <td>1</td>\n",
       "      <td>1</td>\n",
       "    </tr>\n",
       "    <tr>\n",
       "      <th>4</th>\n",
       "      <td>(5440, 5437)</td>\n",
       "      <td>1</td>\n",
       "      <td>1</td>\n",
       "    </tr>\n",
       "    <tr>\n",
       "      <th>...</th>\n",
       "      <td>...</td>\n",
       "      <td>...</td>\n",
       "      <td>...</td>\n",
       "    </tr>\n",
       "    <tr>\n",
       "      <th>1464514</th>\n",
       "      <td>(121536, 23512)</td>\n",
       "      <td>1</td>\n",
       "      <td>1</td>\n",
       "    </tr>\n",
       "    <tr>\n",
       "      <th>1464515</th>\n",
       "      <td>(6714, 2099)</td>\n",
       "      <td>1</td>\n",
       "      <td>1</td>\n",
       "    </tr>\n",
       "    <tr>\n",
       "      <th>1464516</th>\n",
       "      <td>(8449, 7756)</td>\n",
       "      <td>1</td>\n",
       "      <td>1</td>\n",
       "    </tr>\n",
       "    <tr>\n",
       "      <th>1464517</th>\n",
       "      <td>(4712, 4540)</td>\n",
       "      <td>1</td>\n",
       "      <td>1</td>\n",
       "    </tr>\n",
       "    <tr>\n",
       "      <th>1464518</th>\n",
       "      <td>(4715, 4714)</td>\n",
       "      <td>1</td>\n",
       "      <td>1</td>\n",
       "    </tr>\n",
       "  </tbody>\n",
       "</table>\n",
       "<p>14835 rows × 3 columns</p>\n",
       "</div>\n",
       "      <button class=\"colab-df-convert\" onclick=\"convertToInteractive('df-91b498af-3e14-4c03-9246-a341375de709')\"\n",
       "              title=\"Convert this dataframe to an interactive table.\"\n",
       "              style=\"display:none;\">\n",
       "\n",
       "  <svg xmlns=\"http://www.w3.org/2000/svg\" height=\"24px\"viewBox=\"0 0 24 24\"\n",
       "       width=\"24px\">\n",
       "    <path d=\"M0 0h24v24H0V0z\" fill=\"none\"/>\n",
       "    <path d=\"M18.56 5.44l.94 2.06.94-2.06 2.06-.94-2.06-.94-.94-2.06-.94 2.06-2.06.94zm-11 1L8.5 8.5l.94-2.06 2.06-.94-2.06-.94L8.5 2.5l-.94 2.06-2.06.94zm10 10l.94 2.06.94-2.06 2.06-.94-2.06-.94-.94-2.06-.94 2.06-2.06.94z\"/><path d=\"M17.41 7.96l-1.37-1.37c-.4-.4-.92-.59-1.43-.59-.52 0-1.04.2-1.43.59L10.3 9.45l-7.72 7.72c-.78.78-.78 2.05 0 2.83L4 21.41c.39.39.9.59 1.41.59.51 0 1.02-.2 1.41-.59l7.78-7.78 2.81-2.81c.8-.78.8-2.07 0-2.86zM5.41 20L4 18.59l7.72-7.72 1.47 1.35L5.41 20z\"/>\n",
       "  </svg>\n",
       "      </button>\n",
       "\n",
       "\n",
       "\n",
       "    <div id=\"df-7e8daca8-8fe5-4da9-8a58-c3443bed91a8\">\n",
       "      <button class=\"colab-df-quickchart\" onclick=\"quickchart('df-7e8daca8-8fe5-4da9-8a58-c3443bed91a8')\"\n",
       "              title=\"Suggest charts.\"\n",
       "              style=\"display:none;\">\n",
       "\n",
       "<svg xmlns=\"http://www.w3.org/2000/svg\" height=\"24px\"viewBox=\"0 0 24 24\"\n",
       "     width=\"24px\">\n",
       "    <g>\n",
       "        <path d=\"M19 3H5c-1.1 0-2 .9-2 2v14c0 1.1.9 2 2 2h14c1.1 0 2-.9 2-2V5c0-1.1-.9-2-2-2zM9 17H7v-7h2v7zm4 0h-2V7h2v10zm4 0h-2v-4h2v4z\"/>\n",
       "    </g>\n",
       "</svg>\n",
       "      </button>\n",
       "    </div>\n",
       "\n",
       "<style>\n",
       "  .colab-df-quickchart {\n",
       "    background-color: #E8F0FE;\n",
       "    border: none;\n",
       "    border-radius: 50%;\n",
       "    cursor: pointer;\n",
       "    display: none;\n",
       "    fill: #1967D2;\n",
       "    height: 32px;\n",
       "    padding: 0 0 0 0;\n",
       "    width: 32px;\n",
       "  }\n",
       "\n",
       "  .colab-df-quickchart:hover {\n",
       "    background-color: #E2EBFA;\n",
       "    box-shadow: 0px 1px 2px rgba(60, 64, 67, 0.3), 0px 1px 3px 1px rgba(60, 64, 67, 0.15);\n",
       "    fill: #174EA6;\n",
       "  }\n",
       "\n",
       "  [theme=dark] .colab-df-quickchart {\n",
       "    background-color: #3B4455;\n",
       "    fill: #D2E3FC;\n",
       "  }\n",
       "\n",
       "  [theme=dark] .colab-df-quickchart:hover {\n",
       "    background-color: #434B5C;\n",
       "    box-shadow: 0px 1px 3px 1px rgba(0, 0, 0, 0.15);\n",
       "    filter: drop-shadow(0px 1px 2px rgba(0, 0, 0, 0.3));\n",
       "    fill: #FFFFFF;\n",
       "  }\n",
       "</style>\n",
       "\n",
       "    <script>\n",
       "      async function quickchart(key) {\n",
       "        const containerElement = document.querySelector('#' + key);\n",
       "        const charts = await google.colab.kernel.invokeFunction(\n",
       "            'suggestCharts', [key], {});\n",
       "      }\n",
       "    </script>\n",
       "\n",
       "      <script>\n",
       "\n",
       "function displayQuickchartButton(domScope) {\n",
       "  let quickchartButtonEl =\n",
       "    domScope.querySelector('#df-7e8daca8-8fe5-4da9-8a58-c3443bed91a8 button.colab-df-quickchart');\n",
       "  quickchartButtonEl.style.display =\n",
       "    google.colab.kernel.accessAllowed ? 'block' : 'none';\n",
       "}\n",
       "\n",
       "        displayQuickchartButton(document);\n",
       "      </script>\n",
       "      <style>\n",
       "    .colab-df-container {\n",
       "      display:flex;\n",
       "      flex-wrap:wrap;\n",
       "      gap: 12px;\n",
       "    }\n",
       "\n",
       "    .colab-df-convert {\n",
       "      background-color: #E8F0FE;\n",
       "      border: none;\n",
       "      border-radius: 50%;\n",
       "      cursor: pointer;\n",
       "      display: none;\n",
       "      fill: #1967D2;\n",
       "      height: 32px;\n",
       "      padding: 0 0 0 0;\n",
       "      width: 32px;\n",
       "    }\n",
       "\n",
       "    .colab-df-convert:hover {\n",
       "      background-color: #E2EBFA;\n",
       "      box-shadow: 0px 1px 2px rgba(60, 64, 67, 0.3), 0px 1px 3px 1px rgba(60, 64, 67, 0.15);\n",
       "      fill: #174EA6;\n",
       "    }\n",
       "\n",
       "    [theme=dark] .colab-df-convert {\n",
       "      background-color: #3B4455;\n",
       "      fill: #D2E3FC;\n",
       "    }\n",
       "\n",
       "    [theme=dark] .colab-df-convert:hover {\n",
       "      background-color: #434B5C;\n",
       "      box-shadow: 0px 1px 3px 1px rgba(0, 0, 0, 0.15);\n",
       "      filter: drop-shadow(0px 1px 2px rgba(0, 0, 0, 0.3));\n",
       "      fill: #FFFFFF;\n",
       "    }\n",
       "  </style>\n",
       "\n",
       "      <script>\n",
       "        const buttonEl =\n",
       "          document.querySelector('#df-91b498af-3e14-4c03-9246-a341375de709 button.colab-df-convert');\n",
       "        buttonEl.style.display =\n",
       "          google.colab.kernel.accessAllowed ? 'block' : 'none';\n",
       "\n",
       "        async function convertToInteractive(key) {\n",
       "          const element = document.querySelector('#df-91b498af-3e14-4c03-9246-a341375de709');\n",
       "          const dataTable =\n",
       "            await google.colab.kernel.invokeFunction('convertToInteractive',\n",
       "                                                     [key], {});\n",
       "          if (!dataTable) return;\n",
       "\n",
       "          const docLinkHtml = 'Like what you see? Visit the ' +\n",
       "            '<a target=\"_blank\" href=https://colab.research.google.com/notebooks/data_table.ipynb>data table notebook</a>'\n",
       "            + ' to learn more about interactive tables.';\n",
       "          element.innerHTML = '';\n",
       "          dataTable['output_type'] = 'display_data';\n",
       "          await google.colab.output.renderOutput(dataTable, element);\n",
       "          const docLink = document.createElement('div');\n",
       "          docLink.innerHTML = docLinkHtml;\n",
       "          element.appendChild(docLink);\n",
       "        }\n",
       "      </script>\n",
       "    </div>\n",
       "  </div>\n"
      ]
     },
     "metadata": {},
     "execution_count": 65
    }
   ]
  },
  {
   "cell_type": "code",
   "source": [
    "cmpLabels_corumHumap2.loc[(\n",
    "    (cmpLabels_corumHumap2.labelCORUM==0) &\n",
    "     (cmpLabels_corumHumap2.labelHumap2==0)), :]"
   ],
   "metadata": {
    "colab": {
     "base_uri": "https://localhost:8080/",
     "height": 424
    },
    "id": "WcP8Q8cd_BeT",
    "executionInfo": {
     "status": "ok",
     "timestamp": 1691714151888,
     "user_tz": 240,
     "elapsed": 219,
     "user": {
      "displayName": "kaputfish kaputfish",
      "userId": "01463028869337595546"
     }
    },
    "outputId": "933975af-f90b-488f-b36a-1a0d17799abb"
   },
   "execution_count": null,
   "outputs": [
    {
     "output_type": "execute_result",
     "data": {
      "text/plain": [
       "             pairsFrozen  labelHumap2  labelCORUM\n",
       "6971       (2982, 25929)            0           0\n",
       "6972       (79155, 2260)            0           0\n",
       "6973       (29127, 6224)            0           0\n",
       "6974       (11154, 7334)            0           0\n",
       "6975     (123720, 23016)            0           0\n",
       "...                  ...          ...         ...\n",
       "3031817    (9092, 81027)            0           0\n",
       "3031818   (1654, 192111)            0           0\n",
       "3031819     (6231, 3655)            0           0\n",
       "3031820    (64963, 7283)            0           0\n",
       "3031821     (7764, 3897)            0           0\n",
       "\n",
       "[3016529 rows x 3 columns]"
      ],
      "text/html": [
       "\n",
       "\n",
       "  <div id=\"df-15293bec-1698-4842-a304-03636306e500\">\n",
       "    <div class=\"colab-df-container\">\n",
       "      <div>\n",
       "<style scoped>\n",
       "    .dataframe tbody tr th:only-of-type {\n",
       "        vertical-align: middle;\n",
       "    }\n",
       "\n",
       "    .dataframe tbody tr th {\n",
       "        vertical-align: top;\n",
       "    }\n",
       "\n",
       "    .dataframe thead th {\n",
       "        text-align: right;\n",
       "    }\n",
       "</style>\n",
       "<table border=\"1\" class=\"dataframe\">\n",
       "  <thead>\n",
       "    <tr style=\"text-align: right;\">\n",
       "      <th></th>\n",
       "      <th>pairsFrozen</th>\n",
       "      <th>labelHumap2</th>\n",
       "      <th>labelCORUM</th>\n",
       "    </tr>\n",
       "  </thead>\n",
       "  <tbody>\n",
       "    <tr>\n",
       "      <th>6971</th>\n",
       "      <td>(2982, 25929)</td>\n",
       "      <td>0</td>\n",
       "      <td>0</td>\n",
       "    </tr>\n",
       "    <tr>\n",
       "      <th>6972</th>\n",
       "      <td>(79155, 2260)</td>\n",
       "      <td>0</td>\n",
       "      <td>0</td>\n",
       "    </tr>\n",
       "    <tr>\n",
       "      <th>6973</th>\n",
       "      <td>(29127, 6224)</td>\n",
       "      <td>0</td>\n",
       "      <td>0</td>\n",
       "    </tr>\n",
       "    <tr>\n",
       "      <th>6974</th>\n",
       "      <td>(11154, 7334)</td>\n",
       "      <td>0</td>\n",
       "      <td>0</td>\n",
       "    </tr>\n",
       "    <tr>\n",
       "      <th>6975</th>\n",
       "      <td>(123720, 23016)</td>\n",
       "      <td>0</td>\n",
       "      <td>0</td>\n",
       "    </tr>\n",
       "    <tr>\n",
       "      <th>...</th>\n",
       "      <td>...</td>\n",
       "      <td>...</td>\n",
       "      <td>...</td>\n",
       "    </tr>\n",
       "    <tr>\n",
       "      <th>3031817</th>\n",
       "      <td>(9092, 81027)</td>\n",
       "      <td>0</td>\n",
       "      <td>0</td>\n",
       "    </tr>\n",
       "    <tr>\n",
       "      <th>3031818</th>\n",
       "      <td>(1654, 192111)</td>\n",
       "      <td>0</td>\n",
       "      <td>0</td>\n",
       "    </tr>\n",
       "    <tr>\n",
       "      <th>3031819</th>\n",
       "      <td>(6231, 3655)</td>\n",
       "      <td>0</td>\n",
       "      <td>0</td>\n",
       "    </tr>\n",
       "    <tr>\n",
       "      <th>3031820</th>\n",
       "      <td>(64963, 7283)</td>\n",
       "      <td>0</td>\n",
       "      <td>0</td>\n",
       "    </tr>\n",
       "    <tr>\n",
       "      <th>3031821</th>\n",
       "      <td>(7764, 3897)</td>\n",
       "      <td>0</td>\n",
       "      <td>0</td>\n",
       "    </tr>\n",
       "  </tbody>\n",
       "</table>\n",
       "<p>3016529 rows × 3 columns</p>\n",
       "</div>\n",
       "      <button class=\"colab-df-convert\" onclick=\"convertToInteractive('df-15293bec-1698-4842-a304-03636306e500')\"\n",
       "              title=\"Convert this dataframe to an interactive table.\"\n",
       "              style=\"display:none;\">\n",
       "\n",
       "  <svg xmlns=\"http://www.w3.org/2000/svg\" height=\"24px\"viewBox=\"0 0 24 24\"\n",
       "       width=\"24px\">\n",
       "    <path d=\"M0 0h24v24H0V0z\" fill=\"none\"/>\n",
       "    <path d=\"M18.56 5.44l.94 2.06.94-2.06 2.06-.94-2.06-.94-.94-2.06-.94 2.06-2.06.94zm-11 1L8.5 8.5l.94-2.06 2.06-.94-2.06-.94L8.5 2.5l-.94 2.06-2.06.94zm10 10l.94 2.06.94-2.06 2.06-.94-2.06-.94-.94-2.06-.94 2.06-2.06.94z\"/><path d=\"M17.41 7.96l-1.37-1.37c-.4-.4-.92-.59-1.43-.59-.52 0-1.04.2-1.43.59L10.3 9.45l-7.72 7.72c-.78.78-.78 2.05 0 2.83L4 21.41c.39.39.9.59 1.41.59.51 0 1.02-.2 1.41-.59l7.78-7.78 2.81-2.81c.8-.78.8-2.07 0-2.86zM5.41 20L4 18.59l7.72-7.72 1.47 1.35L5.41 20z\"/>\n",
       "  </svg>\n",
       "      </button>\n",
       "\n",
       "\n",
       "\n",
       "    <div id=\"df-a6a435e7-4e30-45d9-ac09-15f8cc070d1d\">\n",
       "      <button class=\"colab-df-quickchart\" onclick=\"quickchart('df-a6a435e7-4e30-45d9-ac09-15f8cc070d1d')\"\n",
       "              title=\"Suggest charts.\"\n",
       "              style=\"display:none;\">\n",
       "\n",
       "<svg xmlns=\"http://www.w3.org/2000/svg\" height=\"24px\"viewBox=\"0 0 24 24\"\n",
       "     width=\"24px\">\n",
       "    <g>\n",
       "        <path d=\"M19 3H5c-1.1 0-2 .9-2 2v14c0 1.1.9 2 2 2h14c1.1 0 2-.9 2-2V5c0-1.1-.9-2-2-2zM9 17H7v-7h2v7zm4 0h-2V7h2v10zm4 0h-2v-4h2v4z\"/>\n",
       "    </g>\n",
       "</svg>\n",
       "      </button>\n",
       "    </div>\n",
       "\n",
       "<style>\n",
       "  .colab-df-quickchart {\n",
       "    background-color: #E8F0FE;\n",
       "    border: none;\n",
       "    border-radius: 50%;\n",
       "    cursor: pointer;\n",
       "    display: none;\n",
       "    fill: #1967D2;\n",
       "    height: 32px;\n",
       "    padding: 0 0 0 0;\n",
       "    width: 32px;\n",
       "  }\n",
       "\n",
       "  .colab-df-quickchart:hover {\n",
       "    background-color: #E2EBFA;\n",
       "    box-shadow: 0px 1px 2px rgba(60, 64, 67, 0.3), 0px 1px 3px 1px rgba(60, 64, 67, 0.15);\n",
       "    fill: #174EA6;\n",
       "  }\n",
       "\n",
       "  [theme=dark] .colab-df-quickchart {\n",
       "    background-color: #3B4455;\n",
       "    fill: #D2E3FC;\n",
       "  }\n",
       "\n",
       "  [theme=dark] .colab-df-quickchart:hover {\n",
       "    background-color: #434B5C;\n",
       "    box-shadow: 0px 1px 3px 1px rgba(0, 0, 0, 0.15);\n",
       "    filter: drop-shadow(0px 1px 2px rgba(0, 0, 0, 0.3));\n",
       "    fill: #FFFFFF;\n",
       "  }\n",
       "</style>\n",
       "\n",
       "    <script>\n",
       "      async function quickchart(key) {\n",
       "        const containerElement = document.querySelector('#' + key);\n",
       "        const charts = await google.colab.kernel.invokeFunction(\n",
       "            'suggestCharts', [key], {});\n",
       "      }\n",
       "    </script>\n",
       "\n",
       "      <script>\n",
       "\n",
       "function displayQuickchartButton(domScope) {\n",
       "  let quickchartButtonEl =\n",
       "    domScope.querySelector('#df-a6a435e7-4e30-45d9-ac09-15f8cc070d1d button.colab-df-quickchart');\n",
       "  quickchartButtonEl.style.display =\n",
       "    google.colab.kernel.accessAllowed ? 'block' : 'none';\n",
       "}\n",
       "\n",
       "        displayQuickchartButton(document);\n",
       "      </script>\n",
       "      <style>\n",
       "    .colab-df-container {\n",
       "      display:flex;\n",
       "      flex-wrap:wrap;\n",
       "      gap: 12px;\n",
       "    }\n",
       "\n",
       "    .colab-df-convert {\n",
       "      background-color: #E8F0FE;\n",
       "      border: none;\n",
       "      border-radius: 50%;\n",
       "      cursor: pointer;\n",
       "      display: none;\n",
       "      fill: #1967D2;\n",
       "      height: 32px;\n",
       "      padding: 0 0 0 0;\n",
       "      width: 32px;\n",
       "    }\n",
       "\n",
       "    .colab-df-convert:hover {\n",
       "      background-color: #E2EBFA;\n",
       "      box-shadow: 0px 1px 2px rgba(60, 64, 67, 0.3), 0px 1px 3px 1px rgba(60, 64, 67, 0.15);\n",
       "      fill: #174EA6;\n",
       "    }\n",
       "\n",
       "    [theme=dark] .colab-df-convert {\n",
       "      background-color: #3B4455;\n",
       "      fill: #D2E3FC;\n",
       "    }\n",
       "\n",
       "    [theme=dark] .colab-df-convert:hover {\n",
       "      background-color: #434B5C;\n",
       "      box-shadow: 0px 1px 3px 1px rgba(0, 0, 0, 0.15);\n",
       "      filter: drop-shadow(0px 1px 2px rgba(0, 0, 0, 0.3));\n",
       "      fill: #FFFFFF;\n",
       "    }\n",
       "  </style>\n",
       "\n",
       "      <script>\n",
       "        const buttonEl =\n",
       "          document.querySelector('#df-15293bec-1698-4842-a304-03636306e500 button.colab-df-convert');\n",
       "        buttonEl.style.display =\n",
       "          google.colab.kernel.accessAllowed ? 'block' : 'none';\n",
       "\n",
       "        async function convertToInteractive(key) {\n",
       "          const element = document.querySelector('#df-15293bec-1698-4842-a304-03636306e500');\n",
       "          const dataTable =\n",
       "            await google.colab.kernel.invokeFunction('convertToInteractive',\n",
       "                                                     [key], {});\n",
       "          if (!dataTable) return;\n",
       "\n",
       "          const docLinkHtml = 'Like what you see? Visit the ' +\n",
       "            '<a target=\"_blank\" href=https://colab.research.google.com/notebooks/data_table.ipynb>data table notebook</a>'\n",
       "            + ' to learn more about interactive tables.';\n",
       "          element.innerHTML = '';\n",
       "          dataTable['output_type'] = 'display_data';\n",
       "          await google.colab.output.renderOutput(dataTable, element);\n",
       "          const docLink = document.createElement('div');\n",
       "          docLink.innerHTML = docLinkHtml;\n",
       "          element.appendChild(docLink);\n",
       "        }\n",
       "      </script>\n",
       "    </div>\n",
       "  </div>\n"
      ]
     },
     "metadata": {},
     "execution_count": 66
    }
   ]
  },
  {
   "cell_type": "code",
   "source": [
    "cmpLabels_corumHumap2.loc[(\n",
    "    ((cmpLabels_corumHumap2.labelCORUM==1) &\n",
    "     (cmpLabels_corumHumap2.labelHumap2==0)) |\n",
    "      ((cmpLabels_corumHumap2.labelCORUM==0) &\n",
    "       (cmpLabels_corumHumap2.labelHumap2==1))), :]"
   ],
   "metadata": {
    "colab": {
     "base_uri": "https://localhost:8080/",
     "height": 424
    },
    "id": "38XDWL1m_TPM",
    "executionInfo": {
     "status": "ok",
     "timestamp": 1691714152040,
     "user_tz": 240,
     "elapsed": 154,
     "user": {
      "displayName": "kaputfish kaputfish",
      "userId": "01463028869337595546"
     }
    },
    "outputId": "9d5526d9-f832-44c4-8734-78fc41e5b65e"
   },
   "execution_count": null,
   "outputs": [
    {
     "output_type": "execute_result",
     "data": {
      "text/plain": [
       "            pairsFrozen  labelHumap2  labelCORUM\n",
       "134        (1642, 9343)            1           0\n",
       "157      (203068, 9343)            1           0\n",
       "202       (7862, 23338)            1           0\n",
       "235      (203068, 4436)            1           0\n",
       "241        (3551, 4792)            1           0\n",
       "...                 ...          ...         ...\n",
       "2954993    (2932, 3320)            0           1\n",
       "2980659    (5747, 5605)            0           1\n",
       "2984388   (8473, 10445)            0           1\n",
       "2988118    (2648, 4149)            0           1\n",
       "2997368    (8878, 7189)            0           1\n",
       "\n",
       "[458 rows x 3 columns]"
      ],
      "text/html": [
       "\n",
       "\n",
       "  <div id=\"df-37ab2cac-8438-4205-99c8-359bb443593b\">\n",
       "    <div class=\"colab-df-container\">\n",
       "      <div>\n",
       "<style scoped>\n",
       "    .dataframe tbody tr th:only-of-type {\n",
       "        vertical-align: middle;\n",
       "    }\n",
       "\n",
       "    .dataframe tbody tr th {\n",
       "        vertical-align: top;\n",
       "    }\n",
       "\n",
       "    .dataframe thead th {\n",
       "        text-align: right;\n",
       "    }\n",
       "</style>\n",
       "<table border=\"1\" class=\"dataframe\">\n",
       "  <thead>\n",
       "    <tr style=\"text-align: right;\">\n",
       "      <th></th>\n",
       "      <th>pairsFrozen</th>\n",
       "      <th>labelHumap2</th>\n",
       "      <th>labelCORUM</th>\n",
       "    </tr>\n",
       "  </thead>\n",
       "  <tbody>\n",
       "    <tr>\n",
       "      <th>134</th>\n",
       "      <td>(1642, 9343)</td>\n",
       "      <td>1</td>\n",
       "      <td>0</td>\n",
       "    </tr>\n",
       "    <tr>\n",
       "      <th>157</th>\n",
       "      <td>(203068, 9343)</td>\n",
       "      <td>1</td>\n",
       "      <td>0</td>\n",
       "    </tr>\n",
       "    <tr>\n",
       "      <th>202</th>\n",
       "      <td>(7862, 23338)</td>\n",
       "      <td>1</td>\n",
       "      <td>0</td>\n",
       "    </tr>\n",
       "    <tr>\n",
       "      <th>235</th>\n",
       "      <td>(203068, 4436)</td>\n",
       "      <td>1</td>\n",
       "      <td>0</td>\n",
       "    </tr>\n",
       "    <tr>\n",
       "      <th>241</th>\n",
       "      <td>(3551, 4792)</td>\n",
       "      <td>1</td>\n",
       "      <td>0</td>\n",
       "    </tr>\n",
       "    <tr>\n",
       "      <th>...</th>\n",
       "      <td>...</td>\n",
       "      <td>...</td>\n",
       "      <td>...</td>\n",
       "    </tr>\n",
       "    <tr>\n",
       "      <th>2954993</th>\n",
       "      <td>(2932, 3320)</td>\n",
       "      <td>0</td>\n",
       "      <td>1</td>\n",
       "    </tr>\n",
       "    <tr>\n",
       "      <th>2980659</th>\n",
       "      <td>(5747, 5605)</td>\n",
       "      <td>0</td>\n",
       "      <td>1</td>\n",
       "    </tr>\n",
       "    <tr>\n",
       "      <th>2984388</th>\n",
       "      <td>(8473, 10445)</td>\n",
       "      <td>0</td>\n",
       "      <td>1</td>\n",
       "    </tr>\n",
       "    <tr>\n",
       "      <th>2988118</th>\n",
       "      <td>(2648, 4149)</td>\n",
       "      <td>0</td>\n",
       "      <td>1</td>\n",
       "    </tr>\n",
       "    <tr>\n",
       "      <th>2997368</th>\n",
       "      <td>(8878, 7189)</td>\n",
       "      <td>0</td>\n",
       "      <td>1</td>\n",
       "    </tr>\n",
       "  </tbody>\n",
       "</table>\n",
       "<p>458 rows × 3 columns</p>\n",
       "</div>\n",
       "      <button class=\"colab-df-convert\" onclick=\"convertToInteractive('df-37ab2cac-8438-4205-99c8-359bb443593b')\"\n",
       "              title=\"Convert this dataframe to an interactive table.\"\n",
       "              style=\"display:none;\">\n",
       "\n",
       "  <svg xmlns=\"http://www.w3.org/2000/svg\" height=\"24px\"viewBox=\"0 0 24 24\"\n",
       "       width=\"24px\">\n",
       "    <path d=\"M0 0h24v24H0V0z\" fill=\"none\"/>\n",
       "    <path d=\"M18.56 5.44l.94 2.06.94-2.06 2.06-.94-2.06-.94-.94-2.06-.94 2.06-2.06.94zm-11 1L8.5 8.5l.94-2.06 2.06-.94-2.06-.94L8.5 2.5l-.94 2.06-2.06.94zm10 10l.94 2.06.94-2.06 2.06-.94-2.06-.94-.94-2.06-.94 2.06-2.06.94z\"/><path d=\"M17.41 7.96l-1.37-1.37c-.4-.4-.92-.59-1.43-.59-.52 0-1.04.2-1.43.59L10.3 9.45l-7.72 7.72c-.78.78-.78 2.05 0 2.83L4 21.41c.39.39.9.59 1.41.59.51 0 1.02-.2 1.41-.59l7.78-7.78 2.81-2.81c.8-.78.8-2.07 0-2.86zM5.41 20L4 18.59l7.72-7.72 1.47 1.35L5.41 20z\"/>\n",
       "  </svg>\n",
       "      </button>\n",
       "\n",
       "\n",
       "\n",
       "    <div id=\"df-b796596c-3c89-411a-b0d8-21f2794ecaa9\">\n",
       "      <button class=\"colab-df-quickchart\" onclick=\"quickchart('df-b796596c-3c89-411a-b0d8-21f2794ecaa9')\"\n",
       "              title=\"Suggest charts.\"\n",
       "              style=\"display:none;\">\n",
       "\n",
       "<svg xmlns=\"http://www.w3.org/2000/svg\" height=\"24px\"viewBox=\"0 0 24 24\"\n",
       "     width=\"24px\">\n",
       "    <g>\n",
       "        <path d=\"M19 3H5c-1.1 0-2 .9-2 2v14c0 1.1.9 2 2 2h14c1.1 0 2-.9 2-2V5c0-1.1-.9-2-2-2zM9 17H7v-7h2v7zm4 0h-2V7h2v10zm4 0h-2v-4h2v4z\"/>\n",
       "    </g>\n",
       "</svg>\n",
       "      </button>\n",
       "    </div>\n",
       "\n",
       "<style>\n",
       "  .colab-df-quickchart {\n",
       "    background-color: #E8F0FE;\n",
       "    border: none;\n",
       "    border-radius: 50%;\n",
       "    cursor: pointer;\n",
       "    display: none;\n",
       "    fill: #1967D2;\n",
       "    height: 32px;\n",
       "    padding: 0 0 0 0;\n",
       "    width: 32px;\n",
       "  }\n",
       "\n",
       "  .colab-df-quickchart:hover {\n",
       "    background-color: #E2EBFA;\n",
       "    box-shadow: 0px 1px 2px rgba(60, 64, 67, 0.3), 0px 1px 3px 1px rgba(60, 64, 67, 0.15);\n",
       "    fill: #174EA6;\n",
       "  }\n",
       "\n",
       "  [theme=dark] .colab-df-quickchart {\n",
       "    background-color: #3B4455;\n",
       "    fill: #D2E3FC;\n",
       "  }\n",
       "\n",
       "  [theme=dark] .colab-df-quickchart:hover {\n",
       "    background-color: #434B5C;\n",
       "    box-shadow: 0px 1px 3px 1px rgba(0, 0, 0, 0.15);\n",
       "    filter: drop-shadow(0px 1px 2px rgba(0, 0, 0, 0.3));\n",
       "    fill: #FFFFFF;\n",
       "  }\n",
       "</style>\n",
       "\n",
       "    <script>\n",
       "      async function quickchart(key) {\n",
       "        const containerElement = document.querySelector('#' + key);\n",
       "        const charts = await google.colab.kernel.invokeFunction(\n",
       "            'suggestCharts', [key], {});\n",
       "      }\n",
       "    </script>\n",
       "\n",
       "      <script>\n",
       "\n",
       "function displayQuickchartButton(domScope) {\n",
       "  let quickchartButtonEl =\n",
       "    domScope.querySelector('#df-b796596c-3c89-411a-b0d8-21f2794ecaa9 button.colab-df-quickchart');\n",
       "  quickchartButtonEl.style.display =\n",
       "    google.colab.kernel.accessAllowed ? 'block' : 'none';\n",
       "}\n",
       "\n",
       "        displayQuickchartButton(document);\n",
       "      </script>\n",
       "      <style>\n",
       "    .colab-df-container {\n",
       "      display:flex;\n",
       "      flex-wrap:wrap;\n",
       "      gap: 12px;\n",
       "    }\n",
       "\n",
       "    .colab-df-convert {\n",
       "      background-color: #E8F0FE;\n",
       "      border: none;\n",
       "      border-radius: 50%;\n",
       "      cursor: pointer;\n",
       "      display: none;\n",
       "      fill: #1967D2;\n",
       "      height: 32px;\n",
       "      padding: 0 0 0 0;\n",
       "      width: 32px;\n",
       "    }\n",
       "\n",
       "    .colab-df-convert:hover {\n",
       "      background-color: #E2EBFA;\n",
       "      box-shadow: 0px 1px 2px rgba(60, 64, 67, 0.3), 0px 1px 3px 1px rgba(60, 64, 67, 0.15);\n",
       "      fill: #174EA6;\n",
       "    }\n",
       "\n",
       "    [theme=dark] .colab-df-convert {\n",
       "      background-color: #3B4455;\n",
       "      fill: #D2E3FC;\n",
       "    }\n",
       "\n",
       "    [theme=dark] .colab-df-convert:hover {\n",
       "      background-color: #434B5C;\n",
       "      box-shadow: 0px 1px 3px 1px rgba(0, 0, 0, 0.15);\n",
       "      filter: drop-shadow(0px 1px 2px rgba(0, 0, 0, 0.3));\n",
       "      fill: #FFFFFF;\n",
       "    }\n",
       "  </style>\n",
       "\n",
       "      <script>\n",
       "        const buttonEl =\n",
       "          document.querySelector('#df-37ab2cac-8438-4205-99c8-359bb443593b button.colab-df-convert');\n",
       "        buttonEl.style.display =\n",
       "          google.colab.kernel.accessAllowed ? 'block' : 'none';\n",
       "\n",
       "        async function convertToInteractive(key) {\n",
       "          const element = document.querySelector('#df-37ab2cac-8438-4205-99c8-359bb443593b');\n",
       "          const dataTable =\n",
       "            await google.colab.kernel.invokeFunction('convertToInteractive',\n",
       "                                                     [key], {});\n",
       "          if (!dataTable) return;\n",
       "\n",
       "          const docLinkHtml = 'Like what you see? Visit the ' +\n",
       "            '<a target=\"_blank\" href=https://colab.research.google.com/notebooks/data_table.ipynb>data table notebook</a>'\n",
       "            + ' to learn more about interactive tables.';\n",
       "          element.innerHTML = '';\n",
       "          dataTable['output_type'] = 'display_data';\n",
       "          await google.colab.output.renderOutput(dataTable, element);\n",
       "          const docLink = document.createElement('div');\n",
       "          docLink.innerHTML = docLinkHtml;\n",
       "          element.appendChild(docLink);\n",
       "        }\n",
       "      </script>\n",
       "    </div>\n",
       "  </div>\n"
      ]
     },
     "metadata": {},
     "execution_count": 67
    }
   ]
  },
  {
   "cell_type": "code",
   "source": [
    "corumComplexes_posPairs = \\\n",
    "  [cplx for cplx in accessCORUM.humanCplx_frozen\n",
    "   if cmpLabels_corumHumap2.loc[2954993, 'pairsFrozen'].issubset(cplx)]"
   ],
   "metadata": {
    "id": "3nyemQPi_y2O"
   },
   "execution_count": null,
   "outputs": []
  },
  {
   "cell_type": "code",
   "source": [
    "corumComplexes_posPairs"
   ],
   "metadata": {
    "colab": {
     "base_uri": "https://localhost:8080/"
    },
    "id": "HOrsmwoYBJuy",
    "executionInfo": {
     "status": "ok",
     "timestamp": 1691714164019,
     "user_tz": 240,
     "elapsed": 146,
     "user": {
      "displayName": "kaputfish kaputfish",
      "userId": "01463028869337595546"
     }
    },
    "outputId": "6f080d34-0a50-4b90-eddd-80977d61e0e0"
   },
   "execution_count": null,
   "outputs": [
    {
     "output_type": "execute_result",
     "data": {
      "text/plain": [
       "[frozenset({'2932', '3320', '5315'})]"
      ]
     },
     "metadata": {},
     "execution_count": 69
    }
   ]
  },
  {
   "cell_type": "code",
   "source": [
    "corumComplexes_posPairs = \\\n",
    "  [cplx for cplx in accessCORUM.humanCplx_frozen\n",
    "   if cmpLabels_corumHumap2.loc[134, 'pairsFrozen'].issubset(cplx)]"
   ],
   "metadata": {
    "id": "gDXbgiJvBgMH"
   },
   "execution_count": null,
   "outputs": []
  },
  {
   "cell_type": "code",
   "source": [
    "corumComplexes_posPairs"
   ],
   "metadata": {
    "colab": {
     "base_uri": "https://localhost:8080/"
    },
    "id": "osFcweHvBre-",
    "executionInfo": {
     "status": "ok",
     "timestamp": 1691714240930,
     "user_tz": 240,
     "elapsed": 2,
     "user": {
      "displayName": "kaputfish kaputfish",
      "userId": "01463028869337595546"
     }
    },
    "outputId": "16c4a695-17ca-43f3-d8e8-dbd283aca899"
   },
   "execution_count": null,
   "outputs": [
    {
     "output_type": "execute_result",
     "data": {
      "text/plain": [
       "[]"
      ]
     },
     "metadata": {},
     "execution_count": 71
    }
   ]
  },
  {
   "cell_type": "markdown",
   "source": [
    "##Lugo-Martinez\n",
    "*   HPA\n",
    "*   NCI-60\n",
    "*   FANTOM\n",
    "*   gTEX\n",
    "*   HPA-microscopy deep-learning driven location classification"
   ],
   "metadata": {
    "id": "mnTIUetvvs-H"
   }
  },
  {
   "cell_type": "code",
   "source": [
    "lmData_dir = workDir + 'proteinComplexes/Lugo-Martinez/'\n",
    "lmExpanded_pairs = \\\n",
    "  pickle.load(open(lmData_dir + 'expandedPairset_protsPairs.pkl', 'rb'))['pairs']\n",
    "\n",
    "featMat_lmExpanded2_pklDir = lmData_dir + 'lmExpanded_FANTOM+gTEX+HPA-DL/' + \\\n",
    "  'lmIntegrated2_MM+TSCS+Exp+Abun+Loc+Kaggle_featuresMatrix.pkl'\n",
    "featMat_lmExpanded2_pairs = pickle.load(open(featMat_lmExpanded2_pklDir, 'rb'))\n",
    "featMat_lmExpanded2_pairs = \\\n",
    "  list(set(featMat_lmExpanded2_pairs.pairsFrozen.to_list()))"
   ],
   "metadata": {
    "id": "S1cGZdWXA5ca"
   },
   "execution_count": null,
   "outputs": []
  },
  {
   "cell_type": "code",
   "source": [
    "lmData_dir = workDir + 'proteinComplexes/Lugo-Martinez/'\n",
    "\n",
    "lmExpanded_protsPairs = \\\n",
    "  pickle.load(open(lmData_dir + 'expandedPairset_protsPairs.pkl', 'rb'))\n",
    "lmExpanded_prots = lmExpanded_protsPairs['prots']\n",
    "lmExpanded_pairs = lmExpanded_protsPairs['pairs']\n",
    "lmExpanded_pairsAll = lmExpanded_protsPairs['allPairs']\n",
    "\n",
    "featMat_lmExpanded2_dir = lmData_dir + 'lmExpanded_FANTOM+gTEX+HPA-DL/' + \\\n",
    "  'lmIntegrated2_MM+TSCS+Exp+Abun+Loc+Kaggle_featuresMatrix.tsv'\n",
    "featMat_lmExpanded2_pklDir = lmData_dir + 'lmExpanded_FANTOM+gTEX+HPA-DL/' + \\\n",
    "  'lmIntegrated2_MM+TSCS+Exp+Abun+Loc+Kaggle_featuresMatrix.pkl'\n",
    "featMat_lmExpanded2 = pickle.load(open(featMat_lmExpanded2_pklDir, 'rb'))\n",
    "featMat_lmExpanded2_prots = \\\n",
    "  list(set(featMat_lmExpanded2.loc[:, 'idi'].to_list()).union(\n",
    "      set(featMat_lmExpanded2.loc[:, 'idii'])))\n",
    "featMat_lmExpanded2_pairs = \\\n",
    "  list(set(featMat_lmExpanded2.pairsFrozen.to_list()))\n",
    "featMat_lmExpanded2_allPairs = \\\n",
    "  [frozenset(pair)\n",
    "  for pair in list(it.combinations(featMat_lmExpanded2_prots, 2))]"
   ],
   "metadata": {
    "id": "SBodFFgxwpvr"
   },
   "execution_count": null,
   "outputs": []
  },
  {
   "cell_type": "code",
   "source": [
    "len(featMat_lmExpanded2_pairs)"
   ],
   "metadata": {
    "colab": {
     "base_uri": "https://localhost:8080/"
    },
    "id": "Zr0hAGLxDY4G",
    "executionInfo": {
     "status": "ok",
     "timestamp": 1692603909023,
     "user_tz": 240,
     "elapsed": 574,
     "user": {
      "displayName": "kaputfish kaputfish",
      "userId": "01463028869337595546"
     }
    },
    "outputId": "b5d3b42f-ff19-4639-f0f6-a2c44723a52a"
   },
   "execution_count": null,
   "outputs": [
    {
     "output_type": "execute_result",
     "data": {
      "text/plain": [
       "1826385"
      ]
     },
     "metadata": {},
     "execution_count": 13
    }
   ]
  },
  {
   "cell_type": "markdown",
   "source": [
    "###HPA"
   ],
   "metadata": {
    "id": "pQhLzIQIWOFh"
   }
  },
  {
   "cell_type": "code",
   "source": [
    "hpaData_path = lmData_dir + 'hpaPerTissue.tsv'\n",
    "hpaData = pd.read_csv(hpaData_path, sep='\\t')"
   ],
   "metadata": {
    "id": "oT3w0igTWQCP"
   },
   "execution_count": null,
   "outputs": []
  },
  {
   "cell_type": "code",
   "source": [
    "hpaData.insert(1, 'GeneID_singleEntry',\n",
    "    [list(filter(None, entry.split(' '))) if ' ' in str(entry) else entry for entry in hpaData.GeneID.to_list()])\n",
    "hpaData_geneID_noSplits = hpaData.explode('GeneID_singleEntry')\n",
    "hpaProts = \\\n",
    "  [x for x in hpaData_geneID_noSplits.loc[hpaData_geneID_noSplits.GeneID_singleEntry.notnull(),\n",
    "                                          'GeneID_singleEntry'].to_list()]"
   ],
   "metadata": {
    "id": "VsBA0AwjX81Q"
   },
   "execution_count": null,
   "outputs": []
  },
  {
   "cell_type": "markdown",
   "source": [
    "###NCI-60"
   ],
   "metadata": {
    "id": "VXPjl5ftqIt6"
   }
  },
  {
   "cell_type": "code",
   "source": [
    "protExp_cellLine_nci60Path = lmData_dir + 'nci60_all_abundanceLFQPerCellLineProteome.tsv'\n",
    "protExp_tissueLevel_nci60Path = lmData_dir + 'nci60_all_abundanceLFQPerTissueDeep.tsv'\n",
    "\n",
    "protExp_cellLine_nci60 = pd.read_csv(protExp_cellLine_nci60Path, sep='\\t')\n",
    "protExp_tissueLevel_nci60 = pd.read_csv(protExp_tissueLevel_nci60Path, sep='\\t')"
   ],
   "metadata": {
    "id": "FaTKN4r5qMkx"
   },
   "execution_count": null,
   "outputs": []
  },
  {
   "cell_type": "code",
   "source": [
    "protsNCI60_cellLevel = list(set(protExp_cellLine_nci60.loc[protExp_cellLine_nci60.GeneID.notnull(), 'GeneID'].to_list()))\n",
    "protsNCI60_tissueLevel = list(set(protExp_tissueLevel_nci60.loc[protExp_tissueLevel_nci60.GeneID.notnull(), 'GeneID'].to_list()))"
   ],
   "metadata": {
    "id": "4S1FJsCFv5-d"
   },
   "execution_count": null,
   "outputs": []
  },
  {
   "cell_type": "markdown",
   "source": [
    "###load, save, update results"
   ],
   "metadata": {
    "id": "bX6jcp8wv3BC"
   }
  },
  {
   "cell_type": "code",
   "source": [
    "pickle.dump({'humap1Pairs': humap1Pairs,\n",
    "             'humap2Pairs': humap2Pairs,\n",
    "             'bioplex3Pairs': bioplex3Pairs},\n",
    "            open('./availablePairs_humap1+humap2+bioplex3.pkl', 'wb'))"
   ],
   "metadata": {
    "id": "rX60VIg79xAT"
   },
   "execution_count": null,
   "outputs": []
  },
  {
   "cell_type": "code",
   "source": [
    "pickle.dump({'lmExpanded_pairs': lmExpanded_pairs,\n",
    "             'lmExpanded2_pairs': featMat_lmExpanded2_pairs},\n",
    "            open('./availablePairs_expandedPairset+expandedPairset2.pkl', 'wb'))"
   ],
   "metadata": {
    "id": "ksUJzVbwC309"
   },
   "execution_count": null,
   "outputs": []
  },
  {
   "cell_type": "code",
   "source": [
    "pickle.dump({'stringPairs': stringPairs},\n",
    "            open('./availablePairs_string.pkl', 'wb'))"
   ],
   "metadata": {
    "id": "NxMODvysKrQB"
   },
   "execution_count": null,
   "outputs": []
  },
  {
   "cell_type": "markdown",
   "source": [
    "##SubCellBarCode"
   ],
   "metadata": {
    "id": "42g9JazzsZ6w"
   }
  },
  {
   "cell_type": "code",
   "source": [
    "scbcDir = workDir + 'proteinComplexes/scbc/'\n",
    "scbcData = pd.read_excel(scbcDir + 'scbc_quantitative_ms(S1).xlsx', sheet_name=None)\n",
    "scbcGenename_subunitID_mapping = pd.read_excel(scbcDir + 'genename->geneid_08092023.xlsx', sheet_name=None)"
   ],
   "metadata": {
    "id": "aqUr-Rwgvb64"
   },
   "execution_count": null,
   "outputs": []
  },
  {
   "cell_type": "code",
   "source": [
    "scbcProts = \\\n",
    "  scbcGenename_subunitID_mapping['genename->geneid'].loc[\n",
    "      scbcGenename_subunitID_mapping['genename->geneid'].GeneID.notnull(), :].GeneID.unique()\n",
    "scbcProts_pairsAll = \\\n",
    "  [frozenset(pair) for pair in list(it.combinations(scbcProts, 2))]"
   ],
   "metadata": {
    "id": "Hc2E_yHJJBox"
   },
   "execution_count": null,
   "outputs": []
  },
  {
   "cell_type": "code",
   "source": [
    "len(scbcProts)"
   ],
   "metadata": {
    "colab": {
     "base_uri": "https://localhost:8080/"
    },
    "id": "wBHX37LBKFyi",
    "executionInfo": {
     "status": "ok",
     "timestamp": 1691649344859,
     "user_tz": 240,
     "elapsed": 153,
     "user": {
      "displayName": "kaputfish kaputfish",
      "userId": "01463028869337595546"
     }
    },
    "outputId": "9f35e876-b98a-4a6e-b23c-8ac3cdbc8596"
   },
   "execution_count": null,
   "outputs": [
    {
     "output_type": "execute_result",
     "data": {
      "text/plain": [
       "12389"
      ]
     },
     "metadata": {},
     "execution_count": 335
    }
   ]
  },
  {
   "cell_type": "code",
   "source": [
    "len(scbcProts_pairsAll)"
   ],
   "metadata": {
    "colab": {
     "base_uri": "https://localhost:8080/"
    },
    "id": "egawdbzaKGt0",
    "executionInfo": {
     "status": "ok",
     "timestamp": 1691649344999,
     "user_tz": 240,
     "elapsed": 2,
     "user": {
      "displayName": "kaputfish kaputfish",
      "userId": "01463028869337595546"
     }
    },
    "outputId": "6c83ecd3-4aa4-43ad-aefb-4ad428964506"
   },
   "execution_count": null,
   "outputs": [
    {
     "output_type": "execute_result",
     "data": {
      "text/plain": [
       "76737466"
      ]
     },
     "metadata": {},
     "execution_count": 336
    }
   ]
  },
  {
   "cell_type": "markdown",
   "source": [
    "###generate mapping file"
   ],
   "metadata": {
    "id": "nDGkFG1pIR_N"
   }
  },
  {
   "cell_type": "code",
   "source": [
    "subunitsSCBC_genename = \\\n",
    "  list(set().union(*\n",
    "   [val.loc[:, 'Protein'].to_list()\n",
    "   for name, val in scbcData.items()\n",
    "   if name in ['A431', 'MCF7', 'H322', 'HCC827', 'U251']]))"
   ],
   "metadata": {
    "id": "e39Q8qoZwoEC"
   },
   "execution_count": null,
   "outputs": []
  },
  {
   "cell_type": "code",
   "source": [
    "subunitsSCBC_genename2Uniprotkb_uniprotkb2GeneID = \\\n",
    "  pd.read_excel(scbcDir + 'subunitsSCBC_genename->uniprotkb_08092023.xlsx',\n",
    "              na_values=['None'], dtype='str', sheet_name=None)"
   ],
   "metadata": {
    "id": "MabIN2z82A9t"
   },
   "execution_count": null,
   "outputs": []
  },
  {
   "cell_type": "code",
   "source": [
    "for dfName, df in subunitsSCBC_genename2Uniprotkb_uniprotkb2GeneID.items():\n",
    "  print(dfName)\n",
    "  print(df.dtypes)\n",
    "  cols2Drop = [col for col in df.columns.to_list() if 'Unnamed' in col]\n",
    "  print(cols2Drop)\n",
    "  subunitsSCBC_genename2Uniprotkb_uniprotkb2GeneID[dfName].drop(\n",
    "      columns=cols2Drop, inplace=True)"
   ],
   "metadata": {
    "id": "SaGgp3Io8zrd"
   },
   "execution_count": null,
   "outputs": []
  },
  {
   "cell_type": "code",
   "source": [
    "subunitsSCBC_genename2GeneID_noMerge_mapping = \\\n",
    "  subunitsSCBC_genename2Uniprotkb_uniprotkb2GeneID['genename->Uniprotkb'].copy()\n",
    "\n",
    "subunitsSCBC_genename2GeneID_noMerge_mapping['GeneID'] = ''"
   ],
   "metadata": {
    "id": "4jRJ_lPeXF66"
   },
   "execution_count": null,
   "outputs": []
  },
  {
   "cell_type": "code",
   "source": [
    "subunitsSCBC_genename2GeneID_noMerge_mapping.loc[(\n",
    "    (subunitsSCBC_genename2GeneID_noMerge_mapping.UniProtKB.isin(\n",
    "        subunitsSCBC_genename2Uniprotkb_uniprotkb2GeneID['uniprotkbNOConverts->GeneID-0+1'].UniProtKB.to_list())) |\n",
    "    (subunitsSCBC_genename2GeneID_noMerge_mapping.UniProtKB.isna())), 'GeneID'] = np.nan"
   ],
   "metadata": {
    "id": "0CJeFzZGZGfn"
   },
   "execution_count": null,
   "outputs": []
  },
  {
   "cell_type": "code",
   "source": [
    "subunitIDs_nonnullUniprot_nonnullGeneid_nonduplicatedUniprot = \\\n",
    "  subunitsSCBC_genename2GeneID_noMerge_mapping.loc[(\n",
    "      (~subunitsSCBC_genename2GeneID_noMerge_mapping.duplicated(subset=['UniProtKB'], keep=False)) &\n",
    "       (subunitsSCBC_genename2GeneID_noMerge_mapping.UniProtKB.notnull()) &\n",
    "        (subunitsSCBC_genename2GeneID_noMerge_mapping.GeneID.notnull())), :].UniProtKB.to_list()"
   ],
   "metadata": {
    "id": "eBVAC7LdXu9X"
   },
   "execution_count": null,
   "outputs": []
  },
  {
   "cell_type": "code",
   "source": [
    "subunitIDs_nonnullUniprot_nonnullGeneid_nonduplicatedUniprot_mapper = \\\n",
    "  subunitsSCBC_genename2Uniprotkb_uniprotkb2GeneID['uniprotkbConverts->GeneID-0+1'].loc[(\n",
    "      (subunitsSCBC_genename2Uniprotkb_uniprotkb2GeneID['uniprotkbConverts->GeneID-0+1'].UniProtKB.isin(\n",
    "          subunitIDs_nonnullUniprot_nonnullGeneid_nonduplicatedUniprot)) &\n",
    "           (~subunitsSCBC_genename2Uniprotkb_uniprotkb2GeneID['uniprotkbConverts->GeneID-0+1'].duplicated(subset=['UniProtKB'], keep=False))), :].set_index(\n",
    "              'UniProtKB').to_dict()"
   ],
   "metadata": {
    "id": "AeeUhumIm2Hc"
   },
   "execution_count": null,
   "outputs": []
  },
  {
   "cell_type": "code",
   "source": [
    "subunitsSCBC_genename2GeneID_noMerge_mapping.loc[subunitsSCBC_genename2GeneID_noMerge_mapping.UniProtKB.isin(\n",
    "    subunitIDs_nonnullUniprot_nonnullGeneid_nonduplicatedUniprot), 'GeneID'] = \\\n",
    "    subunitsSCBC_genename2GeneID_noMerge_mapping.loc[subunitsSCBC_genename2GeneID_noMerge_mapping.UniProtKB.isin(\n",
    "        subunitIDs_nonnullUniprot_nonnullGeneid_nonduplicatedUniprot), 'UniProtKB'].map(\n",
    "            subunitIDs_nonnullUniprot_nonnullGeneid_nonduplicatedUniprot_mapper['GeneID'])"
   ],
   "metadata": {
    "id": "NKEVYmGtzsMC"
   },
   "execution_count": null,
   "outputs": []
  },
  {
   "cell_type": "code",
   "source": [
    "for i, subunitID in enumerate(subunitsSCBC_genename2GeneID_noMerge_mapping.loc[(\n",
    "    (subunitsSCBC_genename2GeneID_noMerge_mapping.GeneID.notnull()) &\n",
    "     (subunitsSCBC_genename2GeneID_noMerge_mapping.GeneID=='') &\n",
    "      (subunitsSCBC_genename2GeneID_noMerge_mapping.duplicated(\n",
    "          subset=['UniProtKB'], keep=False))), 'UniProtKB'].to_list()):\n",
    "          subunitsSCBC_genename2GeneID_noMerge_mapping.loc[\n",
    "              subunitsSCBC_genename2GeneID_noMerge_mapping.UniProtKB==subunitID, 'GeneID'] = \\\n",
    "            subunitsSCBC_genename2Uniprotkb_uniprotkb2GeneID['uniprotkbConverts->GeneID-0+1'].loc[\n",
    "                subunitsSCBC_genename2Uniprotkb_uniprotkb2GeneID['uniprotkbConverts->GeneID-0+1'].UniProtKB==subunitID, 'GeneID'].to_list()"
   ],
   "metadata": {
    "id": "opDjIYZX4Xd7"
   },
   "execution_count": null,
   "outputs": []
  },
  {
   "cell_type": "markdown",
   "source": [
    "##STRING"
   ],
   "metadata": {
    "id": "oqIxEKnwKL0x"
   }
  },
  {
   "cell_type": "code",
   "source": [
    "stringDir = workDir + 'proteinComplexes/STRING/'\n",
    "data = pd.read_csv(stringDir + 'stringPPIs_geneidMapping.tsv', sep='\\t',\n",
    "                   usecols=['geneid1', 'geneid2'], na_values=['NaN', np.nan],\n",
    "                   dtype='str')\n",
    "data = data.loc[((data.geneid1.notnull()) & (data.geneid2.notnull())), :].copy()"
   ],
   "metadata": {
    "id": "DvQidqQ_I2RK"
   },
   "execution_count": null,
   "outputs": []
  },
  {
   "cell_type": "code",
   "source": [
    "data.loc[:, ['geneid1', 'geneid2']]"
   ],
   "metadata": {
    "colab": {
     "base_uri": "https://localhost:8080/",
     "height": 424
    },
    "id": "uJNbBy6nJyte",
    "executionInfo": {
     "status": "ok",
     "timestamp": 1692605729394,
     "user_tz": 240,
     "elapsed": 595,
     "user": {
      "displayName": "kaputfish kaputfish",
      "userId": "01463028869337595546"
     }
    },
    "outputId": "e1d2456b-5acd-4ceb-8817-d8c7879889c8"
   },
   "execution_count": null,
   "outputs": [
    {
     "output_type": "execute_result",
     "data": {
      "text/plain": [
       "         geneid1 geneid2\n",
       "0            381    5137\n",
       "1            381    5062\n",
       "2            381    9609\n",
       "3            381    2889\n",
       "5            381   23527\n",
       "...          ...     ...\n",
       "11938493  219952  390142\n",
       "11938494  219952  441608\n",
       "11938495  219952  337969\n",
       "11938496  219952  219983\n",
       "11938497  219952  125958\n",
       "\n",
       "[11169978 rows x 2 columns]"
      ],
      "text/html": [
       "\n",
       "  <div id=\"df-2159c6f9-d64a-4fc3-93ad-8035305ec17a\" class=\"colab-df-container\">\n",
       "    <div>\n",
       "<style scoped>\n",
       "    .dataframe tbody tr th:only-of-type {\n",
       "        vertical-align: middle;\n",
       "    }\n",
       "\n",
       "    .dataframe tbody tr th {\n",
       "        vertical-align: top;\n",
       "    }\n",
       "\n",
       "    .dataframe thead th {\n",
       "        text-align: right;\n",
       "    }\n",
       "</style>\n",
       "<table border=\"1\" class=\"dataframe\">\n",
       "  <thead>\n",
       "    <tr style=\"text-align: right;\">\n",
       "      <th></th>\n",
       "      <th>geneid1</th>\n",
       "      <th>geneid2</th>\n",
       "    </tr>\n",
       "  </thead>\n",
       "  <tbody>\n",
       "    <tr>\n",
       "      <th>0</th>\n",
       "      <td>381</td>\n",
       "      <td>5137</td>\n",
       "    </tr>\n",
       "    <tr>\n",
       "      <th>1</th>\n",
       "      <td>381</td>\n",
       "      <td>5062</td>\n",
       "    </tr>\n",
       "    <tr>\n",
       "      <th>2</th>\n",
       "      <td>381</td>\n",
       "      <td>9609</td>\n",
       "    </tr>\n",
       "    <tr>\n",
       "      <th>3</th>\n",
       "      <td>381</td>\n",
       "      <td>2889</td>\n",
       "    </tr>\n",
       "    <tr>\n",
       "      <th>5</th>\n",
       "      <td>381</td>\n",
       "      <td>23527</td>\n",
       "    </tr>\n",
       "    <tr>\n",
       "      <th>...</th>\n",
       "      <td>...</td>\n",
       "      <td>...</td>\n",
       "    </tr>\n",
       "    <tr>\n",
       "      <th>11938493</th>\n",
       "      <td>219952</td>\n",
       "      <td>390142</td>\n",
       "    </tr>\n",
       "    <tr>\n",
       "      <th>11938494</th>\n",
       "      <td>219952</td>\n",
       "      <td>441608</td>\n",
       "    </tr>\n",
       "    <tr>\n",
       "      <th>11938495</th>\n",
       "      <td>219952</td>\n",
       "      <td>337969</td>\n",
       "    </tr>\n",
       "    <tr>\n",
       "      <th>11938496</th>\n",
       "      <td>219952</td>\n",
       "      <td>219983</td>\n",
       "    </tr>\n",
       "    <tr>\n",
       "      <th>11938497</th>\n",
       "      <td>219952</td>\n",
       "      <td>125958</td>\n",
       "    </tr>\n",
       "  </tbody>\n",
       "</table>\n",
       "<p>11169978 rows × 2 columns</p>\n",
       "</div>\n",
       "    <div class=\"colab-df-buttons\">\n",
       "\n",
       "  <div class=\"colab-df-container\">\n",
       "    <button class=\"colab-df-convert\" onclick=\"convertToInteractive('df-2159c6f9-d64a-4fc3-93ad-8035305ec17a')\"\n",
       "            title=\"Convert this dataframe to an interactive table.\"\n",
       "            style=\"display:none;\">\n",
       "\n",
       "  <svg xmlns=\"http://www.w3.org/2000/svg\" height=\"24px\" viewBox=\"0 -960 960 960\">\n",
       "    <path d=\"M120-120v-720h720v720H120Zm60-500h600v-160H180v160Zm220 220h160v-160H400v160Zm0 220h160v-160H400v160ZM180-400h160v-160H180v160Zm440 0h160v-160H620v160ZM180-180h160v-160H180v160Zm440 0h160v-160H620v160Z\"/>\n",
       "  </svg>\n",
       "    </button>\n",
       "\n",
       "  <style>\n",
       "    .colab-df-container {\n",
       "      display:flex;\n",
       "      gap: 12px;\n",
       "    }\n",
       "\n",
       "    .colab-df-convert {\n",
       "      background-color: #E8F0FE;\n",
       "      border: none;\n",
       "      border-radius: 50%;\n",
       "      cursor: pointer;\n",
       "      display: none;\n",
       "      fill: #1967D2;\n",
       "      height: 32px;\n",
       "      padding: 0 0 0 0;\n",
       "      width: 32px;\n",
       "    }\n",
       "\n",
       "    .colab-df-convert:hover {\n",
       "      background-color: #E2EBFA;\n",
       "      box-shadow: 0px 1px 2px rgba(60, 64, 67, 0.3), 0px 1px 3px 1px rgba(60, 64, 67, 0.15);\n",
       "      fill: #174EA6;\n",
       "    }\n",
       "\n",
       "    .colab-df-buttons div {\n",
       "      margin-bottom: 4px;\n",
       "    }\n",
       "\n",
       "    [theme=dark] .colab-df-convert {\n",
       "      background-color: #3B4455;\n",
       "      fill: #D2E3FC;\n",
       "    }\n",
       "\n",
       "    [theme=dark] .colab-df-convert:hover {\n",
       "      background-color: #434B5C;\n",
       "      box-shadow: 0px 1px 3px 1px rgba(0, 0, 0, 0.15);\n",
       "      filter: drop-shadow(0px 1px 2px rgba(0, 0, 0, 0.3));\n",
       "      fill: #FFFFFF;\n",
       "    }\n",
       "  </style>\n",
       "\n",
       "    <script>\n",
       "      const buttonEl =\n",
       "        document.querySelector('#df-2159c6f9-d64a-4fc3-93ad-8035305ec17a button.colab-df-convert');\n",
       "      buttonEl.style.display =\n",
       "        google.colab.kernel.accessAllowed ? 'block' : 'none';\n",
       "\n",
       "      async function convertToInteractive(key) {\n",
       "        const element = document.querySelector('#df-2159c6f9-d64a-4fc3-93ad-8035305ec17a');\n",
       "        const dataTable =\n",
       "          await google.colab.kernel.invokeFunction('convertToInteractive',\n",
       "                                                    [key], {});\n",
       "        if (!dataTable) return;\n",
       "\n",
       "        const docLinkHtml = 'Like what you see? Visit the ' +\n",
       "          '<a target=\"_blank\" href=https://colab.research.google.com/notebooks/data_table.ipynb>data table notebook</a>'\n",
       "          + ' to learn more about interactive tables.';\n",
       "        element.innerHTML = '';\n",
       "        dataTable['output_type'] = 'display_data';\n",
       "        await google.colab.output.renderOutput(dataTable, element);\n",
       "        const docLink = document.createElement('div');\n",
       "        docLink.innerHTML = docLinkHtml;\n",
       "        element.appendChild(docLink);\n",
       "      }\n",
       "    </script>\n",
       "  </div>\n",
       "\n",
       "\n",
       "<div id=\"df-325fc614-183f-426b-a2b5-c2c84fef9bbb\">\n",
       "  <button class=\"colab-df-quickchart\" onclick=\"quickchart('df-325fc614-183f-426b-a2b5-c2c84fef9bbb')\"\n",
       "            title=\"Suggest charts.\"\n",
       "            style=\"display:none;\">\n",
       "\n",
       "<svg xmlns=\"http://www.w3.org/2000/svg\" height=\"24px\"viewBox=\"0 0 24 24\"\n",
       "     width=\"24px\">\n",
       "    <g>\n",
       "        <path d=\"M19 3H5c-1.1 0-2 .9-2 2v14c0 1.1.9 2 2 2h14c1.1 0 2-.9 2-2V5c0-1.1-.9-2-2-2zM9 17H7v-7h2v7zm4 0h-2V7h2v10zm4 0h-2v-4h2v4z\"/>\n",
       "    </g>\n",
       "</svg>\n",
       "  </button>\n",
       "\n",
       "<style>\n",
       "  .colab-df-quickchart {\n",
       "    background-color: #E8F0FE;\n",
       "    border: none;\n",
       "    border-radius: 50%;\n",
       "    cursor: pointer;\n",
       "    display: none;\n",
       "    fill: #1967D2;\n",
       "    height: 32px;\n",
       "    padding: 0 0 0 0;\n",
       "    width: 32px;\n",
       "  }\n",
       "\n",
       "  .colab-df-quickchart:hover {\n",
       "    background-color: #E2EBFA;\n",
       "    box-shadow: 0px 1px 2px rgba(60, 64, 67, 0.3), 0px 1px 3px 1px rgba(60, 64, 67, 0.15);\n",
       "    fill: #174EA6;\n",
       "  }\n",
       "\n",
       "  [theme=dark] .colab-df-quickchart {\n",
       "    background-color: #3B4455;\n",
       "    fill: #D2E3FC;\n",
       "  }\n",
       "\n",
       "  [theme=dark] .colab-df-quickchart:hover {\n",
       "    background-color: #434B5C;\n",
       "    box-shadow: 0px 1px 3px 1px rgba(0, 0, 0, 0.15);\n",
       "    filter: drop-shadow(0px 1px 2px rgba(0, 0, 0, 0.3));\n",
       "    fill: #FFFFFF;\n",
       "  }\n",
       "</style>\n",
       "\n",
       "  <script>\n",
       "    async function quickchart(key) {\n",
       "      const charts = await google.colab.kernel.invokeFunction(\n",
       "          'suggestCharts', [key], {});\n",
       "    }\n",
       "    (() => {\n",
       "      let quickchartButtonEl =\n",
       "        document.querySelector('#df-325fc614-183f-426b-a2b5-c2c84fef9bbb button');\n",
       "      quickchartButtonEl.style.display =\n",
       "        google.colab.kernel.accessAllowed ? 'block' : 'none';\n",
       "    })();\n",
       "  </script>\n",
       "</div>\n",
       "    </div>\n",
       "  </div>\n"
      ]
     },
     "metadata": {},
     "execution_count": 19
    }
   ]
  },
  {
   "cell_type": "code",
   "source": [
    "stringPairs = data.loc[:, ['geneid1', 'geneid2']].apply(frozenset, axis=1).to_list()"
   ],
   "metadata": {
    "id": "KHle7VKYI8E_"
   },
   "execution_count": null,
   "outputs": []
  },
  {
   "cell_type": "code",
   "source": [
    "pickle.dump({'stringPairs': stringPairs},\n",
    "            open('./availablePairs_string.pkl', 'wb'))"
   ],
   "metadata": {
    "id": "YoRyaCKRK1Vk"
   },
   "execution_count": null,
   "outputs": []
  },
  {
   "cell_type": "code",
   "source": [
    "len(stringPairs)"
   ],
   "metadata": {
    "colab": {
     "base_uri": "https://localhost:8080/"
    },
    "id": "hdAZ-sAQJSJb",
    "executionInfo": {
     "status": "ok",
     "timestamp": 1692605540942,
     "user_tz": 240,
     "elapsed": 382,
     "user": {
      "displayName": "kaputfish kaputfish",
      "userId": "01463028869337595546"
     }
    },
    "outputId": "151915dd-32f5-4095-813d-9c26337df163"
   },
   "execution_count": null,
   "outputs": [
    {
     "output_type": "execute_result",
     "data": {
      "text/plain": [
       "11938498"
      ]
     },
     "metadata": {},
     "execution_count": 15
    }
   ]
  },
  {
   "cell_type": "code",
   "source": [
    "stringPairs"
   ],
   "metadata": {
    "id": "_l953uNfJUMB"
   },
   "execution_count": null,
   "outputs": []
  },
  {
   "cell_type": "code",
   "source": [
    "stringDir = workDir + 'proteinComplexes/STRING/'\n",
    "stringPPIs = pd.read_csv(stringDir + '9606.protein.links.detailed.v11.5.txt', sep=' ')\n",
    "stringGeneid_mapping = \\\n",
    "  pd.read_excel(stringDir + 'string->geneID_08092023.xlsx', sheet_name=None)\n",
    "\n",
    "stringProts = list(set(stringPPIs.protein1.to_list()).union(\n",
    "    set(stringPPIs.protein2.to_list())))\n",
    "stringProts_geneIDs = \\\n",
    "  list(stringGeneid_mapping['string->GeneID'].GeneID.unique())\n",
    "stringPairs_all = list(it.combinations(stringProts_geneIDs, 2))"
   ],
   "metadata": {
    "id": "dTkvs-fNLAgb"
   },
   "execution_count": null,
   "outputs": []
  },
  {
   "cell_type": "code",
   "source": [
    "len(stringProts)"
   ],
   "metadata": {
    "colab": {
     "base_uri": "https://localhost:8080/"
    },
    "id": "8obleVUBMipm",
    "executionInfo": {
     "status": "ok",
     "timestamp": 1691649981476,
     "user_tz": 240,
     "elapsed": 159,
     "user": {
      "displayName": "kaputfish kaputfish",
      "userId": "01463028869337595546"
     }
    },
    "outputId": "77dc7091-64ca-43b2-83c3-d6b6f8f73ebc"
   },
   "execution_count": null,
   "outputs": [
    {
     "output_type": "execute_result",
     "data": {
      "text/plain": [
       "19385"
      ]
     },
     "metadata": {},
     "execution_count": 343
    }
   ]
  },
  {
   "cell_type": "code",
   "source": [
    "stringPPIs"
   ],
   "metadata": {
    "colab": {
     "base_uri": "https://localhost:8080/",
     "height": 488
    },
    "id": "RZtv1ZDpLh4-",
    "executionInfo": {
     "status": "ok",
     "timestamp": 1691649786014,
     "user_tz": 240,
     "elapsed": 4,
     "user": {
      "displayName": "kaputfish kaputfish",
      "userId": "01463028869337595546"
     }
    },
    "outputId": "3aedba3b-40dd-4e32-e997-088f61d005bd"
   },
   "execution_count": null,
   "outputs": [
    {
     "output_type": "execute_result",
     "data": {
      "text/plain": [
       "                      protein1              protein2  neighborhood  fusion  \\\n",
       "0         9606.ENSP00000000233  9606.ENSP00000379496             0       0   \n",
       "1         9606.ENSP00000000233  9606.ENSP00000314067             0       0   \n",
       "2         9606.ENSP00000000233  9606.ENSP00000263116             0       0   \n",
       "3         9606.ENSP00000000233  9606.ENSP00000361263             0       0   \n",
       "4         9606.ENSP00000000233  9606.ENSP00000409666             0       0   \n",
       "...                        ...                   ...           ...     ...   \n",
       "11938493  9606.ENSP00000485678  9606.ENSP00000354800             0       0   \n",
       "11938494  9606.ENSP00000485678  9606.ENSP00000308270             0       0   \n",
       "11938495  9606.ENSP00000485678  9606.ENSP00000335660             0       0   \n",
       "11938496  9606.ENSP00000485678  9606.ENSP00000300127             0       0   \n",
       "11938497  9606.ENSP00000485678  9606.ENSP00000310488             0       0   \n",
       "\n",
       "          cooccurence  coexpression  experimental  database  textmining  \\\n",
       "0                   0            54             0         0         144   \n",
       "1                   0             0           180         0          61   \n",
       "2                   0            62           152         0         101   \n",
       "3                   0             0           161         0          64   \n",
       "4                   0            82           213         0          72   \n",
       "...               ...           ...           ...       ...         ...   \n",
       "11938493            0           213             0         0           0   \n",
       "11938494            0           152             0         0           0   \n",
       "11938495            0           182             0         0           0   \n",
       "11938496            0           155             0         0           0   \n",
       "11938497            0           168             0         0           0   \n",
       "\n",
       "          combined_score  \n",
       "0                    155  \n",
       "1                    197  \n",
       "2                    222  \n",
       "3                    181  \n",
       "4                    270  \n",
       "...                  ...  \n",
       "11938493             213  \n",
       "11938494             151  \n",
       "11938495             181  \n",
       "11938496             154  \n",
       "11938497             167  \n",
       "\n",
       "[11938498 rows x 10 columns]"
      ],
      "text/html": [
       "\n",
       "\n",
       "  <div id=\"df-b1dd4df6-daf6-4a21-8bf9-48d41a8ca888\">\n",
       "    <div class=\"colab-df-container\">\n",
       "      <div>\n",
       "<style scoped>\n",
       "    .dataframe tbody tr th:only-of-type {\n",
       "        vertical-align: middle;\n",
       "    }\n",
       "\n",
       "    .dataframe tbody tr th {\n",
       "        vertical-align: top;\n",
       "    }\n",
       "\n",
       "    .dataframe thead th {\n",
       "        text-align: right;\n",
       "    }\n",
       "</style>\n",
       "<table border=\"1\" class=\"dataframe\">\n",
       "  <thead>\n",
       "    <tr style=\"text-align: right;\">\n",
       "      <th></th>\n",
       "      <th>protein1</th>\n",
       "      <th>protein2</th>\n",
       "      <th>neighborhood</th>\n",
       "      <th>fusion</th>\n",
       "      <th>cooccurence</th>\n",
       "      <th>coexpression</th>\n",
       "      <th>experimental</th>\n",
       "      <th>database</th>\n",
       "      <th>textmining</th>\n",
       "      <th>combined_score</th>\n",
       "    </tr>\n",
       "  </thead>\n",
       "  <tbody>\n",
       "    <tr>\n",
       "      <th>0</th>\n",
       "      <td>9606.ENSP00000000233</td>\n",
       "      <td>9606.ENSP00000379496</td>\n",
       "      <td>0</td>\n",
       "      <td>0</td>\n",
       "      <td>0</td>\n",
       "      <td>54</td>\n",
       "      <td>0</td>\n",
       "      <td>0</td>\n",
       "      <td>144</td>\n",
       "      <td>155</td>\n",
       "    </tr>\n",
       "    <tr>\n",
       "      <th>1</th>\n",
       "      <td>9606.ENSP00000000233</td>\n",
       "      <td>9606.ENSP00000314067</td>\n",
       "      <td>0</td>\n",
       "      <td>0</td>\n",
       "      <td>0</td>\n",
       "      <td>0</td>\n",
       "      <td>180</td>\n",
       "      <td>0</td>\n",
       "      <td>61</td>\n",
       "      <td>197</td>\n",
       "    </tr>\n",
       "    <tr>\n",
       "      <th>2</th>\n",
       "      <td>9606.ENSP00000000233</td>\n",
       "      <td>9606.ENSP00000263116</td>\n",
       "      <td>0</td>\n",
       "      <td>0</td>\n",
       "      <td>0</td>\n",
       "      <td>62</td>\n",
       "      <td>152</td>\n",
       "      <td>0</td>\n",
       "      <td>101</td>\n",
       "      <td>222</td>\n",
       "    </tr>\n",
       "    <tr>\n",
       "      <th>3</th>\n",
       "      <td>9606.ENSP00000000233</td>\n",
       "      <td>9606.ENSP00000361263</td>\n",
       "      <td>0</td>\n",
       "      <td>0</td>\n",
       "      <td>0</td>\n",
       "      <td>0</td>\n",
       "      <td>161</td>\n",
       "      <td>0</td>\n",
       "      <td>64</td>\n",
       "      <td>181</td>\n",
       "    </tr>\n",
       "    <tr>\n",
       "      <th>4</th>\n",
       "      <td>9606.ENSP00000000233</td>\n",
       "      <td>9606.ENSP00000409666</td>\n",
       "      <td>0</td>\n",
       "      <td>0</td>\n",
       "      <td>0</td>\n",
       "      <td>82</td>\n",
       "      <td>213</td>\n",
       "      <td>0</td>\n",
       "      <td>72</td>\n",
       "      <td>270</td>\n",
       "    </tr>\n",
       "    <tr>\n",
       "      <th>...</th>\n",
       "      <td>...</td>\n",
       "      <td>...</td>\n",
       "      <td>...</td>\n",
       "      <td>...</td>\n",
       "      <td>...</td>\n",
       "      <td>...</td>\n",
       "      <td>...</td>\n",
       "      <td>...</td>\n",
       "      <td>...</td>\n",
       "      <td>...</td>\n",
       "    </tr>\n",
       "    <tr>\n",
       "      <th>11938493</th>\n",
       "      <td>9606.ENSP00000485678</td>\n",
       "      <td>9606.ENSP00000354800</td>\n",
       "      <td>0</td>\n",
       "      <td>0</td>\n",
       "      <td>0</td>\n",
       "      <td>213</td>\n",
       "      <td>0</td>\n",
       "      <td>0</td>\n",
       "      <td>0</td>\n",
       "      <td>213</td>\n",
       "    </tr>\n",
       "    <tr>\n",
       "      <th>11938494</th>\n",
       "      <td>9606.ENSP00000485678</td>\n",
       "      <td>9606.ENSP00000308270</td>\n",
       "      <td>0</td>\n",
       "      <td>0</td>\n",
       "      <td>0</td>\n",
       "      <td>152</td>\n",
       "      <td>0</td>\n",
       "      <td>0</td>\n",
       "      <td>0</td>\n",
       "      <td>151</td>\n",
       "    </tr>\n",
       "    <tr>\n",
       "      <th>11938495</th>\n",
       "      <td>9606.ENSP00000485678</td>\n",
       "      <td>9606.ENSP00000335660</td>\n",
       "      <td>0</td>\n",
       "      <td>0</td>\n",
       "      <td>0</td>\n",
       "      <td>182</td>\n",
       "      <td>0</td>\n",
       "      <td>0</td>\n",
       "      <td>0</td>\n",
       "      <td>181</td>\n",
       "    </tr>\n",
       "    <tr>\n",
       "      <th>11938496</th>\n",
       "      <td>9606.ENSP00000485678</td>\n",
       "      <td>9606.ENSP00000300127</td>\n",
       "      <td>0</td>\n",
       "      <td>0</td>\n",
       "      <td>0</td>\n",
       "      <td>155</td>\n",
       "      <td>0</td>\n",
       "      <td>0</td>\n",
       "      <td>0</td>\n",
       "      <td>154</td>\n",
       "    </tr>\n",
       "    <tr>\n",
       "      <th>11938497</th>\n",
       "      <td>9606.ENSP00000485678</td>\n",
       "      <td>9606.ENSP00000310488</td>\n",
       "      <td>0</td>\n",
       "      <td>0</td>\n",
       "      <td>0</td>\n",
       "      <td>168</td>\n",
       "      <td>0</td>\n",
       "      <td>0</td>\n",
       "      <td>0</td>\n",
       "      <td>167</td>\n",
       "    </tr>\n",
       "  </tbody>\n",
       "</table>\n",
       "<p>11938498 rows × 10 columns</p>\n",
       "</div>\n",
       "      <button class=\"colab-df-convert\" onclick=\"convertToInteractive('df-b1dd4df6-daf6-4a21-8bf9-48d41a8ca888')\"\n",
       "              title=\"Convert this dataframe to an interactive table.\"\n",
       "              style=\"display:none;\">\n",
       "\n",
       "  <svg xmlns=\"http://www.w3.org/2000/svg\" height=\"24px\"viewBox=\"0 0 24 24\"\n",
       "       width=\"24px\">\n",
       "    <path d=\"M0 0h24v24H0V0z\" fill=\"none\"/>\n",
       "    <path d=\"M18.56 5.44l.94 2.06.94-2.06 2.06-.94-2.06-.94-.94-2.06-.94 2.06-2.06.94zm-11 1L8.5 8.5l.94-2.06 2.06-.94-2.06-.94L8.5 2.5l-.94 2.06-2.06.94zm10 10l.94 2.06.94-2.06 2.06-.94-2.06-.94-.94-2.06-.94 2.06-2.06.94z\"/><path d=\"M17.41 7.96l-1.37-1.37c-.4-.4-.92-.59-1.43-.59-.52 0-1.04.2-1.43.59L10.3 9.45l-7.72 7.72c-.78.78-.78 2.05 0 2.83L4 21.41c.39.39.9.59 1.41.59.51 0 1.02-.2 1.41-.59l7.78-7.78 2.81-2.81c.8-.78.8-2.07 0-2.86zM5.41 20L4 18.59l7.72-7.72 1.47 1.35L5.41 20z\"/>\n",
       "  </svg>\n",
       "      </button>\n",
       "\n",
       "\n",
       "\n",
       "    <div id=\"df-d4875f70-e0b3-44dc-8c12-56a9e79ed191\">\n",
       "      <button class=\"colab-df-quickchart\" onclick=\"quickchart('df-d4875f70-e0b3-44dc-8c12-56a9e79ed191')\"\n",
       "              title=\"Suggest charts.\"\n",
       "              style=\"display:none;\">\n",
       "\n",
       "<svg xmlns=\"http://www.w3.org/2000/svg\" height=\"24px\"viewBox=\"0 0 24 24\"\n",
       "     width=\"24px\">\n",
       "    <g>\n",
       "        <path d=\"M19 3H5c-1.1 0-2 .9-2 2v14c0 1.1.9 2 2 2h14c1.1 0 2-.9 2-2V5c0-1.1-.9-2-2-2zM9 17H7v-7h2v7zm4 0h-2V7h2v10zm4 0h-2v-4h2v4z\"/>\n",
       "    </g>\n",
       "</svg>\n",
       "      </button>\n",
       "    </div>\n",
       "\n",
       "<style>\n",
       "  .colab-df-quickchart {\n",
       "    background-color: #E8F0FE;\n",
       "    border: none;\n",
       "    border-radius: 50%;\n",
       "    cursor: pointer;\n",
       "    display: none;\n",
       "    fill: #1967D2;\n",
       "    height: 32px;\n",
       "    padding: 0 0 0 0;\n",
       "    width: 32px;\n",
       "  }\n",
       "\n",
       "  .colab-df-quickchart:hover {\n",
       "    background-color: #E2EBFA;\n",
       "    box-shadow: 0px 1px 2px rgba(60, 64, 67, 0.3), 0px 1px 3px 1px rgba(60, 64, 67, 0.15);\n",
       "    fill: #174EA6;\n",
       "  }\n",
       "\n",
       "  [theme=dark] .colab-df-quickchart {\n",
       "    background-color: #3B4455;\n",
       "    fill: #D2E3FC;\n",
       "  }\n",
       "\n",
       "  [theme=dark] .colab-df-quickchart:hover {\n",
       "    background-color: #434B5C;\n",
       "    box-shadow: 0px 1px 3px 1px rgba(0, 0, 0, 0.15);\n",
       "    filter: drop-shadow(0px 1px 2px rgba(0, 0, 0, 0.3));\n",
       "    fill: #FFFFFF;\n",
       "  }\n",
       "</style>\n",
       "\n",
       "    <script>\n",
       "      async function quickchart(key) {\n",
       "        const containerElement = document.querySelector('#' + key);\n",
       "        const charts = await google.colab.kernel.invokeFunction(\n",
       "            'suggestCharts', [key], {});\n",
       "      }\n",
       "    </script>\n",
       "\n",
       "      <script>\n",
       "\n",
       "function displayQuickchartButton(domScope) {\n",
       "  let quickchartButtonEl =\n",
       "    domScope.querySelector('#df-d4875f70-e0b3-44dc-8c12-56a9e79ed191 button.colab-df-quickchart');\n",
       "  quickchartButtonEl.style.display =\n",
       "    google.colab.kernel.accessAllowed ? 'block' : 'none';\n",
       "}\n",
       "\n",
       "        displayQuickchartButton(document);\n",
       "      </script>\n",
       "      <style>\n",
       "    .colab-df-container {\n",
       "      display:flex;\n",
       "      flex-wrap:wrap;\n",
       "      gap: 12px;\n",
       "    }\n",
       "\n",
       "    .colab-df-convert {\n",
       "      background-color: #E8F0FE;\n",
       "      border: none;\n",
       "      border-radius: 50%;\n",
       "      cursor: pointer;\n",
       "      display: none;\n",
       "      fill: #1967D2;\n",
       "      height: 32px;\n",
       "      padding: 0 0 0 0;\n",
       "      width: 32px;\n",
       "    }\n",
       "\n",
       "    .colab-df-convert:hover {\n",
       "      background-color: #E2EBFA;\n",
       "      box-shadow: 0px 1px 2px rgba(60, 64, 67, 0.3), 0px 1px 3px 1px rgba(60, 64, 67, 0.15);\n",
       "      fill: #174EA6;\n",
       "    }\n",
       "\n",
       "    [theme=dark] .colab-df-convert {\n",
       "      background-color: #3B4455;\n",
       "      fill: #D2E3FC;\n",
       "    }\n",
       "\n",
       "    [theme=dark] .colab-df-convert:hover {\n",
       "      background-color: #434B5C;\n",
       "      box-shadow: 0px 1px 3px 1px rgba(0, 0, 0, 0.15);\n",
       "      filter: drop-shadow(0px 1px 2px rgba(0, 0, 0, 0.3));\n",
       "      fill: #FFFFFF;\n",
       "    }\n",
       "  </style>\n",
       "\n",
       "      <script>\n",
       "        const buttonEl =\n",
       "          document.querySelector('#df-b1dd4df6-daf6-4a21-8bf9-48d41a8ca888 button.colab-df-convert');\n",
       "        buttonEl.style.display =\n",
       "          google.colab.kernel.accessAllowed ? 'block' : 'none';\n",
       "\n",
       "        async function convertToInteractive(key) {\n",
       "          const element = document.querySelector('#df-b1dd4df6-daf6-4a21-8bf9-48d41a8ca888');\n",
       "          const dataTable =\n",
       "            await google.colab.kernel.invokeFunction('convertToInteractive',\n",
       "                                                     [key], {});\n",
       "          if (!dataTable) return;\n",
       "\n",
       "          const docLinkHtml = 'Like what you see? Visit the ' +\n",
       "            '<a target=\"_blank\" href=https://colab.research.google.com/notebooks/data_table.ipynb>data table notebook</a>'\n",
       "            + ' to learn more about interactive tables.';\n",
       "          element.innerHTML = '';\n",
       "          dataTable['output_type'] = 'display_data';\n",
       "          await google.colab.output.renderOutput(dataTable, element);\n",
       "          const docLink = document.createElement('div');\n",
       "          docLink.innerHTML = docLinkHtml;\n",
       "          element.appendChild(docLink);\n",
       "        }\n",
       "      </script>\n",
       "    </div>\n",
       "  </div>\n"
      ]
     },
     "metadata": {},
     "execution_count": 340
    }
   ]
  },
  {
   "cell_type": "markdown",
   "source": [
    " 187,879,420 (19,385 choose 2 -- All Pairs) - 11,938,498 (Present Pairs) = 175,940,922"
   ],
   "metadata": {
    "id": "dZ7VsRaTUI2i"
   }
  },
  {
   "cell_type": "code",
   "source": [
    "len(stringGeneid_mapping['string->GeneID'].GeneID.unique())"
   ],
   "metadata": {
    "colab": {
     "base_uri": "https://localhost:8080/"
    },
    "id": "vF0SWzg3RObs",
    "executionInfo": {
     "status": "ok",
     "timestamp": 1691651342957,
     "user_tz": 240,
     "elapsed": 510,
     "user": {
      "displayName": "kaputfish kaputfish",
      "userId": "01463028869337595546"
     }
    },
    "outputId": "c2f39014-60ac-43e1-e1cf-fb4c1984dd17"
   },
   "execution_count": null,
   "outputs": [
    {
     "output_type": "execute_result",
     "data": {
      "text/plain": [
       "18286"
      ]
     },
     "metadata": {},
     "execution_count": 349
    }
   ]
  },
  {
   "cell_type": "markdown",
   "source": [
    "167,161,470 (18,285 choose 2 -- GeneID All Pairs) - 11,169,978 (Gene ID Present Pairs) = 155,991,492\n",
    "\n"
   ],
   "metadata": {
    "id": "r0_5AUN2Uq5Z"
   }
  },
  {
   "cell_type": "code",
   "source": [
    "stringPPIs.dtypes"
   ],
   "metadata": {
    "colab": {
     "base_uri": "https://localhost:8080/"
    },
    "id": "AQdJF9WFL8gF",
    "executionInfo": {
     "status": "ok",
     "timestamp": 1691649823264,
     "user_tz": 240,
     "elapsed": 3,
     "user": {
      "displayName": "kaputfish kaputfish",
      "userId": "01463028869337595546"
     }
    },
    "outputId": "297c883f-29d7-430f-bd72-00d6d0b75e89"
   },
   "execution_count": null,
   "outputs": [
    {
     "output_type": "execute_result",
     "data": {
      "text/plain": [
       "protein1          object\n",
       "protein2          object\n",
       "neighborhood       int64\n",
       "fusion             int64\n",
       "cooccurence        int64\n",
       "coexpression       int64\n",
       "experimental       int64\n",
       "database           int64\n",
       "textmining         int64\n",
       "combined_score     int64\n",
       "dtype: object"
      ]
     },
     "metadata": {},
     "execution_count": 341
    }
   ]
  },
  {
   "cell_type": "markdown",
   "source": [
    "#Overlap"
   ],
   "metadata": {
    "id": "nfoANELUBrT0"
   }
  },
  {
   "cell_type": "markdown",
   "source": [
    "*   CORUM (latest)\n",
    "*   BioPlex 3.0\n",
    "*   hu.MAP 1.0\n",
    "*   hu.MAP 2.0\n",
    "*   Expanded pairset, v2\n",
    "*   SCBC\n",
    "*   STRING\n",
    "\n"
   ],
   "metadata": {
    "id": "slNYBQjlI2Rj"
   }
  },
  {
   "cell_type": "markdown",
   "source": [
    "##Proteins"
   ],
   "metadata": {
    "id": "-qMeltBhil6m"
   }
  },
  {
   "cell_type": "code",
   "source": [
    "proteinsSources_all = \\\n",
    " {'corumProts': accessCORUM.humanProts,\n",
    "  'humap1Prots': humap1Prots,\n",
    "  'humap2Prots': humap2Prots,\n",
    "  'humap1Prots_labeled': humap1Matrix_prots,\n",
    "  'humap2Prots_labeled': humap2Prots_allAvailable,\n",
    "  'expandedPairset_v1': lmExpanded_prots,\n",
    "  'expandedPairset_v2': featMat_lmExpanded2_prots,\n",
    "  'hpaProts': hpaProts,\n",
    "  'nci60_cell': protsNCI60_cellLevel,\n",
    "  'nci60_tissue': protsNCI60_tissueLevel,\n",
    "  'scbcProts': scbcProts,\n",
    "  'stringProts': stringProts_geneIDs,\n",
    "  'bioplex3prots': protsBioplex3}\n",
    "\n",
    "pickle.dump(proteinsSources_all, open(workDir + 'proteinComplexes/' + \\\n",
    "                    'proteinSources_humap1+humap1Train+humap2+humap2Train' + \\\n",
    "                    '+expPairs+expPairs2+hpa+nci60+scbc+string+bioplex3.pkl', 'wb'))\n",
    "\n",
    "nonCORUM_sources = \\\n",
    "  ['humap1Prots', 'humap2Prots', 'humap1Prots_labeled', 'humap2Prots_labeled',\n",
    "   'expandedPairset_v1', 'expandedPairset_v2', 'hpa', 'nci60_cell', 'nci60_tissue',\n",
    "   'scbcProts', 'stringProts', 'bioplex3Prots']"
   ],
   "metadata": {
    "id": "EzbUOcrXByiP"
   },
   "execution_count": null,
   "outputs": []
  },
  {
   "cell_type": "code",
   "source": [
    "proteinsSources_all = \\\n",
    "  pickle.load(open(workDir + 'proteinComplexes/' + \\\n",
    "                    'proteinSources_humap1+humap1Train+humap2+humap2Train' + \\\n",
    "                    '+expPairs+expPairs2+hpa+nci60+scbc+string+bioplex3.pkl', 'rb'))"
   ],
   "metadata": {
    "id": "KVmxZA_1p8cj",
    "executionInfo": {
     "status": "ok",
     "timestamp": 1694631659457,
     "user_tz": 240,
     "elapsed": 1609,
     "user": {
      "displayName": "Gary Wilkins",
      "userId": "15502893371100543011"
     }
    }
   },
   "execution_count": 11,
   "outputs": []
  },
  {
   "cell_type": "code",
   "source": [
    "[(key, type(val), len(val)) for key, val in proteinsSources_all.items()]"
   ],
   "metadata": {
    "colab": {
     "base_uri": "https://localhost:8080/"
    },
    "id": "m8tT5XWcqhTI",
    "executionInfo": {
     "status": "ok",
     "timestamp": 1692598936505,
     "user_tz": 240,
     "elapsed": 426,
     "user": {
      "displayName": "kaputfish kaputfish",
      "userId": "01463028869337595546"
     }
    },
    "outputId": "9c2d14de-bcdb-4f90-8fd4-3c2c4601cf08"
   },
   "execution_count": null,
   "outputs": [
    {
     "output_type": "execute_result",
     "data": {
      "text/plain": [
       "[('corumProts', list, 3375),\n",
       " ('humap1Prots', list, 13276),\n",
       " ('humap2Prots', list, 2993),\n",
       " ('humap1Prots_labeled', list, 3835),\n",
       " ('humap2Prots_labeled', list, 2993),\n",
       " ('expandedPairset_v1', list, 1679),\n",
       " ('expandedPairset_v2', list, 2163),\n",
       " ('scbcProts', list, 12389),\n",
       " ('stringProts', list, 18286),\n",
       " ('bioplex3Prots', list, 15093)]"
      ]
     },
     "metadata": {},
     "execution_count": 14
    }
   ]
  },
  {
   "cell_type": "code",
   "source": [
    "sourceOverlap = \\\n",
    "  {combSize: {\n",
    "      'proteins':\n",
    "       {proteinSources: set.intersection(*[set(proteinsSources_all[source])\n",
    "                                           for source in list(proteinSources)])\n",
    "       for proteinSources in list(it.combinations(nonCORUM_sources, combSize))},\n",
    "      'counts':\n",
    "       {proteinSources: len(set.intersection(*[set(proteinsSources_all[source])\n",
    "                                               for source in list(proteinSources)]))\n",
    "       for proteinSources in list(it.combinations(nonCORUM_sources, combSize))}\n",
    "  }\n",
    "   for combSize in np.arange(2, len(proteinsSources_all))}\n",
    "pickle.dump(sourceOverlap,\n",
    "            open(workDir + 'proteinComplexes/sourcesOverlapping_' + \\\n",
    "                  'humap1+humap1Train+humap2+humap2Train' + \\\n",
    "                  '+expPairs+expPairs2+scbc+string+bioplex3.pkl', 'wb'))"
   ],
   "metadata": {
    "id": "DtOmNopyanHz"
   },
   "execution_count": null,
   "outputs": []
  },
  {
   "cell_type": "code",
   "source": [
    "sourceOverlap_corum = \\\n",
    "  {combSize: {\n",
    "      'proteins':\n",
    "       {proteinSources:\n",
    "        set(proteinsSources_all['corumProts']).intersection(\n",
    "            set.intersection(*[set(proteinsSources_all[source])\n",
    "                               for source in list(proteinSources)]))\n",
    "        for proteinSources in list(it.combinations(nonCORUM_sources, combSize))},\n",
    "      'counts':\n",
    "       {proteinSources:\n",
    "        len(set(proteinsSources_all['corumProts']).intersection(\n",
    "            set.intersection(*[set(proteinsSources_all[source])\n",
    "                               for source in list(proteinSources)])))\n",
    "        for proteinSources in list(it.combinations(nonCORUM_sources, combSize))}\n",
    "  }\n",
    "   for combSize in np.arange(2, len(proteinsSources_all)-1)}\n",
    "pickle.dump(sourceOverlap_corum,\n",
    "            open(workDir + 'proteinComplexes/sourcesOverlapping_' + \\\n",
    "                  'corum+humap1+humap1Train+humap2+humap2Train' + \\\n",
    "                  '+expPairs+expPairs2+scbc+string+bioplex3.pkl', 'wb'))"
   ],
   "metadata": {
    "id": "yHvviqnfcO3f"
   },
   "execution_count": null,
   "outputs": []
  },
  {
   "cell_type": "markdown",
   "source": [
    "#Pairs"
   ],
   "metadata": {
    "id": "h20ldGZTin8I"
   }
  },
  {
   "cell_type": "code",
   "source": [
    "pairsSources_all = \\\n",
    "  {key: generatePairs(val) for key, val in proteinsSources.items()}\n",
    "\n",
    "pickle.dump(pairsSources_all,\n",
    "            open(workDir + 'proteinComplexes/pairsSources_' + \\\n",
    "                 'corum+humap1+humap1Train+humap2+humap2Train' + \\\n",
    "                 '+expPairs+expPairs2+scbc+string+bioplex3.pkl', 'wb'))"
   ],
   "metadata": {
    "id": "Mv8GN5watBwl"
   },
   "execution_count": null,
   "outputs": []
  },
  {
   "cell_type": "code",
   "source": [
    "pairsSources_all = \\\n",
    "  pickle.load(open(workDir + 'proteinComplexes/pairsSources_' + \\\n",
    "                    'corum+humap1+humap1Train+humap2+humap2Train' + \\\n",
    "                   '+expPairs+expPairs2+scbc+string.pkl', 'rb'))"
   ],
   "metadata": {
    "id": "g_gUycxx2Dmi"
   },
   "execution_count": null,
   "outputs": []
  },
  {
   "cell_type": "code",
   "source": [
    "pairsSources_allOverlapping = \\\n",
    "  {combSize: {\n",
    "      'pairs':\n",
    "       {proteinSources: set.intersection(*[set(pairsSources_all[source])\n",
    "                                           for source in list(proteinSources)])\n",
    "       for proteinSources in list(it.combinations(nonCORUM_sources, combSize))},\n",
    "      'counts':\n",
    "       {proteinSources: len(set.intersection(*[set(pairsSources_all[source])\n",
    "                                               for source in list(proteinSources)]))\n",
    "       for proteinSources in list(it.combinations(nonCORUM_sources, combSize))}\n",
    "  }\n",
    "   for combSize in np.arange(2, len(pairsSources_all))}\n",
    "\n",
    "pickle.dump(pairsSources_allOverlapping,\n",
    "            open(workDir + 'proteinComplexes/pairs-sourcesOverlapping_' + \\\n",
    "                  'corum+humap1+humap1Train+humap2+humap2Train' + \\\n",
    "                  '+expPairs+expPairs2+scbc+string+bioplex3.pkl', 'wb'))"
   ],
   "metadata": {
    "id": "X99KJ0LkZKSR"
   },
   "execution_count": null,
   "outputs": []
  },
  {
   "cell_type": "markdown",
   "source": [
    "more efficient perhaps using parallelization"
   ],
   "metadata": {
    "id": "7258pd0Usyue"
   }
  },
  {
   "cell_type": "code",
   "source": [
    "pool = mp.Pool(mp.cpu_count()-1)\n",
    "pairsSources_overlapping = dict()\n",
    "for combSize in np.arange(2, len(pairsSources)):\n",
    "    print('combSize: {0} \\n'.format(combSize))\n",
    "    pairsSources_overlapping[combSize] = dict()\n",
    "    combinations = \\\n",
    "        [comb for comb in list(it.combinations(nonCORUM_sources, combSize)) if 'bioplex3Prots' in comb]\n",
    "    overlappingPairs_combinations = \\\n",
    "        [list(progressMonitor(pool.imap(findOverlap, combinations), total=len(combinations)))]\n",
    "    pairsSources_overlapping[combSize]['pairs'] = dict(zip(combinations, overlappingPairs_combinations))\n",
    "    pairsSources_overlapping[combSize]['counts'] = dict(zip(combinations, [len(combo) for combo in overlappingPairs_combinations]))\n",
    "pool.close()"
   ],
   "metadata": {
    "id": "wVZjoqXqs9Cs"
   },
   "execution_count": null,
   "outputs": []
  },
  {
   "cell_type": "code",
   "source": [
    "pairsSources_allOverlapping = \\\n",
    "  pickle.load(open(workDir + 'proteinComplexes/pairs-sourcesOverlapping_' + \\\n",
    "                  'corum+humap1+humap1Train+humap2+humap2Train' + \\\n",
    "                  '+expPairs+expPairs2+scbc+string+bioplex3.pkl', 'rb'))"
   ],
   "metadata": {
    "id": "-ApyVOndl6KW"
   },
   "execution_count": null,
   "outputs": []
  },
  {
   "cell_type": "markdown",
   "source": [
    "#*investigational"
   ],
   "metadata": {
    "id": "6huHAqCeKdfq"
   }
  },
  {
   "cell_type": "code",
   "source": [
    "#use dataIntegrator to organize and consolidate datasets\n",
    "class dataIntegrator(object):\n",
    "  def __init__(self, ):\n",
    "\n",
    "    self.data = None\n",
    "\n",
    "    self.sources = dict()\n",
    "    self.sourceInfo = dict()\n",
    "    self.modules = dict()\n",
    "\n",
    "    self.proteins = dict()\n",
    "    self.pairs = dict()\n",
    "\n",
    "  def addData(self, name, releaseDate, dataType, input='man'):\n",
    "\n",
    "    self.sourceInfo[name] = \\\n",
    "     {'released': releaseDate, 'format': dataType}\n",
    "\n",
    "    return self.test"
   ],
   "metadata": {
    "id": "G3iLmrruo5Ql"
   },
   "execution_count": null,
   "outputs": []
  },
  {
   "cell_type": "code",
   "source": [
    "bioplex2Dir = \\\n",
    "  workDir_elcfs + 'sourceData/bioplex2/BioPlex_interactionList_v4a.tsv'"
   ],
   "metadata": {
    "id": "0z-2LWsplMHX"
   },
   "execution_count": null,
   "outputs": []
  },
  {
   "cell_type": "code",
   "source": [
    "bioplex2Data = pd.read_csv(bioplex2Dir, sep='\\t', dtype)"
   ],
   "metadata": {
    "id": "lBgSfDY9umZS"
   },
   "execution_count": null,
   "outputs": []
  },
  {
   "cell_type": "code",
   "source": [
    "bioplex2Data.dtypes"
   ],
   "metadata": {
    "colab": {
     "base_uri": "https://localhost:8080/"
    },
    "id": "K4TAMna53I_U",
    "executionInfo": {
     "status": "ok",
     "timestamp": 1684765722411,
     "user_tz": 240,
     "elapsed": 125,
     "user": {
      "displayName": "bustlingsanta bustlingsanta",
      "userId": "13425735180757608659"
     }
    },
    "outputId": "02060508-3b58-488d-b3a9-9c55daa9057e"
   },
   "execution_count": null,
   "outputs": [
    {
     "output_type": "execute_result",
     "data": {
      "text/plain": [
       "GeneA                  int64\n",
       "GeneB                  int64\n",
       "UniprotA              object\n",
       "UniprotB              object\n",
       "SymbolA               object\n",
       "SymbolB               object\n",
       "p(Wrong)             float64\n",
       "p(No Interaction)    float64\n",
       "p(Interaction)       float64\n",
       "dtype: object"
      ]
     },
     "metadata": {},
     "execution_count": 36
    }
   ]
  },
  {
   "cell_type": "code",
   "source": [
    "geneidPairset = freezePairs(featMat_drew2021, 'id1', 'id2')"
   ],
   "metadata": {
    "id": "p--bjI5Ruw40"
   },
   "execution_count": null,
   "outputs": []
  },
  {
   "cell_type": "code",
   "source": [
    "geneidPairset.loc[((geneidPairset.id1=='817') | (geneidPairset.id2=='817')), :]"
   ],
   "metadata": {
    "id": "d2hdOd9o1EhV"
   },
   "execution_count": null,
   "outputs": []
  },
  {
   "cell_type": "code",
   "source": [
    "geneidPairset\n",
    "pickle.dump(geneidPairset_addCol_frozenPairs, open('/Users/wilkinsbusiness/Library/CloudStorage/GoogleDrive-gwilkins@andrew.cmu.edu/My Drive/Colab Notebooks/Primary Research/proteinPairs_complexMaps/sourceData/pairsets/drew2017.pkl', 'wb'))"
   ],
   "metadata": {
    "id": "WuEOZz_nz8-l"
   },
   "execution_count": null,
   "outputs": []
  }
 ]
}
